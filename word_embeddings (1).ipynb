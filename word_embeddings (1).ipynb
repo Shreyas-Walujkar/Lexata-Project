{
  "nbformat": 4,
  "nbformat_minor": 0,
  "metadata": {
    "colab": {
      "name": "word embeddings.ipynb",
      "provenance": [],
      "collapsed_sections": []
    },
    "kernelspec": {
      "name": "python3",
      "display_name": "Python 3"
    },
    "language_info": {
      "name": "python"
    },
    "widgets": {
      "application/vnd.jupyter.widget-state+json": {
        "8b8302245c2b4c389c7c763bc8ec39c3": {
          "model_module": "@jupyter-widgets/controls",
          "model_name": "HBoxModel",
          "model_module_version": "1.5.0",
          "state": {
            "_view_name": "HBoxView",
            "_dom_classes": [],
            "_model_name": "HBoxModel",
            "_view_module": "@jupyter-widgets/controls",
            "_model_module_version": "1.5.0",
            "_view_count": null,
            "_view_module_version": "1.5.0",
            "box_style": "",
            "layout": "IPY_MODEL_ee0d172998794abd99a99bb0565432d1",
            "_model_module": "@jupyter-widgets/controls",
            "children": [
              "IPY_MODEL_dcaeccadf8da42fa8114d9909e0791ab",
              "IPY_MODEL_a02fde0a596d4482882f4a56cc2aebae",
              "IPY_MODEL_3fc0eca0a0964a1ca6ea99fb0795dce6"
            ]
          }
        },
        "ee0d172998794abd99a99bb0565432d1": {
          "model_module": "@jupyter-widgets/base",
          "model_name": "LayoutModel",
          "model_module_version": "1.2.0",
          "state": {
            "_view_name": "LayoutView",
            "grid_template_rows": null,
            "right": null,
            "justify_content": null,
            "_view_module": "@jupyter-widgets/base",
            "overflow": null,
            "_model_module_version": "1.2.0",
            "_view_count": null,
            "flex_flow": null,
            "width": null,
            "min_width": null,
            "border": null,
            "align_items": null,
            "bottom": null,
            "_model_module": "@jupyter-widgets/base",
            "top": null,
            "grid_column": null,
            "overflow_y": null,
            "overflow_x": null,
            "grid_auto_flow": null,
            "grid_area": null,
            "grid_template_columns": null,
            "flex": null,
            "_model_name": "LayoutModel",
            "justify_items": null,
            "grid_row": null,
            "max_height": null,
            "align_content": null,
            "visibility": null,
            "align_self": null,
            "height": null,
            "min_height": null,
            "padding": null,
            "grid_auto_rows": null,
            "grid_gap": null,
            "max_width": null,
            "order": null,
            "_view_module_version": "1.2.0",
            "grid_template_areas": null,
            "object_position": null,
            "object_fit": null,
            "grid_auto_columns": null,
            "margin": null,
            "display": null,
            "left": null
          }
        },
        "dcaeccadf8da42fa8114d9909e0791ab": {
          "model_module": "@jupyter-widgets/controls",
          "model_name": "HTMLModel",
          "model_module_version": "1.5.0",
          "state": {
            "_view_name": "HTMLView",
            "style": "IPY_MODEL_bda8c991a0684e0dac48b5ba43654880",
            "_dom_classes": [],
            "description": "",
            "_model_name": "HTMLModel",
            "placeholder": "​",
            "_view_module": "@jupyter-widgets/controls",
            "_model_module_version": "1.5.0",
            "value": "Downloading: 100%",
            "_view_count": null,
            "_view_module_version": "1.5.0",
            "description_tooltip": null,
            "_model_module": "@jupyter-widgets/controls",
            "layout": "IPY_MODEL_bbe4c273d0f049b586e2d819920f35b7"
          }
        },
        "a02fde0a596d4482882f4a56cc2aebae": {
          "model_module": "@jupyter-widgets/controls",
          "model_name": "FloatProgressModel",
          "model_module_version": "1.5.0",
          "state": {
            "_view_name": "ProgressView",
            "style": "IPY_MODEL_832f9566e44f4adfb4fd1ba4596f2fd3",
            "_dom_classes": [],
            "description": "",
            "_model_name": "FloatProgressModel",
            "bar_style": "success",
            "max": 1042301,
            "_view_module": "@jupyter-widgets/controls",
            "_model_module_version": "1.5.0",
            "value": 1042301,
            "_view_count": null,
            "_view_module_version": "1.5.0",
            "orientation": "horizontal",
            "min": 0,
            "description_tooltip": null,
            "_model_module": "@jupyter-widgets/controls",
            "layout": "IPY_MODEL_18fc3d99e60942419c636f796bcc1d3a"
          }
        },
        "3fc0eca0a0964a1ca6ea99fb0795dce6": {
          "model_module": "@jupyter-widgets/controls",
          "model_name": "HTMLModel",
          "model_module_version": "1.5.0",
          "state": {
            "_view_name": "HTMLView",
            "style": "IPY_MODEL_72576d8228524cfb86bebe87ffac701b",
            "_dom_classes": [],
            "description": "",
            "_model_name": "HTMLModel",
            "placeholder": "​",
            "_view_module": "@jupyter-widgets/controls",
            "_model_module_version": "1.5.0",
            "value": " 0.99M/0.99M [00:00&lt;00:00, 1.96MB/s]",
            "_view_count": null,
            "_view_module_version": "1.5.0",
            "description_tooltip": null,
            "_model_module": "@jupyter-widgets/controls",
            "layout": "IPY_MODEL_e1f841a280c243a0bcc70b4802d26446"
          }
        },
        "bda8c991a0684e0dac48b5ba43654880": {
          "model_module": "@jupyter-widgets/controls",
          "model_name": "DescriptionStyleModel",
          "model_module_version": "1.5.0",
          "state": {
            "_view_name": "StyleView",
            "_model_name": "DescriptionStyleModel",
            "description_width": "",
            "_view_module": "@jupyter-widgets/base",
            "_model_module_version": "1.5.0",
            "_view_count": null,
            "_view_module_version": "1.2.0",
            "_model_module": "@jupyter-widgets/controls"
          }
        },
        "bbe4c273d0f049b586e2d819920f35b7": {
          "model_module": "@jupyter-widgets/base",
          "model_name": "LayoutModel",
          "model_module_version": "1.2.0",
          "state": {
            "_view_name": "LayoutView",
            "grid_template_rows": null,
            "right": null,
            "justify_content": null,
            "_view_module": "@jupyter-widgets/base",
            "overflow": null,
            "_model_module_version": "1.2.0",
            "_view_count": null,
            "flex_flow": null,
            "width": null,
            "min_width": null,
            "border": null,
            "align_items": null,
            "bottom": null,
            "_model_module": "@jupyter-widgets/base",
            "top": null,
            "grid_column": null,
            "overflow_y": null,
            "overflow_x": null,
            "grid_auto_flow": null,
            "grid_area": null,
            "grid_template_columns": null,
            "flex": null,
            "_model_name": "LayoutModel",
            "justify_items": null,
            "grid_row": null,
            "max_height": null,
            "align_content": null,
            "visibility": null,
            "align_self": null,
            "height": null,
            "min_height": null,
            "padding": null,
            "grid_auto_rows": null,
            "grid_gap": null,
            "max_width": null,
            "order": null,
            "_view_module_version": "1.2.0",
            "grid_template_areas": null,
            "object_position": null,
            "object_fit": null,
            "grid_auto_columns": null,
            "margin": null,
            "display": null,
            "left": null
          }
        },
        "832f9566e44f4adfb4fd1ba4596f2fd3": {
          "model_module": "@jupyter-widgets/controls",
          "model_name": "ProgressStyleModel",
          "model_module_version": "1.5.0",
          "state": {
            "_view_name": "StyleView",
            "_model_name": "ProgressStyleModel",
            "description_width": "",
            "_view_module": "@jupyter-widgets/base",
            "_model_module_version": "1.5.0",
            "_view_count": null,
            "_view_module_version": "1.2.0",
            "bar_color": null,
            "_model_module": "@jupyter-widgets/controls"
          }
        },
        "18fc3d99e60942419c636f796bcc1d3a": {
          "model_module": "@jupyter-widgets/base",
          "model_name": "LayoutModel",
          "model_module_version": "1.2.0",
          "state": {
            "_view_name": "LayoutView",
            "grid_template_rows": null,
            "right": null,
            "justify_content": null,
            "_view_module": "@jupyter-widgets/base",
            "overflow": null,
            "_model_module_version": "1.2.0",
            "_view_count": null,
            "flex_flow": null,
            "width": null,
            "min_width": null,
            "border": null,
            "align_items": null,
            "bottom": null,
            "_model_module": "@jupyter-widgets/base",
            "top": null,
            "grid_column": null,
            "overflow_y": null,
            "overflow_x": null,
            "grid_auto_flow": null,
            "grid_area": null,
            "grid_template_columns": null,
            "flex": null,
            "_model_name": "LayoutModel",
            "justify_items": null,
            "grid_row": null,
            "max_height": null,
            "align_content": null,
            "visibility": null,
            "align_self": null,
            "height": null,
            "min_height": null,
            "padding": null,
            "grid_auto_rows": null,
            "grid_gap": null,
            "max_width": null,
            "order": null,
            "_view_module_version": "1.2.0",
            "grid_template_areas": null,
            "object_position": null,
            "object_fit": null,
            "grid_auto_columns": null,
            "margin": null,
            "display": null,
            "left": null
          }
        },
        "72576d8228524cfb86bebe87ffac701b": {
          "model_module": "@jupyter-widgets/controls",
          "model_name": "DescriptionStyleModel",
          "model_module_version": "1.5.0",
          "state": {
            "_view_name": "StyleView",
            "_model_name": "DescriptionStyleModel",
            "description_width": "",
            "_view_module": "@jupyter-widgets/base",
            "_model_module_version": "1.5.0",
            "_view_count": null,
            "_view_module_version": "1.2.0",
            "_model_module": "@jupyter-widgets/controls"
          }
        },
        "e1f841a280c243a0bcc70b4802d26446": {
          "model_module": "@jupyter-widgets/base",
          "model_name": "LayoutModel",
          "model_module_version": "1.2.0",
          "state": {
            "_view_name": "LayoutView",
            "grid_template_rows": null,
            "right": null,
            "justify_content": null,
            "_view_module": "@jupyter-widgets/base",
            "overflow": null,
            "_model_module_version": "1.2.0",
            "_view_count": null,
            "flex_flow": null,
            "width": null,
            "min_width": null,
            "border": null,
            "align_items": null,
            "bottom": null,
            "_model_module": "@jupyter-widgets/base",
            "top": null,
            "grid_column": null,
            "overflow_y": null,
            "overflow_x": null,
            "grid_auto_flow": null,
            "grid_area": null,
            "grid_template_columns": null,
            "flex": null,
            "_model_name": "LayoutModel",
            "justify_items": null,
            "grid_row": null,
            "max_height": null,
            "align_content": null,
            "visibility": null,
            "align_self": null,
            "height": null,
            "min_height": null,
            "padding": null,
            "grid_auto_rows": null,
            "grid_gap": null,
            "max_width": null,
            "order": null,
            "_view_module_version": "1.2.0",
            "grid_template_areas": null,
            "object_position": null,
            "object_fit": null,
            "grid_auto_columns": null,
            "margin": null,
            "display": null,
            "left": null
          }
        },
        "dee25185e9dd495eb9c5a08500820aec": {
          "model_module": "@jupyter-widgets/controls",
          "model_name": "HBoxModel",
          "model_module_version": "1.5.0",
          "state": {
            "_view_name": "HBoxView",
            "_dom_classes": [],
            "_model_name": "HBoxModel",
            "_view_module": "@jupyter-widgets/controls",
            "_model_module_version": "1.5.0",
            "_view_count": null,
            "_view_module_version": "1.5.0",
            "box_style": "",
            "layout": "IPY_MODEL_dfffc261ad4e4fb89e9f3989a19ec709",
            "_model_module": "@jupyter-widgets/controls",
            "children": [
              "IPY_MODEL_a22127d161474a02a2d813704f229598",
              "IPY_MODEL_275a370d060f4728883bc91f3a89593c",
              "IPY_MODEL_14a5fbbd1b4248439fc39666ac5be8c4"
            ]
          }
        },
        "dfffc261ad4e4fb89e9f3989a19ec709": {
          "model_module": "@jupyter-widgets/base",
          "model_name": "LayoutModel",
          "model_module_version": "1.2.0",
          "state": {
            "_view_name": "LayoutView",
            "grid_template_rows": null,
            "right": null,
            "justify_content": null,
            "_view_module": "@jupyter-widgets/base",
            "overflow": null,
            "_model_module_version": "1.2.0",
            "_view_count": null,
            "flex_flow": null,
            "width": null,
            "min_width": null,
            "border": null,
            "align_items": null,
            "bottom": null,
            "_model_module": "@jupyter-widgets/base",
            "top": null,
            "grid_column": null,
            "overflow_y": null,
            "overflow_x": null,
            "grid_auto_flow": null,
            "grid_area": null,
            "grid_template_columns": null,
            "flex": null,
            "_model_name": "LayoutModel",
            "justify_items": null,
            "grid_row": null,
            "max_height": null,
            "align_content": null,
            "visibility": null,
            "align_self": null,
            "height": null,
            "min_height": null,
            "padding": null,
            "grid_auto_rows": null,
            "grid_gap": null,
            "max_width": null,
            "order": null,
            "_view_module_version": "1.2.0",
            "grid_template_areas": null,
            "object_position": null,
            "object_fit": null,
            "grid_auto_columns": null,
            "margin": null,
            "display": null,
            "left": null
          }
        },
        "a22127d161474a02a2d813704f229598": {
          "model_module": "@jupyter-widgets/controls",
          "model_name": "HTMLModel",
          "model_module_version": "1.5.0",
          "state": {
            "_view_name": "HTMLView",
            "style": "IPY_MODEL_38c46d400386466badeac3abb4ab246e",
            "_dom_classes": [],
            "description": "",
            "_model_name": "HTMLModel",
            "placeholder": "​",
            "_view_module": "@jupyter-widgets/controls",
            "_model_module_version": "1.5.0",
            "value": "Downloading: 100%",
            "_view_count": null,
            "_view_module_version": "1.5.0",
            "description_tooltip": null,
            "_model_module": "@jupyter-widgets/controls",
            "layout": "IPY_MODEL_f36c0892cc2a49008d3d86185b646d64"
          }
        },
        "275a370d060f4728883bc91f3a89593c": {
          "model_module": "@jupyter-widgets/controls",
          "model_name": "FloatProgressModel",
          "model_module_version": "1.5.0",
          "state": {
            "_view_name": "ProgressView",
            "style": "IPY_MODEL_5218675aa0174dc4acfce15b7f8a01f3",
            "_dom_classes": [],
            "description": "",
            "_model_name": "FloatProgressModel",
            "bar_style": "success",
            "max": 456318,
            "_view_module": "@jupyter-widgets/controls",
            "_model_module_version": "1.5.0",
            "value": 456318,
            "_view_count": null,
            "_view_module_version": "1.5.0",
            "orientation": "horizontal",
            "min": 0,
            "description_tooltip": null,
            "_model_module": "@jupyter-widgets/controls",
            "layout": "IPY_MODEL_1aa86e1fb14d4541a54794d2f0ddafa9"
          }
        },
        "14a5fbbd1b4248439fc39666ac5be8c4": {
          "model_module": "@jupyter-widgets/controls",
          "model_name": "HTMLModel",
          "model_module_version": "1.5.0",
          "state": {
            "_view_name": "HTMLView",
            "style": "IPY_MODEL_eefef4625bba4bf89a9685ff6088ca74",
            "_dom_classes": [],
            "description": "",
            "_model_name": "HTMLModel",
            "placeholder": "​",
            "_view_module": "@jupyter-widgets/controls",
            "_model_module_version": "1.5.0",
            "value": " 446k/446k [00:00&lt;00:00, 1.02MB/s]",
            "_view_count": null,
            "_view_module_version": "1.5.0",
            "description_tooltip": null,
            "_model_module": "@jupyter-widgets/controls",
            "layout": "IPY_MODEL_692f5d89056747c799badb528069eef7"
          }
        },
        "38c46d400386466badeac3abb4ab246e": {
          "model_module": "@jupyter-widgets/controls",
          "model_name": "DescriptionStyleModel",
          "model_module_version": "1.5.0",
          "state": {
            "_view_name": "StyleView",
            "_model_name": "DescriptionStyleModel",
            "description_width": "",
            "_view_module": "@jupyter-widgets/base",
            "_model_module_version": "1.5.0",
            "_view_count": null,
            "_view_module_version": "1.2.0",
            "_model_module": "@jupyter-widgets/controls"
          }
        },
        "f36c0892cc2a49008d3d86185b646d64": {
          "model_module": "@jupyter-widgets/base",
          "model_name": "LayoutModel",
          "model_module_version": "1.2.0",
          "state": {
            "_view_name": "LayoutView",
            "grid_template_rows": null,
            "right": null,
            "justify_content": null,
            "_view_module": "@jupyter-widgets/base",
            "overflow": null,
            "_model_module_version": "1.2.0",
            "_view_count": null,
            "flex_flow": null,
            "width": null,
            "min_width": null,
            "border": null,
            "align_items": null,
            "bottom": null,
            "_model_module": "@jupyter-widgets/base",
            "top": null,
            "grid_column": null,
            "overflow_y": null,
            "overflow_x": null,
            "grid_auto_flow": null,
            "grid_area": null,
            "grid_template_columns": null,
            "flex": null,
            "_model_name": "LayoutModel",
            "justify_items": null,
            "grid_row": null,
            "max_height": null,
            "align_content": null,
            "visibility": null,
            "align_self": null,
            "height": null,
            "min_height": null,
            "padding": null,
            "grid_auto_rows": null,
            "grid_gap": null,
            "max_width": null,
            "order": null,
            "_view_module_version": "1.2.0",
            "grid_template_areas": null,
            "object_position": null,
            "object_fit": null,
            "grid_auto_columns": null,
            "margin": null,
            "display": null,
            "left": null
          }
        },
        "5218675aa0174dc4acfce15b7f8a01f3": {
          "model_module": "@jupyter-widgets/controls",
          "model_name": "ProgressStyleModel",
          "model_module_version": "1.5.0",
          "state": {
            "_view_name": "StyleView",
            "_model_name": "ProgressStyleModel",
            "description_width": "",
            "_view_module": "@jupyter-widgets/base",
            "_model_module_version": "1.5.0",
            "_view_count": null,
            "_view_module_version": "1.2.0",
            "bar_color": null,
            "_model_module": "@jupyter-widgets/controls"
          }
        },
        "1aa86e1fb14d4541a54794d2f0ddafa9": {
          "model_module": "@jupyter-widgets/base",
          "model_name": "LayoutModel",
          "model_module_version": "1.2.0",
          "state": {
            "_view_name": "LayoutView",
            "grid_template_rows": null,
            "right": null,
            "justify_content": null,
            "_view_module": "@jupyter-widgets/base",
            "overflow": null,
            "_model_module_version": "1.2.0",
            "_view_count": null,
            "flex_flow": null,
            "width": null,
            "min_width": null,
            "border": null,
            "align_items": null,
            "bottom": null,
            "_model_module": "@jupyter-widgets/base",
            "top": null,
            "grid_column": null,
            "overflow_y": null,
            "overflow_x": null,
            "grid_auto_flow": null,
            "grid_area": null,
            "grid_template_columns": null,
            "flex": null,
            "_model_name": "LayoutModel",
            "justify_items": null,
            "grid_row": null,
            "max_height": null,
            "align_content": null,
            "visibility": null,
            "align_self": null,
            "height": null,
            "min_height": null,
            "padding": null,
            "grid_auto_rows": null,
            "grid_gap": null,
            "max_width": null,
            "order": null,
            "_view_module_version": "1.2.0",
            "grid_template_areas": null,
            "object_position": null,
            "object_fit": null,
            "grid_auto_columns": null,
            "margin": null,
            "display": null,
            "left": null
          }
        },
        "eefef4625bba4bf89a9685ff6088ca74": {
          "model_module": "@jupyter-widgets/controls",
          "model_name": "DescriptionStyleModel",
          "model_module_version": "1.5.0",
          "state": {
            "_view_name": "StyleView",
            "_model_name": "DescriptionStyleModel",
            "description_width": "",
            "_view_module": "@jupyter-widgets/base",
            "_model_module_version": "1.5.0",
            "_view_count": null,
            "_view_module_version": "1.2.0",
            "_model_module": "@jupyter-widgets/controls"
          }
        },
        "692f5d89056747c799badb528069eef7": {
          "model_module": "@jupyter-widgets/base",
          "model_name": "LayoutModel",
          "model_module_version": "1.2.0",
          "state": {
            "_view_name": "LayoutView",
            "grid_template_rows": null,
            "right": null,
            "justify_content": null,
            "_view_module": "@jupyter-widgets/base",
            "overflow": null,
            "_model_module_version": "1.2.0",
            "_view_count": null,
            "flex_flow": null,
            "width": null,
            "min_width": null,
            "border": null,
            "align_items": null,
            "bottom": null,
            "_model_module": "@jupyter-widgets/base",
            "top": null,
            "grid_column": null,
            "overflow_y": null,
            "overflow_x": null,
            "grid_auto_flow": null,
            "grid_area": null,
            "grid_template_columns": null,
            "flex": null,
            "_model_name": "LayoutModel",
            "justify_items": null,
            "grid_row": null,
            "max_height": null,
            "align_content": null,
            "visibility": null,
            "align_self": null,
            "height": null,
            "min_height": null,
            "padding": null,
            "grid_auto_rows": null,
            "grid_gap": null,
            "max_width": null,
            "order": null,
            "_view_module_version": "1.2.0",
            "grid_template_areas": null,
            "object_position": null,
            "object_fit": null,
            "grid_auto_columns": null,
            "margin": null,
            "display": null,
            "left": null
          }
        },
        "96608082ea3c4d8683d662bb67b6bf85": {
          "model_module": "@jupyter-widgets/controls",
          "model_name": "HBoxModel",
          "model_module_version": "1.5.0",
          "state": {
            "_view_name": "HBoxView",
            "_dom_classes": [],
            "_model_name": "HBoxModel",
            "_view_module": "@jupyter-widgets/controls",
            "_model_module_version": "1.5.0",
            "_view_count": null,
            "_view_module_version": "1.5.0",
            "box_style": "",
            "layout": "IPY_MODEL_e5a1602988a94b51bb6fd3a9be0b334c",
            "_model_module": "@jupyter-widgets/controls",
            "children": [
              "IPY_MODEL_108f595aef8742dfb2ead370238790d3",
              "IPY_MODEL_a46a5bb744204a699f6e7f7727aa1e40",
              "IPY_MODEL_95a23f7c994647a5a97ac6bf67a3d32f"
            ]
          }
        },
        "e5a1602988a94b51bb6fd3a9be0b334c": {
          "model_module": "@jupyter-widgets/base",
          "model_name": "LayoutModel",
          "model_module_version": "1.2.0",
          "state": {
            "_view_name": "LayoutView",
            "grid_template_rows": null,
            "right": null,
            "justify_content": null,
            "_view_module": "@jupyter-widgets/base",
            "overflow": null,
            "_model_module_version": "1.2.0",
            "_view_count": null,
            "flex_flow": null,
            "width": null,
            "min_width": null,
            "border": null,
            "align_items": null,
            "bottom": null,
            "_model_module": "@jupyter-widgets/base",
            "top": null,
            "grid_column": null,
            "overflow_y": null,
            "overflow_x": null,
            "grid_auto_flow": null,
            "grid_area": null,
            "grid_template_columns": null,
            "flex": null,
            "_model_name": "LayoutModel",
            "justify_items": null,
            "grid_row": null,
            "max_height": null,
            "align_content": null,
            "visibility": null,
            "align_self": null,
            "height": null,
            "min_height": null,
            "padding": null,
            "grid_auto_rows": null,
            "grid_gap": null,
            "max_width": null,
            "order": null,
            "_view_module_version": "1.2.0",
            "grid_template_areas": null,
            "object_position": null,
            "object_fit": null,
            "grid_auto_columns": null,
            "margin": null,
            "display": null,
            "left": null
          }
        },
        "108f595aef8742dfb2ead370238790d3": {
          "model_module": "@jupyter-widgets/controls",
          "model_name": "HTMLModel",
          "model_module_version": "1.5.0",
          "state": {
            "_view_name": "HTMLView",
            "style": "IPY_MODEL_1c51b9b60c21482cb4553c2999125e0f",
            "_dom_classes": [],
            "description": "",
            "_model_name": "HTMLModel",
            "placeholder": "​",
            "_view_module": "@jupyter-widgets/controls",
            "_model_module_version": "1.5.0",
            "value": "Downloading: 100%",
            "_view_count": null,
            "_view_module_version": "1.5.0",
            "description_tooltip": null,
            "_model_module": "@jupyter-widgets/controls",
            "layout": "IPY_MODEL_1bda9399b3424e409742e7178fb957be"
          }
        },
        "a46a5bb744204a699f6e7f7727aa1e40": {
          "model_module": "@jupyter-widgets/controls",
          "model_name": "FloatProgressModel",
          "model_module_version": "1.5.0",
          "state": {
            "_view_name": "ProgressView",
            "style": "IPY_MODEL_1354772557ef4d8985ff53061b3547cb",
            "_dom_classes": [],
            "description": "",
            "_model_name": "FloatProgressModel",
            "bar_style": "success",
            "max": 1355256,
            "_view_module": "@jupyter-widgets/controls",
            "_model_module_version": "1.5.0",
            "value": 1355256,
            "_view_count": null,
            "_view_module_version": "1.5.0",
            "orientation": "horizontal",
            "min": 0,
            "description_tooltip": null,
            "_model_module": "@jupyter-widgets/controls",
            "layout": "IPY_MODEL_c45ce129b3154107b369736dca5e4a88"
          }
        },
        "95a23f7c994647a5a97ac6bf67a3d32f": {
          "model_module": "@jupyter-widgets/controls",
          "model_name": "HTMLModel",
          "model_module_version": "1.5.0",
          "state": {
            "_view_name": "HTMLView",
            "style": "IPY_MODEL_2e6f41c37d0a4e4eb3223cc26282026a",
            "_dom_classes": [],
            "description": "",
            "_model_name": "HTMLModel",
            "placeholder": "​",
            "_view_module": "@jupyter-widgets/controls",
            "_model_module_version": "1.5.0",
            "value": " 1.29M/1.29M [00:00&lt;00:00, 2.22MB/s]",
            "_view_count": null,
            "_view_module_version": "1.5.0",
            "description_tooltip": null,
            "_model_module": "@jupyter-widgets/controls",
            "layout": "IPY_MODEL_2f4a9e2b6d2540cd9b0c0e98d6e3fe94"
          }
        },
        "1c51b9b60c21482cb4553c2999125e0f": {
          "model_module": "@jupyter-widgets/controls",
          "model_name": "DescriptionStyleModel",
          "model_module_version": "1.5.0",
          "state": {
            "_view_name": "StyleView",
            "_model_name": "DescriptionStyleModel",
            "description_width": "",
            "_view_module": "@jupyter-widgets/base",
            "_model_module_version": "1.5.0",
            "_view_count": null,
            "_view_module_version": "1.2.0",
            "_model_module": "@jupyter-widgets/controls"
          }
        },
        "1bda9399b3424e409742e7178fb957be": {
          "model_module": "@jupyter-widgets/base",
          "model_name": "LayoutModel",
          "model_module_version": "1.2.0",
          "state": {
            "_view_name": "LayoutView",
            "grid_template_rows": null,
            "right": null,
            "justify_content": null,
            "_view_module": "@jupyter-widgets/base",
            "overflow": null,
            "_model_module_version": "1.2.0",
            "_view_count": null,
            "flex_flow": null,
            "width": null,
            "min_width": null,
            "border": null,
            "align_items": null,
            "bottom": null,
            "_model_module": "@jupyter-widgets/base",
            "top": null,
            "grid_column": null,
            "overflow_y": null,
            "overflow_x": null,
            "grid_auto_flow": null,
            "grid_area": null,
            "grid_template_columns": null,
            "flex": null,
            "_model_name": "LayoutModel",
            "justify_items": null,
            "grid_row": null,
            "max_height": null,
            "align_content": null,
            "visibility": null,
            "align_self": null,
            "height": null,
            "min_height": null,
            "padding": null,
            "grid_auto_rows": null,
            "grid_gap": null,
            "max_width": null,
            "order": null,
            "_view_module_version": "1.2.0",
            "grid_template_areas": null,
            "object_position": null,
            "object_fit": null,
            "grid_auto_columns": null,
            "margin": null,
            "display": null,
            "left": null
          }
        },
        "1354772557ef4d8985ff53061b3547cb": {
          "model_module": "@jupyter-widgets/controls",
          "model_name": "ProgressStyleModel",
          "model_module_version": "1.5.0",
          "state": {
            "_view_name": "StyleView",
            "_model_name": "ProgressStyleModel",
            "description_width": "",
            "_view_module": "@jupyter-widgets/base",
            "_model_module_version": "1.5.0",
            "_view_count": null,
            "_view_module_version": "1.2.0",
            "bar_color": null,
            "_model_module": "@jupyter-widgets/controls"
          }
        },
        "c45ce129b3154107b369736dca5e4a88": {
          "model_module": "@jupyter-widgets/base",
          "model_name": "LayoutModel",
          "model_module_version": "1.2.0",
          "state": {
            "_view_name": "LayoutView",
            "grid_template_rows": null,
            "right": null,
            "justify_content": null,
            "_view_module": "@jupyter-widgets/base",
            "overflow": null,
            "_model_module_version": "1.2.0",
            "_view_count": null,
            "flex_flow": null,
            "width": null,
            "min_width": null,
            "border": null,
            "align_items": null,
            "bottom": null,
            "_model_module": "@jupyter-widgets/base",
            "top": null,
            "grid_column": null,
            "overflow_y": null,
            "overflow_x": null,
            "grid_auto_flow": null,
            "grid_area": null,
            "grid_template_columns": null,
            "flex": null,
            "_model_name": "LayoutModel",
            "justify_items": null,
            "grid_row": null,
            "max_height": null,
            "align_content": null,
            "visibility": null,
            "align_self": null,
            "height": null,
            "min_height": null,
            "padding": null,
            "grid_auto_rows": null,
            "grid_gap": null,
            "max_width": null,
            "order": null,
            "_view_module_version": "1.2.0",
            "grid_template_areas": null,
            "object_position": null,
            "object_fit": null,
            "grid_auto_columns": null,
            "margin": null,
            "display": null,
            "left": null
          }
        },
        "2e6f41c37d0a4e4eb3223cc26282026a": {
          "model_module": "@jupyter-widgets/controls",
          "model_name": "DescriptionStyleModel",
          "model_module_version": "1.5.0",
          "state": {
            "_view_name": "StyleView",
            "_model_name": "DescriptionStyleModel",
            "description_width": "",
            "_view_module": "@jupyter-widgets/base",
            "_model_module_version": "1.5.0",
            "_view_count": null,
            "_view_module_version": "1.2.0",
            "_model_module": "@jupyter-widgets/controls"
          }
        },
        "2f4a9e2b6d2540cd9b0c0e98d6e3fe94": {
          "model_module": "@jupyter-widgets/base",
          "model_name": "LayoutModel",
          "model_module_version": "1.2.0",
          "state": {
            "_view_name": "LayoutView",
            "grid_template_rows": null,
            "right": null,
            "justify_content": null,
            "_view_module": "@jupyter-widgets/base",
            "overflow": null,
            "_model_module_version": "1.2.0",
            "_view_count": null,
            "flex_flow": null,
            "width": null,
            "min_width": null,
            "border": null,
            "align_items": null,
            "bottom": null,
            "_model_module": "@jupyter-widgets/base",
            "top": null,
            "grid_column": null,
            "overflow_y": null,
            "overflow_x": null,
            "grid_auto_flow": null,
            "grid_area": null,
            "grid_template_columns": null,
            "flex": null,
            "_model_name": "LayoutModel",
            "justify_items": null,
            "grid_row": null,
            "max_height": null,
            "align_content": null,
            "visibility": null,
            "align_self": null,
            "height": null,
            "min_height": null,
            "padding": null,
            "grid_auto_rows": null,
            "grid_gap": null,
            "max_width": null,
            "order": null,
            "_view_module_version": "1.2.0",
            "grid_template_areas": null,
            "object_position": null,
            "object_fit": null,
            "grid_auto_columns": null,
            "margin": null,
            "display": null,
            "left": null
          }
        },
        "4400a267e7634b059a4aad48ee6abb5e": {
          "model_module": "@jupyter-widgets/controls",
          "model_name": "HBoxModel",
          "model_module_version": "1.5.0",
          "state": {
            "_view_name": "HBoxView",
            "_dom_classes": [],
            "_model_name": "HBoxModel",
            "_view_module": "@jupyter-widgets/controls",
            "_model_module_version": "1.5.0",
            "_view_count": null,
            "_view_module_version": "1.5.0",
            "box_style": "",
            "layout": "IPY_MODEL_5ec6c3fa6c27441c813ca99f9ed9936c",
            "_model_module": "@jupyter-widgets/controls",
            "children": [
              "IPY_MODEL_3f51ed5aa48647be9632477acace4f39",
              "IPY_MODEL_98f69b1ee47d4686aa60f43f7bc4b3db",
              "IPY_MODEL_8fdd4b05eb4c4a52863527b4eebcd246"
            ]
          }
        },
        "5ec6c3fa6c27441c813ca99f9ed9936c": {
          "model_module": "@jupyter-widgets/base",
          "model_name": "LayoutModel",
          "model_module_version": "1.2.0",
          "state": {
            "_view_name": "LayoutView",
            "grid_template_rows": null,
            "right": null,
            "justify_content": null,
            "_view_module": "@jupyter-widgets/base",
            "overflow": null,
            "_model_module_version": "1.2.0",
            "_view_count": null,
            "flex_flow": null,
            "width": null,
            "min_width": null,
            "border": null,
            "align_items": null,
            "bottom": null,
            "_model_module": "@jupyter-widgets/base",
            "top": null,
            "grid_column": null,
            "overflow_y": null,
            "overflow_x": null,
            "grid_auto_flow": null,
            "grid_area": null,
            "grid_template_columns": null,
            "flex": null,
            "_model_name": "LayoutModel",
            "justify_items": null,
            "grid_row": null,
            "max_height": null,
            "align_content": null,
            "visibility": null,
            "align_self": null,
            "height": null,
            "min_height": null,
            "padding": null,
            "grid_auto_rows": null,
            "grid_gap": null,
            "max_width": null,
            "order": null,
            "_view_module_version": "1.2.0",
            "grid_template_areas": null,
            "object_position": null,
            "object_fit": null,
            "grid_auto_columns": null,
            "margin": null,
            "display": null,
            "left": null
          }
        },
        "3f51ed5aa48647be9632477acace4f39": {
          "model_module": "@jupyter-widgets/controls",
          "model_name": "HTMLModel",
          "model_module_version": "1.5.0",
          "state": {
            "_view_name": "HTMLView",
            "style": "IPY_MODEL_dca94c02dd9c44528f329dd083e03d1e",
            "_dom_classes": [],
            "description": "",
            "_model_name": "HTMLModel",
            "placeholder": "​",
            "_view_module": "@jupyter-widgets/controls",
            "_model_module_version": "1.5.0",
            "value": "Downloading: 100%",
            "_view_count": null,
            "_view_module_version": "1.5.0",
            "description_tooltip": null,
            "_model_module": "@jupyter-widgets/controls",
            "layout": "IPY_MODEL_4d35a8108eca4d01bc7b0081864bcb9f"
          }
        },
        "98f69b1ee47d4686aa60f43f7bc4b3db": {
          "model_module": "@jupyter-widgets/controls",
          "model_name": "FloatProgressModel",
          "model_module_version": "1.5.0",
          "state": {
            "_view_name": "ProgressView",
            "style": "IPY_MODEL_ee18e2388e1d471d90ffd3a7c9b6ccfe",
            "_dom_classes": [],
            "description": "",
            "_model_name": "FloatProgressModel",
            "bar_style": "success",
            "max": 665,
            "_view_module": "@jupyter-widgets/controls",
            "_model_module_version": "1.5.0",
            "value": 665,
            "_view_count": null,
            "_view_module_version": "1.5.0",
            "orientation": "horizontal",
            "min": 0,
            "description_tooltip": null,
            "_model_module": "@jupyter-widgets/controls",
            "layout": "IPY_MODEL_c2be4d608f024a1d879314c0e456c2d7"
          }
        },
        "8fdd4b05eb4c4a52863527b4eebcd246": {
          "model_module": "@jupyter-widgets/controls",
          "model_name": "HTMLModel",
          "model_module_version": "1.5.0",
          "state": {
            "_view_name": "HTMLView",
            "style": "IPY_MODEL_5bff32da55c44bbaa77b185e758538c6",
            "_dom_classes": [],
            "description": "",
            "_model_name": "HTMLModel",
            "placeholder": "​",
            "_view_module": "@jupyter-widgets/controls",
            "_model_module_version": "1.5.0",
            "value": " 665/665 [00:00&lt;00:00, 12.4kB/s]",
            "_view_count": null,
            "_view_module_version": "1.5.0",
            "description_tooltip": null,
            "_model_module": "@jupyter-widgets/controls",
            "layout": "IPY_MODEL_25d6ccb52a3a4f9da53de2080db90244"
          }
        },
        "dca94c02dd9c44528f329dd083e03d1e": {
          "model_module": "@jupyter-widgets/controls",
          "model_name": "DescriptionStyleModel",
          "model_module_version": "1.5.0",
          "state": {
            "_view_name": "StyleView",
            "_model_name": "DescriptionStyleModel",
            "description_width": "",
            "_view_module": "@jupyter-widgets/base",
            "_model_module_version": "1.5.0",
            "_view_count": null,
            "_view_module_version": "1.2.0",
            "_model_module": "@jupyter-widgets/controls"
          }
        },
        "4d35a8108eca4d01bc7b0081864bcb9f": {
          "model_module": "@jupyter-widgets/base",
          "model_name": "LayoutModel",
          "model_module_version": "1.2.0",
          "state": {
            "_view_name": "LayoutView",
            "grid_template_rows": null,
            "right": null,
            "justify_content": null,
            "_view_module": "@jupyter-widgets/base",
            "overflow": null,
            "_model_module_version": "1.2.0",
            "_view_count": null,
            "flex_flow": null,
            "width": null,
            "min_width": null,
            "border": null,
            "align_items": null,
            "bottom": null,
            "_model_module": "@jupyter-widgets/base",
            "top": null,
            "grid_column": null,
            "overflow_y": null,
            "overflow_x": null,
            "grid_auto_flow": null,
            "grid_area": null,
            "grid_template_columns": null,
            "flex": null,
            "_model_name": "LayoutModel",
            "justify_items": null,
            "grid_row": null,
            "max_height": null,
            "align_content": null,
            "visibility": null,
            "align_self": null,
            "height": null,
            "min_height": null,
            "padding": null,
            "grid_auto_rows": null,
            "grid_gap": null,
            "max_width": null,
            "order": null,
            "_view_module_version": "1.2.0",
            "grid_template_areas": null,
            "object_position": null,
            "object_fit": null,
            "grid_auto_columns": null,
            "margin": null,
            "display": null,
            "left": null
          }
        },
        "ee18e2388e1d471d90ffd3a7c9b6ccfe": {
          "model_module": "@jupyter-widgets/controls",
          "model_name": "ProgressStyleModel",
          "model_module_version": "1.5.0",
          "state": {
            "_view_name": "StyleView",
            "_model_name": "ProgressStyleModel",
            "description_width": "",
            "_view_module": "@jupyter-widgets/base",
            "_model_module_version": "1.5.0",
            "_view_count": null,
            "_view_module_version": "1.2.0",
            "bar_color": null,
            "_model_module": "@jupyter-widgets/controls"
          }
        },
        "c2be4d608f024a1d879314c0e456c2d7": {
          "model_module": "@jupyter-widgets/base",
          "model_name": "LayoutModel",
          "model_module_version": "1.2.0",
          "state": {
            "_view_name": "LayoutView",
            "grid_template_rows": null,
            "right": null,
            "justify_content": null,
            "_view_module": "@jupyter-widgets/base",
            "overflow": null,
            "_model_module_version": "1.2.0",
            "_view_count": null,
            "flex_flow": null,
            "width": null,
            "min_width": null,
            "border": null,
            "align_items": null,
            "bottom": null,
            "_model_module": "@jupyter-widgets/base",
            "top": null,
            "grid_column": null,
            "overflow_y": null,
            "overflow_x": null,
            "grid_auto_flow": null,
            "grid_area": null,
            "grid_template_columns": null,
            "flex": null,
            "_model_name": "LayoutModel",
            "justify_items": null,
            "grid_row": null,
            "max_height": null,
            "align_content": null,
            "visibility": null,
            "align_self": null,
            "height": null,
            "min_height": null,
            "padding": null,
            "grid_auto_rows": null,
            "grid_gap": null,
            "max_width": null,
            "order": null,
            "_view_module_version": "1.2.0",
            "grid_template_areas": null,
            "object_position": null,
            "object_fit": null,
            "grid_auto_columns": null,
            "margin": null,
            "display": null,
            "left": null
          }
        },
        "5bff32da55c44bbaa77b185e758538c6": {
          "model_module": "@jupyter-widgets/controls",
          "model_name": "DescriptionStyleModel",
          "model_module_version": "1.5.0",
          "state": {
            "_view_name": "StyleView",
            "_model_name": "DescriptionStyleModel",
            "description_width": "",
            "_view_module": "@jupyter-widgets/base",
            "_model_module_version": "1.5.0",
            "_view_count": null,
            "_view_module_version": "1.2.0",
            "_model_module": "@jupyter-widgets/controls"
          }
        },
        "25d6ccb52a3a4f9da53de2080db90244": {
          "model_module": "@jupyter-widgets/base",
          "model_name": "LayoutModel",
          "model_module_version": "1.2.0",
          "state": {
            "_view_name": "LayoutView",
            "grid_template_rows": null,
            "right": null,
            "justify_content": null,
            "_view_module": "@jupyter-widgets/base",
            "overflow": null,
            "_model_module_version": "1.2.0",
            "_view_count": null,
            "flex_flow": null,
            "width": null,
            "min_width": null,
            "border": null,
            "align_items": null,
            "bottom": null,
            "_model_module": "@jupyter-widgets/base",
            "top": null,
            "grid_column": null,
            "overflow_y": null,
            "overflow_x": null,
            "grid_auto_flow": null,
            "grid_area": null,
            "grid_template_columns": null,
            "flex": null,
            "_model_name": "LayoutModel",
            "justify_items": null,
            "grid_row": null,
            "max_height": null,
            "align_content": null,
            "visibility": null,
            "align_self": null,
            "height": null,
            "min_height": null,
            "padding": null,
            "grid_auto_rows": null,
            "grid_gap": null,
            "max_width": null,
            "order": null,
            "_view_module_version": "1.2.0",
            "grid_template_areas": null,
            "object_position": null,
            "object_fit": null,
            "grid_auto_columns": null,
            "margin": null,
            "display": null,
            "left": null
          }
        }
      }
    }
  },
  "cells": [
    {
      "cell_type": "markdown",
      "metadata": {
        "id": "_YGP1bJ_EZlu"
      },
      "source": [
        "Import the required libraries"
      ]
    },
    {
      "cell_type": "code",
      "metadata": {
        "colab": {
          "base_uri": "https://localhost:8080/",
          "height": 1000
        },
        "id": "ORr1x55jfi4S",
        "outputId": "20335f40-4550-4b3f-d67b-b9cbe6cced19"
      },
      "source": [
        "! pip install transformers openai numpy requests"
      ],
      "execution_count": null,
      "outputs": [
        {
          "output_type": "stream",
          "name": "stdout",
          "text": [
            "Collecting transformers\n",
            "  Downloading transformers-4.11.2-py3-none-any.whl (2.9 MB)\n",
            "\u001b[K     |████████████████████████████████| 2.9 MB 5.2 MB/s \n",
            "\u001b[?25hCollecting openai\n",
            "  Downloading openai-0.10.5.tar.gz (157 kB)\n",
            "\u001b[K     |████████████████████████████████| 157 kB 61.8 MB/s \n",
            "\u001b[?25hRequirement already satisfied: numpy in /usr/local/lib/python3.7/dist-packages (1.19.5)\n",
            "Requirement already satisfied: requests in /usr/local/lib/python3.7/dist-packages (2.23.0)\n",
            "Requirement already satisfied: packaging>=20.0 in /usr/local/lib/python3.7/dist-packages (from transformers) (21.0)\n",
            "Collecting sacremoses\n",
            "  Downloading sacremoses-0.0.46-py3-none-any.whl (895 kB)\n",
            "\u001b[K     |████████████████████████████████| 895 kB 50.4 MB/s \n",
            "\u001b[?25hRequirement already satisfied: tqdm>=4.27 in /usr/local/lib/python3.7/dist-packages (from transformers) (4.62.3)\n",
            "Requirement already satisfied: regex!=2019.12.17 in /usr/local/lib/python3.7/dist-packages (from transformers) (2019.12.20)\n",
            "Requirement already satisfied: importlib-metadata in /usr/local/lib/python3.7/dist-packages (from transformers) (4.8.1)\n",
            "Collecting tokenizers<0.11,>=0.10.1\n",
            "  Downloading tokenizers-0.10.3-cp37-cp37m-manylinux_2_5_x86_64.manylinux1_x86_64.manylinux_2_12_x86_64.manylinux2010_x86_64.whl (3.3 MB)\n",
            "\u001b[K     |████████████████████████████████| 3.3 MB 48.0 MB/s \n",
            "\u001b[?25hCollecting huggingface-hub>=0.0.17\n",
            "  Downloading huggingface_hub-0.0.17-py3-none-any.whl (52 kB)\n",
            "\u001b[K     |████████████████████████████████| 52 kB 1.8 MB/s \n",
            "\u001b[?25hCollecting pyyaml>=5.1\n",
            "  Downloading PyYAML-5.4.1-cp37-cp37m-manylinux1_x86_64.whl (636 kB)\n",
            "\u001b[K     |████████████████████████████████| 636 kB 72.4 MB/s \n",
            "\u001b[?25hRequirement already satisfied: filelock in /usr/local/lib/python3.7/dist-packages (from transformers) (3.0.12)\n",
            "Requirement already satisfied: typing-extensions in /usr/local/lib/python3.7/dist-packages (from huggingface-hub>=0.0.17->transformers) (3.7.4.3)\n",
            "Requirement already satisfied: pyparsing>=2.0.2 in /usr/local/lib/python3.7/dist-packages (from packaging>=20.0->transformers) (2.4.7)\n",
            "Collecting pandas>=1.2.3\n",
            "  Downloading pandas-1.3.3-cp37-cp37m-manylinux_2_17_x86_64.manylinux2014_x86_64.whl (11.3 MB)\n",
            "\u001b[K     |████████████████████████████████| 11.3 MB 71.1 MB/s \n",
            "\u001b[?25hCollecting pandas-stubs>=1.1.0.11\n",
            "  Downloading pandas_stubs-1.2.0.17-py3-none-any.whl (158 kB)\n",
            "\u001b[K     |████████████████████████████████| 158 kB 55.7 MB/s \n",
            "\u001b[?25hCollecting openpyxl>=3.0.7\n",
            "  Downloading openpyxl-3.0.9-py2.py3-none-any.whl (242 kB)\n",
            "\u001b[K     |████████████████████████████████| 242 kB 62.9 MB/s \n",
            "\u001b[?25hRequirement already satisfied: urllib3!=1.25.0,!=1.25.1,<1.26,>=1.21.1 in /usr/local/lib/python3.7/dist-packages (from requests) (1.24.3)\n",
            "Requirement already satisfied: idna<3,>=2.5 in /usr/local/lib/python3.7/dist-packages (from requests) (2.10)\n",
            "Requirement already satisfied: chardet<4,>=3.0.2 in /usr/local/lib/python3.7/dist-packages (from requests) (3.0.4)\n",
            "Requirement already satisfied: certifi>=2017.4.17 in /usr/local/lib/python3.7/dist-packages (from requests) (2021.5.30)\n",
            "Requirement already satisfied: et-xmlfile in /usr/local/lib/python3.7/dist-packages (from openpyxl>=3.0.7->openai) (1.1.0)\n",
            "Requirement already satisfied: python-dateutil>=2.7.3 in /usr/local/lib/python3.7/dist-packages (from pandas>=1.2.3->openai) (2.8.2)\n",
            "Requirement already satisfied: pytz>=2017.3 in /usr/local/lib/python3.7/dist-packages (from pandas>=1.2.3->openai) (2018.9)\n",
            "Requirement already satisfied: six>=1.5 in /usr/local/lib/python3.7/dist-packages (from python-dateutil>=2.7.3->pandas>=1.2.3->openai) (1.15.0)\n",
            "Requirement already satisfied: zipp>=0.5 in /usr/local/lib/python3.7/dist-packages (from importlib-metadata->transformers) (3.5.0)\n",
            "Requirement already satisfied: joblib in /usr/local/lib/python3.7/dist-packages (from sacremoses->transformers) (1.0.1)\n",
            "Requirement already satisfied: click in /usr/local/lib/python3.7/dist-packages (from sacremoses->transformers) (7.1.2)\n",
            "Building wheels for collected packages: openai\n",
            "  Building wheel for openai (setup.py) ... \u001b[?25l\u001b[?25hdone\n",
            "  Created wheel for openai: filename=openai-0.10.5-py3-none-any.whl size=169225 sha256=9634a188f3222d585b1c2285046744838e1e978ef089c55709829cfbdc5500ed\n",
            "  Stored in directory: /root/.cache/pip/wheels/c8/85/9b/a634387cd7f6e0ec71ffedd5774d1fbc14f60261eb8aeea6a5\n",
            "Successfully built openai\n",
            "Installing collected packages: tokenizers, sacremoses, pyyaml, pandas-stubs, pandas, openpyxl, huggingface-hub, transformers, openai\n",
            "  Attempting uninstall: pyyaml\n",
            "    Found existing installation: PyYAML 3.13\n",
            "    Uninstalling PyYAML-3.13:\n",
            "      Successfully uninstalled PyYAML-3.13\n",
            "  Attempting uninstall: pandas\n",
            "    Found existing installation: pandas 1.1.5\n",
            "    Uninstalling pandas-1.1.5:\n",
            "      Successfully uninstalled pandas-1.1.5\n",
            "  Attempting uninstall: openpyxl\n",
            "    Found existing installation: openpyxl 2.5.9\n",
            "    Uninstalling openpyxl-2.5.9:\n",
            "      Successfully uninstalled openpyxl-2.5.9\n",
            "\u001b[31mERROR: pip's dependency resolver does not currently take into account all the packages that are installed. This behaviour is the source of the following dependency conflicts.\n",
            "google-colab 1.0.0 requires pandas~=1.1.0; python_version >= \"3.0\", but you have pandas 1.3.3 which is incompatible.\u001b[0m\n",
            "Successfully installed huggingface-hub-0.0.17 openai-0.10.5 openpyxl-3.0.9 pandas-1.3.3 pandas-stubs-1.2.0.17 pyyaml-5.4.1 sacremoses-0.0.46 tokenizers-0.10.3 transformers-4.11.2\n"
          ]
        },
        {
          "output_type": "display_data",
          "data": {
            "application/vnd.colab-display-data+json": {
              "pip_warning": {
                "packages": [
                  "pandas"
                ]
              }
            }
          },
          "metadata": {}
        }
      ]
    },
    {
      "cell_type": "markdown",
      "metadata": {
        "id": "0pGC_T3pEiBc"
      },
      "source": [
        "The below function returns the contextualized word embeddings from gpt2"
      ]
    },
    {
      "cell_type": "code",
      "metadata": {
        "colab": {
          "base_uri": "https://localhost:8080/",
          "height": 145,
          "referenced_widgets": [
            "8b8302245c2b4c389c7c763bc8ec39c3",
            "ee0d172998794abd99a99bb0565432d1",
            "dcaeccadf8da42fa8114d9909e0791ab",
            "a02fde0a596d4482882f4a56cc2aebae",
            "3fc0eca0a0964a1ca6ea99fb0795dce6",
            "bda8c991a0684e0dac48b5ba43654880",
            "bbe4c273d0f049b586e2d819920f35b7",
            "832f9566e44f4adfb4fd1ba4596f2fd3",
            "18fc3d99e60942419c636f796bcc1d3a",
            "72576d8228524cfb86bebe87ffac701b",
            "e1f841a280c243a0bcc70b4802d26446",
            "dee25185e9dd495eb9c5a08500820aec",
            "dfffc261ad4e4fb89e9f3989a19ec709",
            "a22127d161474a02a2d813704f229598",
            "275a370d060f4728883bc91f3a89593c",
            "14a5fbbd1b4248439fc39666ac5be8c4",
            "38c46d400386466badeac3abb4ab246e",
            "f36c0892cc2a49008d3d86185b646d64",
            "5218675aa0174dc4acfce15b7f8a01f3",
            "1aa86e1fb14d4541a54794d2f0ddafa9",
            "eefef4625bba4bf89a9685ff6088ca74",
            "692f5d89056747c799badb528069eef7",
            "96608082ea3c4d8683d662bb67b6bf85",
            "e5a1602988a94b51bb6fd3a9be0b334c",
            "108f595aef8742dfb2ead370238790d3",
            "a46a5bb744204a699f6e7f7727aa1e40",
            "95a23f7c994647a5a97ac6bf67a3d32f",
            "1c51b9b60c21482cb4553c2999125e0f",
            "1bda9399b3424e409742e7178fb957be",
            "1354772557ef4d8985ff53061b3547cb",
            "c45ce129b3154107b369736dca5e4a88",
            "2e6f41c37d0a4e4eb3223cc26282026a",
            "2f4a9e2b6d2540cd9b0c0e98d6e3fe94",
            "4400a267e7634b059a4aad48ee6abb5e",
            "5ec6c3fa6c27441c813ca99f9ed9936c",
            "3f51ed5aa48647be9632477acace4f39",
            "98f69b1ee47d4686aa60f43f7bc4b3db",
            "8fdd4b05eb4c4a52863527b4eebcd246",
            "dca94c02dd9c44528f329dd083e03d1e",
            "4d35a8108eca4d01bc7b0081864bcb9f",
            "ee18e2388e1d471d90ffd3a7c9b6ccfe",
            "c2be4d608f024a1d879314c0e456c2d7",
            "5bff32da55c44bbaa77b185e758538c6",
            "25d6ccb52a3a4f9da53de2080db90244"
          ]
        },
        "id": "XRuerfqsflgt",
        "outputId": "33c09788-3664-4248-f085-9a5be4ca99a5"
      },
      "source": [
        "from transformers import GPT2Tokenizer\n",
        "import numpy as np\n",
        "import json\n",
        "import os, openai, requests\n",
        "#OPENAI_API_KEY = os.environ.get(\"sk-ckCerHbXrCSeaf61c9ELvsy2EcUEz0w2SxBCsIeD\")\n",
        "OPENAI_API_KEY = 'sk-ckCerHbXrCSeaf61c9ELvsy2EcUEz0w2SxBCsIeD'\n",
        "tokenizer = GPT2Tokenizer.from_pretrained(\"gpt2\")\n",
        "def get_embeddings(tokens):\n",
        "   tokens = ', '.join(tokens)\n",
        "   tokens = \"[[\" +  tokens + \"]]\"\n",
        "   headers = {\n",
        "       \"Authorization\": f\"Bearer {OPENAI_API_KEY}\",\n",
        "       \"Content-Type\": \"application/json\",\n",
        "   }\n",
        "   data = (\n",
        "       '{\"prompt\":' + f\"{tokens}\" + '}'\n",
        "   )\n",
        "   response = requests.post(\n",
        "       \"https://api.openai.com/v1/engines/ada-search-index-v1/embeddings\",\n",
        "       headers=headers,\n",
        "       data=data.encode(\"utf-8\"),\n",
        "   )\n",
        "   content = json.loads(response.text)\n",
        "   return content   \n",
        "   #return content[\"data\"][0][\"activations\"]\n"
      ],
      "execution_count": null,
      "outputs": [
        {
          "output_type": "display_data",
          "data": {
            "application/vnd.jupyter.widget-view+json": {
              "model_id": "8b8302245c2b4c389c7c763bc8ec39c3",
              "version_minor": 0,
              "version_major": 2
            },
            "text/plain": [
              "Downloading:   0%|          | 0.00/0.99M [00:00<?, ?B/s]"
            ]
          },
          "metadata": {}
        },
        {
          "output_type": "display_data",
          "data": {
            "application/vnd.jupyter.widget-view+json": {
              "model_id": "dee25185e9dd495eb9c5a08500820aec",
              "version_minor": 0,
              "version_major": 2
            },
            "text/plain": [
              "Downloading:   0%|          | 0.00/446k [00:00<?, ?B/s]"
            ]
          },
          "metadata": {}
        },
        {
          "output_type": "display_data",
          "data": {
            "application/vnd.jupyter.widget-view+json": {
              "model_id": "96608082ea3c4d8683d662bb67b6bf85",
              "version_minor": 0,
              "version_major": 2
            },
            "text/plain": [
              "Downloading:   0%|          | 0.00/1.29M [00:00<?, ?B/s]"
            ]
          },
          "metadata": {}
        },
        {
          "output_type": "display_data",
          "data": {
            "application/vnd.jupyter.widget-view+json": {
              "model_id": "4400a267e7634b059a4aad48ee6abb5e",
              "version_minor": 0,
              "version_major": 2
            },
            "text/plain": [
              "Downloading:   0%|          | 0.00/665 [00:00<?, ?B/s]"
            ]
          },
          "metadata": {}
        }
      ]
    },
    {
      "cell_type": "markdown",
      "metadata": {
        "id": "h4ro1hcbE8FB"
      },
      "source": [
        "The encode_sent function returns the word_encoding after pre-processing"
      ]
    },
    {
      "cell_type": "code",
      "metadata": {
        "id": "p5YXswTQfljU"
      },
      "source": [
        "def encode_sent(sent, type_data):\n",
        "   tokens = tokenizer(sent)['input_ids']\n",
        "\n",
        "    # if condition to check if it is a query or a document\n",
        "   if type_data == 'query':\n",
        "    print('This is a query')\n",
        "    tokens = tokenizer(\"[\")['input_ids'] + tokens + tokenizer(\"]\")['input_ids'] # query embeddings\n",
        "   else:\n",
        "    tokens = tokenizer(\"{\")['input_ids'] + tokens + tokenizer(\"}\")['input_ids'] # doc embeddings\n",
        "   if len(tokens) > 2048:\n",
        "      tokens = tokens[-2048:]\n",
        "   tokens = [str(t) for t in tokens]\n",
        "   return tokens\n"
      ],
      "execution_count": null,
      "outputs": []
    },
    {
      "cell_type": "markdown",
      "metadata": {
        "id": "g5Si92UqFEM8"
      },
      "source": [
        "More details related to encode or the tokenizer function"
      ]
    },
    {
      "cell_type": "code",
      "metadata": {
        "colab": {
          "base_uri": "https://localhost:8080/"
        },
        "id": "7pH1_i7uFM0S",
        "outputId": "91b12e77-0e5f-45a8-81d2-5b63e16aef58"
      },
      "source": [
        "sent = 'Hello, I hope you are fine'\n",
        "tokens = tokenizer(sent)\n",
        "tokens"
      ],
      "execution_count": null,
      "outputs": [
        {
          "output_type": "execute_result",
          "data": {
            "text/plain": [
              "{'input_ids': [15496, 11, 314, 2911, 345, 389, 3734], 'attention_mask': [1, 1, 1, 1, 1, 1, 1]}"
            ]
          },
          "metadata": {},
          "execution_count": 3
        }
      ]
    },
    {
      "cell_type": "markdown",
      "metadata": {
        "id": "va-TFd4XGK9H"
      },
      "source": [
        "*   attention_mask = corresponds to the number of words\n",
        "*   input_ids = corresponds to the word ids from the vocabulary\n",
        "*   For the sentence - 'Hello, I hope you are fine' has 7 encodings as the tokenised form will contain 7 tokens consisting ('**Hello**', '**,**' , '**I**', '**hope**', '**you**', '**are**', '**fine**') "
      ]
    },
    {
      "cell_type": "code",
      "metadata": {
        "colab": {
          "base_uri": "https://localhost:8080/"
        },
        "id": "xQLsvOQzHwGm",
        "outputId": "ce53bffd-47fa-4d31-eedf-63f353d91f48"
      },
      "source": [
        "# output from the encode_sent function()\n",
        "sent = 'Hello, I hope you are fine'\n",
        "results_encode = encode_sent(sent, type_data='query')\n",
        "results_encode"
      ],
      "execution_count": null,
      "outputs": [
        {
          "output_type": "stream",
          "name": "stdout",
          "text": [
            "This is a query\n"
          ]
        },
        {
          "output_type": "execute_result",
          "data": {
            "text/plain": [
              "['58', '15496', '11', '314', '2911', '345', '389', '3734', '60']"
            ]
          },
          "metadata": {},
          "execution_count": 5
        }
      ]
    },
    {
      "cell_type": "markdown",
      "metadata": {
        "id": "10cv-Z6AKFL-"
      },
      "source": [
        "The sentence which is sent as q query will always be enclosed in [ query ].In the above encode each of the token or word corresponds to a number\n",
        "\n",
        "\n",
        "*   [     = 58\n",
        "*   Hello = 15496\n",
        "*   ,     = 11\n",
        "*   I     = 314\n",
        "\n",
        "\n",
        "\n"
      ]
    },
    {
      "cell_type": "code",
      "metadata": {
        "id": "KeLatQyJfll0"
      },
      "source": [
        "# call the function to get the results\n",
        "def embed(txt, type_data):\n",
        "   tokens = encode_sent(txt,type_data)\n",
        "   return get_embeddings(tokens)\n",
        "   "
      ],
      "execution_count": null,
      "outputs": []
    },
    {
      "cell_type": "code",
      "metadata": {
        "colab": {
          "base_uri": "https://localhost:8080/"
        },
        "id": "iHrFr7AJIvVh",
        "outputId": "03107611-a277-45c4-b6bf-e09ae101c51e"
      },
      "source": [
        "# calling the embed function with a sentence as a parameter\n",
        "txt = 'Hello, I hope you are fine.'\n",
        "embed(txt)"
      ],
      "execution_count": null,
      "outputs": [
        {
          "output_type": "stream",
          "name": "stdout",
          "text": [
            "{'object': 'list', 'data': [{'object': 'embeddings_result', 'activations': [9.0703125, -0.7060547, -4.9648438, 7.421875, 4.4921875, -3.2851562, 1.0351562, 0.0031604767, -0.5673828, 4.9375, 4.1835938, 0.49316406, 7.2070312, 10.0859375, -1.0585938, -4.8320312, -13.5078125, -2.0136719, 7.2539062, -3.8554688, 0.87646484, 0.42333984, -1.3203125, -0.52685547, -3.7910156, 0.6254883, 0.75097656, 4.5351562, 1.9101562, -2.2988281, -15.171875, -4.671875, -0.65625, -7.1054688, 4.3085938, -5.0117188, -3.1855469, 4.2070312, -1.2216797, 1.5976562, -0.0904541, 8.5, -8.8125, 5.3710938, -3.3730469, 9.984375, -6.8203125, -7.453125, 2.765625, -2.7792969, -0.3466797, 13.34375, 1.3193359, 11.3203125, -2.5234375, -3.9277344, 8.5625, -5.7929688, -7.1523438, -8.4375, -1.3408203, -10.421875, 0.30249023, -4.2421875, -2.2480469, 0.31225586, -8.6171875, 8.71875, 1.3652344, -1.6513672, -1.3681641, 10.8515625, -9.640625, -1.0039062, 8.5078125, 2.1757812, 7.125, -1.0341797, 7.328125, 5.3789062, -2.9277344, 2.4023438, -3.6542969, -1.3457031, 1.1484375, -0.78808594, -2.0117188, -3.8515625, 4.8476562, -8.03125, 0.4260254, 2.6582031, -2.1777344, -1.3261719, -0.08013916, -6.6289062, 5.1210938, 7.65625, -1.2099609, 2.8710938, 7.9023438, 3.234375, -4.84375, -6.6328125, 0.0015878677, 6.203125, 3.9433594, 2.7402344, 10.09375, -4.6796875, 2.1875, -11.5, 0.25317383, 2.2539062, 18.53125, 12.71875, 4.1171875, 7.5390625, 1.8984375, 4.3515625, -2.3242188, 1.7832031, 14.5078125, 2.3984375, 8.8046875, 3.8828125, 5.2929688, -5.4609375, 2.5273438, 9.6171875, 3.9726562, 2.7265625, 7.09375, 6.0820312, -8.1875, 7.3945312, 4.2773438, 3.3027344, -2.7285156, -14.0390625, -0.8310547, 0.8388672, 1.3828125, -6.78125, 3.4003906, 1.2734375, -3.328125, -1.5820312, -1.0166016, -0.31567383, 3.1289062, -5.8007812, 2.09375, 2.5078125, -5.34375, -2.3320312, -1.2001953, -9, 5.1679688, 12.2421875, 5.2695312, -11.1484375, -19.140625, -3.875, 0.6201172, -1.0478516, -5.859375, 2.5585938, -4.4179688, -3, -0.5683594, 1.3203125, 0.007030487, 4.6289062, -8.0546875, 3.46875, 0.24609375, -0.12792969, -9.9453125, -1.3017578, 11.703125, 1.5830078, 5.5585938, -2.4667969, 5.6015625, -5.7460938, -7.2070312, -3.2109375, -3.3417969, -2.2929688, -1.2402344, 3.8320312, -3.9316406, 11.3515625, -6.6484375, 2.0527344, -13.46875, -1.3447266, -5.296875, -12.015625, 7.7304688, -2.6132812, -1.0869141, 6.5078125, 1.4736328, 1.0566406, 3.7363281, -4.671875, 1.9775391, -1.9433594, -2.1445312, 4.0664062, 9.96875, -5.4335938, -6.8203125, -0.4645996, -1.5009766, -13.4609375, 4.890625, -4.1679688, 0.9086914, -6.8632812, 2.6855469, 3.125, 8.8359375, -3.75, -2.4492188, -4.0703125, 4.4765625, -6.2890625, 5.625, 12.0234375, -5.2148438, -2.6933594, 5.7851562, -1.1923828, -1.9179688, 12.8125, -2.4980469, 4.1679688, 6.1835938, 6.171875, 0.18920898, -6.8046875, -0.33032227, -1.0117188, -5.5078125, 1.3876953, 2.7089844, 3.3632812, -10.6953125, 6.0507812, 3.0898438, -6.8710938, 3.0976562, -1.4414062, -1.4658203, -5.9804688, 3.8574219, 2.0195312, 1.3212891, -0.8828125, -0.08874512, -3.9160156, -2.5996094, 4.3359375, 15.7734375, -5.4726562, 3.2265625, 1.3798828, -7.96875, -2.7226562, -6.6171875, -0.8901367, -9.03125, -2.9746094, 1.3818359, -0.57128906, 4.4804688, 5.671875, 5.1289062, 0.012535095, -6.84375, 5.4375, 2.90625, -1.1865234, -6.1015625, 2.015625, -4.375, -7.1132812, -0.25976562, -5.0507812, 1.4150391, -28.03125, 3.1230469, -2.7714844, 16.4375, 1.8925781, 1.3457031, -0.7236328, 1.4433594, 9.59375, 4.984375, 2.2558594, -2.0917969, 2.7382812, 8.2890625, 2.4863281, -0.2199707, 0.91503906, -10.375, 4.3554688, -1.3320312, -3.4042969, 1.8652344, 0.4885254, -2.7910156, 2.0273438, -2.3710938, 12.21875, -5.2851562, -0.10144043, 1.3115234, 11.3046875, 9.1640625, -2.84375, -1.9433594, -5.6992188, 1.1787109, 5, 3.9960938, 0.025314331, -9.1328125, -7.4140625, -6.5976562, 5.4023438, 2.0585938, 1.0517578, -3.3144531, 0.9838867, 1.6992188, -3.3730469, -0.99853516, -2.0234375, 5.234375, 8.7421875, 5.9023438, 11.125, -2.5449219, 2.7675781, 4.5703125, -2.7441406, 5.6601562, -3.5117188, 8.78125, -1.1767578, -9.859375, 2.2890625, -1.2226562, -4.4101562, -4.0234375, -3.3691406, -2.2382812, 0.36865234, 11.1484375, -3.265625, -4.7148438, 1.3125, -1.4453125, 9.78125, -0.030883789, -10.6484375, -8.9609375, -3.265625, 1.8164062, 4.046875, 0.12902832, 5.5703125, -4.7929688, 3.8808594, -6.3007812, 4.9609375, -0.9194336, -3.6484375, 2.4609375, -1.8144531, 1.3457031, -5.4960938, 0.16552734, -0.2763672, -6.8945312, 2.6953125, 2.2578125, 3.6894531, 8.2109375, 0.12792969, -2.1152344, 5.921875, -3.6835938, -2.09375, -2.8867188, -6.171875, -2.859375, -5.78125, 8.6328125, 2.1054688, -5.1757812, -1.6894531, -3.2285156, -3.2734375, 2.5605469, -14.125, -7.6289062, -6.9023438, 11.59375, 4.0859375, 8.9765625, 1.4873047, -5.5625, -0.72265625, -0.23376465, -0.6640625, 7.0742188, 5.2460938, 1.3398438, 5.7695312, -0.0758667, -11.46875, -0.49853516, -3.5625, -7.3007812, 2.9707031, -3.6269531, 0.99365234, 7.3867188, -0.9057617, 4.2773438, 4.2773438, 0.10467529, 1.4785156, -3.9140625, 3.2597656, -1.6699219, 8.6953125, 3.1289062, -4.0585938, -3.5976562, -3.6386719, 3.5839844, -1.5458984, -2.1894531, -0.82958984, 6.2578125, 4.3867188, -2.5527344, 0.12902832, 13.234375, -2.9472656, -6.15625, 1.2207031, -0.5854492, -1.6826172, -11.984375, 5.9257812, 2.1210938, -10.1875, -5.8984375, 0.39111328, -6.2421875, 4.4101562, -5.9648438, 5.5703125, -2.9921875, -4.2929688, 2.7851562, -3.9707031, 9.7578125, 1.234375, 1.7949219, -1.0507812, 3.7441406, 6.0859375, -6.8632812, 9.46875, -4.7929688, -12.3046875, 5.3554688, 0.8745117, 4.5976562, 4.9726562, 2.9980469, 0.5488281, 3.3574219, 10.9296875, 0.036010742, 10.046875, -0.15209961, 0.2487793, 2.8691406, -5.4101562, 6.078125, 0.6894531, 5.3867188, 0.34155273, 1.0263672, -0.1373291, -3.8007812, 3.0097656, 3.7753906, 6.9960938, 2.8359375, 5.4960938, 6.1875, -1.5927734, 8.2109375, 4.53125, 3.1484375, -0.64697266, 2.5683594, 2.3828125, 12.15625, 2.6777344, -0.84228516, 5.6640625, -6.5859375, 4.1523438, 2.9511719, -0.43798828, -2.5097656, 2.4355469, -0.033477783, -6.5742188, -1.9072266, -4.7539062, 2.5996094, -7.2109375, -4.1640625, -2.6230469, 1.6767578, 2.3007812, -5.0742188, -5.8476562, -2.8125, 10.7265625, 4.296875, -2.2109375, -3.3203125, 4.0117188, -7.265625, 0.84033203, 10.53125, 0.60839844, 6.0273438, -5.078125, -4.6757812, 0.5239258, 4.734375, 6.96875, -3.6230469, 1.5, 2.4042969, -4.0625, 4.421875, -10.84375, -4.3242188, 8.140625, 12.203125, -5.2773438, -20.71875, 1.2939453, 1.6435547, 1.9208984, 2.1074219, 0.9379883, -4.6328125, -0.3334961, 8.265625, -8.2109375, 3.734375, -1.3789062, -1.5820312, -3.7011719, -0.30688477, 1.8271484, 1.1875, -2.4882812, -2.2207031, 3.015625, -0.23632812, 1.7070312, -5.5703125, 2.3574219, 7.4414062, -5.2929688, -11.921875, -1.40625, -13.25, 3.4375, -0.63671875, -8.5546875, 2.4257812, -4.1171875, -3.3632812, 7.015625, -7.0546875, 5.7539062, -4.09375, 1.4746094, -5.4101562, -8.1640625, 8.3125, -4.4804688, -5.7695312, 3.6171875, 0.46850586, -5.1015625, 2.90625, 6.015625, -0.09881592, -6.3671875, 3.5078125, 3.125, 1.4882812, -2.5039062, 7.953125, 9.5546875, 9.5859375, -0.7915039, 4.765625, -6.1914062, -8.5, -0.11395264, -1.7119141, 4.6484375, -6.9726562, 2.8554688, -1.3095703, 1.8613281, 5.0117188, 5.9375, 0.2854004, -5.7304688, 0.060760498, 5.9804688, -0.6118164, 3.0917969, 1.5234375, -4.4023438, -4.3789062, -2.5253906, 16.6875, 0.2290039, 4.234375, -1.8623047, -1.6865234, 8.4921875, -4.6640625, -4.2460938, 7.5976562, -6.140625, 21.15625, -2.9804688, -3.578125, -0.54003906, 0.8925781, 3.0664062, -9.4296875, -5.3828125, -1.7783203, 5, 2.8027344, -0.73828125, -0.5292969, 0.7158203, 7.046875, 0.42333984, -1.3095703, -3.5195312, -0.0390625, 8.65625, 1.6132812, -1.3789062, -0.23999023, 6.125, 7.09375, -5.0234375, 10.4375, -3.75, 4.3554688, -0.9160156, 7.5585938, -0.78271484, -4.5976562, 3.6425781, 5.4726562, -3.0507812, -1.5019531, -4.8867188, -3.6894531, 1.9189453, 9.90625, 7.5429688, 2.1367188, -5.6054688, 3.8964844, 0.98535156, -7.6835938, -0.62841797, 2.2714844, -3.3496094, 0.21105957, -19.484375, -10.53125, -1.4287109, 4.0195312, 0.31079102, 12.28125, -2.265625, -4.859375, -2.2265625, 8.8359375, 5.1210938, -0.76708984, 0.24719238, -2.203125, 7.8320312, -2.03125, -3.1171875, -13.4609375, -7.7460938, 4.6171875, 3.4414062, 0.38598633, 6.6523438, 4.8476562, -5.7382812, -6.65625, 7.4414062, -2.2675781, -6.09375, 0.3642578, 4.5742188, -2.0058594, 1.2919922, -6.1914062, 4.6914062, 0.6230469, 6.2382812, 5.09375, 2.2050781, -8.015625, 3.0566406, -2.6875, -2.6875, 6.5429688, 6.6914062, -0.6508789, -0.7363281, -1.8916016, -9.1953125, 6.0195312, -0.54541016, 1.3974609, 4.625, -10.25, 2.734375, 3.5625, -0.9116211, 6.6953125, -9.8046875, -8.3984375, 4.6679688, 4.7539062, 9.75, -2.1875, 6.0429688, -7.953125, -4.4257812, 7.1796875, -4.6484375, -6.0351562, 5.2109375, -6.71875, 2.3554688, 1.2050781, -6.5742188, -7.3242188, 9.4609375, 7.5859375, 3.9199219, -5.6171875, -6.1796875, -0.074157715, -2.921875, -7.9804688, -3.5585938, -2.3632812, 2.9785156, 6.3476562, -2.0351562, -3.2910156, 4.2851562, -9.3359375, 2.7871094, 2.7617188, -4.2070312, 2.3984375, 1.8105469, -3.2363281, -14.734375, 2.1035156, -4.0625, -3.5800781, 12.609375, -6.1328125, -0.33544922, 2.7851562, -11.1328125, -5.1796875, -0.64160156, 3.2617188, 1.5546875, -11.6875, 4.796875, -6.0898438, -2.5878906, 6.9882812, 3.90625, 1.4775391, 3.6738281, 7.4453125, 7.3828125, 0.2902832, -2.8769531, 2.7304688, 5.2890625, 3.5410156, 1.6210938, -0.16308594, 2.5878906, -7.4726562, -4.359375, 6.5585938, 4.9414062, -3.484375, 1.5615234, 7.2382812, 6.6367188, 7.390625, 7.7070312, -1.2216797, -4.2851562, -1.3935547, -0.3010254, 8.6484375, -4.3710938, 4.4257812, 6.8046875, -4.828125, -2.3886719, 2.2792969, 1.4931641, 3.1054688, 5.9179688, -3.578125, 3.5273438, -2.6464844, 5.140625, -6.9414062, -2.2714844, 0.26708984, -3.96875, -0.6489258, -3.5664062, 4.2382812, 6.5625, -3.0390625, -0.26660156, -10.53125, 2.2539062, -4.4726562, -7.2578125, 1.5097656, 4.3867188, 5.8632812, 8.4140625, -10.578125, -2.0117188, 3.5429688, -3.4804688, -4.5351562, -6.1328125, -2.0078125, -1.6113281, -0.94921875, 2.0566406, -0.78222656, -0.5126953, -2.5019531, 0.20446777, 4.5117188, -2.4433594, -5.5546875, 7.0546875, 1.2402344, -5.1484375, 2.8457031, 4.6367188, 2.0390625, 6.4023438, -3.3652344, -10.5234375, 2.3320312, 1.2197266, 0.140625, 0.5498047, 4.1484375, -3.1347656, -1.03125, 0.7114258, -8.3515625, 5.7539062, -0.27319336, -1.8652344, -2.4257812, -2.0625, -31.03125, -1.3994141, -1.1982422, -2.1621094, 5.7148438, -1.8457031, 7.0429688, 2.296875, -1.2167969, 2.4179688, -0.66748047, -4.0429688, -12.53125, -0.91748047, 4.328125, 2.8574219, -3.1269531, -13.1171875, -7.9101562, 0.89160156, 2.6425781, 6.1992188, 7.1601562, 5.0976562, -5.2148438, -8.3125, -5.6835938, 13.9609375, -3.1386719, -11.140625, 3.3125, 11.28125, 6.1796875, 3.4765625, 8.4765625, -4.859375, 6.9882812, 1.2001953, 1.6904297, 1.3330078, 7.7460938, -1.5341797, -1.6425781, 3.5390625, -5.9375, -14.9609375, -0.57128906, 6.09375, -5.84375, -3.3769531, 8.859375, -26.625, -15.890625, -3.0039062, -5.4414062, 7.65625, 6.9726562, -5.515625, 3.0839844, 1.9873047, 4.6992188, -0.2253418, 1.265625, -10.4765625, 11.3046875, 6.4492188, -1.8681641, 2.4042969, 9.5078125, 0.71972656, -15.5, 4.34375, 2.8925781, -1.1083984, 8.4765625, -2.875, 1.9033203, -4.7304688, 2.2734375, 1.4248047, -0.8432617, -10, 1.7294922, 10.203125, -1.0419922, 3.5625, 12.25, 8.203125, -6.8398438, 0.671875, -1.7832031, 1.0654297, -2.6484375, -2.0605469, 3.5878906, 3.421875, -0.12408447, 1.6425781], 'document': 0}], 'model': 'ada-search-model:2021-09-01'}\n"
          ]
        }
      ]
    },
    {
      "cell_type": "code",
      "metadata": {
        "id": "cY7yS5Pvfl2J"
      },
      "source": [
        "# to calculate the cosine similarity\n",
        "from sklearn.metrics.pairwise import cosine_similarity,cosine_distances"
      ],
      "execution_count": null,
      "outputs": []
    },
    {
      "cell_type": "code",
      "metadata": {
        "colab": {
          "base_uri": "https://localhost:8080/"
        },
        "id": "Pv57WRnLKvkN",
        "outputId": "6773490a-ffbd-4531-d7b7-806a37da2d37"
      },
      "source": [
        "cosine_similarity([results[\"data\"][0][\"activations\"]],[results1[\"data\"][0][\"activations\"]])"
      ],
      "execution_count": null,
      "outputs": [
        {
          "output_type": "execute_result",
          "data": {
            "text/plain": [
              "array([[0.89317742]])"
            ]
          },
          "metadata": {},
          "execution_count": 118
        }
      ]
    },
    {
      "cell_type": "markdown",
      "metadata": {
        "id": "s6YUWz5uQf6s"
      },
      "source": [
        "# Build a simple semantic search"
      ]
    },
    {
      "cell_type": "markdown",
      "metadata": {
        "id": "Xu7WGb0HSTp4"
      },
      "source": [
        "Upload the file to extract the word embeddings and repalce with the filename - trial2.json"
      ]
    },
    {
      "cell_type": "code",
      "metadata": {
        "id": "fEW9gFJXlHch"
      },
      "source": [
        "document_dictionary = {}\n",
        "\n",
        "# Python program to read\n",
        "# json file\n",
        "import json\n",
        "\n",
        "# Enter the json file name\n",
        "f = open('trial2.json',encoding=\"utf8\")\n",
        "\n",
        "# returns JSON object as a dictionary\n",
        "data = json.load(f)\n",
        "\n",
        "counter = 0\n",
        "# Iterating through the json list\n",
        "for i in data['lexata']:\n",
        "    st = 'doc_' + str(counter)\n",
        "    document_dictionary[st] = i['metadata'], i['text']\n",
        "    counter = counter + 1\n",
        "\n",
        "# Closing file\n",
        "f.close()"
      ],
      "execution_count": null,
      "outputs": []
    },
    {
      "cell_type": "code",
      "metadata": {
        "id": "L-4PwCX3sp8k"
      },
      "source": [
        " # create an empty list which will store the word embeddings and will be indexed\n",
        "word_embed_dictionary = {}\n",
        "\n",
        "counter = 0\n",
        "\n",
        "for i in document_dictionary.keys():\n",
        "  st = 'doc_'+ str(counter)\n",
        "  results = embed(document_dictionary.get(i)[1], type_data='doc')\n",
        "  final_results = results[\"data\"][0][\"activations\"]\n",
        "  word_embed_dictionary[st] = final_results\n",
        "  counter = counter + 1"
      ],
      "execution_count": null,
      "outputs": []
    },
    {
      "cell_type": "code",
      "metadata": {
        "id": "1R_F9cpktStH"
      },
      "source": [
        "# create an empty list\n",
        "word_embed_values = []\n",
        "\n",
        "for i in word_embed_dictionary.keys():\n",
        "  word_embed_values.append(word_embed_dictionary.get(i))\n",
        "\n",
        "textfile = open(\"embedding_values.txt\", \"w\")\n",
        "for element in word_embed_values:\n",
        "    textfile.write(str(element) + \"\\n\")\n",
        "textfile.close()\n"
      ],
      "execution_count": null,
      "outputs": []
    },
    {
      "cell_type": "code",
      "metadata": {
        "colab": {
          "base_uri": "https://localhost:8080/"
        },
        "id": "W3DYt9EoyxhF",
        "outputId": "3cc79c39-fad4-4fd3-ae9d-22ee6836f059"
      },
      "source": [
        "for i in word_embed_values:\n",
        "  print(i)\n"
      ],
      "execution_count": null,
      "outputs": [
        {
          "output_type": "stream",
          "name": "stdout",
          "text": [
            "[0.15649414, 3.8789062, 1.5234375, 13.75, 3.5722656, -3.7578125, 0.41088867, 4.28125, 3.4082031, -1.2402344, -1.6005859, 0.060638428, -0.640625, 6.3828125, -3.6347656, -3.2265625, 8.9765625, 1.1269531, 0.030288696, 3.6992188, 4.828125, -7.3125, 6.0625, 1.0878906, 6.3945312, -0.8745117, 1.5488281, 6.6992188, -1.8291016, -9.8515625, -3.125, -8.6953125, 0.95947266, 7.8203125, 2.3710938, 5.8984375, -1.7460938, 4.65625, 1.3935547, -2.5820312, -3.0585938, -5.9453125, 7.0195312, 1.6855469, -1.9267578, 2.3339844, -9.6796875, 2.203125, -8.46875, 8.25, 3.7050781, 3.0703125, -4.7890625, 2.4609375, 5.7148438, -5.375, 5.4960938, -0.7817383, -5.0273438, 4.328125, -0.17407227, -0.89501953, 1.7519531, 0.21777344, -6.5664062, 0.6015625, -3.8613281, -5.2851562, 7.3515625, 0.19152832, 2.2558594, 3.5332031, -1.0917969, -9.1875, -4.328125, 2.0117188, 1.2539062, -3.6015625, 1.3847656, 0.63623047, -4.890625, -0.9790039, -1.9013672, -6.484375, -9.6640625, 9.2578125, -8.9765625, -4.5976562, 0.9223633, -3.5273438, 9.015625, -2.1757812, -3.5429688, 1.7392578, -0.32202148, -7.4023438, 5.2148438, -2.0019531, 2.4296875, 4.0195312, 3.3769531, -4.4296875, -7.9140625, -5.2148438, 2.5488281, 7.1210938, -3.6777344, -1.7275391, -4.1679688, -8.8828125, -3.4511719, -0.43823242, 0.39892578, 2.4199219, 5.5117188, 3.3125, 1.6914062, 9.390625, 4.4023438, 14.28125, 2.1972656, 1.7431641, -4.8828125, 1.4550781, 7.390625, -0.0947876, 1.5273438, -1.828125, -2.4765625, 2.5664062, 7.0234375, -0.45996094, 3.0859375, -3.9609375, -4.984375, 4.765625, -6.5039062, 2.6621094, 14.0625, 1.3242188, 0.31420898, 0.38793945, -7.7421875, -0.28515625, 1.8759766, 5.9296875, -6.3203125, 0.18359375, -1.4960938, -0.33520508, 1.8212891, 1.6679688, -1.2333984, 12.21875, 0.15209961, -6.578125, -5.4140625, 3.7402344, 1.8701172, -6.6171875, -0.27856445, -1.5292969, -7.4609375, 4.3046875, 3.9550781, 0.028259277, -7.0703125, 7.4296875, 1.6103516, -3.1777344, -0.9711914, 7.5039062, -8.46875, 3.1855469, 4.0898438, -1.3212891, 2.7578125, -3.9707031, -5.09375, 2.296875, 3.2304688, -1.3535156, 2.5976562, 0.06921387, 7.46875, -3.9199219, 10.90625, -5.0390625, -2.4257812, 2.890625, 4.4492188, -8.484375, 7.46875, 5.1640625, 0.34423828, 2.2578125, 5.421875, -5.03125, -3.2441406, -7.7382812, 7.40625, 0.97314453, -2.5429688, 5.125, 3.5273438, 4.4648438, 1.5400391, 4.609375, -8.78125, 0.27148438, 6.6132812, -5.8476562, -3.4707031, -6.4375, 8.5, -4.8125, -5.0234375, -9.9765625, 3.9804688, 1.6757812, 1.9375, -1.2089844, 1.078125, 0.0859375, 1.0136719, -7.7148438, -4.1132812, -2.8515625, -6.3359375, 7.8945312, 10.890625, -4.765625, 1.2138672, 7.9296875, -0.27514648, 2.2382812, 2.6601562, 6.8046875, 3.4980469, -1.4638672, 0.953125, -4.46875, -1.2509766, 4.0546875, -10.8671875, -2.0019531, 8.390625, -3.8320312, 2.0332031, 13.6328125, 1.2099609, 2.4472656, 2.0664062, -5.1054688, 0.8129883, 0.26879883, -7.9921875, 0.0012397766, 5.8085938, 6.7148438, -0.55566406, 5.8515625, -1.4160156, -9.1171875, -4.5234375, 5.71875, -2.3085938, 5.9414062, 5.5195312, 0.5214844, 3.734375, 7.0898438, -5.1210938, 4.3398438, -0.66748047, -3.3242188, 5.1523438, -12.125, -4.5820312, 4.8671875, -1.5761719, 9.5234375, -2.5859375, -9.046875, -2.6367188, 0.42456055, 4.203125, 1.3857422, -4.2695312, 0.3659668, 7.5664062, -5.3710938, 4.6992188, -30.9375, 7.65625, 3.0332031, 11.5859375, -1.4169922, -5.9453125, 0.11639404, 0.54052734, 9.5859375, -2.5429688, -1.0429688, -3.4726562, 1.7861328, 5.3359375, 6.6640625, 11.2421875, 2.71875, -0.9814453, 2.3046875, -6.8515625, 4.5976562, 2.3652344, -0.72558594, -4.2539062, -11.046875, -1.0273438, 4.1171875, 2.0039062, -1.0449219, 4.8359375, 4.7890625, -8.421875, 1.3261719, 4.6445312, -4.7148438, 5.2265625, 4.1484375, 1.3339844, 4.8789062, 1.2958984, -1.5634766, -5.0117188, 0.45751953, 2.2050781, -0.044281006, -0.4477539, -6.34375, 1.6269531, 2.1132812, 6.828125, 9, -9.546875, -7.6679688, -3.6289062, -19.375, 7.6679688, 6.5039062, -2.9160156, 5.703125, 6.6679688, 3.7636719, 7.40625, 1.5673828, 0.15625, -2.5742188, 3.4628906, 3.4863281, 4.328125, -5.671875, 9.4296875, 8.546875, -2.296875, 7.9296875, -0.8823242, -3.6542969, -5.8554688, 2.4160156, -6.3046875, 5.2851562, -2.1738281, -3.8496094, -4.6210938, 8.34375, -0.64160156, 19.140625, -11.90625, 2.2148438, 10.234375, -5.5742188, -8.8828125, -6.5390625, 0.12359619, -3.6152344, -1.7167969, -1.2695312, 9.4921875, 4.5117188, 1.0869141, 3.9882812, 2.453125, -0.3552246, 4.0546875, 7.4375, 1.5185547, 4.1484375, -2.5117188, -10.921875, -5.8359375, -11.5078125, -6.1992188, 6.0859375, -0.5991211, -0.120788574, -16.59375, -4.1640625, 6, -0.072753906, -7.4101562, -4.9804688, -0.7895508, -4.0625, -3.5664062, -0.19763184, -0.109558105, -8.9375, -1.7939453, -7.1796875, -7.2890625, -6.3984375, 6.015625, 7.1914062, 10.8828125, -5.7109375, -2.1210938, 0.9301758, -1.328125, -8.8125, -6.8867188, -2.671875, -8.5390625, 9.2109375, 2.6425781, -14.9140625, -1.4726562, 4.7226562, 11.8828125, 1.9121094, 11.6484375, 11.6796875, -2.1953125, -3.3984375, 11.03125, -0.65625, -4.3710938, 10.0859375, -1.1572266, 2.9863281, -3.640625, 1.9042969, 1.4726562, -0.15551758, 1.4648438, -4.8320312, 4.6523438, -1.7587891, 2.9765625, -10.0859375, 1.8037109, 3.9238281, -7.3007812, -0.18688965, -9.671875, 3.0019531, 1.4326172, -2.9316406, -1.5224609, -1.6933594, 7.1679688, 11.0234375, -0.48461914, 7.7421875, 5.4570312, 1.0419922, 7.2460938, 2.3964844, -0.7290039, 8.5078125, -2.953125, 4.7265625, -3.0253906, 1.7148438, -5.03125, -5.578125, 3.4882812, 8.234375, 1.3183594, -2.0546875, 5.5585938, -2.8964844, -4.65625, 1.2832031, 4.7421875, -3.7519531, 9.421875, -0.65478516, 1.5820312, -15.8203125, -5.2695312, -12.7578125, 3.8261719, 6.3164062, -1.9375, 7.5585938, -3.3164062, -1.7558594, 2.8652344, -2.9375, 0.2277832, 1.9580078, -6.9882812, 7.5390625, 2.5585938, 3.3457031, -3.2773438, -0.42236328, 1.2558594, 0.56347656, 11.3203125, -5.4804688, 3.1347656, 0.48217773, -0.7558594, -1.2734375, 1.2988281, -1.5585938, 3.3710938, -4.1367188, -15.4375, 5.3007812, 1.2265625, -2.2265625, -1.5263672, -10.390625, 11.046875, -2.6816406, 0.04827881, -4.7929688, 11.0078125, -7.9960938, 0.42700195, 2.0410156, 3.1464844, -4.9023438, 2.1972656, -1.2480469, -0.9941406, -1.0214844, 1.390625, 0.9448242, 1.7138672, -1.8867188, -6.6210938, -4.7382812, 6.59375, 2.28125, 0.8808594, 8.453125, 2.328125, -10.0625, -0.93408203, -8.6875, 11.0546875, 8.3125, 12.03125, -3, -16, 3.0351562, -4.8554688, 6.7109375, -9.265625, 2.0019531, -7.984375, -9.328125, 3.5800781, -7.421875, 1.6171875, 1.0878906, -1.296875, -0.5488281, -2.2695312, -5.3984375, 1.1503906, -5.734375, -5.1640625, -8.4375, 0.93847656, 8.875, -0.047790527, -1.3095703, 3.4902344, 10.421875, -11.4765625, 1.2148438, -1.9638672, 4.5859375, 4.8046875, 1.6025391, -2.8261719, 2.1464844, 2.0703125, -1.0146484, 16.9375, 1.3457031, -5.8554688, -2.6855469, 8.140625, -9.5546875, -2.6738281, 4.3867188, 5.6445312, -7.8125, 5.5546875, -3.2617188, -6.25, 7.1914062, -0.41137695, -1.8251953, -12.625, 0.9003906, -8.4609375, 3.6523438, 1.4423828, -0.80908203, 9.9375, -3.1933594, 19.09375, 1.3427734, -0.52001953, 2.2753906, 1.1523438, 5.3125, 1.5166016, -9.3125, -3.6328125, 1.4560547, -8.5546875, 5.234375, 4.3984375, 0.112976074, 2.5625, -4.1835938, 5.3359375, 3.6738281, -6.4648438, 2.0253906, 6.2070312, -0.16271973, 9.5390625, 7.7851562, -1.3017578, 5.46875, 7.59375, -4.1796875, -9.8359375, -1.0634766, 5.984375, 3.953125, 2.9394531, 4.4414062, 4.2539062, 10.015625, -5.1484375, 2.4316406, 0.66845703, -0.8310547, -1.6445312, -3.90625, -5.6757812, 3.9101562, 6.8945312, 0.43652344, 0.9536133, -6.6445312, 0.30004883, 2.5761719, -2.9082031, 2.2675781, 7.671875, -2.1894531, -5.1875, 2.9628906, -8.7578125, -12.0546875, -1.1513672, 4.4414062, 2.8027344, 0.7055664, 4.1054688, 4.4765625, -10.3203125, -5.828125, 4.5, 0.6870117, 8.5546875, -10.1953125, -5.8242188, 1.6796875, -1.7695312, 6.6953125, -1.5498047, 8.859375, 5.34375, 6.125, -2.1660156, -1.8701172, 7.078125, -0.5161133, 2.5136719, 8.171875, 17.296875, 4.7890625, 2.078125, -6.84375, -1.2431641, 9.953125, 2, 3.5996094, -7.0820312, 11.6953125, -2.5390625, -6.0273438, -0.22766113, 5.1757812, 1.4208984, -4.875, -3.1328125, -9.03125, -4.0546875, -2.7636719, -0.6323242, 5.9609375, -6.15625, -1.6054688, 0.93408203, 2.7988281, -10.7109375, 4.5078125, -1.8710938, 12.453125, 1.9121094, -7.1015625, -1.5976562, 4.8789062, -3.9863281, 2.9785156, 6.0351562, 3.3242188, 7.4453125, 2.3242188, 3.7617188, 11.0859375, -0.47485352, -0.59472656, -0.7363281, -10.671875, -9.0234375, 4.71875, 2.28125, -1.2480469, 4.15625, -1.9492188, 1.1816406, -6.5820312, 4.65625, -3.5683594, -0.9404297, 7.1171875, -2.9882812, -0.40454102, 5.8085938, 2.6933594, 1.4970703, -1.1181641, -3.7558594, -6.1640625, 0.53027344, -0.15551758, 1.609375, -5.9765625, 2.8066406, -3.7519531, 6.0039062, 2.9453125, 9.6328125, 1.4277344, 5.140625, 6.578125, -5.0039062, -2.9980469, 3.5703125, 5.109375, 5.2148438, -0.2746582, 11.734375, 5.5898438, 6.9804688, 5.2773438, 4.3359375, -1.671875, -9.5234375, 2.4160156, -6.4414062, -0.63720703, -16.234375, -1.1738281, 2.9726562, 3.078125, 0.009597778, -11.609375, -4.4882812, 2.2070312, 13.1171875, -4.3984375, -4.6171875, 0.4128418, 0.08605957, -4.5703125, -5.0546875, -0.4428711, 10.234375, -6.9882812, 4.28125, -2.2871094, 0.57421875, -1.4609375, 1.8779297, 5.5820312, -8.0703125, 1.4833984, -0.23596191, -1.1943359, 8.1640625, 4.6445312, -2.4335938, -0.042816162, -2.8632812, 0.5932617, 10.203125, 1.3046875, -10.2109375, -4.2617188, 4.546875, 5.5039062, 3.0742188, -1.3447266, 2.484375, 8.015625, 6.5078125, 2.71875, 1.6835938, -3.3691406, -1.5878906, 0.59521484, 6.4960938, -3.6054688, -6.9921875, -2.8378906, 3.7441406, 4.828125, 1.3173828, -3.8183594, -0.22314453, -3.5546875, 1.4082031, 5.59375, 3.2363281, 2.03125, -1.8867188, -0.25, -0.87841797, -3.7441406, -2.7832031, -6.9023438, -9.9765625, 2.7714844, -11.1328125, -2.2148438, -16.65625, 4.921875, -3.859375, -2.9277344, 0.13269043, 5.5507812, 7.796875, -8.1328125, -5.265625, 3.1621094, 0.8979492, -1.5683594, 5.625, -13.953125, 1.8603516, 0.78125, 1.3837891, -5.578125, 3.1445312, -1.078125, -2.421875, -0.21496582, -7.4804688, -3.7539062, 9.0078125, -5.0664062, 4.2695312, -7.8125, 7.2734375, 14.7890625, -0.83691406, -0.44189453, -5.3867188, -0.8847656, 5.71875, 0.8334961, -11.8828125, -0.56103516, -0.8286133, -12.8515625, -2.4746094, -1.4970703, -1.3554688, 3.5410156, 0.82714844, 1.2197266, -46.03125, -8.0078125, 0.8925781, -2.9394531, 12.5234375, 5.0625, -1.1015625, -0.4206543, 3.3867188, 0.85302734, 10.3359375, -1.6884766, -0.5854492, 7.0859375, -3.8261719, -2.5546875, 12.7265625, -6.2109375, -1.5136719, -10.0390625, -1.4453125, 4.4296875, 9.5234375, -3.7421875, -3.5390625, -4.3710938, -0.7421875, 4.046875, 5.40625, 2.9414062, -5.4765625, 18.46875, -1.0253906, -0.29125977, -6.1835938, -5.1328125, -0.46801758, 8.2578125, -0.55126953, -1.390625, 0.81347656, 9.625, -4.4726562, -5.0820312, -1.9335938, 2.6953125, 3.2324219, 5.34375, 0.64453125, -13.8203125, 10.9609375, -26.0625, -0.77734375, 1.6054688, 5.2421875, 5.25, 8.5390625, -5.6640625, -5.21875, -0.13830566, -6.0976562, -1.1347656, 0.07775879, -5.671875, -6.9414062, -4.6796875, -0.09863281, -3.0996094, 0.6689453, -5.9492188, -10.0859375, -5.3710938, -2.7441406, -7.3203125, -3.5488281, -4.0898438, -3.1289062, 0.12854004, -5.359375, -12.0390625, 8.296875, 5.4570312, -3.7207031, -8.15625, -2.3320312, -0.7729492, -2.8261719, -0.79833984, -3.109375, 2.4316406, 17.53125, 0.5654297, -0.0982666, 2.5292969, -0.8071289, 7.5390625, 4.9960938, -5.0859375]\n",
            "[-5.6601562, 7.734375, -2.8261719, 10.03125, -0.33813477, -1.7353516, -2.0332031, 2, 4.7421875, 4.8046875, 0.67089844, -0.11254883, 2.3457031, -2.3613281, -11.5078125, 1.0732422, 9.1328125, -0.8598633, 9.3828125, 13.9765625, 9.359375, -1.8154297, -0.6699219, -4.21875, 10.90625, 4.7578125, 3.1113281, 0.70703125, 1.1933594, -9.46875, -9.046875, -6.28125, 1.7441406, 1.9619141, 2.578125, 2.7753906, 0.68652344, 6.390625, 0.22912598, 1.6796875, -3.9550781, -6, 2.5273438, -3.9042969, -3.0488281, -2.1210938, -11.640625, -6.4023438, -3.2460938, 3.1289062, -2.5742188, 3.2363281, -4.0117188, 3.7089844, 4.8085938, -10.1953125, 4.6132812, -1.3251953, -6.7109375, 5.2890625, 0.6274414, -1.5087891, 4.8476562, -5.640625, -4.2070312, -2.015625, -3.4238281, 1.6962891, 1.8085938, 2.5019531, 0.77978516, -7.71875, -1.2763672, -6.2929688, -6.0195312, 0.2980957, 4.7226562, -2.0175781, 1.1328125, -0.6196289, -3.2792969, 3.7617188, -1.2285156, -11.2734375, 0.9941406, 5.5273438, -9.171875, -8.3125, -0.27319336, -3.4765625, 2.3183594, 1.1904297, -4.6757812, 1.9931641, 2.4257812, -3.2851562, 9.859375, 3.5136719, 1.7119141, -3.0117188, 0.6401367, -1.9892578, -2.4648438, -5.7226562, 2.7050781, 7.2890625, 1.1708984, -1.6083984, -4.0195312, -6.4335938, -7.703125, 3.140625, -2.2480469, -4.1679688, 6.5546875, 2.6132812, -0.030273438, 4.03125, 3.453125, 10.4375, 2.4765625, -7.4960938, 3.3300781, 1.8330078, 4.5703125, -1.0419922, 1.0078125, -4.0390625, 3.1582031, -2.7578125, 2.0527344, 2.4257812, 2.8066406, -3.0957031, -5.5546875, 8.3984375, -1.9726562, -3.859375, 10.3984375, 0.18273926, 2.1796875, 0.5932617, -8.3359375, -0.70654297, 6.421875, 6.21875, -5.1523438, 4.1953125, -3.2050781, -0.6958008, 1.3925781, 1.2949219, -3.3828125, 10.015625, -0.20715332, -1.1259766, -3.2675781, 8.03125, 2.5117188, -2.7304688, -0.5024414, -1.8076172, -6.0664062, 4.5117188, 3.0410156, -5.6992188, -12.6796875, 3.9492188, -3.0039062, 0.78808594, -7.7109375, 10.546875, -6.8242188, 0.18798828, 1.1816406, -6.859375, -5.0507812, 5.0585938, -8.84375, 1.2460938, 0.4880371, -3.484375, -5.0390625, 2.3300781, 5.4882812, -2.2890625, 9, -8.0625, 2.6210938, 4.5039062, 2.453125, -2.8144531, 7.5625, 4.84375, -0.13928223, 5.6054688, 1.4375, -5.921875, -9.28125, 2.7734375, 1.2392578, 1.4550781, 5.3789062, 8.2578125, 3.5195312, 13.1328125, 0.061035156, 2.2070312, 6.7617188, 2.9042969, 3.1875, -7.6054688, 2.8378906, -3.9453125, 5.5, 0.6269531, -8.8671875, -14.7578125, 0.76708984, 7.21875, -0.7109375, -0.38891602, -1.1943359, 0.80371094, -0.061584473, -5.3710938, -5.1523438, -0.31054688, -7.3632812, 8.484375, 11.9765625, -2.8847656, -5.359375, 7.2460938, -0.19909668, -2.7285156, 0.40429688, 8.59375, 4.5351562, 0.09320068, -0.3544922, -1.0029297, -4.453125, 1.7539062, -5.8984375, -3.4941406, 3.6191406, -2.4707031, 1.6953125, 6.4960938, 0.36376953, -7.7226562, 6.9296875, -7.734375, -2.2285156, 1.5380859, -10.671875, 0.9580078, 7.8046875, 12.4296875, -3.6953125, 4.4023438, -1.6748047, -3.3535156, -3.7851562, -0.46240234, -4.9570312, 4.1601562, 6.8515625, 2.2949219, 5.296875, -0.18823242, -3.7558594, -0.41235352, -6.8789062, -3.6660156, 0.41748047, -6.1328125, -2.8886719, 3.9160156, -7.015625, 9.8125, -2.0078125, -9.5, 7.6210938, 5.3867188, 2.2363281, 1.9814453, -2.1855469, 5.6445312, 2.2128906, -6, -1.0097656, -31.796875, -4.4375, -0.2055664, 11.6015625, -0.29589844, -0.59375, -3.8027344, -2.7597656, 16.203125, -5.6875, -0.7988281, -0.7397461, 6.921875, -1.9003906, 6.4335938, 2.6152344, -1.0693359, -8.53125, 1.1611328, -3.6386719, 3.5761719, -0.055145264, -4.1523438, -6.078125, -3.8320312, 2.4492188, 3.7265625, 2.3222656, 4.2460938, 9.8828125, 5.515625, -7.3398438, 4.8515625, 6.828125, -4.9375, 3.2636719, 7.859375, 0.15002441, -1.5576172, -0.14355469, -6.4453125, -7.2148438, 1.6748047, -3.1914062, -1.2929688, -2.7109375, -3.5898438, -2.9589844, 0.15917969, 4.1796875, 2.1601562, -2.9453125, -7.671875, 0.036865234, -13.4296875, 10.3984375, 8.03125, 1.8349609, -3.0195312, 4.6796875, 4.2578125, 6.015625, 4.0546875, -0.88134766, 0.5024414, 4.390625, 3.0976562, 6.0429688, -1.6894531, -0.32666016, 8.2890625, -1.2607422, 4.9023438, -0.37182617, -1.9794922, -13.2734375, -4.7109375, -9.84375, 3.2675781, -4.828125, -5.515625, -9.2578125, 7.3007812, 2.3789062, 0.8798828, -13.1484375, 3.9726562, 11.140625, 0.6933594, -3.8886719, -3.2851562, 4.8867188, -1.0009766, 5.1523438, 1.8837891, 14.5546875, 11.3125, 5.65625, 7.9375, 7.9609375, -0.7241211, -2.1679688, 6.1132812, 0.6660156, 6.6875, -3.9042969, -3.0957031, 2.9375, -16.15625, -0.024215698, 5.3671875, -0.828125, 1.4003906, -7.875, -1.1904297, 7.3320312, 3.8085938, 0.69921875, -5.5976562, -1.6455078, -8.1171875, 0.93359375, -0.84765625, 7.7617188, -5.6445312, 0.4189453, -1.2304688, -8.7421875, -0.40625, 4.3203125, 4.4765625, 8.7421875, -7.078125, -0.8696289, -3.1425781, -2.5175781, -5.96875, -9.625, 4.6289062, -3.9628906, 4.8046875, 0.21264648, -13.1484375, 7, 1.9785156, 11.453125, 2.6953125, 9.71875, 7, 3.4960938, -3.4023438, 3.796875, -6.5273438, -5.1367188, 6.3867188, 5.2226562, 3.4648438, 0.5996094, -4.7929688, 1.8476562, -2.6523438, 8.875, 4.171875, -1.7539062, -2.1660156, 3.5742188, -5.6757812, -6.8515625, 3.4453125, -5.484375, -2.5566406, -12.5234375, 1.1259766, 4.671875, -3.0625, -0.75439453, -1.3144531, 8.9453125, 3.9257812, -0.5996094, 5.9414062, 0.37158203, 1.2041016, 0.3408203, 0.08758545, -0.25195312, 7.546875, -4.078125, 7.2539062, 0.7373047, -3.9746094, -3.3789062, -8.328125, -2.3496094, 3.7792969, 3.9902344, -3.203125, 4.4335938, -4.7382812, -6.8515625, 4.546875, 13.8046875, -2.5410156, 1.8222656, -3.2578125, -0.8071289, -8.1484375, -3.1699219, -5.5234375, -0.30541992, -0.37182617, -4.5390625, -0.21191406, -3.2050781, 0.6274414, 5.25, -5.2773438, 4.2070312, 7.4023438, -5.7460938, 6.75, 5.984375, -1.6982422, 2.1484375, -0.7426758, 6.0742188, 4.2382812, 10.6796875, 0.4399414, -2.1347656, -6.265625, -2.7226562, -2.3359375, 4.0429688, -1.4873047, -0.9560547, -4.96875, -16.28125, -4.2421875, 4.5742188, 0.47705078, -7.3984375, -6.6992188, 1.2246094, -1.7314453, 0.35620117, -1.4443359, 9.3046875, -0.3413086, -2.203125, 1.1591797, -0.79296875, -2.5039062, 2.5449219, -2.9101562, 4.0507812, 0.8466797, -4.125, 1.4941406, 0.75, -6.0039062, -1.1601562, -5.8828125, 4.6289062, -6.7304688, 5.40625, -0.22851562, 3.96875, -10.609375, -4.1328125, -2.3574219, 9.5234375, 9.140625, 10.0390625, -0.46240234, -24.375, 6.9101562, -7.84375, -0.6298828, -4.7695312, 3.9414062, -5.4804688, -5.640625, 2.5957031, -5.1328125, -2.3867188, -3.3359375, 2.3164062, 5.0195312, -5.2226562, -3.328125, -5.2773438, -6.296875, -0.5800781, -6.546875, 0.92626953, 10.4609375, 2.5449219, -2.6328125, 7.9453125, 5.421875, -3.1210938, 2.7910156, 2.0488281, 5.9453125, 2.7792969, -5.2890625, 4.8789062, 1.3164062, 6.921875, -0.70947266, 10.5546875, 5.4921875, -10.875, 3.2597656, 1.6982422, -10.1328125, -2.6699219, 5.1914062, 12.015625, -3.7871094, 3.0839844, -6.1171875, -2.9648438, 1.3447266, -1.5361328, 6.0351562, -5.265625, 6.7773438, -8.1015625, 2.3476562, 2.4804688, -2.3691406, 5.8710938, -4.8515625, 8.3046875, -4.0039062, -0.9399414, 0.08496094, 4.3242188, 5.9609375, 3.5761719, -11.1796875, 2.2597656, 4.34375, -7.1523438, -6.2734375, 4.5195312, -6.6953125, 0.4272461, 0.10845947, 2.59375, 5.40625, -2.9941406, -0.8779297, 1.953125, 9.234375, 4.1445312, 3.9824219, -10.5859375, -0.47021484, 3.0292969, 2.5234375, -5.109375, -5.28125, 5.90625, 5.1679688, 2.8378906, 0.8564453, 4.5507812, 14.3125, -1, 5.2695312, 3.03125, -1.0800781, 4.1171875, -1.1787109, -0.88134766, 7.8359375, 3.9570312, -1.3505859, 0.36083984, -5.4179688, 5.4453125, 0.671875, -7.5898438, 0.6777344, 4.2265625, 0.82714844, 1.0546875, 5.5742188, -5.1523438, -14.703125, -1.3994141, 6.2539062, 8.59375, 8.484375, 0.5371094, 0.11663818, -12.7265625, -6.7148438, 5.328125, 2.515625, 6.4296875, -8.6640625, -8.7578125, 6.5507812, 4.3164062, 8.4765625, -4.28125, 8.9609375, -4.28125, 7.5546875, -0.50439453, 4.078125, 1.3925781, -4.390625, 1.5761719, 2.1289062, 13.6640625, 2.4316406, 4.2617188, -4.4414062, -0.7480469, 7.6601562, 3.8515625, 3.0058594, -10.734375, 13.578125, 0.68359375, -6.3945312, 2.1289062, 6.1835938, -1.2714844, -7.7578125, -4.2382812, -8.578125, -2.9042969, 0.59033203, -5.1445312, 3.4921875, -1.7167969, -0.26098633, -0.4338379, 0.52197266, -9.2890625, 1.6796875, 3.4609375, 5.8867188, 3.7011719, -2.7871094, -0.039001465, 5.6757812, -2.3476562, 6.6796875, 1.1103516, 2.5488281, 12.1171875, 1.7070312, 2.0957031, 12.9453125, 3.3808594, 0.62060547, -0.9038086, -9.4609375, -12.84375, 6.9453125, 9.0859375, -1.953125, -1.1748047, 0.24353027, -2.1738281, -8.8359375, 6.796875, 0.859375, -7.4804688, 8.4296875, 0.041259766, 2.9121094, 3.5449219, -1.7753906, 5.65625, 2.4882812, -8.0859375, -0.57373047, 7.5390625, -2.9042969, 5.34375, -3.8554688, 3.2773438, -1.203125, 6.3476562, 7.3632812, 6.4023438, 2.3046875, 1.0556641, 4.625, 2.6171875, -0.074279785, -1.6269531, 3.5429688, 0.9614258, -2.6582031, 8.453125, 10.7109375, 8.6640625, -0.26879883, 3.3515625, -1.1826172, -14.1953125, -0.045715332, -3.6738281, -0.5288086, -16.75, -3.546875, 0.072509766, -3.1132812, 1.7558594, -9.3359375, -4.421875, 3.8652344, 15.703125, -0.31958008, -9.703125, 3.7167969, -3.7910156, -4.40625, -4.4296875, -3.8652344, 6.9414062, -1.8808594, 5.4609375, -5.3828125, 4.8632812, -1.1474609, 3.8222656, 7.4296875, -2.3496094, 2.2285156, 0.8779297, -7.8984375, 7.0117188, 5.1484375, -2.6347656, -1.0908203, -3.3164062, 8.671875, 6.3945312, -1.5527344, -7.6757812, -3.9941406, 5.8242188, 4.4960938, 2.4316406, 2.9550781, 1.8076172, 3.0273438, 4.0585938, 5.34375, -2.9863281, 2.3378906, -1.4716797, 1.5400391, 6.3007812, 5.0429688, -8.2578125, -4.96875, -0.25683594, 5.28125, -6.953125, -10.2421875, -0.39208984, -3.5488281, 2.0742188, 4.5703125, 3.5566406, -2.3984375, 5.859375, 0.27514648, 7.9335938, -6.4296875, -2.5332031, -5.0703125, -11.390625, 0.43774414, -6.9296875, -5.0742188, -19.484375, 5.1210938, 2.5234375, 2.5351562, 0.3564453, 6.9375, 3.9804688, -4.9179688, 1.6162109, -0.46704102, 3.0332031, -7.9882812, 4.046875, -9.6875, 6.0664062, 0.9316406, 4.4257812, -2.2597656, 4.2773438, -1.6796875, 2.6152344, -2.5742188, -2.1484375, -9.5390625, 6.203125, 2.7910156, 6.6914062, -5.5585938, 0.86865234, 11.234375, -4.1171875, 1.8027344, -4.8945312, 2.4960938, 4.140625, 0.9741211, -4.34375, 5.984375, 0.16125488, -12.875, 1.4580078, 2.703125, -3.4550781, 8.6796875, -1.0478516, 6.6210938, -42, -2.53125, 2.9433594, 0.26708984, 4.4453125, -6.4023438, 8.078125, 3.4785156, 3.0878906, 3.9902344, 6.0625, 0.23791504, -0.93652344, 8.234375, -2.9394531, -0.57958984, 9.5546875, 2.1640625, -4.484375, -16.703125, 0.61816406, 2.5878906, 8.4140625, 2.2949219, -3.9804688, -7.0429688, 2.375, 3.1035156, 2.1738281, 1.1523438, -5.5585938, 21.453125, 0.41918945, 0.3449707, -7.4960938, -5.5742188, -4.40625, 3.859375, 2.2109375, -0.7626953, -2.65625, 7.9140625, -0.3779297, -1.4921875, -3.2304688, 0.80078125, -2.7207031, 1.8740234, -1.6621094, -5.75, 10.21875, -26.5, -6.3085938, -1.7705078, 14.109375, 11.296875, 4.625, -10.7109375, -9.234375, 0.8808594, -6.6445312, 1.3173828, -0.3190918, -9.6875, -5.7773438, -8.046875, -1.7558594, -6.8710938, 0.81347656, -2.4238281, -8.3203125, -3.2558594, -7.015625, -8.0234375, -3.1523438, -1.0605469, -5.2226562, -0.60009766, -0.34960938, -14.125, 5.3125, 9.8671875, 7.046875, -8.2109375, 4.1953125, 1.3857422, -4.296875, -1.4433594, -6.2304688, 5.3515625, 14.7265625, -2.3378906, -0.94921875, 2.8710938, -1.7832031, -0.54541016, 12.5703125, -2.7753906]\n",
            "[-7.984375, 9.953125, -2.7148438, 13.171875, -2.5410156, 2.0234375, -0.9897461, 3.4375, 5.7226562, 5.6757812, -0.28271484, 1.8515625, 3.8359375, -5.9648438, -13.3125, 0.56103516, 9.25, 2.6289062, 10.328125, 9.1875, 8.4765625, 0.97558594, 3.328125, -3.1484375, 7.4453125, 7.2382812, -0.23962402, -3.8652344, 0.5961914, -5.9648438, -2.7324219, -6.6601562, 1.5126953, 4.8632812, -2.140625, 10.0703125, -3.3457031, 4.0195312, 0.20544434, 2.4277344, -1.7900391, -3.6308594, 4.9453125, -1.8916016, -3.6582031, -2.0039062, -9.8046875, -7.046875, -3.3027344, 4.0703125, 0.2454834, 4.2148438, -5.640625, 0.8222656, 8.15625, -8.734375, 5.3554688, -2.6503906, -8.296875, -1.4082031, 1.3007812, -0.6352539, 4.8945312, -6.90625, -8.0078125, -2.6269531, -2.9589844, -0.41088867, 0.6503906, 0.06713867, 3.3730469, -1.2734375, -1.2070312, -6.1445312, -0.37548828, -2.0175781, 0.6118164, -2.8847656, -2.8574219, 5.3007812, -1.8564453, -0.46484375, 1.8203125, -6.9335938, -4.03125, 3.4589844, -4.671875, -3.5996094, 0.91748047, 3.0175781, 3.6035156, -1.3291016, -5.2304688, -0.25854492, 0.10510254, -5.8476562, 11.59375, 0.6870117, 1.9296875, 0.65283203, -0.7216797, -3.7578125, -3.3046875, -1.7597656, 0.3010254, 4.3867188, -1.5839844, -1.1914062, -2.8242188, -8.078125, -6.1367188, 1.8691406, -4.0429688, -3.7753906, 7.453125, -0.36621094, 1.6855469, 1.8339844, 2.4238281, 9.9453125, 4.3789062, -4.0507812, 5.9609375, 3.390625, 9.046875, 0.2130127, 1.3076172, 2.0605469, 3.1992188, -2.7402344, 0.09429932, 2.3007812, -0.59277344, -3.2675781, -4.7070312, 4.3046875, -0.11029053, -3.125, 10.625, -1.1357422, -3.359375, -1.5517578, -11.265625, -2.1386719, 0.63964844, 6.9179688, -6.5429688, 3.84375, -2.5878906, -7.9570312, 5.0898438, 2.0898438, 1.8095703, 9.9921875, 0.56347656, -0.6713867, -3.9960938, 3.671875, 1.8232422, -9.2734375, 2.7871094, -7.8632812, -8.21875, 3.03125, 1.8173828, -1.4414062, -13, 7.171875, -5.2265625, -1.1630859, -5.25, 9.421875, -1.4189453, 4.4804688, -1.3164062, -4.0351562, -4.953125, -0.8466797, -3.3925781, 3.5566406, -0.9819336, -4.9414062, -6.2890625, 2.4394531, 5.0664062, -2.4472656, 10.171875, -1.2421875, -0.47338867, 4.1171875, 0.6899414, -5.7148438, 6.390625, 4.2539062, 0.54541016, -1.8251953, 5.0195312, -3.8261719, -2.1367188, -0.26708984, 4.4140625, -1.3369141, 9.125, 13.09375, 4.453125, 10.234375, 2.4023438, 0.60546875, -1.4707031, 4.546875, 5.2617188, -8.0390625, 7.3710938, -5.6640625, 5.5195312, -2.4355469, -5.1875, -12.9453125, 6.3242188, 8.2109375, -5.4765625, 0.07104492, -1.2568359, 2.6484375, -3.7089844, -10.1875, -0.42089844, -4.5, -7.484375, 8.3359375, 12.3984375, -4.2265625, -2.0039062, 4.5664062, 1.1894531, -0.4963379, 8.1171875, 4.0117188, 7.875, -1.5458984, 4.1601562, 2.9550781, -3.9296875, 5.0898438, -9.40625, -0.7705078, 2.8691406, -0.114868164, 0.36206055, 2.1464844, 2.2285156, -3.078125, 4.84375, -9.7109375, 1.3730469, 0.8598633, -12, 4.828125, 6.4804688, 11.0703125, -8.125, 3.4863281, -4.6835938, -6.2851562, -3.1542969, 1.4052734, -3.7363281, 3.7011719, 4.3125, 6.9335938, 4.2226562, 4.4101562, -2.7011719, -0.62841797, -3.5664062, -2.4609375, -1.0175781, -4.8515625, -5.9648438, 3.0976562, -6.2578125, 8.3125, -1.3261719, -13.1796875, 9.0234375, 9.015625, 7.1601562, 2.3710938, -0.60058594, 4.1210938, 1.8535156, -6.453125, -2.515625, -31.875, -3.4628906, 2.78125, 11.3125, -3.1738281, -3.2695312, -4.2382812, -1.0800781, 19.953125, -3.2890625, 1.0410156, 1.1162109, 3.9707031, 5.7773438, 5.328125, 5.6289062, -3.9550781, -7.1210938, 2.0136719, -5.7890625, 2.3300781, -2.65625, 0.27929688, -4.265625, -5.9804688, -2.6992188, 0.79541016, 0.23046875, 4.5351562, 6.2578125, 15.03125, -6.4453125, 2.7714844, 6.4296875, -7.2421875, 2.6894531, 5.0390625, -4.1328125, -0.5258789, 2.8085938, -5.5625, -3.6230469, 5.3242188, 3.4316406, -3.8085938, -3.859375, -5.9648438, -6.7265625, 4.9179688, 3.6210938, 0.44873047, -0.64941406, -8.6875, -0.08782959, -13.140625, 11.703125, 1.8701172, 0.8798828, -4.3710938, 4.9921875, 2.1621094, 5.6132812, 4.4179688, -1.0205078, -2.3710938, 2.4609375, 1.9130859, 4.6054688, 0.24035645, 6.0351562, 9.1171875, -2.2929688, 7.53125, -0.8876953, -0.80371094, -12.6171875, -5.9257812, -5.4257812, 1, -11.875, -2.8496094, -8.0078125, 10.390625, 4.5859375, -1.9990234, -9.21875, 4.4414062, 5.625, 2.4472656, -6.5546875, -4.0546875, 5.3476562, -0.8701172, 2.0507812, 1.2119141, 10.8359375, 4.9179688, 2.9960938, 6.671875, 1.8027344, 1.6982422, 1.4335938, 5.0507812, -2.4628906, 7.9960938, -3.4101562, -8.9375, 1.2646484, -16.3125, -2.7695312, 7.9375, 2.4375, 6.09375, -7.6210938, 3.3535156, 5.9296875, 2.3847656, -1.0478516, -9.390625, 3.3378906, -3.2011719, 4.2304688, -1.40625, 6.1835938, -4.3203125, 3.7929688, -2.8828125, -6.3867188, -2.2480469, 3.4511719, 4.8554688, 13.109375, -6.171875, -3.3183594, -1.4980469, -1.3144531, -9.6328125, -7.7539062, -1.7324219, -1.4501953, 4.9804688, -0.61328125, -14.4140625, 2.625, 4.1132812, 13.34375, -2.8945312, 10.0703125, 9.609375, 4.6523438, -4.3984375, 1.015625, 0.40673828, -3.0566406, 7.078125, 5.546875, 6.0234375, 2.7128906, -6.0742188, 1.1523438, 0.3840332, 9.609375, -0.1159668, 2.7753906, -1.6601562, 5.5820312, -5.1132812, -2.7851562, 7.9765625, -4.875, -1.9658203, -11.53125, -6.9804688, 4.2382812, -1.1904297, 0.9760742, -0.37426758, 12.84375, 3.3789062, -3.1210938, 4.71875, 2.4433594, 3.7851562, 2.3847656, 1.4111328, -1.9013672, 10.2421875, -9.6015625, 6.9179688, 1.4248047, 0.3479004, -6.1132812, -10.4609375, -0.5234375, 6.59375, 1.4667969, -4.1445312, 4.3242188, -2.5527344, -5.5859375, 1.0566406, 10.6328125, -2.6503906, 6.7890625, 2.0566406, 3.0136719, -17.390625, -3.9667969, -3.9511719, -0.72558594, 0.8676758, -7.3984375, -2.9160156, -4.09375, -0.7524414, 3.1640625, -2.6113281, 3.9433594, 6.0507812, -4.3164062, 7.0390625, 5.59375, -4.984375, 3.0097656, 1.0693359, 2.96875, 6.6484375, 11.65625, 1.15625, -3.3066406, -0.3515625, 1.2011719, -3.8613281, 5.5703125, -5.3046875, 3.5839844, -5.8515625, -12.953125, -1.6826172, 3.1445312, 4.0078125, -7.4257812, -5.6054688, 3.6679688, 2.96875, 4.5625, -3.3828125, 7.8085938, -1.0800781, 1.6386719, 2.9960938, -2.9355469, -2.8203125, -0.7973633, -3.53125, 0.85791016, 1.6640625, -4.4101562, 1.0478516, -2.5585938, -4.9257812, -1.6181641, -7.3320312, 5.5351562, -0.73876953, 3.3222656, 0.70166016, -0.1138916, -4.2382812, -1.1425781, -2.7714844, 10.7578125, 11.1796875, 9.21875, 1.4521484, -20.703125, 5.8789062, -6.78125, 2.375, -3.1757812, 6.5625, -3.78125, -7.3476562, 2.0410156, -6.953125, -3.46875, -3.9042969, 0.6303711, 2.9667969, -4.6289062, -12.3359375, -1.2412109, -7.3554688, -5.5859375, -4.9882812, 3.4453125, 10.234375, 2.9414062, -2.8691406, 8.8359375, 4.7851562, -7.078125, -0.3701172, -4.5, 4.4023438, 4.6289062, -2.7773438, 3.1035156, 2.0195312, -1.7333984, 0.076660156, 6.0585938, 6.0507812, -1.5703125, 0.3022461, 1.6269531, -10.515625, -0.9584961, 1.9433594, 12.0546875, -2.1015625, 5.890625, -2.6796875, -1.0410156, 4.4375, 0.084350586, 3.0644531, -9.4921875, 4.9296875, -2.7832031, 6.9140625, 1.1689453, -2.0820312, 6.3945312, -6.984375, 12.0390625, -6.9882812, -0.51708984, 3.7949219, 4.9648438, 2.65625, -4.859375, -9.5, 1.5322266, 1.4326172, -13.65625, -3.9394531, 5.5703125, -5.9296875, -1.8193359, 0.96484375, 3.1425781, 6.6796875, -5.1757812, 1.1005859, 7.2070312, -0.47607422, 9.921875, 2.7285156, -5.4882812, -0.7993164, 1.3105469, -0.56152344, -3.4804688, -5.7695312, 7.4960938, 0.4104004, 2.3339844, 0.93310547, 1.3310547, 6.375, -1.0546875, 3.4746094, 2.8144531, 3.3457031, -3.7792969, -2.0839844, -3.4492188, 8.6328125, 1.1660156, 3.1542969, -4.8476562, -4.1757812, 6.3320312, 2.6757812, -3.9316406, 1.2666016, 3.9238281, 7.7265625, 3.1640625, 2.1660156, -8.9765625, -15.921875, 0.3269043, 2.1054688, -0.20495605, 1.9472656, -0.064086914, 4.7695312, -16.5625, -7.703125, 1.7578125, 6.5664062, 2.3828125, -9.0078125, -7.0234375, 5.3984375, 1.5917969, 8.078125, -8.5546875, 12.1875, -8.4609375, 6.1796875, -1.9121094, 2.8808594, 6.9296875, -0.9614258, 3.7167969, 2.3964844, 13.8203125, -5.0273438, 1.3447266, -7.6953125, -1.1738281, 5.6289062, 0.20898438, 7.8242188, -8.3984375, 15.3046875, 2.8652344, -4.6132812, 5.7695312, 5.6328125, 4.1367188, -8.2265625, -8.59375, -7.6523438, -0.7055664, 1.6201172, -0.7050781, 4.3320312, 1.0693359, -3.0917969, -5.0742188, 3.5117188, -5.7929688, 4.3203125, 5.2304688, 7.2773438, 0.42114258, -3.7558594, -4.5625, 5.5585938, -2.0976562, -2.9316406, 2.2558594, -0.29785156, 4.375, 1.078125, 6.9726562, 9.859375, 0.9223633, 2.1894531, 3.875, -9.03125, -12.3359375, 4.765625, 11.0390625, -2.5527344, -3.2558594, 1.3876953, -2.6503906, -10.21875, 5.53125, 3.2070312, -4.015625, 6.8515625, 0.46850586, 6.9570312, 1.3710938, -1.2890625, 5.6679688, 2.0820312, -6.7148438, -4.7226562, 8.3125, 0.8569336, 4.4257812, -2.703125, -3.0234375, -0.17773438, 2.6796875, 3.8144531, 5.796875, 2.71875, 6.4140625, 0.40551758, 2.3183594, -3.3339844, 4.8632812, 4.328125, 2.359375, 2.3730469, 9.875, 10.328125, 8.3515625, 3.25, 8.0859375, 0.8105469, -13.3828125, 1.1728516, -9.203125, -2.2871094, -14.296875, -3.0742188, -0.17651367, -1.7519531, -3.4863281, -15.125, 3.2597656, 3.15625, 15.5234375, -0.88183594, -9.6328125, -0.55029297, -7.7304688, 0.04284668, -4.8984375, -4.6484375, 7.6679688, -0.79785156, 8.515625, -7.2109375, 3.7109375, -1.4082031, 2.2597656, 5.4726562, -2.7636719, 4.2773438, 2.0078125, -5.6640625, 12.7578125, 0.7001953, -6.2578125, 1.2724609, -1.0566406, 9.34375, 1.5253906, -7.8867188, -10.2890625, -2.2871094, 7.703125, 2.3652344, 3.421875, 3.8242188, 1.0019531, 4.6914062, 0.22802734, 3.6777344, -1.8232422, -2.0371094, -3.9824219, 4.8398438, 9.6328125, 5.4023438, -3.703125, -5.4648438, -3.75, 1.2451172, -3.546875, -6.2382812, -6.4179688, -4.3320312, 6.1171875, 3.3027344, 1.5224609, 0.12243652, -2.0019531, 1.3525391, 6.1328125, -4.1796875, 2.3925781, -8.8125, -16.515625, 3.5351562, -3.8515625, -4.171875, -14.2265625, 7.625, -6.484375, 0.63720703, -1.0908203, 4.6328125, 5.1289062, -5.7695312, 1.1660156, -0.84716797, 1.875, -4.5859375, 0.46435547, -11.546875, 6.1953125, 2.9609375, 7.9570312, -2.8964844, 5.3085938, -0.42797852, -3.6035156, -0.66845703, 3.4101562, -10.84375, 9.78125, 4.0976562, 6.3242188, -5.6445312, 4.5898438, 12.1953125, -4.9492188, 2.5722656, -5.734375, 5.9921875, 2.921875, 4.15625, -6.8515625, -1.9365234, -0.20495605, -15.65625, 0.24487305, 2.2304688, -8.1171875, 6.265625, -2.84375, 5.5820312, -38.5625, 0.69189453, 2.7070312, -5.4414062, 6.609375, -2.8378906, 4.7148438, -0.06719971, 3.9082031, 5.3203125, 4.671875, 3.1230469, 1.0585938, 9.953125, -2.3984375, -0.023361206, 3.6289062, 0.7993164, -4.0078125, -13.5234375, -4.4179688, 1.90625, 17.65625, 0.32470703, 1.5478516, -10.9375, 0.05508423, 2.1425781, 4.140625, -5.8671875, -4.5, 22.859375, 0.5576172, -1.0292969, -4.9804688, -5.4882812, -2.4023438, 4.7539062, -0.8457031, 0.26123047, -5.2109375, 6.3789062, -0.6254883, -2.5722656, -3.5507812, 3.7675781, -2.0800781, -0.5957031, -6.3828125, -7.6484375, 9.4765625, -22.84375, -7.1601562, -1.5830078, 9.265625, 8.1484375, 6.3671875, -9.625, -6.1523438, -0.66845703, -4.9023438, -2.2597656, 3.3125, -8.4765625, -2.4648438, -9.7890625, -2.75, -1.3173828, -0.05697632, -2.7792969, -6.3398438, -6.1484375, -6.7890625, -3.2207031, -6.6757812, -1.3212891, -6.8867188, -4.453125, -5.3671875, -13.5234375, 2.859375, 6.5859375, 8.4140625, -8.515625, 6.7109375, 3.6503906, -0.8598633, -0.37475586, -2.96875, 8.7890625, 12.84375, 2.3046875, -4.3867188, 4.0507812, 3.1914062, -1.5244141, 9.2421875, -3.109375]\n",
            "[-2.984375, 8.921875, -1.8720703, 11.3984375, -1.953125, 4.0859375, 1.0742188, 3.2460938, 7.7851562, -2.0390625, -1.7294922, 1.3261719, 1.0244141, 7.3671875, 0.9448242, -2.1191406, 2.4746094, 5.953125, 5.0898438, 9.703125, 1.4140625, -2.2929688, 3.5605469, 0.107055664, 9.0234375, 2.8105469, 6.53125, 2.1894531, -1.4287109, -2.1113281, -6.1171875, -9.3984375, 5, 5.7734375, 4.4492188, 4.2851562, 2.4472656, 0.6435547, -3.2226562, 3.4179688, -5.6054688, -9.6015625, 3.4492188, -2.2832031, -4.2304688, -4.3984375, -9.671875, 2.2539062, -6.8984375, -1.1289062, 7.703125, 3.9492188, -1.3789062, 3.9882812, 2.9570312, -10.8203125, 3.5703125, -1.3583984, -6.90625, 6.34375, -2.125, 4.6992188, -0.67089844, -3.9941406, -7.9375, -1.4404297, -4.0546875, -1.2412109, 2.90625, 3.7617188, -1.2460938, 0.01626587, -1.1777344, -8.109375, -4.8867188, 5.3945312, 3.390625, 0.12731934, 2.6210938, -0.6669922, -4.5078125, -1.28125, -0.014595032, -10.1640625, -5.0703125, 6.984375, -9.0859375, -3.359375, 0.2836914, -5.7070312, 5.5898438, 0.33251953, -6.0976562, -1.3652344, -5.1640625, -3.3769531, 6.5625, 2.8164062, 0.3894043, 5.6835938, 1.9755859, -5.0039062, -3.9570312, -3.5195312, 2.90625, 9.5078125, -2.46875, -4.7226562, -4.7617188, -2.7617188, -2.4726562, 6.9414062, -0.47460938, -3.4550781, 10.96875, 1.8105469, -2.1582031, 10.3984375, 4.3046875, 12.7890625, 2.7265625, -2.2207031, 1.9482422, 0.1159668, 3.1132812, 3.8808594, -2.2636719, 0.91748047, 2.9257812, -4.0273438, 5.6640625, 1.6816406, 5.9375, -1.3183594, -2.2871094, 5.4648438, -7.4921875, 2.8046875, 10.4765625, -3.4023438, 5.5625, 4.140625, -4.09375, -2.0898438, 6.6640625, 4.4101562, -5.6601562, 3.6875, -6.890625, -4.6523438, 2.9238281, 2.8222656, 7.8007812, 15.328125, -0.51660156, 0.38842773, -3.1601562, 0.0602417, -1.6308594, -6.0625, 1.1386719, -0.5708008, -8.34375, 3.4023438, 4.8515625, 4, -14.3984375, 3.1855469, 0.63134766, -4.0429688, -7.8085938, 11.0234375, -4.328125, 5.2070312, -1.7050781, -6.3398438, -1.1806641, -3.7714844, -11.5234375, 4.9375, 3.1738281, -0.18518066, -0.3239746, 1.6464844, 9.28125, -3.6171875, 8.96875, 0.59716797, -4.7578125, -0.80078125, 2.828125, -3.9667969, 7.7304688, 0.39990234, 0.19189453, 5.1289062, 4.9648438, -8.9296875, -11.1015625, 2.5292969, 6.9335938, -6.9492188, 5.2539062, 9.5859375, 2.3671875, 11.0859375, 1.4306641, 3.8828125, -3.3203125, 0.55859375, 8.5, -8.6328125, 4.1523438, -7.5078125, 3.2753906, -1.2197266, -8.7890625, -16.34375, 4.2226562, 15.9609375, -3.265625, -0.6411133, -0.051940918, 1.0927734, 1.4853516, -8.125, -1.8398438, -3.4511719, -4.7539062, 5.9765625, 7.65625, -7.0234375, -0.7553711, 9.5390625, 5.3945312, -0.041259766, -1.71875, 8.2734375, 5.9960938, 0.8183594, -1.5400391, -2.8867188, -4.0742188, 2.5136719, -4.8125, -0.98876953, 5.0390625, -5.8828125, -0.37060547, 9.921875, 2.5039062, 0.04071045, 7.7226562, -6.34375, -0.24438477, 4.6796875, -12.484375, 7.2734375, 6.2539062, 6.859375, 3.3125, 5.4453125, -3.7402344, -7.6796875, -2.84375, -0.32885742, -3.9960938, 9.09375, -0.033569336, 0.49560547, 2.1953125, -0.72509766, -2.484375, 0.67041016, 4.609375, -1.4228516, 2.1835938, -8.125, -6.21875, 3.1816406, -0.63183594, 12.2734375, -2.1601562, -10.703125, 3.2246094, -1.1181641, 6.4140625, 7.3359375, -6.5507812, 1.5761719, 4.765625, -3.3417969, -3.8417969, -33.09375, 3.0332031, -6.7226562, 10.1953125, -1.2705078, -1.546875, -3.4375, 1.3896484, 14.25, -5.1367188, -3.34375, 3.2519531, 2.0195312, 2.9746094, 7.3867188, 2.1875, -3.0234375, -6.234375, 1.9160156, 3.0761719, 3.0039062, -4.2304688, -7.2382812, 0.07159424, -5.8398438, -3.234375, -0.037353516, 3.0429688, -2.3027344, 8.71875, 8.5390625, -7.9453125, 3.7753906, 6.96875, -6.2148438, 2.9804688, 0.77490234, 4.703125, 5.875, 4.734375, -5.203125, -2.9121094, 1.4472656, 0.10272217, -1.34375, -2.8886719, -8.8125, 0.109313965, 4.7382812, 3.3164062, 2.9160156, -2.7070312, -4.2460938, 1.2919922, -7.1875, 11.078125, 9.1875, -2.6933594, 1.9365234, 4.8632812, 3.5234375, 7.8984375, 1.2138672, -3.0703125, -4.8515625, 8.5234375, -1.4248047, 8.15625, -0.61376953, 5.7539062, 4.5039062, 0.39453125, 8.3671875, 1.1494141, -6.78125, -11.8046875, 3.3144531, -5.265625, 2.2265625, -3.1777344, -2.1152344, -5.4140625, 5.4101562, 5.046875, 7.9570312, -11.21875, 6.1914062, 10.8203125, -4.0625, -3.5234375, -7.6953125, 6.4609375, -2.8144531, 2.3164062, 0.40405273, 5.84375, 9.796875, 8.09375, 7.8789062, 5.8515625, 2.046875, -0.90625, 12.5234375, 1.0810547, 5.7773438, -1.8105469, -6.1757812, -2.9453125, -12.140625, -1.4179688, 8.4453125, -2.3457031, 3.3242188, -10.171875, -5.5898438, 6.265625, 1.1240234, 0.67822266, -9.140625, -0.2631836, -8.546875, -1.7998047, 0.35913086, 4.8789062, -2.8945312, -2.1210938, -7.3554688, -4.5585938, -5.5585938, 5.1484375, 6.7539062, 10.1015625, -4.53125, -4.4804688, -7.4609375, -3.2792969, -4.9414062, -12.390625, 2.6445312, -5.6835938, 6.8867188, -0.62939453, -10.6953125, 5.2695312, 5.1679688, 8.40625, 0.9770508, 10.09375, 10.9140625, -0.8720703, 0.5541992, 5.6875, -3.6796875, -5.4140625, 6.890625, 1.7177734, 4.6992188, -5.6679688, -3.9296875, 1.1015625, 0.00042057037, 4.9140625, 2.2382812, 3.0800781, -0.71484375, 4.8867188, -8.4296875, -1.828125, 6.7070312, -6.5546875, 1.6015625, -9.2890625, 2.2929688, 1.5166016, -6.421875, -1.1083984, 2.4433594, 6.53125, 8.5859375, 1.75, 4.21875, 5.1914062, 4.3554688, 5.5351562, 0.18701172, 1.1660156, 8.1953125, -3.1152344, 10.90625, 0.031433105, -5.8398438, -5.9101562, -9.15625, -2.8125, 0.4963379, 1.2841797, -3.6210938, -1.5517578, -3.7246094, -5.578125, 1.390625, 12.1953125, 0.2915039, 0.97558594, 1.6123047, -1.3144531, -18.34375, -4.0898438, -8.609375, -2.1152344, 7.2460938, -2.1855469, -0.75927734, 2.2402344, 3.5273438, 4.9492188, -3.1621094, 1.8730469, 5.1015625, -5.8242188, 8.21875, 0.62841797, -3.3789062, 0.16906738, 2.3183594, 5.6484375, 5.7265625, 8.90625, -2.1132812, -1.4042969, -0.10192871, 1.0097656, -4.328125, 2.1816406, -3.2636719, -0.296875, -8.109375, -16.359375, 0.59375, 1.1328125, 1.6357422, -5.171875, -8.3515625, 2.0058594, -1.703125, 0.39501953, 0.3503418, 13.03125, -0.7949219, 0.59228516, 1.6503906, 0.9272461, 1.6337891, -1.8203125, -5.0078125, -1.3818359, -7.5351562, -5.2929688, 3.0820312, 0.0099105835, -8.359375, 2.21875, -5.703125, 4.9726562, 3.8398438, 1.3632812, -1.8017578, 2.9804688, -11.3125, -5.3632812, -10.0234375, 7.3554688, 2.2207031, 8.015625, -1.4902344, -25.890625, 2.1367188, -12.609375, 4.2734375, -3.6113281, -1.2890625, -4.0117188, -5.546875, 1.8564453, -6.7226562, -3.3691406, -4.6210938, -6.0117188, 5.2890625, -2.8144531, -9.8515625, -6.28125, -9.9375, -2.5410156, -1.8359375, 2.7089844, 9.78125, -4.7695312, 2.03125, 8.1171875, 14.2578125, -4.21875, -1.7158203, -0.9194336, 3.875, -0.121154785, 1.3857422, 2.1855469, 4.2617188, -0.080566406, -1.8652344, 6.2148438, 5.3945312, -6.1679688, 0.7441406, 1.4716797, -11.7421875, -4.9609375, 7.4648438, 7.796875, 0.5048828, 6.1601562, -6.6328125, -3.8710938, 4.6953125, -1.6435547, 6.4648438, -12.0703125, 3.2363281, -9.1953125, 0.62597656, 2.578125, -2.7929688, 5.7617188, -3.6269531, 15.7265625, -7.0976562, 3.453125, 6.03125, 0.47851562, 4.15625, -0.59375, -8.078125, -6.5234375, 2.9570312, -6.2617188, -3.6601562, 6.5429688, -1.8730469, 2.9257812, -0.46557617, 3.9453125, 3.609375, -2.7617188, 4.03125, 3.4003906, 0.68359375, 10.0703125, 3.8378906, -6.9101562, 0.6743164, 2.9140625, -0.5541992, -4.4726562, -4.921875, -1.0878906, 7.4453125, 12.9609375, -2.7910156, 2.5410156, 12.140625, -2.0742188, 5.0703125, 1.4355469, -4.1757812, -2.6191406, -2.2363281, -2.6269531, 3.7949219, 9.3984375, 1.8164062, -1.3037109, -6.5234375, 1.1357422, -3.7695312, -3.1464844, 5.3398438, 1.1152344, -2.9609375, -2.2070312, 6.296875, -5.2304688, -9.859375, -2.890625, 3.6621094, -0.6767578, 1.2197266, 0.3647461, 3.7363281, -9.2890625, -5.6289062, 1.1113281, -3.4511719, 8.03125, -9.59375, -5.90625, 3.0234375, 7.8710938, 5.1757812, -0.21704102, 11.625, -3.0136719, 10.2578125, -3.1054688, -1.9423828, 9.5625, -4.1953125, 2.0390625, -1.0449219, 10.3515625, 8.5703125, -2.2285156, -2.0585938, 2.1601562, 12.953125, 0.27172852, 8.8828125, -7.3789062, 7.8671875, 7.9179688, -2.8320312, 1.5449219, -0.5131836, 1.6552734, -5.15625, -5.4296875, -7.8828125, -8.3671875, -0.8408203, -8.421875, -0.007091522, -2.6621094, -0.18640137, -1.4423828, 4.796875, -12.296875, 4.140625, -0.59033203, 14, 4.4296875, -4.1210938, 2.1992188, 6.90625, -1.4189453, 5.0585938, 2.5292969, 2.9472656, 10.4609375, -3.9042969, 4.3085938, 8.6484375, -4.7617188, 2.7558594, 1.1103516, -7.1640625, -11.0859375, 7.7460938, 4.65625, 0.33642578, 1.3867188, -3.375, -0.52197266, -13.6640625, 6.9101562, 3.5703125, -10.15625, 5.875, 0.57714844, 4.7695312, 0.67578125, 3.28125, 3.8125, 3.3320312, -4.3671875, 1.6953125, 4.671875, -3.8925781, -1.4228516, -1.7275391, 7.9648438, 0.9160156, 4.7851562, 4.6445312, 10.515625, 3.15625, 1.6152344, 4.40625, -5.1210938, -2.5273438, 2.4199219, 2.7890625, 4.3632812, -5.4335938, 8.71875, 11.125, 4.265625, 3.59375, 3.5898438, -3.6152344, -10.1171875, 1.8652344, -9.1484375, -2.2617188, -12.03125, -6.96875, 2.2792969, 3.7910156, -6.5546875, -10.6796875, -4.4179688, 2.875, 11.2265625, -0.9604492, -10.890625, 3.1972656, -1.0634766, -3.7421875, -2.0957031, 2.5214844, 13.65625, -7.2851562, 6.0195312, -3.1171875, 0.45385742, -5.0351562, 7.390625, 8.9140625, -5.8398438, -0.038848877, -4.8046875, -5.1835938, 9.75, 5.4453125, -2.3222656, 4.4882812, -0.64404297, 3.9570312, 6.5117188, -0.18640137, -11.3125, -3.3710938, 7.4609375, 6.109375, -1.2851562, 3.28125, -1.8671875, 4.1757812, -0.02798462, 5.2578125, -1.4589844, -0.33764648, -1.5595703, -0.30444336, 11.9375, -1.2929688, -10.65625, -10.984375, -2.4941406, 2.9335938, 1.7216797, -2.0742188, 0.14929199, -4.4335938, 3.2636719, 6.3125, 2.1210938, 3.0292969, -1.3046875, 0.9423828, 2.5, -5.6640625, -2.9882812, -4.6679688, -14.34375, 2.8261719, -9.90625, -3.4199219, -15.125, 2.9589844, -1.0351562, 4.1835938, -3.8476562, 4.546875, 6.34375, -12.703125, -2.4394531, 3.5234375, -2.4960938, 0.20812988, 1.8515625, -9.4765625, 1.4580078, -2.0449219, 4.6445312, -5.2421875, 2.328125, -0.19067383, -4.046875, 3.5585938, -4.0625, -8.6328125, 4.5585938, -1.9414062, 6.78125, -6.3007812, 6.9101562, 8.7890625, 1.671875, -0.21972656, -6.7695312, 2.0800781, 1.5361328, -2.671875, -7.2421875, 2.9628906, -3.7226562, -13.453125, -2.1132812, 5.3710938, -5.4570312, 2.5625, 3.40625, 3.3242188, -43.53125, -5.0351562, 3.5644531, 1.6542969, 10.390625, 2.8769531, 2.9589844, -0.06060791, 5.6015625, 5.09375, 2.2714844, -0.8027344, 0.71191406, 7.7265625, -2.9023438, 3.6757812, 6.8398438, -3.5957031, -4.3671875, -14.546875, -0.6982422, 0.7207031, 4.3007812, 3.09375, -2.9511719, -9.2421875, 1.4648438, 3.9414062, 1.1826172, -0.025894165, -3.3808594, 16.78125, -3.859375, 2.8691406, -2.1035156, -4.4101562, -2.3769531, 11.2890625, 2.3632812, -5.0546875, -4.4335938, 8.0078125, -4.8554688, -9.7578125, -0.5024414, 8.15625, 1.1044922, 3.0605469, -0.47094727, -6.8164062, 10, -21.59375, -0.32421875, -2.453125, 8.078125, 10.6015625, 4.859375, -1.9970703, -5.9648438, -2.6914062, -2.6660156, 0.5942383, 0.9580078, -4.5078125, -7.1601562, -7.7148438, -5.625, -4.1289062, -1.7109375, -3.375, -11.1328125, -8.796875, -4.5039062, -7.0742188, -9.171875, 1.6318359, -0.9638672, 1.1601562, 0.7084961, -8.625, 3.125, 4.546875, 8.140625, -7.84375, 7.3984375, -1.5810547, -3.6855469, -1.0664062, -3.8535156, 3.2578125, 20.1875, -2.8925781, -4.21875, 1.1904297, 1.2099609, -5.1914062, 8.90625, -1.2294922]\n",
            "[-4.0117188, 7.171875, -1.5175781, 7.1445312, -0.68115234, 5.1015625, 1.6621094, 2.6386719, 7.125, -1.4755859, -2.8632812, -0.4753418, 2.0488281, 8.4296875, -2.2792969, -0.5390625, 4.1523438, 7.9414062, 4.796875, 9.75, -0.03994751, -2.59375, 4.2148438, -0.75878906, 8.7578125, 4.0507812, 8.96875, 4.15625, 1.2148438, -3.0273438, -6.1132812, -10.2421875, 3.5996094, 5.9023438, 4.578125, 2.7617188, 4.4648438, 2.0976562, -2.8144531, 1.8837891, -3.296875, -9.390625, 2.9296875, -3.65625, -0.4453125, -2.8554688, -10.953125, 0.69873047, -8.0859375, -2.1933594, 8.0390625, 0.37426758, -1.4912109, 5.2226562, 5.4609375, -10.5546875, 6.0351562, 0.7241211, -7.7382812, 7.9960938, -3.6035156, 6.1328125, -1.2675781, -2.5292969, -7.4414062, -2.5644531, -5.5429688, -2.1484375, 2.0625, 5.90625, -0.86865234, 0.89746094, -2.90625, -9.078125, -6.0898438, 0.42504883, 2.2792969, -1.9628906, 1.3886719, -0.7841797, -2.8984375, 0.5673828, -1.4785156, -7.5507812, -5.9296875, 6.140625, -7.9648438, -0.20776367, 0.26293945, -4.3984375, 6.0429688, -0.66503906, -8.8515625, -1.8007812, -2.5742188, -6.0976562, 6.9921875, 0.86572266, 1.9189453, 5.328125, 0.32202148, -4.28125, -1.078125, -6.5625, 3.6210938, 11.953125, -4.2460938, -2.0175781, -3.0585938, -2.3125, -0.8852539, 7.1679688, -2.0703125, -2.4882812, 11.3203125, 2.9472656, -0.08648682, 9.4375, 5.7539062, 12.9140625, 2.4042969, -1.8007812, 0.28149414, -2.0078125, 2.2304688, 2.3085938, -2.0527344, 2.2695312, 2.6640625, -2.421875, 6.3398438, -0.8276367, 5.8164062, -1.2568359, -0.74902344, 2.28125, -7.875, 2.828125, 9.3671875, -2.4726562, 6.1132812, 5.4375, -5.4882812, -2.1132812, 5.8085938, 7.7617188, -7.25, 4.0898438, -6.9609375, -4.921875, 2.2382812, 2.6152344, 5.828125, 15.890625, 1.8818359, 1.5830078, -4.8945312, -0.7548828, -0.42797852, -7.5742188, 1.4130859, -3.3476562, -9.171875, 4.7304688, 5.0039062, 3.3554688, -12.796875, 7.5, 2.453125, -2.0390625, -3.734375, 11.6328125, -5.5898438, 2.1894531, -4.1054688, -4.5117188, 1.7773438, -3.6621094, -10.9453125, 2.2792969, 3.4160156, 0.69189453, -0.8989258, 2.4570312, 11.125, -4.703125, 7.9140625, -3.1601562, -6.9492188, -2.4804688, 2.2304688, -1.7929688, 7.21875, 3.1035156, 0.5957031, 5.6171875, 2.9199219, -10.609375, -13.078125, 1.1318359, 6, -7.1953125, 5.4335938, 10.3984375, 1.7929688, 7.3046875, 2.5214844, 6.2460938, -5.2226562, 1.4228516, 8.5390625, -8.5546875, 0.8417969, -5.75, 4.3046875, -0.43920898, -10.1328125, -17.671875, 8.203125, 13.65625, -2.7519531, -0.6401367, 1.8759766, 0.97265625, 1.6464844, -8.0078125, -1.2685547, -2.3144531, -4.1796875, 8.0234375, 8.84375, -5.5585938, 0.44091797, 11.03125, 6.7734375, -0.9785156, -0.37451172, 6.6523438, 5.5273438, 3.0625, -3.2050781, -4.4101562, -4.46875, 3.1679688, -3.9257812, -0.33789062, 5.1601562, -4.8867188, -2.1933594, 8.6796875, 4.46875, 0.85009766, 7.6210938, -3.2871094, -0.31835938, 4.0546875, -13.515625, 5.9570312, 7.4101562, 5.4960938, 2.4863281, 6.2851562, -2.2636719, -8.7734375, -3.7773438, -2.2070312, -3.6835938, 6.5625, 1.7402344, 3.8007812, -1.0751953, 1.2744141, -3.1347656, 3.9277344, 5.6210938, -4.421875, 2.0214844, -8.7109375, -3.5195312, 2.5253906, -0.86279297, 11.921875, -1.2421875, -11.5234375, 1.6503906, -0.56396484, 4.109375, 7.0039062, -5.9257812, 3.2519531, 4.2890625, -4.7773438, -2.2597656, -33.25, 3.1835938, -2.2871094, 8.6015625, -0.8408203, -3.8964844, -3.3730469, -0.73876953, 11.75, -5.9804688, -3.3867188, 5.5195312, -0.06573486, -1.2675781, 6.3359375, 2.2539062, -2.5175781, -3.6289062, 0.89453125, 0.35546875, 3.2617188, -4.2734375, -5.2226562, 0.68310547, -4.421875, -2.7949219, -1.4853516, 1.1064453, -0.85302734, 8.953125, 9.9609375, -8.1171875, 2.2148438, 5.9023438, -4.5703125, 3.3066406, 4.0664062, 4.265625, 3.6191406, 4.0429688, -6.6757812, -3.2421875, 2.796875, 0.19299316, -1.859375, -1.2734375, -7.1523438, 1.6025391, 5.484375, 2.8085938, 5.8203125, -4.5351562, -2.4121094, 2.25, -5.1054688, 9.53125, 8.03125, -5.625, 2.734375, 3.0195312, 1.5351562, 7.5859375, -1.2324219, -5.8984375, -5.359375, 10.2734375, -1.4511719, 8.8125, -2.2558594, 6.1796875, 4.6835938, -0.95166016, 8.859375, -0.026107788, -7.84375, -12.1875, 3.8144531, -4.578125, 2.9335938, -2.6757812, -1.8867188, -5.3984375, 8.375, 2.0957031, 8.7421875, -12.171875, 5.5234375, 11.40625, -3.3632812, -5.1757812, -7.9023438, 8.265625, -0.99902344, 2.4746094, -3.0546875, 6.4492188, 9.03125, 5.5039062, 9.1015625, 5.0039062, 2.1582031, -0.5366211, 11.4140625, 0.21533203, 4.1484375, -1.4335938, -9.1484375, -5.1601562, -9.984375, 2.0976562, 7.8828125, -2.5820312, 3.5644531, -8.71875, -5.0742188, 7.4414062, 1.0888672, -2.1191406, -9.9765625, 0.014038086, -8.2421875, -1.7324219, 1.8554688, 3.0996094, -2.9785156, -3.8105469, -4.3242188, -3.2304688, -4.5117188, 5.328125, 9.46875, 12.8125, -4.9960938, -4.1054688, -7.1171875, -4.6992188, -4.78125, -13.2734375, 3.9824219, -5.5703125, 8.0859375, -0.43481445, -9.3671875, 4.1289062, 5.84375, 10.3359375, -3.1074219, 12.3828125, 9.2265625, -3.3691406, -1.0322266, 4.5195312, -4.5859375, -6.2929688, 7.3789062, 2.4941406, 2.1796875, -7.7460938, -3.5546875, 1.3144531, -0.21960449, 5.2578125, 1.7451172, 4.9804688, -0.26904297, 3.8886719, -8.6953125, 1.5986328, 6.6953125, -3.2734375, 2.1210938, -10.140625, 2.3144531, -0.004573822, -7.7890625, -1.4316406, 2.1992188, 4.6796875, 7.734375, 1.6777344, 2.8398438, 4.0078125, 4.734375, 7.0117188, 0.0803833, 2.0097656, 4.2382812, -1.0458984, 12.3984375, -1.6708984, -3.765625, -3.3847656, -9.625, 0.91259766, 3.1191406, 0.5175781, -2.0820312, 1.7685547, -1.6845703, -5.0507812, 1.9589844, 13.4296875, 0.9248047, -0.12719727, 1.1591797, -1.5703125, -20, -3.5371094, -8.734375, -0.84814453, 9.0703125, -1.4462891, 0.56933594, 1.2988281, 2.4902344, 5.9609375, -3.6269531, 3.0585938, 2.078125, -6.09375, 5.8476562, 1.1728516, -0.6152344, 0.008743286, 4.3242188, 6.9375, 5.2109375, 10.953125, -0.92285156, -1.4384766, -0.16003418, 1.5410156, -2.7734375, 2.4335938, -1.4072266, -0.88183594, -6.1210938, -17.046875, 0.4921875, 2.8476562, 0.7685547, -4.890625, -7.4921875, 3.0175781, -1.203125, 0.24816895, 1.0068359, 11.5703125, -1.1015625, -0.60546875, -1.7255859, 1.3115234, 1.9169922, -1.1982422, -5.4023438, -4.203125, -6.3984375, -3.640625, 4.0429688, 0.33398438, -7.9101562, 2.8613281, -8.34375, 5.703125, 3.8964844, -0.66552734, -4.2226562, 1.1533203, -10.984375, -4.84375, -10.0234375, 8.328125, 3.734375, 9.0078125, -1.8818359, -23.25, 3.0800781, -13.8515625, 3.5097656, -4.0429688, -1.3837891, -1.625, -7.359375, 2.6992188, -5.5703125, -3.2363281, -3.3203125, -4.0742188, 2.6074219, -1.9375, -10.328125, -4.2460938, -12.1796875, -3.4765625, -4.453125, 1.1113281, 5.9648438, -4.1210938, 1.6630859, 7.5078125, 13.078125, -4.0820312, -1.2841797, -0.13793945, 2.2050781, 0.828125, 3.4042969, -0.22644043, 5.03125, 1.5283203, -2.2226562, 5.8164062, 3.3417969, -8.0390625, 1.8232422, 1.9287109, -10.6953125, -4, 6.3320312, 8.125, 0.8432617, 6.171875, -6.0976562, -2.8789062, 4.8007812, -0.38110352, 5.4765625, -12.6875, 3.6953125, -8.984375, 1.7373047, 1.0957031, -4.203125, 4.6132812, -2.0410156, 17.078125, -7.3632812, 1.1728516, 8.0234375, 0.19616699, 1.1904297, 0.82373047, -8.875, -2.2910156, 0.7060547, -5.7226562, -2.9277344, 6.2890625, -1.0644531, 1.3710938, -0.3713379, 5.7890625, 5.9453125, -2.4765625, 4.7109375, 5.5078125, -0.28759766, 10.5234375, 3.1523438, -6.84375, -0.4453125, 2.7558594, -1.9277344, -2.765625, -4.5195312, 1.2294922, 6.5390625, 11.2890625, -4.2304688, 3.9453125, 10.2890625, -2.6289062, 2.9316406, -1.2734375, -6.703125, -2.1914062, -2.1738281, -3.6171875, 6.3554688, 10.3203125, 1.3789062, -2.9316406, -6.5703125, 3.9042969, -4.6640625, -2.2519531, 3.5332031, 1.3056641, -1.9199219, -3.7578125, 5.1132812, -5.9492188, -8.234375, -2.7460938, 2.0703125, -1.1269531, 0.5649414, 1.4902344, 4.09375, -8.3203125, -5.1835938, -1.6669922, -1.3007812, 11.796875, -8.4453125, -6.3515625, 3.3203125, 5.6171875, 5.8398438, -1.0517578, 11.09375, -3.7734375, 10.046875, -4.4257812, -3.2832031, 10.3125, -5.0976562, 2.421875, -2.1171875, 9.7109375, 6.5117188, -2.8632812, -1.9501953, 1.5205078, 11.703125, -0.25195312, 7.4414062, -9.0234375, 6.796875, 6.5117188, -5.9453125, -0.75341797, -0.16870117, 1.8193359, -4.546875, -5.3164062, -8.625, -7.0976562, 2.390625, -8.9609375, 0.11810303, -4.8789062, 1.7314453, -1.6425781, 4.3046875, -11.8671875, 3.6640625, -2.1640625, 13.21875, 6.7539062, -2.8789062, 1.5761719, 6.1015625, -1.6289062, 3.7636719, 4.2734375, 2.8085938, 11.5703125, -2.0585938, 5.4882812, 7.5664062, -3.9980469, 1.6201172, -0.2866211, -7.0078125, -8.90625, 7.8398438, 5.8671875, -1.8935547, 3.2050781, -1.0214844, -2.9023438, -15.046875, 6.328125, 2.6445312, -9.5390625, 6.3085938, 0.33032227, 3.15625, 2.9296875, 3.9414062, 2.2109375, 1.4863281, -4.7578125, -0.640625, 5.8203125, -3.8847656, -1.5429688, -2.0136719, 6.6679688, -0.30029297, 5.4453125, 5.984375, 12, 4.3632812, 2.5761719, 4.578125, -4.5195312, 0.95410156, 2.9824219, 4.1914062, 3.2324219, -4.3671875, 6.4335938, 9.34375, 5.5820312, 6.1953125, 3.2265625, -4.3828125, -10.0390625, 2.2324219, -9.6484375, -5.2890625, -12.34375, -6.2382812, 3.7910156, 4.0859375, -5.5742188, -10.3515625, -4.1289062, 4.0898438, 11.0859375, -3.7089844, -8.6328125, 4.0546875, -1.6816406, -3.15625, -4.6445312, 4.65625, 11.3828125, -4.6367188, 5.328125, -0.6040039, 0.9941406, -6.7382812, 6.7773438, 8.671875, -8.296875, -0.011772156, -3.6757812, -7.9453125, 6.3515625, 5.671875, -1.25, 2.7246094, -0.88183594, 6.1132812, 4.8984375, -2.4824219, -12.5546875, -4.6757812, 8.0546875, 5.3515625, 0.53222656, 2.7695312, -1.3554688, 2.4375, 3.40625, 6.09375, -3.0019531, -1.2675781, -0.046051025, -0.53027344, 11.65625, -0.4140625, -11.3828125, -11.09375, -3.5761719, 4.1132812, 2.2988281, -1.5869141, 0.13024902, -2.4316406, 3.46875, 8.234375, 2.7636719, 2.3027344, -0.068115234, 0.46069336, 3.984375, -4.6367188, -2.1777344, -3.8027344, -12.4609375, 1.6328125, -11.5390625, -5.0078125, -12.5390625, 4.2851562, -4.2421875, 4.5625, -4.375, 7.0507812, 5.140625, -10.8984375, -4.4023438, 4.1054688, -1.2285156, 0.02079773, 3.3085938, -9.265625, 3.9570312, -0.17504883, 2.7363281, -3.4609375, 1.6787109, -0.35205078, -3.8300781, 6.046875, -4.515625, -8.2734375, 4.140625, -3.0371094, 4.484375, -9.5859375, 5.5390625, 7.2460938, -0.70214844, 0.7055664, -5.484375, 2.3222656, 0.203125, -0.5229492, -8.46875, 3.3808594, -0.38720703, -12.34375, -1.390625, 7.0429688, -6.0078125, 1.5107422, 2.9609375, 4.9609375, -46.28125, -4.5664062, 4.8203125, 2.1386719, 8.4453125, 3.6796875, 3.3652344, -0.5942383, 7.5273438, 3.9628906, 5.0351562, 1.5029297, -1.4189453, 7.0585938, -2.5175781, 3.7597656, 7.1523438, -3.5605469, -1.4824219, -13.734375, -1.3466797, 0.7495117, 4.6367188, 4.8476562, -3.5449219, -7.7148438, 1.2089844, 3.3710938, 2.71875, -0.20263672, -3.0976562, 15.84375, -2.4804688, 2.2226562, -1.4853516, -4.1484375, 0.27026367, 10.21875, 2.6992188, -4.9335938, -6.390625, 4.9609375, -4.3476562, -9.4453125, -2.4257812, 9, -0.034301758, 2.3730469, -2.6542969, -6.8945312, 11.8515625, -20.125, -2.1289062, -1.5322266, 5.9960938, 11.9140625, 4.0429688, -2.40625, -6.6992188, -1.6972656, -3.0371094, 1.2246094, -0.19396973, -7.0234375, -6.1640625, -8.6171875, -5.75, -7.5039062, -1.0410156, -5.2421875, -11.390625, -10.140625, -5.6328125, -4.6640625, -8.40625, 3.578125, -3.7109375, 0.49731445, -1.0966797, -9.2890625, 2.859375, 7.1484375, 7.234375, -7.65625, 3.7988281, -3.1152344, -3.1347656, -3.2910156, -2.859375, 2.9570312, 20.421875, -2.8027344, -3.1894531, 3.3789062, 2.3710938, -0.42626953, 9.1328125, -2.8320312]\n",
            "[3.6757812, 2.1875, 0.4921875, 11.5546875, 0.2998047, -0.21118164, -4.296875, -3.0449219, 6.265625, 6.5078125, -2.6035156, 1.7929688, -0.53808594, -0.61376953, -4.046875, -4.34375, 6.1875, 6.984375, 9.6953125, 7.2617188, 5.265625, -0.41210938, -2.3164062, -0.375, 8.609375, 5.9960938, 5.390625, 5.8828125, -2.8476562, -2.2597656, -6.1054688, -6.1132812, 2.0566406, 11.4609375, -1.4277344, 0.19030762, 5.1875, 5.3828125, 0.12817383, -1.1835938, -4.4648438, -1.5908203, 3.9921875, -0.6870117, -3.2539062, 0.6328125, -11.8671875, -5.1640625, -9.65625, 1.9775391, 1.2861328, 7.7851562, -4.6015625, 3.8867188, 1.6269531, -8.953125, 2.9023438, -4.53125, -5.8945312, 1.1103516, -0.8701172, -0.6513672, -3.6367188, 2.8867188, -7.4453125, -6.7460938, -2.1835938, -3.21875, 1.5761719, -3.3945312, -0.4453125, 1.3105469, 0.42993164, -4.4296875, -5.5664062, 3.1523438, 6.7929688, 1.2324219, 2.9570312, 1.8544922, -2.9355469, -1.7998047, -1.1113281, -9.78125, 6.2421875, 2.3984375, -0.9785156, -11.203125, -6.5390625, -0.77197266, 2.609375, -3.6015625, 1.0078125, -1.5439453, -3.1953125, -4.4609375, 11.5, 1.9511719, 0.24511719, 7.7421875, 0.6953125, 0.81591797, -2.1933594, -1.8447266, -2.9472656, -0.77783203, -1.1601562, -6.7382812, -9.0234375, -4.3710938, -1.4726562, 9.75, 5.4453125, -1.6572266, 15.71875, -1.7490234, 1.3427734, 10.4453125, -0.86376953, 8.5625, 1.0214844, -2.0585938, 4.7070312, -0.5097656, 1.3730469, -10.6171875, 1.9785156, -2.2070312, -1.3320312, -1.1611328, 2.5546875, 5.3125, 2.125, -2.2578125, -0.36767578, 4.9726562, -3.796875, -0.43652344, 10.65625, 0.83984375, -2.046875, 3.3242188, -4.109375, -2.6328125, 5.125, 4.5703125, -4.1992188, -0.9501953, 2.8300781, -2.1464844, -4.984375, 4.3867188, 2.7207031, 11.375, -1.8642578, 4.84375, -3.4960938, -1.9414062, -1.5097656, -6.3320312, -4.296875, 0.040008545, -8.6875, 3.9980469, 3.4667969, 1.3974609, -10.765625, 3.59375, -4.546875, -7.4804688, -5.21875, 5.8242188, -3.3242188, 9.140625, 0.74658203, -2.8125, -4.7617188, -0.091796875, 0.18969727, 6.6679688, -3.0078125, 1.5039062, 0.32226562, 6.8398438, 1.5429688, -7.015625, 7.7773438, -2.109375, -0.3449707, 8.4921875, 3.9121094, -0.089416504, 6.09375, 1.984375, -1.6308594, -0.6772461, 5.4140625, -4.7382812, 0.21472168, -3.2597656, 6.2539062, -0.7817383, -0.17797852, 12.9453125, -0.19348145, 8.34375, 2.8417969, -0.8984375, -0.5854492, 0.9086914, 4.5273438, -13.1796875, -2.1542969, 4.0585938, -1.0439453, -2.5996094, -5.4414062, -10.3203125, 10.2109375, 8.78125, -0.9091797, 1.5117188, 1.8554688, -6.0273438, 2.5390625, -7.71875, -1.2626953, 0.5732422, 1.8271484, 7.6445312, 15.1484375, -3.28125, -2.5, 1.9384766, 3.9316406, 4.6132812, -5.84375, 11.4296875, 3.0039062, 5.7109375, -9.8515625, 0.5361328, -1.0302734, 4.75, -8.3359375, -0.40112305, -0.12286377, -0.2783203, 8.1796875, 5.0351562, 2.65625, 0.9453125, 10.4765625, 0.8720703, -4.6015625, 12.9140625, -6.03125, 4.34375, 6.2265625, 5.8671875, -4.703125, 4.3164062, -0.80126953, -3.9316406, -8.3984375, 0.95947266, -6.1875, 2.8691406, 0.0022525787, 2.6933594, 4.9101562, 0.1026001, -4.3085938, -1.3388672, 1.5146484, 1.0126953, 5.4375, -6.0351562, -10.2109375, 5.3515625, -2.2304688, 6.375, -4.5429688, -5.3671875, 3.6875, 5.3789062, 6.1132812, -3.2734375, -2.4707031, 3.0136719, 3.4609375, -6.3242188, -2.0898438, -31.265625, 2.4648438, 3.59375, 7.9023438, 0.16772461, -3.5683594, 1.3720703, 0.8149414, 11.0234375, -0.6611328, 4.7460938, -8.4453125, 5.5429688, 6.1171875, 6.3085938, 8.1171875, -9.828125, -7.6953125, 1.1074219, -2.1464844, 5.5429688, 0.5527344, -1.6875, 0.19238281, -9.09375, -4.6992188, 1.2519531, 2.8964844, -1.8261719, -0.19604492, 7.7226562, -9.1328125, 2.8378906, 8.7109375, -2.6367188, 0.40942383, 3.7832031, -2.8066406, 1.7089844, 2.4296875, -5.0703125, -9.9609375, 5.359375, 4.9453125, 1.1992188, 1.2167969, -8.28125, -4.984375, 3.3183594, 6.0273438, 3.6132812, -7.859375, -3.2851562, -2.9453125, -12.796875, 6.3125, 2.0332031, -3.5253906, 0.2841797, 5.140625, 4.8085938, 6.4726562, 8.0625, -0.076171875, -0.32299805, 2.5683594, 2.0214844, 0.45043945, 2.7890625, 4.984375, 11.9765625, -0.7480469, 6.5820312, -3.5019531, -2.3144531, -5.0234375, 0.06341553, -8.59375, -0.07324219, -5.59375, -0.36108398, -3.2382812, 7.4492188, 0.9951172, 9.4296875, -4.15625, 0.57128906, 10.4375, 1.5078125, -6.9296875, -6.3046875, 1.6425781, 2.3183594, 9.1796875, -2.0351562, 9.5625, 7.3710938, 3.5917969, 4.5703125, 5.4882812, 0.4729004, 2.2617188, 4.6757812, 0.29882812, 6.9296875, -4.1679688, -9.53125, 2.8945312, -15.3984375, -5.0078125, -3.4921875, 3.7695312, 6.5898438, -11.734375, -4.0039062, 10.359375, -2.3066406, 1.9296875, 5.484375, -2.1230469, -10.890625, 3.6464844, -1.3574219, 8.6328125, -4.0234375, -1.7685547, -7.5585938, -3.3398438, 3.3925781, 7.390625, -1.7285156, 2.5585938, 2.8984375, -0.17797852, -7.1132812, -2.078125, -12.171875, -6.9453125, -0.25927734, -1.9658203, 7.3945312, -0.29248047, -13.4921875, 4.6992188, 7.3984375, 7.9375, -1.9287109, 3.5644531, 13.1484375, 5.7617188, 0.86816406, 0.50878906, -4.1445312, -5.375, 10.8984375, 0.024780273, 5.4296875, 5.296875, -2.1601562, 0.43920898, 0.006843567, 2.484375, -8.7265625, -3.3417969, -1.7441406, 0.9560547, -15.8203125, 1.0820312, -1.3496094, -9.7421875, 3.8066406, -13.078125, -5.21875, 1.4931641, -5.3710938, -0.20568848, -0.5571289, 12.4453125, 13.5546875, 0.25512695, -1.4042969, 5.4882812, 3.2128906, 11.9609375, -2.3339844, 0.9379883, 6.2304688, -6.6601562, 7.2890625, 2.8671875, -2.3515625, -3.1914062, -12.5703125, -1.4375, 2.2851562, 4.1757812, -2.6953125, -4.9765625, -10.765625, -2.5917969, -1.5273438, 4.8007812, -8.4765625, 8.015625, 5.953125, -1.3417969, -16.6875, -1.3603516, -11.3828125, -2.7597656, 0.19458008, -0.032287598, 2.1894531, -0.57666016, 4.9453125, 3.53125, -0.76464844, 7.046875, 7.1445312, 0.95996094, 3.6503906, -1.8613281, -0.5209961, 1.3066406, 0.69628906, 7.34375, 5.0859375, 6.125, 4.1445312, -2.6914062, -7.3710938, -2.2949219, 5.4765625, 4.5585938, -2.3320312, 4.4921875, -9.328125, -12.6875, 0.4560547, -0.0010929108, 1.5732422, -0.8334961, -0.5551758, 1.8798828, -0.6665039, 3.1015625, -1.9833984, 5.3476562, 0.52783203, 0.78125, 0.35327148, 2.2675781, -3.9453125, 2.7265625, -3.359375, -0.10015869, -3.6855469, -2.421875, -2.0917969, 6.8046875, -7.4375, -4.515625, -5.203125, 10.8203125, 2.3046875, 3.4707031, -0.64746094, 0.7421875, -1.8525391, -7.6015625, -3.9511719, 3.0703125, 10.671875, 8.28125, 2.7617188, -20.671875, 8.2109375, -7.453125, 6.546875, -1.4160156, 0.6176758, -16.046875, -3.4648438, 1.7988281, -2.6933594, -2.3652344, -1.609375, -3.7226562, 6.9296875, -9.2734375, -7.1054688, -3.9296875, -4.3828125, 1.1337891, -1.7148438, 6.2929688, 4.9257812, 1.7724609, -1.6191406, 7.3320312, 10.15625, -7.7734375, -1.9921875, 1.1699219, -3.3554688, 0.20800781, 2.671875, -0.47680664, 3.3886719, -4.78125, 2.8164062, 1.6142578, 9.2109375, -2.8339844, 2.96875, -2.53125, -4.8125, -5.3125, 1.7265625, 12.703125, -5.3554688, 4.9726562, -3.4199219, -11.25, 6.6914062, -2.28125, 9.515625, -5.1914062, 8.7421875, -9.359375, 0.82421875, 6.109375, 1.2421875, 4.3710938, -1.7978516, 8.828125, -6.7226562, 1.3261719, 3.1132812, 2.2734375, 4.7695312, 0.27441406, -4.5234375, -5.1210938, 6.9609375, -0.7939453, 0.53466797, 3.9589844, -0.3959961, 0.26660156, 3.5976562, 3.3203125, 8.671875, -2.5917969, -1.7890625, 1.4785156, 8.984375, 7.7148438, 2.4960938, -4.3515625, 3.9023438, 8.453125, -1.6699219, -5.8125, -3.609375, -0.6386719, 4.8828125, 10.0078125, 3.0371094, 5.5039062, 4.1875, -6.3789062, 1.9990234, -2.1875, -2.4023438, -1.1669922, -4.4375, -6.7382812, 0.77441406, 2.3515625, -5.921875, 3.3730469, -0.53808594, 2.9648438, 5.0546875, -2.0214844, 8.8046875, 0.49829102, -6.0585938, 0.6220703, 6.3789062, -8.015625, -9.84375, -2.6816406, 0.7988281, 2.0898438, 3.3847656, 1.0625, 0.7104492, -15.5625, -8.828125, 0.19274902, 6.7539062, 4.5664062, -3.03125, -5.2382812, -2.3554688, 8.71875, 5.6953125, -2.4863281, 10.7578125, -2.4414062, 7.234375, -9.515625, -2.6425781, 7.21875, 7.8945312, 8.8984375, 6.734375, 6.765625, -0.09088135, -1.1777344, -0.96191406, 0.9238281, 10.1484375, 0.3984375, 4.5625, -9.578125, 11.0859375, 9.9375, -5.2460938, 2.8476562, 7.5234375, 1.6230469, -1.6699219, -1.6640625, -8.640625, -3.8496094, -8.7890625, -2.0019531, 5.9765625, 5.671875, -3.4042969, -1.0644531, 2.0859375, -8.8984375, 6.4101562, -4.3359375, 4.3867188, -3.5175781, -3.9023438, 8.640625, 0.33276367, -4.1640625, 4.0117188, -2.359375, -0.89208984, 11.1796875, -2.3496094, 3.4023438, 2.75, -3.6035156, 7.6953125, -1.2558594, -7.5546875, -4.890625, 12.078125, 2.7402344, 2.4785156, -6.78125, 3.4472656, -0.08856201, -2.6074219, 4.2109375, 3.0058594, -7.3789062, -0.091308594, -0.68359375, 5.3476562, 5.21875, -1.7255859, 2.4667969, -1.8349609, 1.5214844, 1.4716797, 3.1289062, -3.8125, 3.90625, -2.9667969, 2.1113281, -0.9370117, 3.4921875, 1.3876953, 10.2109375, 8.0390625, 2.4921875, 6, -4.6484375, -3.7695312, 0.34375, 1.3603516, 2.1894531, -5.6992188, 14.5234375, 1.4306641, 4.2617188, 0.19885254, -2.6425781, -3.3300781, -13.0625, 4.703125, -5.0703125, -2.8984375, -15.734375, -9.015625, -1.3857422, -5.9726562, -0.3083496, -10.6171875, 0.5131836, -4.5, 7.4648438, 1.5302734, -3.6835938, 2.1210938, -2.6679688, -0.35302734, -5.5429688, 0.3876953, 10.4296875, -3.8535156, 8.03125, -2.7128906, 4.84375, 2.6582031, 6.3046875, 7.9726562, -3.03125, 2.2695312, 7.5078125, -2.4570312, 6.2617188, 4.5546875, -7.890625, 6.3554688, -6.2304688, 4.6445312, 9.0859375, -3.953125, -8.2265625, -4.5820312, 1.7431641, 5.2421875, 3.5371094, 2.6152344, -0.8808594, 1.6425781, 0.12609863, 2.8886719, -5.3984375, -0.61083984, -0.4230957, 5.3984375, 3.3945312, 2.1425781, -9.0859375, -4.3515625, 1.5498047, -2.7246094, -0.029342651, -4.9257812, -1.0341797, 1.3095703, 1.7607422, 3.2167969, 1.2138672, -0.8208008, -2.96875, 2, 2.9628906, 0.7783203, 2.6738281, 1.1347656, -10.015625, -5.8671875, -15.078125, -5.0742188, -17.265625, 2.2285156, -3.5449219, 2.2246094, 2.4648438, 11.40625, 3.6113281, -2.3378906, 0.35473633, 0.88671875, -2.1914062, -4.9648438, 2.2851562, -10.375, 3.6308594, -4.8828125, 5.4804688, -1.4873047, -2.8535156, -1.4511719, 1.7929688, 0.6904297, -4.6992188, -10.875, 11, -0.6611328, 7.7734375, -1.7558594, 2.9804688, 5.7734375, -8.3828125, -2.5664062, -0.34350586, 3.7382812, 6.7851562, 1.4462891, -2.3847656, 4.0234375, -1.9257812, -16.734375, 5.2382812, 4.015625, -7.5742188, 6.9921875, 5.1757812, -0.7504883, -40.25, -5.0195312, 2.2324219, -0.014976501, 13.7734375, 4.5703125, 1.8964844, 3.0703125, 3.8535156, -0.08703613, -5.2695312, -1.0644531, 6.0664062, 2.7089844, -7.1796875, 1.9472656, 6.4375, -4.8398438, -3.4140625, -8.9765625, 0.87939453, 5.8984375, 8.2265625, 2.7089844, -6.390625, -5.7851562, 4.2226562, 0.04901123, 3.2285156, 6.0625, -2.5742188, 8.4921875, -0.49414062, -2.8320312, -5.28125, -5.5898438, 1.3876953, 5.328125, -0.77734375, -0.7553711, -0.5209961, 4.1796875, -6.6953125, -4.1523438, 0.4025879, 6.3515625, 3.7265625, -1.8789062, 3.5429688, -5.9882812, 4.0429688, -27, -1.3320312, -6.3046875, 6.90625, 7.2773438, 2.0683594, -6.0546875, -5.2265625, -1.3955078, -0.13647461, -5.8828125, -3.3496094, -4.1640625, 1.0185547, -9.59375, -12.640625, 3.7792969, -8.2109375, -7.9726562, -13.0859375, -5.8242188, -5.0585938, -8.953125, -6.453125, -0.52246094, -4.7382812, -3.7460938, -1.2099609, -15.734375, 6.921875, 4.6328125, -0.33374023, -14.9609375, 3.8867188, -4.140625, -2.6484375, -5.1367188, -2.25, 3.5488281, 19.421875, 2.7421875, -1.1992188, 3.5371094, 0.14941406, -2.0058594, 12.6796875, 0.22595215]\n",
            "[-6.1875, -2.7988281, 5.5351562, 8.0625, -1.1757812, 1.9492188, 1.2714844, -1.8505859, 5.5976562, -0.42358398, -4.75, 0.27978516, 2.8261719, -0.49658203, 2.3378906, 0.17504883, 0.4868164, 3.9941406, 6.609375, 4.8164062, 5.0898438, -2.9042969, 1.4472656, 1.1054688, 10.234375, 3.1894531, 4.5195312, 7.9648438, -0.77197266, -2.8730469, 1.4648438, 0.34106445, 3.5664062, 4.9414062, 1.3007812, 8.640625, 3.9921875, 2.9882812, -6.28125, 2.4296875, 0.21044922, -8.6484375, 7.03125, -6.7734375, 0.4736328, 3.0859375, -13.2578125, -2.5410156, -7.90625, 0.7348633, 6.2460938, 1.6835938, -2.4003906, 4.5859375, 2.34375, -11.4921875, 2.3886719, 0.4711914, -5.7226562, 6.8554688, 2.4472656, -0.7636719, -1.3046875, 5.5546875, -9.3671875, -2.8691406, 3.1484375, -5.1015625, -2.7207031, -0.70410156, 2.0429688, -1.5029297, -2.8535156, -5.3007812, -6.953125, 2.1640625, -3.09375, 2.0449219, -0.5629883, 0.57910156, 0.45092773, 2.1777344, 0.2290039, -14.2890625, 5.1992188, 4.8007812, -6.3320312, -3.203125, -0.6459961, -2.6347656, 6.9726562, 2.3378906, -1.7890625, -2.3242188, -2.0957031, -4.2773438, 13.4375, 1.3056641, 4.3984375, 0.3828125, 0.90625, 0.3972168, -4.6835938, -6.9648438, -4.3476562, 12.2734375, -0.9580078, -7.8164062, -3.0507812, -5.7539062, -5.2226562, 4.4648438, 2.2675781, -3.1757812, 14.390625, 3.3261719, 0.3491211, 11.4140625, -2.015625, 4.4921875, 4.46875, 1.6816406, 1.5224609, -4.828125, 1.7822266, 0.14465332, -1.0644531, 3.71875, 0.98828125, 0.26464844, 4.9453125, -1.8652344, 0.18457031, -7.5859375, -0.2331543, 3.4394531, -3.2695312, 0.2685547, 11.125, -3.0429688, 0.31420898, 9.7265625, -7.4492188, -0.8876953, 2.9667969, 5.8203125, -3.0957031, -1.3164062, 1.3662109, -5.71875, 1.5751953, 4.28125, -1.4541016, 14.7109375, 0.60009766, -0.6254883, -0.07525635, -4.2851562, 3.5585938, 0.2927246, -5.53125, 4.2773438, -11.4296875, -3.53125, 0.63964844, -3.5390625, -15.125, 4.984375, 3.0664062, 2.1679688, -7.3164062, 12.421875, -6.5351562, 6.1367188, 2.5957031, -5.5859375, 0.14892578, -0.5336914, -2.671875, 5.359375, 5.5976562, -0.2939453, 0.77001953, 3.2363281, 6.3242188, -7.8515625, 12.3671875, -3.75, 1.3115234, 0.24975586, 3.4921875, -2.6015625, 6.0820312, 3.8398438, -4.4804688, -0.43603516, 1.8554688, -3.6738281, -4.4726562, 2.1386719, 8.703125, -0.5576172, -2.6425781, 7.640625, -1.3037109, 6.4804688, 4.703125, 1.2265625, -1.4199219, -1.3154297, 11.296875, -9.9765625, -1.0830078, -2.21875, 4.8789062, 2.9257812, -6.828125, -15.4609375, 10.359375, 14.3984375, -1.3242188, -2.2988281, -5.9492188, -1.3349609, 4.0273438, -10.1796875, -3.9140625, 0.18762207, -3.8476562, 2.9804688, 8.109375, -2.3222656, -1.1757812, 6.9570312, 11.1953125, -1.5771484, -0.24914551, 12.640625, -0.83691406, 5.9570312, -7.9335938, -2.3867188, -1.6845703, 5.1796875, -5.515625, -8.8984375, 7.46875, -3.34375, 4.3320312, 5.9179688, 3.7089844, -4.1953125, 7.9335938, -4.8828125, -3.8828125, 9.78125, -8.609375, 2.2792969, 4.3554688, 8.3359375, -2.9667969, 0.91015625, -2.3613281, -7.7109375, -3.0976562, -3.9863281, -5.3632812, 2.7832031, -0.79248047, 2.0292969, 0.18066406, 3.9042969, -4.09375, 2.7519531, 1.8378906, -1.1533203, 5.78125, -5.3945312, -8.140625, 5.5859375, 0.32226562, 1.7480469, -3.1171875, -0.9291992, 1.8427734, -1.3789062, 6.53125, -0.24353027, -4.484375, 4.21875, 7.7539062, -0.7861328, -1.2519531, -36.3125, 2.9082031, 1.4853516, 6.3085938, -1.9833984, 2.3613281, -0.45922852, 2.6503906, 5.7617188, -4.1992188, 2.6132812, 0.6875, 6.8554688, 3.1757812, 6.0546875, 6.3320312, -6.4453125, -5.296875, 3.7226562, -5.90625, 0.6166992, -2.3964844, -1.2734375, -6.6992188, -5.3984375, -5.5820312, 4.7226562, 5.4453125, -0.06021118, 6.1757812, 15.296875, -5.9726562, 3.7578125, 12.9140625, -0.8544922, 2.546875, 8.625, -3.4101562, 2.4921875, 2.0722656, -3.2617188, -8.1484375, -0.66064453, -3.6289062, -5.484375, 1.7578125, -7.796875, 2.6269531, 3.1777344, 2.0546875, 6.046875, -6.0546875, -1.0341797, -0.5107422, -17.875, 5.640625, 7.484375, -1.0585938, -0.41674805, 10.8515625, 5.6835938, 6.9101562, 2.3457031, -2.015625, -1.578125, 6.078125, -0.18774414, 5.9414062, -5.6171875, 11.71875, 6.8242188, -4.5859375, 7.8945312, -3.1640625, -5.5703125, -4.625, 2.0390625, -9.0703125, 2.6328125, -7.1210938, -0.8105469, -8.28125, 9.953125, 0.48242188, 4.265625, -11.6875, 0.43652344, 8.71875, -3.2265625, -2.3144531, -8.7265625, 2.0058594, -5.4375, 6.9101562, -4.890625, 6.953125, 3.3085938, 1.3378906, 8.09375, 7.2421875, -3.9355469, 0.4272461, 3.1328125, 2.6425781, 6.8632812, -3.5253906, -9.140625, -5.015625, -14.6953125, -2.2148438, 4.375, -2.2226562, 2.6582031, -14.1875, -2.3964844, 7.8632812, 3.4863281, -2.6992188, -6.4726562, -0.5517578, -11.8359375, -5.0039062, -2.5, 7.3554688, -9.140625, 0.47265625, -4.5390625, -3.2382812, -0.2607422, 3.7578125, 4.8671875, 9.140625, -5.609375, 0.35327148, -7.1992188, -6.546875, -8.2578125, -10.5625, 2.3515625, 2.4277344, 6.5976562, 2.7792969, -13.0234375, 3.765625, 0.35180664, 8.4296875, 1.1015625, 6.6445312, 3.8125, -1.1367188, 4.0039062, -1.3291016, -6.671875, -1.7236328, 5.3632812, 4.5820312, -0.18835449, -0.37670898, -0.71972656, 0.7182617, 2.5214844, 5.03125, -0.50878906, 1.7587891, -2.4707031, 1.9814453, -12.8125, -2.7421875, 4.828125, -5.8554688, -1.0537109, -14.515625, 1.2880859, 0.97802734, -6.59375, -4.828125, -0.5683594, 6.3125, 8.453125, 2.2167969, 2.7285156, 8.25, 5.9140625, 8.0546875, -6.4414062, 2.6816406, 2.8164062, -4.5351562, 10.078125, 1.7900391, 1.6103516, 4.4375, -13.28125, -6.140625, -1.5253906, -1.0849609, 0.35205078, -0.43847656, -10.0859375, -10.8125, -2.0800781, 7.2617188, -1.8398438, 9.765625, 2.5976562, 3.3007812, -17.328125, 4.8476562, -9.9765625, -3.4199219, -1.0449219, 0.09899902, 1.7714844, -3.8183594, -1.1103516, 4.7382812, -4.296875, 10.3203125, 1.6826172, -1.9316406, 4.9257812, 1.2822266, -4.9609375, -6.4179688, -1.71875, 6.1054688, 3.21875, 4.6914062, -2.2832031, 4.3789062, -5.6445312, 1.8203125, 1.7841797, 3.4296875, -1.8496094, 2.6953125, -6.3085938, -10.9765625, 3.1953125, 0.9477539, -5.421875, -1.1708984, -8.9375, 7.4960938, -0.32543945, 1.3378906, -4.046875, 8.7109375, -1.5224609, 2.9121094, 0.14221191, 2.5488281, 0.62158203, 1.2158203, -5.671875, 3.3125, -5.7265625, -3.0761719, -1.6494141, 2.765625, -7.2539062, -6.796875, -0.49414062, 7.515625, 3.0957031, 10.0078125, 3.9101562, 1.4765625, -10.359375, -3.6914062, -12.421875, 6.5351562, 7.5664062, 7.5117188, 3.6894531, -20.140625, 1.8847656, -6.1757812, 6.9335938, -6.328125, -1.6884766, -3.4882812, -12.140625, 5.1679688, -5.171875, 3.703125, -2.9765625, -3.9257812, 8.1796875, 0.019714355, -6.6796875, -3.9570312, -3.3964844, -1.2607422, -4.890625, 6.3164062, 10.4296875, 2.0878906, -0.671875, 7.0078125, 7.6054688, -6.3671875, -0.6166992, -0.05984497, 0.78222656, 0.6191406, -0.6533203, 2.8222656, -2.8613281, 3.1054688, 2.5449219, 6.2382812, 6.0507812, -13.078125, -2.4980469, 0.49975586, -10.9921875, -1.1054688, 6.0546875, 10.1015625, -2.703125, 4.3945312, -5.8789062, -7.3867188, 5.1328125, -4.9765625, 10.6953125, -10.0859375, 5.2695312, -5.09375, 5.296875, -0.30517578, -0.06488037, -1.4873047, -1.7285156, 15.2734375, -5.7578125, 2.6835938, 1.9755859, 2.8398438, 5.4296875, -3.75, -4.3984375, -4.8867188, 6.0078125, -0.42407227, -3.1132812, 2.0644531, -2.7246094, 0.9379883, -0.2775879, 2.3574219, 7.5351562, -5.7539062, 1.3925781, 1.4658203, 9.921875, 13.328125, 3.546875, -3.8007812, 3.6621094, 6.9960938, 3.4414062, -7.1132812, -0.99853516, 3.4082031, 6.7460938, 13.953125, 1.7646484, 4.6445312, 6.8984375, -0.7973633, 0.8466797, -7.5273438, -2.6113281, -2.6347656, 4.265625, -2.8984375, 6.4296875, 9.5390625, 2.9003906, 0.12445068, -3.9804688, 2.515625, 0.6245117, -4.3710938, 6.7070312, 2.203125, -3.3457031, -9.2890625, 6.8085938, -6.1367188, -10.75, -0.037902832, 1.5957031, -3.03125, 2.734375, 1.6669922, 3.359375, -8.4140625, -5.5507812, 3.6035156, -1.1484375, 8.2265625, -0.33520508, -2.3144531, -2.6015625, 3.46875, 7.3632812, 0.9736328, 17.140625, -1.7412109, 7.875, -0.63916016, -3.078125, 7, 4.296875, 4.6796875, 2.1328125, 10.484375, 2.6054688, -2.1308594, -4.8671875, -3.21875, 5.1640625, 2.0097656, 2.6386719, -8.7265625, 11.9375, 7.4960938, -5.7890625, 3.7753906, 2.7480469, -2.9453125, -4.4414062, 0.2692871, -8.46875, -6.3359375, -2.4199219, -0.23242188, 6.2734375, -6.6328125, -0.41479492, -1.90625, 5.3007812, -7.8242188, 2.9941406, -1.9404297, 3.7285156, 1.2314453, -3.0625, 7.640625, 2.0761719, -4.0039062, 0.19763184, 1.4580078, 2.140625, 12.3046875, 1.1513672, 4.3125, 4.8085938, 0.81640625, -0.4296875, 0.25952148, -7.6953125, -9.203125, 9.59375, 5.3359375, -5.6171875, -0.74365234, 5.71875, 0.32202148, -3.4511719, 9.7890625, 3.7519531, -6.8867188, 7.4023438, 3.1523438, 2.8671875, 2.4042969, 0.27026367, 6.6328125, -4.4375, -3.828125, -4.8046875, 5.625, -4.3476562, -3.5449219, -2.0332031, 3.8496094, -4.1171875, 8.4453125, 6.4375, 6.3671875, 4.0117188, -1.2099609, 6.25, -5.234375, -0.15148926, 1.5029297, 11.984375, 3.0019531, -5.6914062, 4.8984375, 2.53125, 1.8027344, 0.8232422, -1.7597656, -2.1777344, -14.6484375, 0.23718262, -2.0117188, -2.4941406, -18.484375, -3.6542969, -0.5864258, 0.9482422, 5.4609375, -7.5546875, -0.07501221, -6.2851562, 13.203125, -1.9228516, -5.8203125, 4.3945312, -5.3632812, -3.5625, -7.0625, 5.1796875, 6.921875, -1.6542969, 8.6171875, -2.1855469, 2.0332031, -3.1953125, 6.1679688, 2.8105469, -2.2441406, 1.1689453, -3.3945312, -3.1660156, 10.5625, 1.4453125, -4.8320312, 5.6523438, -5.8359375, 6.8867188, 6.0703125, -4.90625, -5.3085938, -5.1679688, 4.0117188, 6.7929688, -1.7216797, 3.4550781, 0.13842773, 9.7890625, 0.08929443, 1.6972656, -1.1767578, -0.6357422, 2.7128906, 3.2441406, 8.1953125, 1.6572266, -11.5546875, -10.1640625, -4.015625, 0.5307617, -0.6464844, -4.8554688, 4.640625, -2.8867188, -3.6230469, 6.9609375, -0.079956055, 4.1679688, -4.3320312, 1.7119141, 4.8984375, 3.8339844, -0.5527344, 1.7744141, -7.0351562, -1.3554688, -12.4921875, -5.3828125, -17.703125, 4.0117188, -1.7646484, 1.4228516, -0.015792847, 5.8789062, 0.9609375, -2.8105469, -3.9101562, 1.2412109, 2.0332031, -9.75, 1.3417969, -7.2421875, 0.9189453, 0.96875, 0.90722656, -1.3583984, -0.3798828, 0.5620117, 1.4804688, 2.4414062, -0.75097656, -10.6015625, 1.5830078, -1.4648438, 3.7070312, -9.6640625, 8.78125, 11.7265625, -0.05368042, 1.1220703, -0.21899414, 2.9433594, 4.2148438, 4.5429688, -1.3339844, 3.671875, -1.3691406, -16.03125, -0.22668457, 4.8867188, -0.7583008, 7.234375, 4.578125, 4.734375, -44.53125, -6.9375, -0.7109375, -1.1855469, 10.03125, 1.2109375, 2.46875, 5.7421875, 9.75, -0.17224121, 0.8769531, 1.921875, 7.2382812, 7.6367188, -2.9570312, -1.7119141, 11.0546875, -6.3203125, 1.2246094, -11.6796875, -3.4882812, 4.8359375, 11.6953125, 1.9160156, -7.390625, -9.578125, -1.3632812, 2.5332031, 1.4589844, 1.0322266, -6.1640625, 18.6875, 1.0146484, 5.25, -5.1796875, -5.2539062, -2.8339844, 2.9980469, -2.8554688, -5.2421875, -6.5976562, 9.3515625, -3.5039062, -4.2304688, -8.546875, 4.890625, -2.0253906, 6.9140625, 2.1015625, -6.9765625, 3.9902344, -22.40625, -1.2949219, -6.4257812, 12.4140625, 9.1171875, 4.59375, -11.40625, -4.9648438, -0.4873047, -3.65625, -2.6972656, -1.3427734, -6.8632812, -1.8271484, -13.4375, -11.4375, -3.2851562, -3.1171875, -3.5957031, -11.7734375, -4.3789062, -4.7148438, -4.6210938, -3.7597656, -4.1992188, -2.2539062, -0.17541504, -0.33862305, -13.734375, 5.2890625, 4.2265625, 2.6523438, -5.671875, 4.6367188, 0.6503906, -1.5078125, -1.7802734, -4.6523438, -3.1015625, 19.546875, 2.1484375, -0.046661377, -0.25683594, -0.068603516, -2.4609375, 10.7109375, -1.7724609]\n",
            "[-0.8911133, 2.5039062, 1.1328125, 8.296875, 2.3984375, 1.5097656, 1.9804688, -1.9912109, -1.2509766, 6.6445312, 0.055389404, -2.8066406, 3.875, 0.27856445, -8.2890625, -0.64501953, -1.3125, 3.4375, 4.3164062, 10.9375, 5.9648438, -3.5253906, 1.9765625, -1.4570312, 8.0390625, 1.4404297, 2.6542969, 4.2734375, 1.1650391, -5.3359375, -1.4541016, -5.5039062, 2.7460938, 10.2890625, 3.2128906, 1.2392578, 1.6601562, 7, -4.4023438, -4.3789062, -5.0625, -6.6523438, 5.7695312, -0.18701172, 3.3496094, 1.8261719, -12.390625, -3.7949219, -3.71875, -2.1855469, 2.3515625, 3.7636719, -1.8554688, 3.4199219, 5.9023438, -9.2890625, 4.0429688, -5.5351562, -9.1015625, 1.2773438, 0.86621094, 2.4082031, 4.953125, -1.8837891, -6.1835938, -2.0332031, -2.3847656, -5.2226562, -0.70458984, -2.6445312, -2.3652344, -0.91015625, 0.1953125, -6.5546875, -1.6972656, 6.3046875, 1.3291016, 1.0107422, 0.5566406, -1.3447266, -9.6015625, 0.8208008, -3.5898438, -10.2734375, -3.484375, 7.9296875, -3.1914062, -1.0253906, 1.0693359, -5.5, 4.9765625, 0.4267578, -3.65625, -0.8276367, -1.3125, -3.8886719, 12.7734375, 4.90625, 2.8710938, 10.796875, 1.5175781, 1.4628906, -3.3554688, -7.6992188, 5.84375, 11.46875, 2.2734375, -3.7910156, -3.9628906, -5.4609375, 2.4238281, -1.0449219, -1.625, -2.0527344, 10.6953125, -0.32543945, -0.9658203, 8.1484375, 0.5004883, 5.5234375, 0.63183594, -0.5708008, -1.6318359, -3.1992188, 2.4257812, 1.8339844, -4.8515625, -2.4277344, -6.6835938, -0.78808594, 4.6796875, 3.1152344, -0.75341797, -3.0214844, 0.21899414, 0.44262695, -0.093566895, 8.1953125, 10.421875, -2.6875, -1.9941406, 4.453125, -6.1992188, -1.7333984, 1.703125, 10.7578125, -8.1171875, -1.8007812, 1.9160156, -2.171875, -0.055023193, 5.890625, 3.5117188, 9.03125, 3.4804688, -5.359375, 0.87060547, -5.1015625, 5.765625, -2.1660156, -0.5678711, 3.3242188, -10.421875, 3.1875, -1.9716797, -3.0488281, -10.8828125, 7.953125, 5.1601562, -3.0351562, -11.234375, 6, -7.8320312, 2.4238281, -2.1679688, -6.0585938, 3.7070312, -1.9726562, -3.5996094, 0.7651367, -0.72998047, 0.29833984, 2.3476562, 0.18237305, 10.5, -4.546875, 13.1484375, -2.4921875, 0.08190918, 3.2675781, 6.1132812, 0.07763672, 10.109375, 0.9375, -3.3789062, 1.3769531, 3.1972656, -10.390625, -2.1523438, -3.7324219, 5.8984375, -2.7382812, 0.5776367, 2.7402344, -1.1220703, 9.484375, 4.609375, 1.5244141, -5.2617188, 2.0976562, 7.8945312, -6.1171875, -2.5996094, -2.0371094, 6.4765625, -2.4863281, 0.2878418, -14.4296875, 4.2617188, 15, -1.4746094, -6.6054688, -4.125, 0.5961914, -1.1367188, -4.8242188, 1.8359375, -0.44970703, -5.5039062, 8.5859375, 11.3828125, 1.7578125, -4.03125, 7.2617188, 11.4296875, 5.96875, -2.0488281, 3.3105469, 2.1484375, 1.2158203, -4.3828125, -5.515625, -4.6289062, 7.8046875, -6.203125, -6.0625, 5.4179688, -4.3671875, 0.22473145, 5.546875, 1.1083984, -5, 11.0390625, -7.4179688, 1.421875, 9.6875, -8.09375, 3.59375, 6.421875, 9.4609375, -2.3828125, 7.9609375, -1.0556641, -10.53125, -3.7050781, -3.1679688, -5.3398438, 5.6601562, 2.6054688, 5.9726562, 3.2167969, 7.0117188, -3.1816406, -0.8305664, 4.0429688, -3.3320312, 4.0078125, -7.2617188, -2.3105469, 1.8984375, -2.21875, 8.765625, -0.70996094, -4.9335938, 3.8574219, 2.4238281, 3.3808594, -2.4589844, -0.96484375, 3.1855469, 6.9726562, 4.0546875, 1.7636719, -35.1875, 2.5527344, 0.21618652, 7.625, -1.4003906, -3.7539062, -5.1054688, 3.5390625, 14.5546875, -5.1210938, 0.17529297, 7.109375, 2.6386719, 2.796875, 7.3164062, 9.375, -0.8129883, 1.3603516, 0.33398438, -3.703125, 3.6972656, -5.3320312, -8.3359375, -1.3359375, -7.25, -6.546875, 0.12646484, 1.8291016, 0.93359375, 9.7578125, 12.0703125, -8.9140625, 1.0078125, 9.9921875, -2.4980469, 3.2851562, 7.0820312, -1.3681641, 2.765625, 4.34375, -6.2460938, -7.3164062, -0.2902832, -2.203125, -7.7890625, -2.7890625, -6.9492188, -0.61328125, 7.1054688, 7.4648438, 11.046875, -4.7265625, 0.27075195, 1.5712891, -13.8203125, 9.8046875, 2.3203125, -4.0078125, 6.2109375, 3.4550781, 1.3916016, 9.2578125, 6.2460938, -3.5800781, 0.23596191, 4.5039062, 0.27026367, 4.6171875, -0.6826172, 10.5703125, 10.34375, -6.4296875, 9.796875, -2.6679688, -6.8515625, -5.109375, 1.8945312, -10.6953125, 4.1054688, -5.9375, -8.296875, -5.2734375, 5.0429688, 3.1914062, 7.5664062, -7.2929688, 0.38500977, 8.859375, 3.4609375, -1.9453125, -9.7734375, 3.4238281, 0.75390625, 14.3828125, -5.0546875, 5.765625, 8.15625, 3.9941406, 3.4570312, 6.8671875, -1.7919922, -2.2421875, 5.8632812, -7.15625, 1.1074219, -0.49121094, -10.7265625, -4.2773438, -12.59375, -5.6835938, 7.6523438, -0.27294922, 5.78125, -14.015625, -2.2578125, 7.8671875, 4.359375, -2.4511719, -5.3085938, 5.6875, -8.6484375, -1.2402344, -2.8027344, 0.96484375, -8.390625, -2.5566406, -6.4804688, -9.6171875, -4.7460938, 5.40625, 8.1328125, 7.296875, -5.3320312, -0.4934082, -5.7148438, -4.2148438, -3.1914062, -6.0351562, -0.9785156, 3.1699219, 5.34375, 2.2363281, -17.53125, 5.03125, 2.7734375, 6.4179688, 1.5195312, 8.7890625, 5.1992188, -0.58203125, -3.4941406, 5.3632812, -2.7929688, -4.0703125, 3.5546875, 4.6054688, 1.3476562, 2.3417969, -2.9882812, 0.8330078, 3.1035156, 0.047454834, -3.0917969, 3.4609375, -6.5859375, 2.7207031, -12.1953125, -6.5273438, 6.9257812, -4.2539062, 2.5585938, -12.1796875, -1.3369141, -1.2275391, -6.4648438, 1.4121094, -2.5976562, 7.7773438, 10.0859375, 2.4511719, 4.5859375, 12.46875, 0.35913086, 6.3710938, -6.6835938, 0.43432617, 3.8417969, -0.033843994, 7.03125, 2.5800781, -3.1738281, -0.14648438, -4.296875, -4.75, 10.390625, -2.8203125, 3.9960938, -0.46923828, -8.171875, -0.98291016, -5.3359375, 9.921875, -4.8320312, 0.28295898, 4.0195312, 1.1220703, -12.7734375, -1.7763672, -11.953125, -2.3515625, 0.9814453, -1.4228516, 5.0742188, -3.2089844, 4.625, 4.2890625, -0.47314453, 16.15625, 3.53125, -4.0039062, 8.5, -1.3291016, 2.8554688, -2.265625, -4.34375, 7.9921875, 4.3632812, 5.3164062, 0.022598267, 0.2614746, -1.6455078, 2.4785156, 3.9609375, 5.5, -2.4726562, 3.7714844, -9.140625, -11.984375, -1.4638672, -3.1367188, 1.9365234, -0.5517578, -8.625, 3.7714844, -2.3632812, 3.0253906, -1.4248047, 10.671875, 4.5859375, -2.3632812, -5.0976562, -0.3642578, 0.7675781, 1.0361328, -5.8710938, 0.9638672, -7.6328125, -6.5546875, 2.2851562, -1.2265625, -9.875, -1.6386719, -4.875, 9.7890625, -4.96875, 6.1757812, -0.0021839142, 2.3691406, -6.7226562, -2.046875, -8.5, 8.0703125, 3.0507812, 4.5859375, 1.1191406, -15.7890625, 3.71875, -7.3515625, 4.5234375, -5.9101562, -3.9414062, -6.46875, -4.8125, 5.65625, -4.1875, 3.9160156, 0.58984375, -5.5078125, 4.4375, -0.87402344, -6.28125, -1.3808594, -7.171875, 1.1308594, -4.3398438, 4.4101562, 3.2285156, 0.28466797, -3.8574219, 2.3105469, 15.59375, -9.4375, 6.8671875, -1.9238281, 4.4140625, 0.10888672, -0.62158203, 5.7109375, 5.21875, 1.3417969, 4.1914062, 4.5507812, 3.2734375, -7.4960938, -0.040863037, 0.5258789, -10.078125, -1.921875, 5.375, 6.6679688, -2.9140625, 6.2539062, -9.265625, -8.890625, 6.4921875, -3.984375, 3.5761719, -8.0234375, 4.203125, -9.59375, 2.5332031, 1.2167969, 4.9375, 1.1044922, -2.0722656, 14.515625, -9.34375, -2.3027344, 4.375, -0.28833008, 0.66552734, 1.9277344, -6.9101562, -3.4101562, 4.1289062, -0.36572266, 0.6933594, 2.6152344, -1.0996094, 2.4355469, -0.31079102, 4.5703125, 15.8828125, -10.4765625, 2.328125, 0.8378906, 3.5292969, 12.34375, 4.0585938, -7.3085938, 1.734375, 2.3261719, -3.1210938, -8.6640625, 0.12121582, -1.1474609, 6, 16.359375, 1.1220703, 4.2851562, 5.2695312, -1.0976562, 4.4492188, 3.0917969, -6.8515625, -5.3632812, -3.8164062, -1.4189453, 8.7265625, 7.4023438, -0.1307373, -0.3154297, -7.8789062, -0.98095703, 0.5576172, -5.4609375, 2.8535156, 3.1660156, -1.1044922, -1.9550781, 2.6660156, -6, -8.765625, -0.63623047, -2.296875, -1.5664062, 5.328125, 3.0878906, -2.0957031, -10.1796875, -5.0585938, 2.1503906, -2.1679688, 6.0078125, -7.9765625, 0.027862549, -4.3242188, 5.328125, 4.8710938, -1.1357422, 13.015625, -2.7617188, 11.328125, -12.21875, -0.3881836, 9.9921875, 0.45239258, 4.6484375, -0.26391602, 10.7109375, 7.4414062, -3.84375, -7.3203125, -2.7929688, 8.0078125, -0.75683594, 7.3554688, -12.203125, 6.3476562, 5.765625, -3.6425781, 1.5136719, 2.3222656, 2.0761719, -3.1601562, 1.8837891, -3.8105469, -2.8613281, -2.734375, -3.90625, 1.0947266, 4.9414062, -1.3457031, 1.5986328, 3.0996094, -15.2421875, -0.84375, 0.76123047, 13.109375, 3.1894531, -1.6455078, 4.7851562, 4.0273438, -2.9589844, 0.6225586, 3.4511719, 0.67041016, 8.4453125, -2.1210938, 3.9296875, 2.8730469, 0.014335632, -4.28125, 2.9785156, -3.0566406, -7.53125, 6.4492188, -2.2109375, -0.8925781, 5.6445312, -0.47680664, 2.1015625, -9.5, 7.8085938, 3.5410156, -2.5644531, 8.828125, -1.9072266, -2.0585938, 5.7265625, 3.6796875, 5.59375, -4.765625, -7.453125, -3.2089844, 6.7578125, -4.9140625, -0.45166016, 4.609375, -1.2060547, -3.1464844, 11.2421875, 2.2910156, 6.8554688, 0.4248047, -2.3417969, 7.0703125, -4.3984375, 0.30493164, 5.3632812, 6.28125, 5.8789062, -4.2382812, 3.9433594, 4.8828125, 7.5234375, 5.8867188, -3.3984375, -4.2421875, -11.875, -1.0996094, -7.0546875, 1.6464844, -11.7265625, -7.1523438, 4.5585938, -2.3535156, -3.6015625, -10.3046875, 3.6992188, 2.453125, 14.734375, -3.2402344, -4.3554688, 8.625, -2.453125, -1.5341797, -5.5507812, 2.1601562, 7.8945312, -4.8085938, 6.3398438, 3.9628906, 0.5805664, -3.9785156, 4.65625, 2.8964844, -2.3417969, 0.7451172, -3.4863281, -0.8652344, 7.3671875, 0.57714844, -2.6308594, 1.9462891, -6.4570312, 3.2089844, 4.6015625, -0.64453125, -9.1953125, 2.0625, 4.1054688, 2.875, -4.9375, 5.9375, 2.9199219, 5.46875, -0.28833008, 4.4023438, -7.4179688, -1.7734375, -3.5097656, -1.6269531, 15.265625, -0.5991211, -9.234375, -7.1054688, -1.4511719, 2.6855469, -0.5932617, -4.140625, 2.3320312, -0.15539551, 0.14770508, 4.8554688, 2.5800781, 2.3671875, -3.7304688, 4.109375, 8.3515625, 6.2304688, -0.8261719, -0.20922852, -10.2265625, -3.5761719, -10.8671875, -4.3945312, -12.7265625, 6.375, 0.72021484, -3.1269531, 1.2089844, 4.7460938, 3.5136719, -5.5546875, -1.8945312, -0.022903442, -3.5527344, -7.1796875, -0.8540039, -6.5429688, 6.6523438, -0.90478516, 1.0800781, -3.2910156, -1.6044922, 5.21875, -7.8046875, 0.9482422, -9.3515625, -7.7773438, 5.265625, 2.7265625, 7.6054688, -10.0546875, 6.921875, 13.1015625, -0.1628418, 5.59375, -2.6328125, -2.96875, 7.7070312, -1.7558594, -6.3398438, 5.3085938, -3.7148438, -8.375, 0.9003906, 5.0117188, -11.3515625, 5.9140625, 3.5859375, 1.4628906, -44.5, -3.6640625, 1.9384766, -2.5800781, 9.171875, 5.3359375, 2.5800781, 2.1660156, 3.3105469, 6.3710938, 3.7617188, -2.5585938, 4.2578125, 4.0195312, -7.5585938, 1.0664062, 12.3046875, -3.5488281, -3.5683594, -12.5625, -2.7304688, 6.0898438, 6.1210938, 4.078125, -6.375, -10.390625, -1.3105469, 4.4960938, 7.765625, -1.2539062, -0.4255371, 12.0234375, -1.7685547, 0.42871094, -3.3164062, -5.9375, 1.5292969, 5.4765625, -1.9804688, -3.8496094, -4.1054688, 5.8046875, -5.234375, -0.94384766, -2.3085938, 4.0664062, -6.6328125, 0.45117188, -2.6035156, -4.875, 6.265625, -23.640625, 1.4521484, -4.5273438, 4.5351562, 11.9140625, 4.4296875, -6.8359375, -3.4433594, 3.6503906, 3.46875, -2.9199219, -1.7226562, -2.0449219, -9.0546875, -8.25, -8.0234375, -6.8867188, -3.8378906, -5.5351562, -11.0859375, -4.5820312, -0.21240234, -2.234375, -7.8398438, 1.546875, -3.5546875, -0.18847656, -1.2675781, -11.765625, 5.1367188, 2.3300781, 0.19299316, -6.984375, 4.9882812, -1.1445312, -4.9375, -0.80566406, -6.890625, 4.421875, 22.796875, 1.3945312, -2.546875, 4.4960938, 3.1738281, -4.4414062, 5.1875, 3.0488281]\n",
            "[-5.7695312, 7.8359375, 0.31762695, 15.875, 3.9882812, -2.6679688, -6.3164062, 1.2861328, 7.7695312, 8.3828125, -0.71435547, -2.9082031, -1.453125, -4.4179688, -1.4023438, 0.3684082, 5.0664062, 1.1015625, 5.4023438, 10.546875, 9.78125, -2.1464844, -1.4941406, 0.79296875, 6.6523438, 7.609375, 2.0644531, 4.2890625, -4.1835938, -2.671875, -5.140625, -3.3417969, 6.203125, 7.0234375, 6.1914062, 0.6904297, 3.1054688, 3.9609375, 3.6035156, -4.0117188, -1.8945312, -2.1484375, 5.0234375, -3.0136719, -3.4277344, -2.1992188, -12.765625, -6.078125, -1.4257812, 6.7382812, 3.015625, 5.5898438, -4.203125, 1.9980469, 2, -9.9375, 6.5117188, -4.0976562, -10.5546875, 2.6835938, 0.8051758, -6.2929688, -4.4609375, -1.7558594, -8.6015625, -2.1738281, -1.8896484, 2.7128906, -2.1875, 0.36279297, -1.3310547, -2.3964844, -0.8652344, -7.7265625, -9.390625, 0.8305664, 4.1523438, -2.28125, 0.80615234, -2.625, 2.6503906, -1.6152344, 0.14135742, -2.9882812, -0.953125, 2.7402344, -6.9960938, -9.03125, -0.80322266, -6.6171875, 5.1328125, 0.07006836, 0.057159424, 0.1998291, -2.5683594, -1.5751953, 7.890625, -0.30151367, -2.4785156, 5.984375, 4.375, -2.5058594, -3.1816406, 0.123168945, 1.2431641, 4.3125, -1.4072266, -6.7265625, -8.578125, 1.3505859, -0.36938477, 12.1015625, 3.6660156, -5.4960938, 12.3359375, -2.4941406, -2.6523438, 9.4375, 5.09375, 5.78125, 0.8774414, -9.1953125, 3.8261719, 1.7871094, 3.7636719, -1.3613281, -0.9633789, 2.140625, -2.6367188, -1.8212891, 1.7089844, 0.89160156, -3.5566406, -1.8945312, -3.2109375, 3.5429688, 1.8408203, 3.8671875, 10.3671875, 2.4980469, 3.8144531, 4.3710938, -2.0546875, 1.8818359, 3.3339844, 10.90625, 0.2434082, 3.8925781, 2.390625, -0.7036133, -6.359375, -0.44726562, -1.2910156, 11.6953125, 1.2539062, 3.6972656, -3.1894531, -2.84375, -1.09375, -3.2714844, -1.5859375, -0.8857422, -8.6328125, 1.2988281, -4.03125, -0.28271484, -10.4453125, 1.4257812, -4.8945312, -3.0625, -10.671875, 6.2851562, -0.4025879, 3.1621094, 1.6552734, 1.5644531, -1.3486328, 3.0390625, -12.390625, 2.9960938, 5.796875, 2.7402344, -1.4550781, 7.9492188, 3.9003906, -7.3515625, 14.390625, -5.2421875, 1.3662109, -1.3535156, 8.3125, -1.6113281, 15.25, 3.2734375, 3.6699219, 2.5273438, 4.46875, -4.5195312, -7.9101562, -5.4375, 0.93066406, 1.7167969, 1.5449219, 8.25, 3.0253906, 10.0859375, 6.0546875, 1.2587891, -2.3710938, -0.9243164, 9.2578125, -16.40625, 1.6386719, 2.0722656, 4.375, 0.51660156, -3.1328125, -12.6796875, 0.7885742, 6.2890625, 3.9824219, -1.6445312, -2.6230469, -6.953125, 0.8178711, -9.5546875, -4.21875, -1.5888672, 0.124938965, 3.9199219, 12.7578125, -8.8203125, -0.5253906, -1.2519531, 1.984375, 0.77490234, 0.05987549, 9.0625, 0.87402344, 0.32006836, -9.2109375, 2.5039062, -2.2460938, 5.7304688, -7.3828125, -2.4042969, 1.8945312, -3.6113281, 2.2285156, 6.0820312, 4.34375, -2.2128906, 9.296875, -2.1816406, -5.8085938, 13.8046875, -7.4257812, -0.13049316, 11.1484375, 6.3632812, -4.4375, 8.3828125, 0.20654297, -2.5429688, -6.3320312, 5.1953125, -3.8535156, 2.5625, 0.94921875, -0.32861328, 0.13232422, 0.13671875, -4.0078125, 1.8740234, 2.8828125, 0.7373047, 1.9296875, -7.2773438, -10.65625, 5.6171875, -4.3671875, 7.1210938, -3.9492188, -1.8623047, 1.859375, 3.4707031, 0.22302246, -5.0742188, -2.3808594, 6.3398438, 4.0078125, -6.8671875, 4.6445312, -29.296875, 1.5498047, 4.1015625, 15.9375, -1.9375, -0.6767578, -3.6933594, 1.6123047, 11.234375, -0.34643555, -1.2509766, -1.8945312, 6.0546875, -1.2880859, 7.6679688, 11.1875, -2.2011719, -9.90625, 4.109375, -5.2226562, 0.014137268, -2.40625, -4.0820312, -6.2304688, -4.203125, -1.7685547, 1.6132812, 0.8852539, 0.53125, 3.578125, 13.0234375, -7.0703125, 6.3789062, 2.7714844, -6.2773438, 2.4257812, 2.1503906, 0.31811523, -1.2666016, 1.0380859, -6, -14.2734375, 4.6875, 4.28125, -0.33618164, 2.8710938, -7.125, -4.4023438, 6.0664062, 5.5664062, 6.890625, -2.8730469, -2.6367188, -6.8359375, -18.515625, 5.3007812, 5.1445312, -3.8496094, -3.1894531, 7.0195312, 7.796875, 10.2890625, 3.7792969, -5.078125, 0.34472656, -0.53808594, 6.1015625, -0.67333984, 3.0820312, 6.0234375, 12.328125, -1.1113281, 6.3203125, -2.2753906, -1.859375, -4.6367188, 0.42895508, -8.0625, -0.92285156, -5.546875, -1.9550781, -0.4729004, 8.609375, 1.8144531, 6.4609375, -6.5195312, -0.04650879, 8.796875, -1.9560547, -5.4296875, -3.2382812, 3.3847656, -2.8867188, 8.0078125, -2.84375, 2.09375, 9.5234375, 3.515625, 7.2578125, 1.6318359, 0.47070312, 4.8789062, 3.7324219, 0.49121094, 5.5859375, -6.421875, -6.2226562, -0.024841309, -19.65625, -5.7851562, 1.2353516, 0.13330078, 3.8242188, -14.9921875, -2.4121094, 5.90625, 1.1035156, -0.9057617, -6.75, 3.4003906, -12.1328125, 1.6767578, -3.7382812, 7.9140625, -5.765625, -4.0546875, -5.6484375, -6.2773438, 2.8378906, 5.0351562, 2.2148438, 3.0019531, 3.9042969, -1.6337891, -7.6367188, -1.7207031, -9.25, -10.0546875, -0.26098633, 0.72314453, 6.1523438, 2.6660156, -14.390625, 6.1601562, 0.14294434, 3.375, 7.75, 6.6367188, 9.578125, 5.7382812, -1.1328125, -0.22924805, -1.21875, -4.3828125, 6.7734375, -3.5058594, 4.6835938, 3.3730469, -1.46875, -2.2480469, -0.9584961, 6.1992188, -8.859375, 4.1875, 1.7792969, 6.1914062, -11.9609375, -5.9375, 4.7617188, -6.5117188, 3.3183594, -7.8164062, -1.2910156, 5.7460938, -0.45629883, -3.1328125, -1.78125, 10.1328125, 8.0078125, -1.359375, -4.1953125, 6.1328125, 2.1503906, 9.6328125, 2.2636719, 2.4804688, 6.1992188, -5.2070312, 4.875, 3.46875, -4.96875, 0.8413086, -9.3125, -6.6640625, 2.2890625, 1.3378906, -2.6523438, 0.70654297, -10.1171875, -3.6484375, -1.5458984, 3.7988281, -8.890625, 6.6875, 0.6352539, -3.3164062, -15.453125, 0.070617676, -11.4140625, 4.3007812, 3.3398438, 0.0076141357, 6.40625, -2.5117188, -1.0107422, 4.0039062, 2.2441406, 5.1054688, 7.9296875, -1.3154297, 7.4375, -2.6484375, 1.5507812, -3.640625, 2.5878906, 4.3046875, 6.6601562, 7.703125, 3.890625, -1.6591797, -1.9121094, -0.4025879, 5.4882812, 7.796875, -7.9023438, 6.6757812, -9.3671875, -13.1484375, 2.3945312, 1.3564453, 2.3964844, -5.2109375, -3.5996094, 1.0830078, 0.5463867, 7.7929688, -2.140625, 9.609375, 0.32543945, 0.5151367, -6.4023438, -0.30395508, -1.8837891, 5.5664062, -4.1796875, 0.9584961, 1.9707031, -3.2832031, -3.4121094, 4.0625, -2.1171875, 1.1357422, -3, 1.3808594, -1.1542969, 8.1875, -4.796875, 7.1445312, -6.4921875, -7.3554688, -4.6289062, 8.5078125, 4.1601562, 12.4765625, -0.59033203, -15.546875, 6.6015625, -11.7734375, 3.1894531, -6.8867188, 1.7568359, -15.0234375, -9.28125, 5.625, -11.0625, -1.7939453, -0.32373047, -1.3115234, 3.4355469, -2.3964844, -5.703125, -5.2421875, -6.9179688, 0.3400879, -1.8759766, 1.8945312, 5.6953125, -1.7392578, -2.3066406, 7.4492188, 8.3984375, -5.2773438, 0.24072266, 2.2929688, -0.86035156, -5.453125, -0.03829956, 6.90625, -2.5058594, 1.1679688, -0.6816406, 8.875, 5.9453125, -6.1054688, -1.1533203, 2.8125, -1.2919922, -7.6757812, 8.203125, 10.4453125, -8.7578125, 8.0703125, -4.1953125, -5.1367188, 5.859375, -3.5917969, 7.9804688, -10.953125, 6.0078125, -9.9765625, 1.2978516, 8.65625, 5.3398438, 2.421875, -6.2578125, 2.0800781, -4.6210938, 6.3632812, 5.59375, 6.1601562, 0.89501953, -0.11895752, -1.34375, -6.6367188, 4.234375, -6.96875, -1.6533203, 3.5976562, -1.5839844, -3.6464844, 4.453125, 1.9345703, 6.4882812, -9.125, 1.6337891, 3.9238281, 9.328125, 4.8320312, 2.2304688, -5.15625, 6.6328125, 3.1757812, -1.5986328, -3.9472656, -2.4453125, 6.1875, 6.3046875, 12.2421875, 2.7539062, 2.2597656, 6.6601562, -6.7890625, 5.1523438, -3.5371094, 2.3964844, 1.3886719, -3.2871094, -4.6132812, 4.4765625, 1.1660156, -1.3037109, -3.90625, -4.8710938, -0.71240234, 7.9296875, -4.3515625, 6.9453125, 2.15625, -7.8945312, -9.796875, 3.21875, -7.9023438, -12.3671875, 4.6835938, 4.6171875, 6.8515625, 7.1875, 0.02067566, -1.9511719, -9.7890625, -6.453125, 8.4609375, 7.46875, 9.46875, -4.5898438, -4.7304688, 3.4121094, 4.6796875, 3.4160156, 1.5644531, 19.953125, -1.8925781, 7.3671875, -11.5234375, 0.27905273, 2.4257812, 11.453125, 8.765625, 2.0292969, 10.390625, 1.078125, 4.8125, 3.9726562, -4.1367188, 8.40625, 0.60839844, 4.4414062, -5.7890625, 11.8828125, 3.3398438, -4.8554688, 1.0263672, 8.828125, 2.6640625, -3.703125, -5.3085938, -6.8789062, -7.1132812, -3.1464844, 0.50341797, 3.2558594, -1.4560547, -0.88183594, -3.8867188, 3.4863281, -4.5390625, 7.9609375, -1.3818359, 3.3183594, -7.0273438, -2.2617188, 2.2226562, -6.9296875, -5.6992188, 2.3242188, 2.2578125, 1.2783203, 13.46875, -0.8623047, 0.73583984, 2.6074219, -2.7050781, -0.86621094, 2.4550781, -5.5039062, -6.1757812, 10.2578125, 1.9365234, -1.2636719, -4.6953125, -1.1542969, 4.3867188, -0.059753418, 6.8242188, -0.4736328, -7.5820312, 6.0117188, -4.6171875, -1.8027344, 1.1640625, 2.8613281, -2.6210938, 3.8886719, -3.9355469, -6.0390625, 3.2539062, -0.0010108948, -8.921875, 3.1953125, 0.6845703, -0.9165039, 4.2539062, 5.7617188, 8.8984375, 5.7148438, 5.1953125, 4.5742188, 1.1865234, -3.3984375, -0.9682617, 4.9023438, 2.8808594, -3.0996094, 13.3046875, 5.7304688, 4.6835938, 5.7890625, 0.35473633, -4.8046875, -7.0976562, 3.6816406, -4.3320312, -5.8554688, -13.6953125, -7.2539062, 1.1005859, -2.7832031, -0.7241211, -5.4414062, -3.1210938, -2.3691406, 12.71875, 0.55810547, -2.109375, 5.8203125, -1.6259766, -2.6933594, -2.6132812, -3.2324219, 10.1953125, -0.75439453, 4.0195312, -2.0898438, 8.671875, -2.5898438, 7.5078125, 6.65625, -3.875, 3.1796875, 3.296875, -4.3398438, 6.9453125, -0.23693848, -1.2070312, 3.7890625, -0.5878906, 7.4609375, 6.3828125, -4.4257812, -3.5761719, -2.7949219, 6.265625, 4.4296875, 2.8476562, 2.8066406, 1.8388672, 4.0820312, 2.1386719, -3.7011719, -6.0898438, 2.7382812, 2.5371094, 6.4296875, 3.4335938, 0.7739258, -9.1640625, -10.8671875, 0.2939453, 3.1855469, -2.2851562, -6.0507812, 0.8022461, -3.8046875, 0.4099121, 4.4609375, 4.3945312, 0.35546875, -2.125, 3.3535156, 7.9296875, -0.9301758, -0.036254883, 0.4501953, -13.6015625, 1.2412109, -4.4960938, -3.2929688, -16.453125, 0.3720703, -1.2548828, -2.9335938, 0.49121094, 8.421875, -2.2851562, -5.0117188, 2.0410156, 2.6933594, -3.3164062, -10.8671875, 5.2265625, -9.625, 7.0976562, -3.6699219, 6.0234375, -2.4726562, -3.1679688, -5.2539062, -0.7373047, -4.3046875, -4.484375, -3.0976562, 6.765625, -3.5410156, 6.5703125, -8.3359375, -0.7583008, 7.3515625, -1.2255859, -1.5175781, -3.5078125, 1.0332031, 13.4921875, -0.8671875, -6.6289062, 10.296875, -0.10571289, -20.140625, 1.7568359, 2.2148438, -2.4882812, 7.1953125, 2.1386719, 2.9550781, -35.25, -6.4765625, -1.6416016, -1.15625, 6.1835938, 1.0712891, -2.3671875, 3.8925781, 5.859375, 4.7070312, -0.2939453, 0.028701782, 2.7480469, 4.7539062, -9.5546875, 4.953125, 11.578125, -5.2851562, -1.7070312, -12.1171875, -1.0273438, -1.4765625, 7.7578125, -3.5273438, -3.0722656, -3.3652344, 4.6484375, -0.31396484, -0.9482422, 8.2734375, -9.03125, 11.3203125, -3.8515625, 2.1992188, -1.0439453, -1.7998047, -1.3974609, 6.5351562, -6.8476562, -1.7382812, 2.4628906, 8.6484375, -4.7578125, -6.1953125, -3.2460938, 2.6542969, -2.7421875, -2.3828125, 0.7939453, -10.96875, 8.3515625, -24.375, -3.3691406, -7.8203125, 12.71875, 5.8203125, 0.2454834, -6.9648438, -1.5136719, -0.09259033, 1.2958984, -8.7265625, -0.6948242, -4.6015625, -0.75390625, -7.640625, -8.4140625, -5.828125, -5.6328125, -8.1171875, -14.3515625, -9.1328125, -9.8359375, -5.0703125, -2.0117188, -5.6875, -4.8007812, 1.2382812, -3.796875, -11.1171875, 9.703125, 3.2167969, 2.4082031, -5.2265625, 5.8007812, 0.6923828, -4.9960938, -1.1337891, -4.765625, 3.1894531, 16.78125, -2.2128906, -1.5888672, 1.3486328, -2.7988281, -6.265625, 18.046875, 5.7460938]\n",
            "[-1.4746094, 8.8671875, 0.46923828, 11.03125, 1.4023438, -5.90625, -5.0234375, 0.94140625, 7.796875, 0.8486328, 0.21740723, 4.2265625, 0.42407227, 1.6201172, -1.7753906, -3.8417969, 9.6484375, 8.96875, 3.0566406, 8.3515625, 8.3359375, -0.18286133, 9.6171875, 3.0898438, 10.7890625, 4.0742188, 4.578125, 2.0097656, -3.7089844, -4.3945312, -3.1347656, -8.3359375, 4.8671875, 10.640625, 5.109375, 3.4160156, 0.69873047, 3.5175781, -4.9101562, 0.69921875, -3.9296875, -4.359375, 3.4316406, -3.4238281, -4.390625, -4.7109375, -15.5078125, 3.7480469, -5.1132812, 6.9179688, 0.5566406, 7.2148438, -5.875, 4.953125, 8.578125, -3.921875, 3.7949219, 0.99365234, -2.7539062, 5.609375, -4.7578125, 0.4477539, -2.4121094, 3.375, -7.1601562, -1.5, -4.3164062, -4.1132812, 1.1230469, -3.9746094, -4.1523438, -0.41064453, -0.36254883, -9.15625, -7.4726562, 2.3066406, 0.6611328, -0.16845703, -1.1376953, -2.5351562, -0.67871094, -4.9140625, 3.2636719, -12.2109375, -2.328125, 5.0703125, -4.890625, -3.3554688, -4.7070312, -5.7851562, 3.3222656, -3.3652344, -0.70996094, 2.2558594, -0.87939453, -5.4257812, 7.5117188, 2.7128906, -0.9238281, 8.5625, 2.0390625, -5.1328125, -4.515625, -0.35351562, 1.8320312, 10.2890625, 2.4667969, -3.3105469, -9.390625, -3.6894531, -4.7421875, 8.8828125, 0.29541016, -3.4414062, 6.84375, -0.38110352, -2.6269531, 9.7890625, 3.0175781, 12.015625, -2.5664062, -2.6796875, -1.375, 1.2558594, 4.9726562, -1.7529297, -5.421875, 1.5693359, -1.1152344, -0.94873047, 3.4042969, 3.1816406, 1.3164062, -0.72216797, 3.5742188, 7.6992188, -2.1445312, 3.984375, 14.4296875, 0.7001953, 1.6259766, -0.77197266, -8.828125, -3.0917969, 3.0253906, 3.640625, -5.1132812, 0.45288086, -0.7114258, -3.7675781, 1.3642578, 3.0546875, 6.1289062, 8.296875, -1.7880859, 2.375, -1.390625, -0.5097656, -4.140625, -6.0117188, -2.3007812, 2.5351562, -10.4765625, 5.7421875, 2.7441406, -1.8173828, -7.7109375, 8.5703125, -0.19934082, -8.6484375, -4.9960938, 13.0859375, -2.2519531, 6.8085938, 0.7338867, -4.5390625, -0.24597168, -1.8857422, -6.5507812, 4.6835938, 5.8984375, 2.7910156, -2.1582031, 4.984375, 12.1015625, -3.7207031, 9.4140625, -0.13146973, -1.1220703, 6.7578125, 8.484375, -1.4755859, 7.9960938, 5.6835938, -3.28125, 4.9648438, 2.8300781, -4.5117188, -8.8828125, -0.37475586, 8.1875, -3.0976562, 6.34375, 9.3828125, 3.5664062, 10.3984375, 2.4121094, 2.5605469, -3.9511719, -0.8676758, 2.9257812, -10.3515625, 1.9003906, -1.4287109, 3.0917969, -5.0117188, -6.1054688, -12.78125, 2.4003906, 7.7617188, -3.3945312, -1.1972656, 1.1162109, -9.421875, 6.5117188, -12.3828125, -2.0917969, -3.7949219, -2.1132812, 1.4746094, 10.2890625, -7.0664062, -2.1425781, 5.3242188, 2.1894531, 2.4355469, 4.515625, 1.5410156, 6.515625, 3.2910156, -2.3261719, -0.9272461, -5.9023438, 8.3515625, -10.109375, -4.0703125, 1.8808594, -0.5878906, 5.1132812, 4.671875, 3.2089844, 2.1953125, 6.734375, -4.0976562, 3.0566406, 8.4296875, -11.359375, -0.22509766, 6.0039062, 7.0742188, -2.9804688, 7.6289062, -0.28466797, -4.3203125, -7.0195312, 0.70947266, -4.71875, 1.5048828, -0.9116211, -0.6508789, 5.8359375, 5.0195312, -3.890625, 2.6289062, 1.6328125, -2.1582031, 2.7246094, -5.9765625, -3.34375, 6.9882812, -1.2363281, 10.3125, -7.8828125, -4.6640625, -0.7133789, 3.8300781, 1.1484375, -0.41625977, -8.3359375, 0.96533203, 9.4375, -5.9609375, -1.2714844, -33.71875, 3.2617188, -0.2286377, 12.5703125, 2.2851562, -6.0273438, -1.8994141, 4.5429688, 13.21875, 1.6845703, 3.9335938, -2.1914062, 0.091430664, 8.09375, 7.2695312, 5.6992188, -2.6230469, -6.7890625, 4.703125, -6.6445312, 5.328125, -2.6269531, -6.78125, -4.2265625, -8.2265625, -1.0810547, 2.4628906, 1.0791016, -3.7226562, 7.6640625, 13.5234375, -9.109375, 1.7724609, 2.21875, -6.390625, 4.7070312, 0.9448242, 0.63134766, 8.171875, 3.4746094, -4.375, -4.5039062, 7.9960938, 6.515625, -1.9257812, -2.0390625, -7.2578125, -4.0546875, 7.109375, 1.5185547, 2.1054688, -9.0703125, -9.21875, 2.1074219, -7.953125, 9.6484375, 11.09375, 3.7636719, -2.484375, 3.9355469, 7.421875, 6.6015625, 6.8828125, -1.2353516, -3.4335938, 4.8203125, -1.6962891, 1.2978516, 5.9296875, 7.4101562, 8.7578125, -2.8300781, 4.96875, 0.4116211, -1.5654297, -8.484375, 0.70703125, -2.71875, -1.9140625, 2.1015625, 0.62109375, -5.109375, 4.6054688, 2.9121094, 10.1328125, -9.4296875, 3.5761719, 6.015625, -3.0488281, -5.0703125, -5.890625, 2.4550781, 2.3339844, 5.96875, -3.1113281, 8.8671875, 4.2382812, 10.5234375, 4.703125, 1.7939453, -0.27685547, 6.03125, 7.2617188, 3.296875, 7.0664062, -5.5507812, -9.0703125, -2.9550781, -13.0859375, -1.0615234, 2.3378906, 2.4765625, 4.6445312, -14.796875, -4.8476562, 4.7851562, 0.22363281, -5.0742188, -6.0859375, 3.9941406, -10.0703125, 4.0195312, 0.8647461, 3.2480469, -3.2597656, -1.2080078, -8.484375, -7.6875, -2.6015625, 8.125, 1.9423828, 5.8710938, -3.8398438, -2.0273438, -5.921875, -1.2070312, -10.84375, -9.7734375, 0.14233398, -4.6289062, 4.0742188, 2.0234375, -13.109375, -1.2421875, 7.5117188, 4.84375, 1.5908203, 8.921875, 6.1484375, 3.9746094, -0.01763916, -0.20275879, -3.2285156, -5.2304688, 7.9257812, -1.5830078, 4.8789062, 2.1269531, 1.2402344, -0.20922852, 0.0791626, 4.0507812, -10.2734375, 2.4179688, -1.9667969, 2.1191406, -9.296875, -1.8076172, 6.0585938, -7.375, -1.5351562, -10.78125, -4.8359375, 5.0703125, -5.8789062, -3.6464844, -1.1582031, 10.2421875, 11.140625, -0.38598633, -1.5117188, 2.4589844, 1.9980469, 9.0859375, -2.0644531, 2.203125, 9.1171875, -6.7460938, 6.9609375, -3.3027344, -1.8388672, -2.4140625, -13.53125, -1.8095703, -1.9833984, 5.0390625, -2.8808594, -0.5336914, -10.1328125, -5.3945312, -1.1367188, 7.34375, -3.4550781, 5.6132812, 5.9570312, -1.8183594, -18.609375, -2.3125, -10.1171875, -2.7382812, 4.0585938, -1.4248047, -0.10913086, -5.046875, 0.6503906, 5.2539062, -1.7490234, 2.3457031, 2.9589844, -5.5, 4.4257812, -1.4804688, 1.2792969, -1.8164062, 3.3730469, 4.7070312, 7.6445312, 9.7109375, -2.1972656, -3.765625, 0.17126465, 0.5371094, 0.6074219, 5.7617188, -5.8203125, 1.3876953, -6.3515625, -13.09375, 7.1953125, -1.0185547, 0.7944336, -7.0546875, -6.8828125, 3.6386719, -2.4902344, 5.4960938, 0.83691406, 9.2890625, -0.4091797, 0.9042969, 1.3515625, 1.0361328, -4.6601562, 2.4765625, -5.6914062, -2.7675781, -0.05859375, -1.5058594, 2.484375, 1.8251953, -2.9316406, -0.031051636, -4.8945312, 6.3828125, 3.5566406, 9.265625, 3.4609375, 1.7285156, -8.4296875, -4.9375, -9.0703125, 6.140625, 8.25, 9.4453125, 2.2695312, -12.4140625, 6.1523438, -9.5859375, 2.2011719, -1.6220703, 2.2949219, -7.625, -6.9023438, -0.103637695, -10.171875, -1.4619141, -4.21875, -2.265625, 2.8066406, -1.3330078, -12.4140625, 0.35766602, -13.5546875, -3.484375, -2.0527344, 2.09375, 5.3164062, 4.6171875, 0.36645508, 9, 8.859375, -1.1542969, -2.3203125, -1.0332031, 2.8398438, -0.095581055, 4.1679688, 1.5546875, 2.9257812, 0.90185547, 1.921875, 5.9453125, 4.4453125, -3.5839844, 3.2890625, 2.3300781, -5.6640625, -4.4453125, 4.4257812, 7.9648438, -6.8515625, 8.0234375, -1.1728516, -5.1757812, 7.0585938, -1.3027344, 3.5214844, -5.8242188, 3.5, -8.03125, 10.0234375, 5.9921875, 5.2851562, 7.9335938, -5.25, 10.1484375, -5.5585938, -1.2958984, 1.1464844, 1.8447266, 1.9472656, -4.234375, -4.2265625, -9.5546875, 1.1816406, -3.5800781, 2.1503906, 4.4921875, -2.6640625, 2.0664062, 0.1270752, 10.390625, 5.9335938, -2.7441406, 4.1328125, 3.4824219, 0.15734863, 6.765625, 4.15625, -7.4921875, 2.1679688, 5.8476562, -1.2333984, -7.0664062, -5.6875, 5.6796875, -0.3647461, 12.2734375, -0.5703125, 0.4951172, 7.5390625, -0.6850586, 7.3164062, 2.7050781, -3.515625, -2.4257812, -7.0429688, -6.8085938, 2.5546875, 6.7070312, -1.8173828, -3.7304688, -5.1289062, 2.3867188, 2.5351562, -1.3330078, 6.3007812, 0.2800293, -6.6367188, -0.3251953, 6.2460938, -2.8613281, -13.5234375, -4.6289062, 1.6171875, 0.10723877, 2.9765625, 2.6894531, 1.1474609, -10.84375, -5.265625, 2.03125, 9.796875, 6.0273438, -10.5625, -9.34375, 2.5078125, 8.640625, 1.3554688, 2.7636719, 0.6567383, -3.1210938, 5.4609375, -8.6484375, -0.6254883, 4.28125, 2.2460938, 2.2324219, 2.5585938, 12.8359375, -3.0742188, -2.3105469, -2.1367188, -1.5322266, 5.6953125, -1.7734375, 9.75, -4.7695312, 10.765625, 4.0234375, -4.4296875, 0.10491943, 4.1757812, -0.66308594, -5.1445312, -2.2753906, -11.21875, -4.8671875, -2.1035156, -3.21875, 7.4921875, 0.14111328, -0.8803711, -0.47802734, 4.4414062, -7, 3.0078125, -0.9199219, 11.609375, 1.8955078, -2.1484375, 6.8125, 2.09375, -4.2929688, 2.1777344, 5.546875, 3.0390625, 6.0195312, -0.9267578, 6.234375, 1.6542969, -5.0273438, 4.7851562, 5.7304688, -9.34375, -7.8476562, 8.34375, 4.640625, -4.4101562, -0.23791504, -3.3222656, 0.9536133, -3.6308594, 5.9492188, 7.9960938, -6.0546875, 9.0546875, -0.6152344, 3.1523438, 0.99316406, -0.60595703, -4.8046875, 1.0351562, -2.703125, -5.4257812, 6.7851562, -2.8652344, -1.9150391, -0.60791016, 7.8554688, 4.5507812, 1.3310547, 6.5351562, 15.4921875, 4.234375, 5.5039062, -1.1240234, -6.53125, -4.3320312, 1.3457031, 1.6875, 1.7919922, -3.1113281, 19.890625, 3.9433594, 8.8515625, 6.2382812, 5.0859375, -6.4023438, -9.5234375, 1.6669922, -7.4257812, -3.3945312, -15.6484375, -5.5429688, 0.72265625, -3.296875, -5.4960938, -13.390625, 0.36108398, 0.37109375, 9.7734375, 5, -4.6484375, 6.0898438, -0.8930664, -0.6635742, -3.6191406, 0.3737793, 12.0078125, -4.2890625, 2.578125, -10.15625, 3.3496094, -3.7421875, 4.0117188, 6.8320312, -4.4140625, 0.6645508, 4.6953125, -3.15625, 4.3007812, 5.828125, -4.2265625, 6.8125, -2.796875, 6.734375, 10.265625, -5.5351562, -10.6953125, -4.484375, 5.2617188, 3.0722656, -0.31420898, 1.2363281, -0.22253418, 3.5195312, 0.6826172, 0.85058594, -4.890625, 1.1806641, -2.1640625, 3.7050781, 8.03125, 0.91748047, -6.53125, -7.3085938, -3.2167969, 4.5117188, 2.7636719, -5.828125, -1.7480469, 1.8369141, 4.2695312, 5.6757812, 5.0429688, 0.8510742, -2.7246094, -1.5117188, 1.4355469, -4.265625, 2.0078125, -3.1972656, -10.984375, -0.018676758, -8.2578125, -7.3828125, -16.96875, 3.7519531, -5.3398438, -0.8808594, 4.3554688, 7.7070312, 8.2421875, -6.2773438, 0.42895508, 1.15625, -1.0244141, 1.9931641, -0.18762207, -9.265625, -0.5004883, -4.0390625, 1.6865234, -4.2890625, 0.8696289, -1.2021484, -0.30566406, 3.5078125, -4.8320312, -8.9453125, 6.671875, -3.3261719, 12.296875, -7.109375, 3.1660156, 9.640625, -1.3144531, -3.2773438, -4.53125, -1.7128906, 2.4707031, 1.1533203, -11.5625, 1.8408203, -1.3037109, -14.40625, 3.5800781, 0.62597656, -5.1210938, 4.3125, 0.085754395, 1.4941406, -43.03125, -4.3984375, 3.6699219, -1.5703125, 7.1914062, 2.9726562, -2.5058594, -3.9609375, 3.5625, 9.015625, 3.1875, 3.1386719, 5.0703125, 9.1328125, -1.6318359, 3.0097656, 7.5585938, -1.4472656, -5.7578125, -9.5390625, 1.7460938, 0.62353516, 6.4960938, -0.640625, -3.1953125, -7.3867188, 0.29296875, 3.6972656, 1.8632812, 5.7304688, -0.82421875, 16, -6.5546875, 3.03125, -4.7421875, 0.11633301, 0.50097656, 7.4765625, 1.4853516, -3.1953125, -0.43041992, 8.125, -1.9892578, -4.3867188, -4.3359375, 2.4707031, 4.8085938, -3.640625, -1.3330078, -13.09375, 8.1015625, -25.59375, -1.5664062, -6.9375, 7.6757812, 8.8671875, 1.3310547, -2.1035156, -1.4394531, -1.6552734, -1.1728516, -5.1757812, -1.109375, -4.546875, -4.3867188, -7.9101562, -10.3671875, -3.9003906, -5.5742188, -8.125, -5.8242188, -8.546875, -5.2460938, -8.5078125, -10.15625, -3.6542969, -6.2929688, -3.6191406, -1.1435547, -8.21875, 3.7324219, 7.7578125, 4.734375, -8.90625, 3.0996094, 0.87158203, -4.5976562, -2.8222656, -2.0214844, 5.2382812, 15.46875, 2.6054688, -7.7382812, -0.04837036, 1.1425781, 3.4824219, 10.34375, 2.0390625]\n",
            "[0.61816406, 1.8857422, 4.3125, 8.546875, -0.2590332, 4.1367188, 1.6982422, -2.5117188, 9.921875, -0.6464844, -3.828125, 1.5410156, -1.0810547, 6.0703125, -4.953125, -10.796875, 6.8671875, 2.4140625, 1.3115234, 5.1640625, 6.0273438, -6.171875, 1.9638672, 5.1875, 6.453125, 7.8671875, 3.1132812, 4.8476562, -7.265625, 2.9941406, -4.1796875, -2.8476562, -0.81152344, 10.125, 1.0839844, -3.4003906, 1.1689453, -1.3994141, 0.5625, 1.6660156, -4.4140625, -4.9609375, -0.03475952, -3.2421875, -6.4179688, 1.8896484, -14.734375, 0.36328125, -1.0605469, 4.4414062, 2.3046875, 8.9609375, -0.61865234, 2.46875, 4.234375, -8.0703125, 7.3515625, -2.7734375, -10.8125, -2.9355469, -1.1650391, -2.7207031, 1.9677734, 7.3125, -5.9960938, -8.4609375, -1.5712891, -2.7597656, -3.9335938, -2.1347656, -1.2646484, 4.234375, 2.7949219, -12.5078125, -6.265625, 1.9326172, 3.7695312, -4.1484375, -0.71191406, -4.8320312, -1.9716797, -3.7753906, -1.0029297, -10.765625, 1.4345703, 3.4902344, -4.7617188, -8.96875, -5.9804688, -7.828125, 5.7539062, 3.7167969, -2.9101562, -2.8125, -0.97216797, -4.3359375, 9.0234375, -2.7578125, -2.0585938, 6.9726562, 9.1796875, -1.2226562, -6.6601562, -1.1142578, -2.2871094, 9.640625, 1.1279297, -10.3984375, -9.453125, -3.5527344, 2.6875, 9.703125, 1.359375, -0.57910156, 8.1484375, 2.9257812, -0.49365234, 15.2265625, 3.5859375, 8.125, -3.4375, -2.2832031, -0.6875, 1.9931641, 2.9882812, -1.1464844, -2.5214844, 3.0273438, -0.21606445, 0.5727539, 0.15710449, 7.3945312, 3.4160156, -3.6035156, 5.7890625, 0.60791016, -2.3613281, 9.71875, 11.7890625, -4.1289062, 4.3320312, 5, 2.71875, -1.515625, 1.9609375, 6.6328125, -1.2363281, -5.2851562, 6.515625, 2.7714844, -7.4882812, 2.4414062, 5.25, 17.453125, 0.4921875, 5.5507812, -3.4101562, -1.7060547, -0.22888184, 3.6777344, -7.8320312, 3.2597656, -14.765625, 4.7578125, -2.9394531, -1.8251953, -7.453125, 4.7851562, 2.5488281, -3.1875, -5.8945312, 9.359375, -2.5214844, 4.828125, -4.3242188, -1.3789062, -0.17443848, -1.9501953, -1.7373047, 4.8046875, 7.4375, 8.4375, -2.5429688, 7.5390625, 6.2578125, -7.2617188, 5.5195312, -2.609375, 4.9453125, -0.5883789, 2.0566406, -2.125, 9.4296875, 6.9023438, -0.5341797, -0.26708984, -1.6669922, -4.0039062, -2.7714844, -6.0625, 4.6835938, -5.4648438, -2.0703125, 9.34375, 4.0078125, 8.5703125, 7.5351562, -4.2929688, -8.3125, -1.0214844, 4.9804688, -10.84375, 6.7304688, -4.7578125, 1.890625, 1.0361328, 0.98779297, -14.4140625, 5.9023438, 11.65625, -3.6347656, -0.68603516, -1.9658203, -10.296875, 6.6132812, -7.3632812, -4.8554688, -5.1640625, 0.46020508, 1.6972656, 13.8515625, -7.4609375, -0.12817383, 3.0136719, 4.7148438, -2.5507812, -4.3828125, 3.2128906, -2.75, 0.20910645, -5.8554688, 0.23669434, -6.1601562, 3.9570312, -2.1992188, -2.4316406, -1.3183594, -3.640625, 2.5683594, 6.546875, -1.2871094, 1.4648438, 11.1875, -7.375, -0.4013672, 10.3984375, -8.7265625, -2.5605469, 8.6875, 5.8125, -1.4951172, 7.1679688, 2.8164062, -4.7734375, -2.5351562, -0.111694336, -8.125, 10.71875, 0.11981201, 2.9589844, 0.7841797, 3.2324219, -3.2382812, 8.4140625, 4.2109375, -2.9746094, 6.546875, -5.1328125, -4.5820312, 8.1328125, -1.2128906, 9.9921875, 1.0283203, -4.9414062, 0.97314453, 4.3476562, 3.7792969, 0.31396484, -12.03125, 2.4511719, 1.5429688, -7.40625, 0.8984375, -31.546875, 3.5703125, -1.7138672, 12.359375, -2.4179688, 0.64453125, -5.078125, -2.4863281, 7.4921875, 1.6962891, 0.18640137, 1.9521484, 5.171875, 1.8017578, 9.671875, 8, -5.34375, -2.9355469, -0.29077148, -5.3398438, 5.4570312, -1.7041016, -2.4160156, -4.5703125, -7.6679688, -10.140625, 8.046875, -1.1894531, 0.7451172, 5.296875, 9.8046875, -9.9140625, -0.84814453, 1.7431641, -0.74658203, 1.5380859, 8.7109375, -1.4892578, 2.7558594, 2.7949219, -4.2070312, -2.4648438, -0.4489746, 5.390625, 0.87109375, -1.625, -7.1953125, 0.87402344, 4.8164062, -0.1899414, 7.921875, -6.5625, -3.7226562, -5.53125, -10.25, -0.6088867, 10.0546875, -3.5019531, -4.078125, 3.9746094, 2.4082031, 11.4140625, 7.0117188, -2.5605469, -3.7617188, 2.4335938, 3.6738281, 3.2226562, -0.080566406, 4.8828125, 11.84375, -1.1318359, 9.921875, -4.25, -7.9960938, -7.8515625, 0.7871094, -0.41967773, -0.47314453, -3.3945312, 4.7304688, 1.7314453, 5.546875, -0.34814453, 7.8789062, -13.25, -1.0800781, 14.3359375, 2.3398438, -5.9375, -4.9804688, -0.61083984, 1.0449219, 0.7480469, -4.46875, 3.3320312, 8.5703125, 2.9257812, 6.671875, 3.3261719, 0.48632812, 1.0654297, 1.9375, -1.1035156, 3.4082031, 2.3242188, -7.6601562, 0.08154297, -9.3046875, -2.1386719, 5.2070312, -2.6503906, 1.3378906, -20.296875, -5.3710938, 4.3007812, 6.046875, -1.8183594, -4.2851562, 4.5664062, -11.9765625, 1.0449219, -4.2421875, 7.5664062, -1.6181641, 0.31298828, -11.40625, -4.7304688, 6.4648438, 3.2402344, 1.6152344, 6.6484375, 4.140625, -4.3554688, -7.96875, -7.6757812, -11.2890625, -14.078125, -0.072631836, 2.3554688, 5.2109375, -0.6948242, -10.8828125, 0.5229492, -1.8955078, 6.15625, 6.5859375, 2.7246094, 6.9335938, 4.1367188, 0.5991211, 4.8554688, -5.2695312, -8.734375, 5.2109375, -0.08660889, 3.0800781, -1.4707031, -1.1621094, 0.6855469, -5.1328125, 1.7382812, -9.0390625, 1.8935547, -5.578125, 0.9785156, -13.03125, 3.4179688, -2.7304688, -3.0449219, 2.7773438, -11.84375, -2.03125, 1.0703125, -4.4257812, -2.7675781, 1.0693359, 2.9960938, 9.59375, 4.4609375, 0.85302734, 7.2421875, -0.054656982, 7.3945312, 1.3925781, 1.9570312, 6.28125, -3.703125, 1.7412109, -1.9580078, 0.89453125, 2.9101562, -7.4492188, -2.5058594, -3.2324219, 1.2128906, -5.2265625, 1.3076172, -7.5273438, -4.7382812, -0.91064453, 3.0898438, -4.0039062, 9.578125, 7.0195312, -4.6601562, -19.28125, 1.8417969, -18.5, 4.2851562, 5.4960938, 0.85839844, 6.4414062, -5.5234375, 0.99121094, 8.984375, 6.0976562, 5.28125, 5.3632812, 8.4609375, 4.421875, -3.9765625, 1.4082031, -5.3554688, 2.1347656, 2.5859375, 6.8632812, 6.234375, 3.0839844, -6.7148438, 0.5288086, 3.3886719, 3.0996094, -2.6640625, -5.28125, 3.2636719, -2.3691406, -13.875, 6.2539062, -4.3710938, -4.7929688, -2.1269531, -2.0273438, 0.54345703, 5.5585938, 3.7226562, 2.0859375, 5.921875, 3.2207031, 7.515625, -2.9003906, 0.61572266, -4.9375, -4.140625, -5.1796875, -2.265625, 1.4091797, -6.6171875, -2.5039062, 0.2919922, -3.9628906, -1.0546875, -3.4394531, 3.7988281, 5.3632812, 6.2890625, 7.3867188, 2.5175781, -4.8554688, -3.6171875, -7.1171875, 3.3105469, 4.9179688, 12.7109375, 1.5673828, -9.234375, 5.0234375, -10.0859375, 0.9584961, -6.4804688, 2.3769531, -4.9375, -11.6328125, 4.0664062, -10.078125, -0.93847656, 2.2636719, -7.8242188, 1.9521484, 2.7089844, -5.8085938, -3.2792969, -8.8671875, -2.9023438, 0.087524414, 4.9335938, 1.1328125, -1.1533203, 6.7109375, 8.3203125, 9.703125, -8.578125, 3.7695312, 4.3085938, -1.2460938, -0.26879883, 2.8730469, 0.31591797, 4.765625, -4.8398438, -0.7578125, 4.140625, 9.9140625, -4.8828125, 4.2226562, 1.6748047, -8.8359375, -1.1445312, 4.6210938, 4.1367188, -3.2285156, 11.5546875, -5.203125, -7.1992188, 7.7695312, -4.8320312, 8.3359375, -6.7382812, 4.953125, -10.453125, -1.7666016, 6.9296875, 4.5, 2.859375, -2.4101562, 21.796875, -3.1210938, 3.9941406, 7.578125, 1.6894531, 7.2617188, -7.328125, -0.62109375, -10.1015625, 7.0625, -0.9975586, 0.49389648, 3.9921875, 1.8427734, 3.03125, 1.0507812, 1.9355469, 5.703125, -3.3242188, 4.875, 2.6367188, 3.8183594, 7.6835938, 1.8300781, -5.3125, 7.9101562, 3.6347656, -6.34375, -0.65771484, -1.1699219, 3.6132812, 1.0361328, 12.2421875, 2.2011719, 2.2871094, 7.5664062, -4.3203125, 4.5351562, 1.9316406, -1.3828125, -0.50341797, -6.9179688, -2.3222656, 6.6992188, 0.28759766, -2.1953125, -2.6542969, -1.4121094, 2.21875, 2.0351562, -6.2109375, 9.3671875, 2.1035156, -4.9023438, 0.51464844, 2.9980469, -0.10241699, -8.375, 1.3613281, -1.1279297, 3.9082031, 0.15588379, 1.2373047, -2.5898438, -6.5234375, 2.1054688, 7.2460938, 7.578125, 9.703125, -10.5625, -4.4765625, -3.9609375, 6.2109375, -0.54003906, 8.3125, 5.0898438, -1.8740234, 6.3671875, -7.3789062, -0.9873047, 8.1875, 5.7851562, 4.5234375, 3.9433594, 8.5390625, 1.5361328, -4.3945312, -4.046875, -0.39257812, 5.609375, -3.7675781, 4.6875, -10.0859375, 7.625, 3.7832031, -3.7441406, -3.5019531, 5.203125, -0.2944336, -2.9492188, 0.9404297, -12.046875, -7.2773438, -3.0195312, -2.8554688, 5.671875, -0.94873047, 2.6210938, -3.1914062, 5.0898438, -6.8828125, 9.453125, -2.5605469, 9.75, 1.1015625, -5.796875, 10.6640625, -0.46313477, -4.0429688, -0.44677734, 3.6386719, 2.0625, 11.328125, -2.6816406, 5.4804688, 0.5595703, -5.125, 2.1152344, 2.6640625, -1.8730469, -7.4492188, 9.2578125, -0.2697754, -2.84375, -2.2480469, 1.7158203, -0.43432617, 3.0839844, 6.3554688, 0.52978516, -3.7617188, 1.8271484, 9.203125, 1.3007812, 3.2617188, 0.98583984, 4.8554688, 0.74316406, -5.875, -7.8554688, 8.4453125, -4.4101562, 1.7744141, 1.2783203, 5.6835938, 2.5214844, 4.3789062, -0.19384766, 8.3125, 5.6992188, 6.8515625, 9.5703125, -4.15625, -5.4921875, 0.10064697, 5.34375, -0.46264648, -6.5742188, 11.6953125, 4.5, 2.8300781, 4.046875, -5.7148438, -4.6210938, -13.6484375, -1.4150391, -0.8696289, -3.3613281, -12.1171875, -4.4453125, 5.171875, -3.4042969, -0.3544922, -8.2890625, -1.8935547, -4.328125, 10.7734375, 4.1054688, 1.1835938, 4.0429688, 1.5214844, -3.296875, -6.7890625, 3.0878906, 10.4140625, -6.5429688, 2.6523438, -7.6015625, 8.21875, -1.1455078, 6.2109375, 5.40625, -1.6884766, 4.171875, -2.9199219, 1.8828125, 10.2109375, 1.7744141, -1.3916016, 2.7109375, -9.390625, 5.0390625, 11.9296875, -7.1679688, -6.6523438, -7.0117188, 3.9570312, -1.25, 1.7666016, 2.0625, -0.74902344, 11.6484375, 2.6601562, -2.5117188, -4.0859375, 1.7451172, 3.3378906, 2.28125, 4.515625, 2.9335938, -11.9296875, -11.421875, -9.2578125, -4.84375, 0.95703125, -7.9726562, 5.3867188, 1.9990234, 1.6513672, 2.5683594, 3.3789062, 4.8828125, 0.31420898, 4.9101562, 0.7788086, 3.9882812, 0.53759766, -0.27612305, -8.9375, -4.5234375, -9.84375, -6.5078125, -10.578125, 1.0976562, -6.5, -4.0390625, 2.5351562, 9.46875, 8.4453125, -2.9121094, 3.4609375, 2.4277344, 1.6669922, -7.2148438, -2.9921875, -6.2148438, -5.3945312, 0.9350586, 3.1582031, -2.9121094, -6.8007812, 0.67626953, -5.0078125, -3.9121094, -5.2890625, -7.7617188, -1.9257812, -0.7036133, 5.7070312, -12.3828125, 2.0703125, 8.015625, 0.10559082, 0.27246094, 0.07611084, -1.3867188, 0.36132812, 4.234375, -8.703125, -0.77685547, -3.0761719, -12.546875, -1.8017578, -1.7324219, -5.3242188, 8.203125, 1.2109375, 4.9140625, -44.53125, -5.5, -1.7753906, -1.359375, 8.40625, 8.78125, 0.28320312, 0.28686523, 6.3476562, 6.5703125, -2.0683594, 1.1083984, 7.2539062, 4.4492188, -11.5, 0.81591797, 7.328125, -1.5253906, -2.1347656, -9.4140625, 1.0361328, 5.8789062, 7.9257812, -4.6210938, -3.9863281, -3.3769531, 2.3671875, -0.18444824, -0.6855469, 6.4921875, -0.16259766, 7.21875, -0.99560547, 0.09649658, -4.1914062, 2.9003906, 0.60839844, 3.6347656, -3.0859375, -7.9296875, -1.3994141, 9.78125, 6.2070312, -3.1425781, -3.046875, 6.5546875, 0.2487793, -4.4023438, -5.5742188, -10.671875, 9.953125, -21.8125, 0.48754883, -10.7890625, 12.40625, 5.7304688, 4.2773438, -5.578125, -5.0273438, -0.5341797, -3.296875, -7.5078125, -5.7929688, -3.9160156, 0.12573242, -9.4609375, -15.578125, -2.0097656, 0.30004883, -9.4375, -4.3007812, -3.234375, 0.32983398, -5.7890625, -3.4746094, 3.2207031, -0.5444336, 2.7441406, -0.91796875, -3.8945312, 2.7753906, 6.4101562, -1.2851562, -6.4492188, 5.75, -0.81884766, -4.2617188, -3.3632812, -6.234375, 4.4648438, 13.6484375, 1.40625, -2.1582031, 4.234375, 0.47705078, 9.6875, 7.2695312, -0.9042969]\n",
            "[-3.546875, 1.2832031, 1.1748047, 10.5234375, -0.46411133, 5.5078125, 2.8007812, -0.7524414, 5.9453125, 6.9882812, -4.7539062, 2.5722656, 1.4042969, 3.1191406, 0.6948242, -4.8710938, 4.46875, 7.109375, 5.6132812, 4.2382812, 4.296875, -3.109375, 5.875, -2.4804688, 9.9375, 6.8046875, 5.65625, 1.1328125, 2.171875, -2.1210938, 1.7001953, -15.015625, 6.7773438, 5.796875, 3.59375, 11.6640625, 4.59375, 1.8847656, -0.47705078, 1.3222656, -2.3378906, -4.2148438, 0.97021484, -1.5185547, 0.7636719, -2.921875, -11.515625, 1.7949219, -0.31469727, 2.1347656, 0.50390625, -1.2978516, -4.2109375, 6.5898438, 1.5986328, -6.1210938, 2.5390625, -2.5644531, -3.1582031, 5.4492188, -3.7050781, 3.1171875, 4.7226562, -2.21875, -3.0234375, 0.07714844, -6.6210938, -1.046875, 1.2460938, 0.11694336, 0.9013672, -1.9492188, 1.1289062, -8.265625, -5.5390625, 0.65722656, 7.2851562, 0.23449707, -3.0996094, -1.9443359, 1.8525391, 0.6821289, 1.828125, -11.875, -3.1074219, 8.6171875, -7.328125, -8.75, -1.2050781, -11.984375, 5.6054688, -2.7324219, -2.359375, -2.0839844, 3.8691406, -5.6679688, 11.1484375, -1.4052734, -3.4960938, 5.359375, 0.7402344, 0.13720703, -7.5859375, -1.75, -4.2578125, 13.5390625, 4.0234375, -4.703125, -4.9101562, -1.8222656, -0.9296875, 7.921875, -2.8730469, 0.2512207, 10.046875, 7.890625, -4.6835938, 6.3515625, -3.8359375, 5.4453125, 3.3574219, 0.28515625, 0.69189453, -3.6582031, 5.171875, -2.7636719, -5.3632812, 3.3046875, -1.5986328, -4.6015625, 10.3515625, 2.0488281, -1.5136719, -2.7109375, -3.3320312, 7.703125, -4.953125, 1.8212891, 12.4140625, 0.17687988, 2.7246094, 8.8359375, -3.6777344, -2.6777344, 4.7421875, 6.734375, -0.6455078, 1.375, -1.8925781, 0.45092773, 1.9033203, 1.5839844, 8.546875, 18.5, -2.1191406, -3.9511719, -3.9160156, -1.8398438, 1.5888672, -7.3632812, 4.9375, -0.49536133, -12.2578125, 1.2509766, 2.8007812, -4.4570312, -12.4609375, 2.7402344, 0.6040039, -4.0039062, -9.8671875, 2.2753906, -6.7421875, 10.84375, -3.1796875, -2.5546875, 3.7363281, -0.1217041, -11.390625, 6.8320312, 4.1679688, -1.1572266, 0.56591797, 3.9863281, 8.7109375, -6.1484375, 5.3085938, -4.5507812, -2.4902344, 2.765625, 6.9335938, -7.6601562, 7.4023438, 2.5527344, 2.6523438, 1.0654297, 2.4296875, -5.8710938, -5.1679688, -9.28125, 6.1953125, -9.859375, 1.9892578, 3.390625, 7.1640625, 7.4375, 1.6513672, 2.1523438, -0.39892578, 5.0351562, 9.3515625, -3.6289062, -0.06317139, 0.71533203, 0.035614014, 1.7080078, -5.1171875, -14.1953125, 5.6640625, 12.1640625, -6.2890625, -2.2460938, -5.2929688, 1.8496094, -0.8930664, -1.359375, -2.1230469, -4.0078125, -2.7285156, 0.51660156, 7, -4.6367188, -2.2285156, 6.6914062, 5.0195312, 1.4433594, 1.8798828, 0.7915039, 1.6748047, 4.84375, -0.65771484, -6.9609375, -4.1835938, 5.6015625, -11.828125, -7.4179688, 3.3398438, -5.78125, 2.8125, 10.25, 3.5878906, -2.5820312, 7.5742188, -13.8828125, 1.0185547, 3.4140625, -9.46875, -0.3269043, 4.2382812, 7.703125, -1.0185547, 5.4609375, -4.2304688, -5.5039062, -6.4960938, 2.6191406, -7.1210938, 4.8867188, 3.4980469, 2.2519531, 0.7246094, 5.4726562, -2.828125, 2.4355469, 1.3251953, -2.296875, 3.7753906, -13, -8.984375, 5.7421875, 7.5078125, 2.7441406, -2.6289062, -4.4804688, 3.3730469, 0.95996094, 4.2265625, -0.32202148, -3.4570312, 4.0664062, 9.734375, -4.0234375, -0.77490234, -32.46875, 0.14501953, -7.0742188, 8.1953125, -4.0078125, 2.3203125, -5.0976562, 4.9296875, 11.7421875, -1.8710938, -3.1464844, 2.140625, -1.7822266, 2.9257812, -1.0234375, 8.34375, -8.09375, -7.59375, -4.7226562, -7.46875, 2.3378906, 1.4560547, 1.3144531, -3.0019531, -6.2304688, -7.3945312, 4.4765625, 7.0429688, 7.5273438, 6.3828125, 11.9921875, -8.0546875, 0.27929688, 9.609375, -4.0390625, 1.9140625, 2.0957031, 1.4580078, 3.5, -0.98046875, -3.953125, -4.8125, 1.1660156, -0.7519531, 0.9248047, -4.6289062, -8.2578125, -8.9296875, 1.515625, 1.9541016, 6.6210938, -2.9609375, -7.5039062, -2.0136719, -9.6484375, 6.546875, 1.90625, 0.027359009, 3.8144531, 4.4140625, 10.890625, 7.3203125, -0.92871094, -4.5195312, -5.5039062, 4.640625, -0.34960938, 3.8125, 0.36279297, 12.4765625, 4.8398438, -4.578125, 9.6328125, -3.4960938, -3.1015625, -6.8242188, 4.1523438, -5.6328125, -1.2099609, -9.1796875, -4.765625, -6.8945312, 5.5546875, 3.3417969, 5.3671875, -6.8554688, -4.7421875, 9.9375, -4.1796875, -2.9765625, -0.8935547, 6.8320312, -3.4179688, 0.859375, -2.8242188, 7.4375, 6.4296875, 3.6074219, 6.34375, 5.5703125, -0.16345215, 6.515625, 0.62060547, -0.1303711, 5.515625, -7.0507812, -6.6992188, -3.1328125, -11.5703125, 1.6523438, 8.8046875, -1.8222656, -0.56640625, -13.8984375, -6.109375, 12.9296875, 1.1708984, -1.71875, -15.390625, 1.4287109, -11.65625, -1.3505859, -4.1054688, 15.15625, -5.3632812, -1.9990234, -4.2109375, -7.3554688, -0.15344238, -5.0664062, 4.6445312, 2.3300781, 0.6098633, -6.421875, -7.7265625, 1.0820312, -2.2988281, -5.9101562, -1.3564453, 0.46118164, 9.2578125, -0.859375, -9.15625, -3.3847656, 3.9902344, 10.75, 6.1601562, 7.8007812, 4.8242188, 4.5234375, -3.7929688, 4.8125, -4.015625, -0.9794922, -1.1904297, -0.83496094, 3.3164062, 0.36132812, 1.2509766, 2.0253906, 5.2578125, -0.98046875, -6.4804688, 3.625, -4.421875, 8.578125, -8.390625, -2.7988281, 0.39038086, -1.8535156, -1.2275391, -13.28125, -3.8828125, -1.3652344, -1.8876953, -0.26660156, -1.2675781, 7.3828125, 11.5390625, -1.4521484, -2.1796875, 8.3671875, 2.3339844, 5.5117188, -5.9101562, 0.70458984, 10.96875, -7.8164062, 3.5976562, -1.8457031, -0.20263672, -0.072753906, -3, -4.6054688, -2.1503906, 1.6650391, -1.6650391, 6.1796875, -8.0859375, -3.5644531, -2.6972656, 10.625, -2.7890625, 5.5703125, -0.15966797, -1.2529297, -10.7890625, -4.6132812, -9.0859375, -3.6796875, 9.609375, -3.8476562, 3.1640625, -4.1601562, 1.5585938, 3.9511719, 2.3789062, 6.3046875, 6.515625, -3.796875, 5.8242188, 1.4765625, -3.4589844, -4.5351562, 3.4257812, 4.0546875, 4.6757812, 4.703125, 2.5683594, 3.7128906, 3, -0.59277344, -3.4238281, 2.0820312, -5.9414062, 2.0507812, -3.7421875, -13.71875, 5.0585938, -0.68115234, -2.1796875, -4.9609375, -8.4140625, 5.7617188, 2.7929688, 2.3359375, -4.21875, 9.2734375, -4.9140625, 1.2382812, 0.37451172, -3.0878906, -3.640625, -0.98583984, -7.7382812, -4.4101562, 2.2363281, -3.8378906, -0.8417969, -0.9067383, -4.84375, -0.22106934, -0.32006836, 10.390625, -1.4345703, 14.1875, -6.5429688, -0.26782227, -6.3320312, -0.9145508, -4.3203125, 6.75, 6.5351562, 4.1914062, -1.8447266, -14.15625, 8.2734375, -9.046875, 9.2265625, -5.8320312, 1.7285156, -6.9335938, -3.7382812, 1.2939453, -8.3203125, 2.1386719, 1.3994141, -3.1601562, -0.56933594, 0.890625, -2.6464844, 0.7055664, -6.4023438, -6.984375, -4.546875, 1.328125, 6.4570312, -1.0693359, 1.2021484, 4.8007812, 5.4570312, -1.4970703, -0.04837036, -2.4355469, 2.5917969, -0.70947266, -1.6103516, 1.2216797, 0.45654297, 3.0195312, 0.6411133, 2.8300781, 1.78125, -8.4921875, -0.30126953, 4.8984375, -6.1484375, -1.8349609, 2.6171875, 9.3984375, -4.4765625, 10.0078125, -6.5507812, -8.4453125, 8.4453125, -5.5898438, 12.515625, -4.8242188, 2.2304688, -4.9765625, 4.7460938, 7.09375, -4.0585938, 5.2070312, -7.78125, 13.8046875, -1.7353516, 1.4228516, -1.0644531, 3.9453125, 5.125, 1.4931641, -2.1679688, -5.9101562, -4.359375, 0.8774414, 4.8515625, 1.1923828, -0.5727539, -5.7617188, -3.8691406, 1.1748047, 6.1015625, -6.7148438, 3.0175781, 5.4101562, 10.78125, 9.7421875, 10.7265625, -0.5629883, 2.7519531, 5.4492188, 3.765625, -10.40625, -4.265625, 6.2304688, 4.9492188, 11.09375, 9.09375, 2.328125, 4.2929688, -1.9804688, 1.7480469, 2.6679688, -3.953125, 2.765625, -6.1445312, 2.5625, 3.8007812, 6.9296875, -2.5625, -3.9765625, -4.359375, 7.4296875, 3.1269531, -2.5957031, 7.2773438, -1.6279297, -2.0449219, -0.7495117, -0.63183594, -2.8320312, -13.265625, -2.171875, 5.578125, -1.2421875, 9.140625, 2.9628906, 0.08380127, -13.9375, -6.0585938, 0.19726562, 2.1835938, 3.8164062, -6.375, -5.328125, -1.4140625, 9.5078125, -0.07824707, -2.3867188, 16.0625, 0.5283203, 4.265625, -3.2050781, 0.80029297, 9.5703125, 3.0664062, 4.8007812, 0.31689453, 14.5234375, 5.3789062, 0.8730469, -3.7792969, 6.90625, 3.8242188, -2.4824219, 5.6484375, -10.703125, 13.15625, 0.061828613, -7.3671875, -1.5703125, 8.5078125, 0.1459961, -0.33642578, -2.9472656, -8.203125, -3.15625, -1.15625, -3.3789062, 9.7265625, -6.0195312, 0.9892578, 0.3684082, 3.3378906, -7.390625, 0.75146484, 0.009567261, 8.4375, 8.9453125, -3.5214844, 4.8007812, 5.015625, -3.6269531, 1.8759766, 2.9257812, 0.9238281, 10.1328125, -2.5488281, -2.796875, 5.3671875, -5.0625, -0.2631836, 5.0820312, -9.25, -6.2382812, 8.90625, 3.6875, -5.0664062, -2.1660156, 2.0410156, 0.9536133, -6.1210938, 0.9511719, 3.6152344, -3.7441406, 6.953125, -1.046875, -0.8305664, -0.2668457, 7.1601562, 2.9511719, -4.8320312, -0.6298828, -7, 12.71875, -2.2734375, -1.3798828, -1.2138672, 5.3007812, -0.35131836, 8.5625, -0.61621094, 6.8007812, 6.8242188, 6.8242188, 5.3984375, -2.9316406, -1.3125, 4.5390625, 9.453125, 0.8408203, -3.7851562, 6.8984375, 7.2695312, 2.1191406, 6.6328125, -0.07873535, 1.4521484, -7.0390625, 8.03125, -3.8867188, -0.98339844, -5.4648438, -7.015625, 3.3730469, 1.3251953, -5.3789062, -11.5078125, 5.640625, -1.4238281, 8.8125, 2.4199219, -9.609375, 6.9570312, 1.1123047, -0.6982422, -4.3242188, 5.46875, 7.0585938, 1.5634766, 8.125, -8.3984375, 1.3818359, -0.26708984, 1.2539062, 0.734375, -5.8398438, 0.88964844, -5.484375, -3.0742188, 0.4165039, -2.3984375, 1.0439453, 4.3554688, -2.0449219, 5.1054688, 6.6445312, -0.96875, -3.7265625, -7.1679688, 8.21875, -2.0585938, -0.48168945, 1.6884766, -3.2128906, 5.3554688, 5.6210938, 5.9960938, -1.5664062, 1.8378906, 2.4335938, -0.89746094, 4.328125, 2.0410156, -9.015625, -11.734375, -3.6660156, 2.2109375, 2.4238281, -4.8867188, 3.6386719, -3.9921875, -0.44921875, 7.2890625, -1.5263672, 3.8984375, -2.0332031, -0.9057617, 5.8710938, -3.9042969, -1.609375, -0.16223145, -8.09375, 2.2109375, -10.625, -1.9121094, -16.34375, 0.08496094, -1.1005859, -2.4609375, 1.8632812, 5.203125, 10.3984375, -0.88427734, 4.0507812, -1.1347656, -0.88183594, -2.1875, -8.734375, -8.453125, 1.6542969, 5.5976562, 6.2148438, -2.3769531, -0.75634766, -0.9350586, 0.6982422, 1.9746094, -2.7109375, -10.4453125, 3.7050781, -2.3925781, 4.6835938, -2.2871094, 7.3476562, 13.8125, -0.6513672, -1.4130859, -6.2695312, 2.7285156, 5.5195312, -4.328125, -1.8193359, -0.19396973, -3.4746094, -14.8359375, -1.5400391, 8.3515625, -3.2675781, 8.9140625, 6.7929688, 2.8125, -47.28125, -7.1601562, 2.8535156, 4.75, 12.3515625, 5.2265625, 5.2304688, 3.25, -1.1865234, 7.0078125, -0.0725708, -5.6796875, 0.6928711, 5.09375, -6.1054688, 1.9912109, 6.8984375, 0.15075684, -1.5615234, -15.3828125, -3.21875, -4.046875, 3.6699219, 2.5957031, -4.2070312, -7.8125, -0.2692871, 3.9824219, 5.9335938, 3.4941406, -6.6796875, 13.2265625, -4.234375, 8.4296875, 2.0195312, -3.7089844, -1.3886719, 7.8125, -9.2421875, -8.5703125, -8.7265625, 5.8984375, -2.7148438, -1.0097656, -6.7070312, 4.8242188, -3.4296875, 4.078125, -0.23596191, -11.7578125, 10.6875, -23.6875, 4.3046875, -3.8261719, 6.15625, 2.7558594, 1.0927734, -4.8046875, -7.859375, -2.0957031, -1.6015625, -7.0859375, -4.2773438, -5.3828125, 0.066101074, -13.046875, -6.4101562, -2.09375, -4.40625, -6.984375, -7.3476562, -5.859375, -0.98339844, -9.078125, -4.6914062, 0.50439453, -5.515625, 2.9921875, -2.8515625, -12.5, 6.8515625, -0.35327148, 2.4902344, -6.7460938, 10.6640625, -1.8017578, -5.4609375, 0.06262207, 0.64746094, 5.3046875, 18.5625, -0.5175781, -0.30664062, 3.0058594, -1.8095703, 4.1757812, 10.828125, 2.4902344]\n",
            "[-2.3984375, 5.0585938, 0.23937988, 13.8828125, 4.6914062, -0.8198242, -2.6875, -5.5351562, 3.5332031, 2.0410156, -1.0078125, -0.72314453, -3.9453125, 6.2304688, -0.07458496, -7.4648438, 6.5351562, 8.0859375, 1.5126953, 2.4296875, 4.40625, -3.6601562, -0.9453125, 0.5229492, -0.37304688, 0.52734375, -3.7421875, -0.63916016, -6.0625, -0.7861328, -7.6210938, -7.4765625, -3.2460938, 9.8984375, 1.4951172, -2.6035156, 0.10522461, 1.7695312, 2.5488281, 0.5673828, -5.6835938, -8.2890625, -3.4589844, -0.44140625, -1.4775391, -0.02279663, -10.625, -0.25463867, -4.5898438, 2.4589844, 3.6621094, 8.6875, -2.1640625, -0.75097656, 4.6992188, -6.328125, 2.1796875, -4.4570312, -10.0859375, -1.1513672, -4.234375, 1.9140625, -2.90625, 1.3779297, -4.0859375, -7.9101562, -1.6123047, -3.8984375, -0.578125, -4.0507812, 4.5078125, 3.8105469, 6.2382812, -6.2304688, 0.58251953, 3.2714844, 3.7851562, 0.3256836, 3.9921875, 0.8730469, -0.9482422, -5.5234375, -0.51416016, -6.6601562, -0.078430176, 3.6738281, -0.53466797, -3.9628906, -4.59375, -5.5742188, 4.203125, 7.3671875, -4.0898438, -2.5800781, -2.4277344, -7.6835938, 7.546875, -4.953125, -0.9980469, 5.1875, 3.8789062, -4.7539062, -4.4257812, -1.7802734, 0.31445312, 3.4140625, -0.12445068, -4.5351562, -6.7617188, -1.0732422, -2.5664062, 11.46875, 7.5234375, -0.9243164, 6.5820312, 3.2617188, -3.7539062, 11, 3.9003906, 5.796875, 0.99121094, 0.7729492, 3.5976562, -0.5932617, -0.8300781, -2.5957031, -4.1835938, 2.6230469, -3.8730469, -3.5019531, 2.2578125, 6.8359375, 2.7109375, -2.7792969, 2.4765625, -2.3710938, 0.22521973, -1.1376953, 11.8203125, -1.5126953, 0.8652344, 7.8984375, 0.002483368, -1.3505859, 6.21875, 10.5078125, 1.5546875, -4.1835938, 3.2832031, 4.9101562, -5, 0.3190918, 11.5, 15.6484375, 3.3476562, 4.8320312, -5.1328125, -2.4746094, 0.81933594, -0.7236328, -7.9335938, 2.2792969, -9.8828125, 3.0585938, 0.85791016, -0.3334961, -4.8007812, 1.8007812, 0.063964844, -9.8203125, -4.9296875, 6.3125, -5.796875, 11.0859375, 3.0761719, 3.4589844, -0.17529297, -1.6757812, 1.0771484, 6.1367188, -0.64941406, 4.5585938, 4.1289062, 5.5859375, 6, -2.7675781, 3.71875, -3.1875, -1.6728516, -1.1708984, 6.46875, 0.43945312, 9.109375, 3.3066406, 7.71875, 2.59375, 3.3085938, -3.4550781, -1.5791016, -5.6640625, 1.6650391, -4.5195312, -1.3232422, 8.921875, 3.7597656, 8.4765625, 7.7890625, -3.1933594, -6.6171875, 1.3212891, 9.859375, -11.3046875, 1.6464844, -1.0615234, -0.53125, 1.2177734, -4.6601562, -9.3203125, 1.1044922, 10.25, 2.0664062, -0.39331055, -1.3447266, -1.7880859, 5.5703125, -5.9609375, -1.4414062, -1.3144531, -1.6376953, 4.2695312, 19.84375, -4.171875, 0.37817383, 2.421875, 2.3320312, 4.421875, -5.046875, 6.59375, 1.6982422, 0.28466797, -3.4199219, 5.0664062, -1.8671875, 5.3007812, -10.3828125, -9.4609375, 3.5175781, -3.0429688, 6.2382812, 4.0585938, 2.3046875, 1.0107422, 5.9765625, -5.6757812, -1.9658203, 9.671875, -6.21875, 0.38916016, 7.1445312, -0.93408203, -5.4414062, 4.3515625, 1.890625, -7.1054688, -3.3242188, 1.6035156, -5.2539062, 6.3203125, -0.11273193, 1.1572266, 3.3710938, 0.859375, -4.1914062, -0.059509277, 6.2734375, -1.5732422, 12.1953125, -8.28125, -7.7578125, 7.125, -0.80615234, 10.578125, -1.4960938, -6.3984375, -3.3515625, 2.6152344, 7.8828125, -1.5712891, -5.2460938, -0.41064453, 3.4980469, -6.90625, -0.2368164, -37.40625, 6.140625, 0.4038086, 5.609375, -2.5214844, -2.3417969, -0.46362305, -1.0673828, 11.6484375, -2.1230469, -1.4736328, -6.3945312, 1.3710938, 4.5234375, 6.4765625, 11.609375, -6.5117188, -2.1523438, 0.2607422, -4.5546875, 2.3125, -0.7631836, -2.5507812, -0.7734375, -6.9414062, -10.578125, 5.890625, -3.296875, -5.0664062, 3.9980469, 7.6757812, -10.546875, 1.0673828, 2.1953125, -4.7070312, -0.21936035, 6.9609375, -3.8789062, 3.7304688, 8.15625, -6.6640625, -8.3515625, 2.4121094, 6.1445312, 2.9550781, 3.2851562, -8.1640625, 2.2070312, 3.2402344, 4.2539062, 6.6953125, -4.0273438, -6.6757812, -2.265625, -9.453125, 2.5214844, 6.3671875, -2.2011719, 1.3505859, 3.6640625, 8.703125, 12.9453125, 9.2265625, -4.5976562, 0.45166016, 4.2773438, 2.5488281, -0.6303711, -0.93408203, 3.8242188, 11.7734375, -3.2167969, 9.1640625, -1.4335938, -4.9140625, -6.1171875, 2.9101562, -5.7109375, -2.1132812, -3.8417969, 7.8164062, -1.1152344, 4.8710938, -0.27514648, 8.0078125, -7.4882812, -2.578125, 11.0546875, -4.6484375, -7.9570312, -9.9296875, 3.9296875, 1.9033203, 3.2207031, 2.9394531, 6.765625, 8.2578125, 5.2304688, 9, 0.93603516, 3.1015625, 2.59375, 3.4902344, 0.25830078, 6.4335938, -0.35424805, -8.2578125, 2.5351562, -15.4609375, -0.86279297, -1.9707031, 4.015625, -2.1914062, -20.390625, -1.0087891, 9.03125, 1.7490234, 0.16210938, -3.9960938, 3.4472656, -11.8203125, -0.4177246, -5.3867188, 2.1367188, 0.29052734, -1.890625, -11.1171875, -7.09375, 3.1328125, 1.6464844, 2, 8.625, 5.0273438, -1.5458984, -4.7265625, -1.9785156, -9.5, -11.3046875, 2.8515625, -5.2890625, 11.3515625, -0.5913086, -11.7265625, 2.4082031, 3.5175781, 4.6601562, 4.390625, 5.5, 10.5234375, 5.1601562, 2.34375, -1.7675781, -3.5898438, -4.9882812, 5.9921875, -2.7246094, 2.921875, 3.4609375, -5.265625, 2.6152344, -1.0576172, -2.7109375, -8.1953125, 4.4804688, -5.6054688, 4.6640625, -14.8671875, -2.2070312, -2.4589844, -7.8242188, -0.049865723, -10.328125, -3.6621094, 0.93359375, -1.8398438, -3.3886719, 3.8828125, 10.3125, 15.5703125, -4.6171875, 1.2460938, 6.7382812, 1.78125, 7.7460938, -1.6738281, -2.5039062, 8.671875, -7.1757812, 3.3945312, 1.0830078, 0.06286621, -4.2382812, -8.6796875, -1.2392578, 1.9755859, -0.9370117, -2.5234375, 1.4785156, -5.8398438, -6.4648438, -2.4921875, 3.5546875, -5.6171875, 6.5976562, 5.65625, -3.7421875, -18.265625, 0.3310547, -11.40625, -1.9492188, 0.92333984, -0.14697266, 5.703125, -6.3242188, 2.9960938, 5.7773438, 4.8945312, 5.5664062, 6.359375, 6.1640625, 7.0742188, -4.8710938, -1.4560547, -1.1445312, -1.3066406, 9.90625, 8.640625, 2.4667969, 4.4375, -1.2871094, -1.1162109, 4.2148438, 4.5664062, 2.7890625, -7.984375, 4.7382812, -8.1953125, -10.6796875, 5.5585938, -1.8710938, -3.8144531, 0.43920898, -2.8554688, -2.0488281, 0.68847656, 4.9375, 4.6640625, 7.8632812, -0.82714844, 4.0703125, -1.8603516, 1.2167969, -4.5, -3.1738281, -1.9619141, -0.48583984, 1.3984375, 0.33251953, -2.2363281, 1.3798828, -5.7695312, -3.7128906, 0.9165039, 10.7890625, 7.5390625, 9.109375, 4.3046875, 6.6601562, -2.8769531, -4.0117188, -12.2265625, 6.7265625, 4.3828125, 10.8203125, -5.7734375, -9.6171875, 5.3789062, -5.640625, 0.82128906, -1.7539062, -1.4404297, -12.03125, -12.15625, 2.0019531, -7.328125, -2.7148438, -4.0429688, -3.7070312, 3.2382812, 1.453125, -9.6484375, -4.3945312, -4.3515625, 1.3515625, 0.0231781, 4.90625, 5.484375, 2.3164062, 9.0390625, 2.90625, 8.4140625, -7.5507812, 0.7241211, -3.9726562, -0.9301758, -0.20349121, -0.11682129, -0.9873047, 4.4648438, -5.1171875, -0.5307617, 2.0292969, 3.4609375, -5.828125, 4.2539062, -1.0361328, -6.0820312, -1.4345703, 1.7119141, 5.7421875, -6.6367188, 9.0390625, -1.7617188, -5.828125, 7.90625, -2.8222656, 6.75, -8.703125, 5.7460938, -9.1640625, -2.3984375, 8.75, 1.7412109, 3.1464844, -2.3300781, 16.984375, -4.9960938, 4.140625, 5.8242188, 0.22387695, 8.4375, 1.4541016, -4.2421875, -6.484375, 2.1367188, -2.4589844, 3.875, 7.3984375, -0.31933594, 2.6152344, 2.7265625, 2.3476562, 7.2539062, -3.5839844, 2.2207031, 0.49536133, 2.2890625, 7.625, 3.7714844, -8.6953125, 6.4648438, 4.1210938, -2.6816406, -9.5, -3.0859375, 1.5273438, -2.3320312, 5.3828125, 6.4257812, 3.5742188, 3.2128906, -4.109375, 5.8359375, 3.0722656, -2.5878906, -5.734375, -8.5703125, -2.21875, 5.0507812, 0.39379883, -3.6699219, -5.1445312, -1.9462891, -3.1582031, 4.3789062, -5.1289062, 8.1640625, 3.703125, -6.640625, 6.6953125, 6.2890625, -2.4726562, -9.4921875, 0.5878906, -2.4277344, -0.004146576, 3.7695312, -0.9794922, 0.85498047, -11.3046875, -4.5234375, 8.0546875, -0.47851562, 8.6875, -6.546875, -5.015625, -7.75, 11.4140625, -1.6064453, 4.4453125, 6.9296875, -3.0273438, 5.6914062, -9.7578125, 3.0058594, 10.546875, 5.703125, 5.7734375, 5.0664062, 9.03125, 0.9169922, -2.5351562, 2.1855469, -2.7890625, 8.5625, 0.17687988, 5.1640625, -6.1328125, 7.3789062, 6.953125, -4.3945312, -0.057891846, 3.2363281, 0.7583008, -3.4511719, -0.33618164, -7, -8.0390625, -2.2226562, 1.2587891, 7.8125, -5.5507812, -0.9633789, 1.1103516, 1.8027344, -7.234375, 9.015625, -3.4804688, 8.6328125, -3.6015625, -7.2578125, 8.3203125, -1.4238281, -5.375, 3.5429688, 4.5898438, 2.4375, 13.0703125, -4.859375, 3.0800781, 3.7226562, -4.4296875, 5.8984375, -1.3017578, -5.2929688, -5.0078125, 5.0390625, 5.6523438, 3.8007812, -1.640625, -0.4345703, 4.09375, 0.13098145, 4.71875, 2.0839844, -7.4414062, 3.3652344, 4.109375, 3.2597656, 3.6660156, 0.20861816, 4.78125, 2.3789062, -0.7036133, -4.5, 5.0898438, -5.5820312, 4.890625, 1.1816406, 6.4492188, 3.5644531, 2.9941406, 4.5898438, 9.171875, 8.5, 2.9316406, 3.6699219, -2.0390625, -5.8828125, 3.046875, 7.0234375, 5.484375, 1.0546875, 7.7773438, 8.6875, 5.34375, 0.63134766, -9.5625, -4.078125, -11.328125, -1.7089844, -7.1132812, -4.78125, -14.765625, -7.546875, 2.1699219, -1.7265625, 3.7617188, -8.1953125, 1.6376953, 1.6162109, 12.78125, 6.2148438, -1.6279297, -0.78125, -0.74121094, 0.21936035, -2.1523438, 3.7226562, 15.0390625, -5.8984375, 3.3183594, -7.625, 5.2421875, 3.5, 7.671875, 4.7734375, -5.765625, 3.734375, 0.48339844, -2.1699219, 11.1015625, 0.3564453, -4.03125, 6.046875, -9.09375, 2.8925781, 11.5, -6.6914062, -11.0703125, -8.3671875, 1.6650391, 1.1230469, -1.2578125, 5.234375, -2.5625, 11.234375, 2.4394531, -3.0664062, -2.8789062, 0.7758789, -0.45141602, 3.859375, 5.2070312, -0.296875, -0.81396484, -4.6914062, -6.0703125, -3.0625, -0.6870117, -4.1953125, 2.6113281, 1.46875, -2.4726562, 6.1875, 6.25, 6.0273438, -0.25073242, 3.5078125, 5.390625, 1.9560547, 3.9980469, 0.12939453, -11.8203125, -2.7929688, -14.0625, -5.5039062, -15.4375, -1.0771484, -5.1679688, -8.390625, 0.81103516, 6.9453125, 6.3828125, -1.2519531, -0.45239258, 1.4189453, -2.3671875, -7.2265625, -4.2695312, -8.515625, -0.8173828, -0.3071289, 5.2382812, -1.2304688, -5.734375, 2.1347656, -1.5126953, -1.9511719, -10.9609375, -3.796875, 0.13928223, -2.8085938, 6.4375, -9.234375, 5.3164062, 11.46875, -5.8085938, 1.9003906, -8.859375, 2.4082031, 6.6875, -2.1601562, -4.1757812, 2.7714844, -6.2148438, -16.953125, -0.77490234, 0.8334961, -7.3359375, 8.484375, 6.2070312, 3.2617188, -44.84375, -3.875, -0.051727295, 0.31176758, 13.125, 8.859375, -3.5449219, 0.068359375, 1.8056641, 8.09375, -2.0449219, -3.0019531, 4.0625, 5.1914062, -9.3125, 0.9272461, 9.6953125, -0.2775879, -6.4804688, -10.203125, 4.7734375, 3.0957031, 10.34375, -7.0664062, -1.9082031, -2.9667969, 2.7558594, 0.2841797, 7.6484375, 6.3046875, -5.4140625, 4.2421875, -1.1074219, -0.7705078, -2.8261719, -5.6757812, -0.28100586, 10.0390625, -6.7148438, -2.5957031, -8.765625, 6.7226562, -0.4309082, -0.8847656, 0.038635254, 7.9960938, 2.6035156, 1.4755859, -5.1484375, -9.4140625, 5.5195312, -23.3125, 4.890625, -11.4453125, 10.3203125, 5.3710938, 1.7373047, -5.5976562, 3.6132812, -5.6796875, -3.8652344, -5.9296875, -3.1523438, -4.4882812, -2.53125, -6.703125, -8.921875, 1.2490234, -6.8671875, -6.4570312, -10.5390625, -11.109375, -0.5463867, -3.71875, -8.1171875, -0.7944336, -3.5351562, -0.7524414, 2.3652344, -11.7890625, 5.9921875, 2.2265625, -5.125, -8.1796875, -0.25463867, -2.7578125, -5.9960938, 0.484375, -6.6484375, 4.546875, 17.375, 4.4765625, -2.8320312, 2.4238281, 0.9394531, 6.6601562, 9.7734375, 2.4453125]\n",
            "[1.4931641, 6.3046875, -0.6010742, 13.2109375, 1.3535156, 0.4267578, -0.97998047, 0.7788086, 5.859375, 11, 1.3994141, -1.6376953, -4.015625, -1.5732422, -4.203125, -5.5078125, 6.65625, 5.8671875, 2.3144531, 6.6835938, 4.78125, -5.1796875, -3.4628906, -2.9667969, 6.125, 2.6210938, 3.0917969, 4.21875, -1.3935547, -0.31103516, -2.6640625, -5.828125, 0.23217773, 9.6171875, 2.2597656, -6.8164062, 0.7524414, 5.015625, -2.3320312, 6.6953125, -1.4326172, -8.25, 0.7866211, -4.7773438, -3.6894531, -1.0595703, -16.390625, -4.484375, -2.9511719, 5.6367188, 3.6054688, 8.453125, -7.3125, 4.796875, 1.4404297, -13.90625, 4.1914062, -1.0996094, -11.4921875, 2.6972656, 3.1191406, -1.9804688, -3.4003906, -0.7685547, -9.828125, -7.234375, 0.39135742, -1.5224609, 0.16601562, -1.2382812, 0.6953125, -1.4101562, 4.0625, -10.9453125, -3.2910156, 2.0839844, 4.4414062, -2.2363281, 1.6640625, -5.0429688, -0.26733398, -0.8046875, -3.4257812, -7.7773438, 2.2753906, 1.8652344, -5.1914062, -7.9179688, -2.0351562, -8.078125, 5.765625, 3.0585938, -4.3476562, 0.7963867, -3.3007812, 0.4267578, 3.4765625, 1.2314453, 0.33325195, 6.0820312, 1.4970703, -3.8554688, -2.1328125, -1.9277344, -0.60791016, 9.9140625, -3.2148438, -1.7890625, -6.2382812, -3.0136719, -4.234375, 7.9179688, 0.9038086, -6.1171875, 8.34375, 0.69433594, -4.9453125, 7.0703125, 4.1210938, 5.4882812, -5.09375, -1.5048828, 2.3476562, 3.3613281, -0.10021973, 2.5546875, -1.7392578, 2.7734375, -4.7304688, -3.6523438, -0.5371094, 0.009353638, 4.6875, -3.0078125, 1.5576172, 4.6484375, -1.8691406, 1.8828125, 10.21875, -2.8222656, 2.6757812, 1.9267578, -1.4023438, -1.9101562, 4.1367188, 9.1640625, 0.62646484, 2.5214844, 3.0292969, 1.1337891, -3.3378906, 1.7441406, 0.8261719, 12.8515625, 0.44726562, 3.9921875, -8.6328125, -3.6464844, 1.5009766, -1.2148438, -1.0888672, -2.4765625, -12.8125, 5.1601562, 2.5019531, -3.5097656, -10.3515625, 3.6269531, 0.11584473, -4.6328125, -11.71875, 5.9101562, -6.3476562, 7.9609375, -0.03427124, 0.119506836, -3.4160156, 2.7773438, -4.6757812, 4.1601562, 5.6992188, 3.2714844, 2.0117188, 5.46875, 9.40625, -6.078125, 6.6210938, -3.4746094, 2.3554688, 1.2929688, 5.953125, -6.5078125, 9.453125, 4.7578125, 5.4570312, 5.015625, 1.9736328, -2.6523438, -5.4960938, -3.7382812, -1.0507812, 1.8554688, 1.1367188, 9.4453125, 5.5859375, 12.859375, 5.28125, 0.15039062, -3.2890625, -0.25463867, 8.921875, -13.46875, 5.59375, -0.76220703, 7.03125, 1.6425781, -2.5820312, -12.5390625, 4.4921875, 7.1953125, 1.6552734, -0.9892578, 0.06604004, -6.3710938, 3.4472656, -8.0703125, -4.9179688, -0.53027344, 0.018737793, 4.6132812, 15.546875, -5.1875, -0.27685547, 5.46875, 2.0957031, 2.6972656, 0.2734375, 14.0703125, 1.3808594, -0.75683594, -4.1132812, 0.34350586, -4.1992188, 4.7851562, -11.2265625, -3.1660156, 4.1367188, 1.1181641, 1.015625, 6.484375, 3.0058594, 2.6367188, 8.4609375, -4.1054688, -2.4609375, 5.7109375, -7.1757812, 0.37182617, 6.203125, 10.3984375, -8.9609375, 5.375, 0.45825195, -6.015625, -4.8789062, 0.3713379, -7.1367188, 5.9726562, 5.7148438, 1.0371094, 2.6542969, 2.3554688, -2.4335938, 1.1582031, 1.6806641, -2.0820312, 5.171875, -8.234375, -10.3359375, 5.84375, -8.3671875, 9.7734375, -2.171875, 0.34057617, 9.7578125, 4.3398438, 3.765625, 0.10864258, -5.8164062, 5.9609375, 3.6425781, -8.890625, 1.6914062, -34.84375, 2.3007812, 0.15490723, 12.984375, -2.8164062, 2.703125, -3.0429688, 1.3095703, 9.7578125, 1.4521484, 3.046875, 0.46435547, 5.859375, 2.2597656, 8.421875, 11.640625, -3.7089844, -7.53125, 1.2744141, -1.6318359, 6.8007812, 1.1669922, -3.2402344, -0.5385742, -7.6210938, -6.3085938, 7.40625, -1.6142578, -4.0703125, 4.6367188, 5.7578125, -10.15625, 1.8974609, 5.7539062, -4.3671875, 4.6289062, 5.90625, -3.6679688, 3.7265625, 3.6777344, -4.2695312, -7.8515625, 1.96875, 1.4921875, -2.4902344, 0.5175781, -3.8085938, 0.91552734, 3.9960938, 2.6074219, 6.1679688, -6.1289062, -4.3867188, 1.6748047, -17.9375, 3.0351562, 8.9921875, 1.2285156, -3.171875, 6.90625, 7.3554688, 9.125, 6.0664062, -2.8613281, 2.0800781, -0.3708496, 1.2041016, 1.7392578, 0.35742188, 9.53125, 13.015625, -0.31835938, 5.7695312, -2.7265625, -5.1523438, -6.4648438, 0.0021438599, -3.4375, -2.28125, -4.1445312, 1.8710938, -1.8525391, 10.3359375, -0.67871094, 0.20605469, -14.4296875, 2.09375, 8.8671875, -2.8886719, -5.7304688, -5.2773438, 6.328125, 0.32055664, 9.359375, 0.056671143, 11.03125, 8.9453125, 6.5429688, 6.3359375, 6.1171875, 1.1005859, 1.6464844, -1.1679688, 2.5078125, 5.78125, -0.515625, -7.9921875, 3.6835938, -16.046875, -7, 2.015625, 4.7304688, 1.8457031, -16.796875, -1.9375, 5.0820312, 4.4335938, -1.8417969, -3.9746094, -0.115722656, -11.671875, -0.14343262, -1.5566406, 5.2773438, -3.9140625, -6.1132812, -4.9101562, -11.4140625, 1.2119141, 3.8183594, 2.6347656, 9.2265625, -3.0175781, -4.75, -1.6611328, -0.6870117, -10.203125, -13.7109375, 1.5693359, -2.2460938, 5.5898438, 1.3730469, -14.03125, 8.2265625, 2.7929688, 7.8984375, 3.125, 6.3125, 4.59375, 1.5205078, -0.24645996, 3.734375, -7.1640625, -10.0703125, 6.9023438, -0.51220703, 7.6445312, -0.57910156, -0.88183594, 2.8222656, -7.375, 1.6152344, -6.96875, -0.78222656, -7.6835938, 5.1015625, -15.1796875, -3.3945312, -1.3896484, -5.203125, 0.032318115, -12.5625, 0.8256836, 2.3574219, -1.6865234, -2.3164062, -2.9355469, 10.71875, 14.5859375, -1.5126953, -0.4111328, 2.7246094, 5.78125, 10.2578125, -1.6777344, 1.0527344, 4.5664062, -6.0507812, 8.1484375, 4.3867188, -2.453125, -0.36865234, -12.234375, -6.4414062, 3.0878906, 2.796875, 1.0527344, 1.9267578, -8.875, -12.015625, -4.5, 2.8808594, -2.0585938, 5.6328125, 4.2890625, -0.58203125, -18.546875, -0.5136719, -11.59375, -1.3671875, -0.08972168, -1.8417969, 6.15625, -7.6289062, 0.71240234, 6.1054688, 1.4384766, 6.7070312, 7.15625, 3.5859375, 4.3164062, -2.953125, -0.45874023, -1.6416016, -1.2431641, 7.8359375, 6.8164062, 8.1171875, 0.52197266, 0.23937988, -2.1933594, 5.0390625, 5.3476562, 7.078125, -2.6894531, 3.4921875, -11.78125, -14.28125, -2.796875, 1.4238281, -4.0585938, -4.234375, -3.9433594, 6.3554688, -0.6894531, 2.0136719, 2.5683594, 7.9765625, 1.3779297, 4.96875, -1.6396484, -2.3320312, -3.3457031, -0.08508301, -2.2871094, -0.1027832, 1.3261719, -2.4746094, -1.3798828, 2.7910156, -4.8789062, -3.7695312, -1.7373047, 7.3476562, -0.33740234, 6.890625, 6.4453125, 4.0039062, -9.2265625, -5.265625, -9.0390625, 7.515625, 5.84375, 10.84375, 0.6015625, -11.0546875, 8, -4.7773438, 3.7558594, -3.0351562, 1.9150391, -15.8671875, -8.3515625, 5.4179688, -7.1328125, -2.3417969, -1.6875, -3.3652344, 7.7929688, -0.23950195, -9.0234375, -1.9052734, -0.98876953, 2.3671875, -1.6464844, 2.7910156, 8.625, -0.3166504, -3.3730469, 4.328125, 6.4179688, -9.671875, 0.41381836, 2.921875, 1.34375, 1.7451172, -0.11883545, 2.2382812, 1.7294922, -0.53125, -1.6894531, 11.609375, 3.359375, -8.5390625, 6.7070312, 1.5253906, -8.4453125, -0.50878906, 6.3125, 10.34375, -10.4453125, 3.5527344, -1.1835938, -7.8945312, 6.453125, -1.9257812, 5.6484375, -12.1328125, 12.0546875, -9.1953125, 2.1328125, 2.3691406, 3.3613281, 3.3457031, -4.7148438, 11.375, -5.2070312, 3.5722656, 4.78125, 9.03125, 1.5263672, -2.5527344, -8.125, -1.7421875, 5.7226562, -3.7890625, 3.1464844, 4.4492188, -3.7773438, 0.022384644, 1.1728516, 0.9033203, -2.9570312, -0.9711914, 1.109375, 2.2539062, 8.7265625, 7.6132812, 3.8671875, -8.4453125, 5.9882812, 5.0234375, -4.4375, -5.9492188, 0.28149414, 4.7929688, 1.0126953, 11.0859375, 3.4511719, 6.3476562, 8.7421875, -2.3476562, 3.5957031, -1.3769531, 2.1582031, -3.9804688, -1.5371094, -1.9130859, 8.1796875, 7.2578125, 0.7060547, -3.2929688, -1.8974609, 0.5288086, 1.6279297, -5.8203125, 8.0703125, 1.7578125, -9.6484375, -4.2734375, 7.2382812, -8.1953125, -13.9921875, -3.4511719, -2.2714844, 5.4921875, 3.3769531, 5.171875, -0.4350586, -11.3203125, -7.3398438, 8.0859375, 4.4648438, 8.6796875, -6.5820312, -1.1835938, -3.5585938, 6.2382812, 2.4824219, 0.5214844, 13.2578125, -5.1171875, 4.6328125, -4.6601562, 3.9296875, 2.1289062, 4.7421875, 2.5859375, 3.9257812, 8.0078125, 3.859375, 3.8789062, -1.0859375, -4.0742188, 4.3515625, 3.3808594, 2.9628906, -6.3398438, 10.0546875, 3.6777344, -5.5507812, 2.0136719, 1.2998047, -1.15625, -8.4296875, -4.9726562, -10.4140625, -5.359375, -2.9355469, -0.9770508, 8.1484375, -2.8105469, -0.83154297, -1.7519531, 3.390625, -2.6875, 10.1484375, -5.90625, 5.6523438, -8.0234375, -2.4003906, 6.0273438, -4.2851562, -9.2109375, 5.6679688, 0.039886475, 1.9326172, 9.2109375, -1.5761719, 4.5429688, 1.6660156, 1.8876953, 4.21875, 3.0214844, -1.6435547, -9.8125, 8.3515625, 7.2460938, -2.5117188, -1.3798828, 1.9707031, 1.9814453, 3.3671875, 12.7109375, -0.9638672, -6.1835938, 5.0273438, 2.890625, -0.45117188, 2.1152344, -0.7915039, 7.671875, 3.4414062, -1.4599609, -4.28125, 4.4023438, -2.5878906, -2.5683594, -0.2076416, 2.5429688, 4.34375, 4.7382812, 7.7070312, 11.234375, 4.265625, 2.3242188, 3.75, 1.2529297, -5.5585938, 1.5878906, 6.59375, 3.6699219, -3.6386719, 11.4609375, 4.3164062, 6.2148438, -0.9033203, -3.0820312, -6.8007812, -14.03125, -1.9003906, -7.875, -1.4697266, -19.125, -3.7109375, -2.9609375, -4.1210938, 1.6767578, -8.1796875, -5.1640625, -0.17089844, 9.890625, -0.22009277, -3.8925781, 1.0791016, -2.8183594, -0.13146973, -4.171875, 1.3232422, 17.453125, -7.1992188, 3.0214844, -7.0507812, 6.2773438, 1.4716797, 4.2929688, 4.3945312, -6.1757812, 3.1152344, 0.23400879, -3.6386719, 9.2890625, 0.36254883, 1.578125, 1.4785156, -3.6621094, 10.609375, 8.9921875, -4.671875, -6.1992188, -5.0234375, 2.625, 3.8496094, 3.390625, 4.21875, -1.0585938, 4.6523438, 6.3320312, -2.7109375, -3.2265625, 0.8364258, 0.24377441, 9.4140625, 8.65625, 3.0527344, -6.71875, -9.9296875, -4.2539062, -1.2744141, -4.6992188, -7.6953125, 2.6191406, -4.5898438, -4.6914062, 5.3125, 5.8515625, 3.1054688, -1.8955078, 3.1953125, 10.1015625, 1.2861328, -1.0400391, 2.0078125, -9.5078125, -3.2753906, -8.3203125, -4.8671875, -20, 0.18408203, 0.15441895, -4.921875, -0.91015625, 7.796875, 1.7246094, -1.4648438, -0.8540039, 1.9873047, -3.7402344, -10.3359375, 0.7294922, -11.9375, 1.3388672, -1.0595703, 1.75, -4, 0.8574219, -1.9306641, -2.5722656, -3.4570312, -5.2265625, -7.0859375, 4.2421875, -7.5898438, 7.765625, -9.125, 5.5078125, 8.15625, -5.2890625, 3.9960938, -5.1132812, -0.4333496, 7.75, -2.0800781, -2.4394531, 7.1328125, -0.4519043, -13.796875, -0.70751953, 1.8095703, -1.9882812, 6.1132812, 4.5742188, 2.0898438, -45.25, -8.421875, -1.0507812, -2.6269531, 8.375, 1.8193359, 1.765625, 3.3242188, 2.1210938, 3.7949219, -3.9863281, 0.45581055, 2.4667969, 8.296875, -3.5078125, 0.5546875, 6.0039062, -2.84375, -8.2734375, -15.1484375, 2.7773438, 6.53125, 9.59375, -2.3769531, -1.5810547, -2.2636719, 2.125, -6.4101562, 1.7666016, 10.546875, -4.5273438, 17, -2.4316406, 0.3947754, -1.8125, -3.453125, -1.8896484, 5.65625, -4.3398438, -4.53125, -2.0820312, 5.0273438, -5.9257812, -0.1472168, -5.28125, 6.484375, 3.8125, 0.41503906, -4.6289062, -5.5117188, 4.7617188, -19.796875, -0.31079102, -11.1875, 14.84375, 7.0078125, 2.5058594, -6.1289062, -0.5834961, 2.6054688, 0.41015625, -5.6367188, -5.3164062, -5.5585938, -4.6640625, -6.53125, -9.9765625, -3.109375, -2.9316406, -2.046875, -7.3828125, -4.3164062, -1.0556641, -3.8769531, -2.078125, 1.0351562, -3.5058594, 0.6274414, -2.9199219, -13.296875, 5.1484375, 5.6601562, -0.20959473, -6.8789062, 1.3652344, 2.1503906, -3.7246094, 1.0146484, -6.46875, 3.4238281, 16.9375, -1.1884766, -0.81396484, 1.1953125, -1.3330078, -4.5898438, 10.984375, 1.8564453]\n",
            "[-2.4003906, -1.1533203, 5.8125, 6.6679688, -6.0507812, 2.2539062, 3.4746094, 0.59521484, 8.3125, 0.99121094, -7.4375, -0.89160156, 7.5390625, 16.296875, -2.6679688, -8.59375, 0.99560547, 2.3710938, 2.40625, 5.0078125, 7.0859375, -10.265625, 2.7851562, -2.34375, 7.1992188, 7.0078125, 8.6953125, 6.15625, 1.2773438, -2.0117188, -3.6347656, -2.5800781, 1.3066406, 12.796875, 3.4785156, 0.83935547, 1.7109375, 1.2119141, -3.3183594, -1.2724609, -1.5595703, -5.984375, 4.3046875, -3.2929688, 1.6220703, 3.0976562, -13.84375, 2.3144531, 0.11053467, 2.7792969, 4.4375, 0.2434082, -3.5234375, 8.4609375, 2.0976562, -9.28125, 9.015625, -3.0839844, -14.0546875, -2.5214844, 4.4609375, 1.5625, 5.4648438, 2.0175781, -8.1484375, -3.7714844, -2.9433594, -0.28955078, 4.3398438, -0.61328125, 6.1328125, 5.1640625, 1.0351562, -8.921875, -8.71875, 1.8945312, 1.2451172, -6.9804688, -0.080322266, -1.0019531, -2.3808594, -2.1933594, -1.9414062, -7.8867188, 0.8515625, 1.8486328, -4.484375, -9.515625, -1.3476562, -3.0859375, 4.6328125, -1.7724609, -2.2597656, -3.0585938, 2.1289062, -7.1484375, 8.4609375, 1.8798828, -4.4140625, 3.1621094, 6.9414062, 1.6044922, -5.9296875, -8.4296875, -5.2070312, 5.7226562, 0.93359375, -4.7578125, -5.515625, -2.1503906, -4.1914062, 4.2460938, 3.5390625, -1.5888672, 8.34375, 6.5664062, 1.765625, 10.6171875, 4.5390625, 6.28125, 7.5195312, 1.3916016, 0.3852539, -2.1992188, 1.6513672, -0.6074219, -4.7109375, -1.6708984, -0.14868164, -3.5078125, 6.375, 6.4257812, -3.5234375, -2.6035156, -2.9960938, 3.1367188, -10.2265625, 0.5961914, 7.7578125, -3.6699219, 5.3125, 8.3671875, -4.5507812, 1.0957031, 4.984375, 7.0039062, -3.15625, -2.1015625, -0.50683594, -2.09375, 1.0732422, -3.8847656, 6.9414062, 20.1875, 3.9667969, 1.2285156, -0.43798828, -6.015625, -1.8466797, 0.9638672, -2.5976562, 1.9755859, -7.9140625, 0.05596924, -1.0810547, -1.9130859, -8.4765625, 9.71875, 1.6621094, 2.3886719, -8.5234375, 3.6113281, -1.515625, 1.5400391, 2.5722656, -0.8378906, 1.1699219, -3.0292969, -6.9570312, 7.6601562, 2.4667969, -0.37182617, 0.7163086, 2.0195312, 11.3515625, -4.7734375, 11.25, -2.03125, 1.0556641, -1.6972656, 1.7695312, -0.6826172, 11.546875, 5.0273438, 0.63134766, -0.08300781, -5.2460938, -8.734375, -6.4023438, -3.5957031, 5.6992188, -0.9824219, -1.3505859, 5.7421875, -1.9638672, 5.5273438, 3.921875, -1.8632812, -5.53125, -1.4052734, 8.0390625, -7.5507812, 3.9609375, -3.6640625, -0.7109375, 0.24511719, -2.5058594, -13.2578125, 7.0585938, 5.1953125, 1.2890625, -6.0859375, 0.59375, -5.9375, 8.765625, -3.7421875, -1.8837891, -2.0761719, -7.5703125, 2.4980469, 10.8359375, -1.8925781, -0.83447266, 7.3710938, 4.0429688, -5.5585938, -5.8867188, 1.9970703, 1.875, 3.0449219, -3.7207031, -1.7089844, -1.0527344, 3.8476562, -5.4648438, -7.8320312, 4.1914062, -3.875, -2.2929688, 6.609375, -7.4335938, -4.6210938, 13.6015625, -10.78125, -2.7773438, 9.875, -8.8984375, -1.4208984, 8.9921875, 9.203125, -6.2851562, 4.3671875, 0.33251953, 0.09265137, -3.9609375, 3.1640625, -4.4179688, 6.0234375, 3.2148438, 3.4101562, -2.2246094, 7.6367188, -4.265625, 6.1171875, 1.0302734, -2.7207031, 5.7109375, -8.984375, -7.0976562, 3.7871094, 1.3125, 1.2949219, 0.91064453, -6.1171875, 8.5703125, 5.1953125, 0.94189453, -1.6357422, -5.6523438, -0.01889038, 5.5078125, -4.390625, 4.6640625, -40.25, 1.5371094, -1.7705078, 4.1875, 5.1210938, -0.42114258, -1.3203125, 0.24865723, 8.78125, -5.4492188, -1.8457031, 5.234375, 7.140625, 1.3056641, 1.2548828, 11.265625, -0.6855469, -5.5546875, 2.0175781, -3.9003906, 1.7724609, 1.7099609, -0.51904297, -3.1777344, -6.078125, -5.890625, 7.9492188, 0.73046875, -3.328125, 4.6875, 14.9921875, -2.9824219, -0.53027344, 3.1113281, -3.2460938, -3.59375, 6.7734375, -1.3818359, 4.15625, 3.7421875, -0.8388672, -6.6289062, 6.28125, -0.9370117, 3.703125, -6.9023438, -5.265625, 1.3242188, 0.33789062, 2.3476562, 10.3515625, -6.3984375, -1.2480469, -4.7539062, -13.640625, 9.5703125, 4.8125, -7.8945312, 0.2388916, 0.045013428, 2.8066406, 10.5234375, 4.7109375, -0.7988281, -2.0527344, 3.0019531, -2.4921875, 11.9375, -8.1015625, 12.1328125, 9.96875, 2.4355469, 9.890625, -3.65625, -1.9833984, -9.3515625, 3.6445312, -8.8671875, 3.6601562, -4.8671875, -0.5029297, -0.49145508, 4.1289062, -2.2148438, 10.1484375, -5.9335938, -7.0820312, 10.59375, -0.047210693, -6.3320312, -6.7421875, 4.0664062, -1.9462891, 10.0546875, -2.0898438, 8.65625, 3.5800781, 5.2578125, 5.2226562, 7.7382812, -5.3125, 1.9091797, -2.4296875, -1.8447266, 0.67822266, 0.26538086, -10.625, -1.4082031, -10.2578125, -5.375, 3.3964844, -5.9492188, 1.0087891, -16.203125, -5.1992188, 6.4453125, 2.8574219, -4.2109375, -3.7109375, 1.3417969, -8.65625, -5.515625, -7.4179688, 3.6972656, -4.9570312, 2.421875, -3.8730469, -3.5683594, -0.40283203, -4.2382812, -0.78515625, 8.8046875, -7.9375, -4.2734375, -5.46875, -2.9980469, -10.234375, -14.640625, 4.7109375, 2.5683594, 5.46875, -7.7421875, -7.8125, 4.8789062, -3.3515625, 8.7109375, 4.7109375, -0.37402344, 7.75, -2.75, 1.2548828, 0.91015625, -3.7714844, -4.484375, 4.7773438, 4.6640625, 3.9550781, 0.42211914, -2.5722656, 2.6035156, 1.4501953, 0.9511719, -2.2558594, -1.0986328, -4.4296875, 6.4609375, -8.078125, 0.16638184, 0.6567383, 0.16748047, -10.171875, -15.609375, -4.4960938, -3.3769531, -5.703125, -6.3945312, -4.1484375, 4.984375, 9.9375, 0.7895508, 2.6953125, 8.8515625, 0.9589844, 4.6835938, 1.3183594, -2.7285156, 4.7890625, -3.8242188, 6.53125, -2.9960938, 2.328125, -0.30371094, -1.0556641, 2.9003906, 3.5273438, -6.9375, -2.5625, 2.7988281, -4.5195312, -8.734375, 6.0507812, 2.265625, -6.9726562, 9.71875, -1.9960938, 1.2382812, -17.203125, -2.8984375, -5.1171875, 3.5761719, 0.31982422, 1.2578125, 3.1035156, 1.7783203, -1.8144531, 6.2070312, -3.84375, 1.8300781, 5.21875, 4.3203125, 2.9804688, 7.1640625, -1.3017578, -8.6953125, 1.4980469, 6.4101562, 3.7539062, 1.1503906, -0.98046875, -4.8789062, 4.5546875, 2.6347656, 3.4921875, -0.04208374, 0.4958496, 3.8847656, -3.2734375, -8.1640625, 5.4726562, -0.5830078, -3.3652344, 2.9238281, -3.8046875, 1.0576172, -4.0625, 0.7998047, -3.8457031, 10.1953125, -3.4941406, 5.3984375, -3.6484375, -0.44384766, -6.734375, -5.515625, -3.9335938, -3.1210938, -3.6621094, -0.9145508, -3.6679688, 4.484375, -2.2695312, -2.375, -3.9882812, 5.59375, -2.4199219, 6.4257812, 7.5898438, 4.0546875, -9.4765625, -4.1835938, -6.1015625, 8.8671875, 4.0664062, 2.6894531, -0.41333008, -16.109375, 1.015625, -4.2460938, 6.1601562, -7.1484375, -0.48632812, -4.1601562, -10.984375, 8.109375, -0.9291992, -2.421875, -1.3203125, -5.234375, 6.3515625, -4.703125, -0.5546875, -5.6640625, 1.7304688, -1.4716797, -7.1835938, 2.6132812, 6.3007812, -3.2421875, -0.064453125, 7.1484375, 7.203125, -7.5039062, 4.6914062, -3.0683594, 2.6035156, 1.6162109, -2.3867188, -0.3708496, 5.0117188, -2.0585938, -1.1347656, 5.96875, 10.2265625, -14.7734375, -0.859375, 5.8164062, -9.3125, -4.8242188, 1.4609375, 2.8183594, 1.4453125, 13.28125, -9.984375, -7.828125, 6.0742188, -2.6308594, 6.2148438, -13.2578125, 3.6582031, -5.6328125, 3.53125, 6.2109375, 3.1816406, -4.4140625, 0.44702148, 25.078125, -1.7392578, -2.3125, 6.3984375, 4.28125, 4.9257812, -4.4257812, -6.4765625, -2.9667969, 1.8837891, 2.1972656, 2.6152344, 4.234375, 3.3789062, 1.3671875, -0.36132812, 3.2402344, 1.2851562, -8.5703125, 1.9892578, -1.5996094, 1.0244141, 5.4648438, 6.4414062, -1.4892578, 4.6015625, 8.015625, 0.9785156, -3.2304688, -4.3242188, 3.5097656, -0.52001953, 13.8125, 2.2382812, 5.7929688, 6.5664062, -0.74902344, 5.5351562, 1.5371094, -3.1523438, -2.2675781, 6.4804688, -4.3398438, 9.171875, 0.4584961, -2.8105469, -7.5703125, -4.7070312, -3.1601562, -1.6982422, -7.734375, 5.7734375, 2.2011719, 0.39868164, -2.1328125, 5.4921875, -4.9375, -4.21875, 0.9975586, 0.65234375, 0.014251709, 1.5810547, 4.1796875, 1.3378906, -4.6992188, -2.2773438, 11.078125, -0.101623535, 10.5078125, -7.0546875, -1.0234375, -0.765625, -1.0546875, 3.0625, 3.2011719, 17.265625, -4.65625, 3.4375, -1.1669922, -2.7832031, 13.5859375, 3.7207031, 5.21875, 6.171875, 11.9296875, 4.3476562, -8, -6.2773438, -2.0078125, 4.0664062, 0.78027344, 0.28833008, -3.7167969, 12.96875, 4.2695312, -5.0273438, 0.63916016, 2.8046875, -3.7871094, -5.5742188, -1.3613281, -8.5859375, -8.5234375, -7.65625, 5.84375, -0.9536133, -1.5625, -3.6308594, 1.4833984, 5.1796875, -13.7734375, 7.4570312, -1.0458984, 4.59375, 4.0742188, -4.3710938, 6.109375, 2.1699219, -8.1875, -2.8769531, 1.1767578, 2.0214844, 9.578125, -1.5644531, -3.4042969, 1.5722656, 2.7050781, 3.3808594, 0.7866211, -3.28125, -6.2304688, 5.3164062, 1.5810547, -3.8222656, 2.6855469, 6.6835938, -1.8154297, -8.640625, 2.4863281, -4.84375, -4.15625, 6.2070312, 3.1855469, -2.0371094, 2.8183594, 9.5546875, 7.2382812, 0.28735352, -9.6171875, -2.0644531, 4.4101562, -6.0664062, 5.015625, 5.0859375, 3.8261719, -0.8305664, 9.15625, 0.95410156, 10.171875, -1.1298828, 1.0722656, 8.1875, 2.8027344, 0.7397461, 3.9257812, 6.1132812, 2.4589844, -2.328125, 6.171875, 5.8164062, 4.2890625, 6.109375, -0.70947266, -0.09613037, -13.21875, -6.7851562, -0.40454102, -2.0976562, -12.296875, -1.7900391, -2.2265625, 0.52783203, 1.1826172, -9.6953125, -0.03060913, 0.10601807, 12.4375, 0.74316406, -1.7373047, -0.47631836, 0.42407227, -0.45092773, -2.2089844, 5.2695312, 3.1210938, -6.8632812, 5.4453125, -2.9140625, 5.9648438, 3.8789062, 6.8320312, 6.578125, 3.0292969, 7.3007812, -0.87060547, -0.9477539, 7.90625, 0.031951904, 1.1289062, -1.9599609, -5.15625, 6.2578125, 5.0546875, -1.7529297, -6.1328125, -6.9570312, 5.3789062, -1.3789062, 0.41333008, 1.3847656, 4.796875, 7.625, 3.7480469, 5.75, -6.9023438, 2.5117188, 1.9492188, 1.8886719, 6.5234375, 2.4863281, -8.7734375, -14.40625, -3.4238281, -1.8720703, 2.9394531, -3.4628906, 9.40625, -4.3046875, -0.006538391, 5.046875, 2.7519531, 1.8447266, -2.5214844, -1.4980469, 4.5625, 2.2578125, -2.5371094, -2.2285156, -7.6015625, -4.0546875, -7.6601562, -5.8710938, -16.828125, 2.1132812, 2.7617188, -8.3515625, 1.2705078, 6.9570312, 3.3125, -7.0703125, -2.59375, -2.75, 0.39038086, -8.96875, -4.3828125, -8.6015625, 3.5234375, 10.046875, 2.0625, -2.7128906, 1.5488281, 5.2304688, -3.9238281, 3.0273438, -7.0898438, -7.4609375, -2.1191406, -1.3242188, 7.5273438, -5.4257812, -0.9169922, 10.78125, 0.3305664, 1.9326172, -0.43652344, -0.57910156, 5.5234375, 8.0625, -3.2324219, 0.36816406, -4.1953125, -12.1171875, -2.7851562, -3.6054688, -2.4960938, 11.8828125, 6.5703125, 0.019378662, -48.375, -5.7734375, 3.3574219, -3.9882812, 2.7949219, 6.3789062, -1.1728516, 4.3476562, 12.34375, 3.8789062, 4.3203125, 1.3271484, 5.1132812, 5.0976562, -10.359375, -1.2685547, 13.125, -2.0058594, -2.0039062, -9.015625, 1.7636719, 3.3222656, 8.09375, -0.46557617, -5.3671875, 0.016418457, 3.2871094, 3.1015625, 8.875, 2.0644531, -0.58496094, 4.7460938, -1.8066406, 3.0097656, -0.4814453, -0.7939453, -0.5151367, 3.9375, -1.3271484, -8.9921875, -2.3984375, 14.9453125, -1.6894531, -6.6328125, 0.37573242, 4.3515625, -0.59765625, 8.59375, 0.0155181885, -6.3085938, 5.4453125, -24.484375, 1.8623047, -9.8125, 13.0625, 4.65625, 0.27490234, -5.8554688, -5.5976562, -1.4580078, -1.8896484, -1.3242188, -6.1757812, -3.5234375, 2.0703125, -5.7109375, -9.9375, -8.7890625, 2.8730469, -8.5546875, -5.875, 0.19543457, 2.5117188, -5.7265625, -7.9882812, -1.5927734, -4.9101562, -0.82373047, -1.4492188, -9.4921875, 2.6660156, 4.9609375, 1.4375, -11.7734375, 0.38598633, 7.078125, -5.4609375, 3.9785156, -5.5820312, 7.2695312, 15.359375, 2.2988281, -1.296875, 8.421875, 1.3203125, 17.765625, 9.0859375, -4.828125]\n",
            "[-4.8945312, 5.9570312, -1.7402344, 9.5859375, 3.9980469, 1.8417969, -0.0011110306, 2.78125, 6.1679688, 4.953125, -6.2851562, -0.6166992, -0.9501953, -5.71875, -5.1796875, -5.171875, 1.4082031, 5.3867188, 7.2265625, 7.859375, 7.859375, 0.6484375, -1.0146484, -0.25610352, 7.9257812, 1.1171875, 4.1132812, 5.078125, -2.3613281, 1.5322266, -6.5273438, -5.7265625, 5.4023438, 5.234375, -1.5234375, 7.6015625, -1.2890625, 5.1953125, -1.140625, -0.81884766, -0.19555664, -7.1015625, 1.6025391, -0.2590332, 1.6923828, -0.8701172, -12.6796875, -3.7539062, -2.2207031, -0.55078125, -2.4570312, 3.0117188, -2.6367188, 1.9482422, 1.3271484, -8.1484375, 6.140625, -4.2421875, -7.8710938, 2.6992188, -1.9580078, 0.11755371, 4.3671875, -0.7578125, -5.5351562, -1.7685547, -3.5195312, -3.4882812, -1.4472656, -2.4960938, 0.6953125, -3.1757812, 2.5761719, -6.3632812, -8.375, 5.6015625, 2.3476562, -3.3339844, -1.1875, 0.58251953, -0.9394531, 3.6484375, 4.3398438, -4.1445312, -2.2402344, 8.5703125, -8.421875, -5.2070312, 1.8691406, -3.5136719, 2.8144531, -0.8466797, -5.921875, -5.6835938, 3.4863281, -7.4023438, 14.671875, -0.85839844, 2.5117188, 4.2695312, -3.6074219, 0.32543945, -2.3144531, -6.6835938, 2.3652344, 8.6171875, -0.50341797, -2.6035156, -4.984375, -1.7871094, -2.5234375, 8.296875, -3.6347656, -6.765625, 10.828125, -2.7929688, -1.9775391, 8.078125, 2.21875, 7.9296875, 3.4667969, -2.734375, 2.8769531, -3.9511719, 4.3125, 1.296875, 1.7597656, 2.140625, 2.0234375, -2.6503906, 3.5039062, 1.6025391, -0.2607422, -1.5058594, -6.1015625, 9.078125, 0.73095703, 0.16003418, 8.2265625, -1.0917969, 5.8710938, 5.1953125, -9.578125, -1.9931641, 2.125, 3.6542969, -0.10089111, 2.625, -0.21398926, 0.69384766, 2.21875, 0.8935547, 5.3476562, 14.4765625, -2.9316406, 1.2021484, -1.7226562, 6.0976562, -1.5683594, 3.7714844, 1.40625, 1.0917969, -3.8808594, 3.4316406, -0.48632812, -1.7080078, -16.46875, 2.2734375, -0.5263672, -8.4765625, -6.3476562, 10.671875, -1.7802734, -0.105895996, -0.0028190613, -8.375, -3.53125, -2.5332031, -9.453125, 7.6757812, -3.234375, 1.59375, 3.5761719, 9.7578125, 6.8984375, -5.4882812, 11.09375, 0.6303711, -0.05999756, 1.9130859, 2.8027344, -8.515625, 3.8925781, 1.7714844, -4.5390625, 4.671875, 3.7636719, -3.4804688, -3.578125, -0.5678711, 3.7226562, -6.2578125, 0.43676758, 8.5625, 5.8789062, 8.3828125, 9.1796875, 5.0234375, 4.984375, 3.6152344, 7.65625, -8.9453125, 0.74560547, -3.046875, 2.6132812, 2.0058594, -8.7421875, -11.1015625, 2.4746094, 8.328125, -0.4272461, -3.828125, -2.7128906, -0.095336914, 1.3876953, -5.5585938, -5.8359375, -2.2753906, -6.2851562, 10.4375, 6.3515625, -7.5117188, -0.6508789, 6.3164062, 2.9511719, -2.921875, 0.61376953, 5.390625, 9.140625, -6.375, -4.546875, 4.9179688, -6.109375, 4.4492188, -5.953125, -4.609375, 2.3828125, -6.5625, 6.1171875, 6.1679688, -3.0703125, -7.6054688, 6.4375, -8.859375, -2.3964844, 12.0703125, -8.453125, 2.875, 7.765625, 13.6640625, 2.6933594, 8.609375, -2.8398438, -10.421875, -2.1152344, -0.61035156, -4.7773438, 5.015625, 4.609375, 4.8554688, 1.0166016, 1.0732422, 0.08276367, 0.70751953, -3.7734375, -5.9882812, 3.5683594, -2.34375, -1.4433594, 6.2226562, 0.13269043, 2.9003906, -4.7734375, -6.828125, 0.5551758, 4.2304688, 7.6445312, -4.8203125, -4.71875, 6.4414062, 5.6289062, -4.6484375, 0.8618164, -28.59375, 0.7529297, -3.5605469, 14.390625, 4.8320312, 5.3359375, 1.6650391, 1.6318359, 12.859375, -2.1464844, -0.7949219, -1.0458984, 2.59375, 0.031433105, 6.96875, 7.7734375, 1.0654297, -8.5703125, 3.9550781, -7.1445312, 1.7109375, -0.8828125, -5.6054688, -2.6054688, -7.140625, -5.0742188, 3.3144531, 2.5683594, 0.89746094, 6.7890625, 8.8359375, -7.1914062, 4.359375, 8.8515625, -4.984375, 1.1464844, 6.6367188, 3.3574219, -2.1445312, 4.2460938, -0.18896484, -11.734375, -2.3359375, -0.8666992, -3.6679688, -0.18127441, -7.8242188, -5.6914062, 3.8886719, 1.8212891, 5.1796875, -2.796875, 1.2148438, -0.9980469, -8.828125, 13.578125, 5.5898438, -0.79248047, 1.6015625, 7.7460938, 7.3632812, 8.7734375, 3.2441406, -5.7578125, 4.2617188, 7.7695312, 0.74365234, -1.1513672, 2.21875, 4.9765625, 7.1523438, -1.9404297, 5.4140625, -3.6308594, 1.3798828, -5.8867188, -4.5273438, -10.515625, -3.7265625, -10.28125, -3.3496094, -7.3632812, 9.6640625, -1.4902344, -0.2121582, -7.9648438, 1.5107422, 8.2265625, 0.22741699, -5.0664062, -5.8320312, 5.4804688, 0.027191162, 6.296875, -4.4296875, 5.4570312, 7.8007812, 5.4960938, 8.671875, 8.5390625, -2.9707031, 5.96875, 4.1523438, -3.3769531, 5.3125, 4.1210938, -8.1484375, -3.3574219, -15.890625, -1.0585938, 9, -11.4296875, 2.7382812, -13.7734375, -3.5488281, 1.5292969, 6.1054688, 6.921875, -4.8515625, 2.5273438, -8.8359375, 5.5625, -4.0703125, 4.4414062, -10.0859375, 0.7314453, -7.6757812, -6.0273438, 0.8955078, 2.8183594, 1.4189453, 5.3554688, -3.0898438, -5.1953125, -6.4257812, 1.1650391, -6.2929688, -8.1328125, -2.1425781, -0.21350098, 5.8867188, -1.4042969, -19.140625, 6.578125, 2.0761719, 11.0625, 4.3242188, 8.75, 3.1367188, 3.7167969, 2.2324219, 3.484375, 0.7319336, -2.1308594, 2.3535156, -0.44458008, 4.1171875, 3.0585938, -1.9287109, 4.5117188, -0.007511139, 6.40625, -4.0625, 5.1757812, -0.8183594, 11.84375, -8.0390625, -6.0039062, 8.1640625, -6.1601562, -3.34375, -14.6953125, -5.3789062, 1.234375, -3.4335938, 1.5253906, -0.7207031, 10.8203125, 6.5664062, -0.421875, -0.4189453, 5.4375, -1.0332031, 5.6523438, 3.9609375, 5.5234375, 5.8984375, -9.1875, 0.37695312, 1.7802734, -1.8818359, -2.0625, -3.984375, -5.1757812, -1.6943359, -5.6367188, -0.8227539, 2.1542969, -9.3671875, -1.7011719, 5.8945312, 13.5625, -5.8242188, 5.5703125, 3.2050781, 3.3359375, -14.4609375, -1.9384766, -9.3515625, -2.3398438, 2.125, -1.6337891, 3.2636719, 0.022949219, 2.2597656, 6.0585938, 0.7373047, 7.1835938, 3.6464844, -5.4179688, 8.5703125, 0.484375, -7.03125, 1.0957031, -1.1513672, 1.9130859, 3.0625, 3.0527344, 1.9267578, -0.73876953, -8.96875, -0.9511719, 1.4433594, 3.5058594, -3.2851562, 4.6601562, -6.96875, -14.515625, -4.75, -4.8984375, 0.72509766, -1.5771484, -6.8710938, 1.0439453, -5.546875, 6.3789062, 0.32617188, 8.046875, 3.0214844, -1.0341797, -1.6279297, 1.1259766, 1.2929688, 2.8027344, -6.640625, 2.53125, -0.875, -6.328125, -2.3535156, -7.390625, -5.4765625, -3.1992188, 0.89697266, 1.7138672, -6.265625, 9.59375, -1.1191406, 1.6220703, -9.28125, -4.109375, -3.8671875, 8.515625, 3.6953125, 7.2773438, 6.6484375, -15.609375, 3.1445312, -16.4375, -4.0078125, -7.4414062, 2.8066406, -6.0039062, -8.3046875, -0.8066406, -7.140625, -2.2148438, 0.34204102, -3.2324219, 7.6367188, -3.3710938, -2.8769531, -6.9023438, -6.7734375, -3.5761719, -3.3710938, -1.3486328, -1.1650391, -0.7841797, -4.7421875, 10.3203125, 9.703125, -3.3398438, 2.2207031, -0.4831543, 6.1601562, -0.85839844, -6.140625, 3.5566406, 5.0546875, 1.9228516, -1.6914062, 9.1875, 7.28125, -5.1289062, -1.2734375, 2.5449219, -6.2578125, -4.8515625, 4.5742188, 6.3632812, -2.1582031, 5.6367188, -6.7773438, -2.4824219, 3.7988281, -5.4726562, 9.5390625, -2.3613281, 10.8515625, -6.2304688, 2.828125, 4.2890625, 3.1835938, 2.4863281, -8.421875, 3.796875, -4.4648438, 1.4951172, 2.0976562, 8.7265625, 7.2148438, 4.484375, -12.515625, -2.2714844, 0.24694824, -3.3671875, -5.6601562, 5.9140625, 2.7617188, -4.0039062, 1.2099609, -1.9423828, 7.1679688, -7.5117188, -4.0273438, -0.5395508, 16.328125, 7.265625, 1.0136719, -3.4394531, -1.8642578, -0.34692383, 0.13842773, -4.9335938, 0.12683105, 5.1289062, 8.265625, 9.53125, 3.1699219, 3.7949219, 8.0625, -2.8242188, 9.1171875, -3.0898438, -2.5976562, 1.7714844, -0.2746582, -1.7070312, 6.953125, 6.9453125, -1.4765625, -6.1484375, -5.375, 2.2890625, 2.8984375, -7.4179688, 7.4414062, 3.5488281, -4.0234375, -5.1914062, 1.7138672, -6.4609375, -14.59375, 1.2089844, 0.39501953, 3.3378906, 0.85791016, 0.12536621, -0.1928711, -10.7578125, -2.0410156, 7.71875, 1.6933594, 9.28125, -6.3789062, -7.5234375, -2.2089844, 2.4277344, 7.984375, -5.1992188, 8.609375, 2.7109375, 5.7929688, -4.0039062, 3.6972656, 5.2070312, 0.074401855, 7.7851562, 0.59375, 13.78125, 5.5234375, -5.3710938, -3.34375, -3.03125, 2.2519531, 1.0869141, 5.5078125, -10.359375, 12.25, 2.0019531, -8.25, 3.5800781, 2.1464844, 5.6796875, -3.2148438, -0.24511719, -6.7109375, -1.9814453, 3.8027344, 5.3671875, -1.9746094, 1.5117188, 1.9345703, -0.77441406, 2.6074219, -12.9921875, 4.2070312, 4.0976562, 1.4423828, 2.1503906, -3.4433594, -0.0803833, -0.1418457, -5.2617188, 4.2265625, 2.359375, 3.1074219, 9.8671875, -3.2207031, 0.3947754, 3.4414062, 4.0820312, 1.3369141, 1.3613281, -7.5703125, -11.078125, 7.7148438, 1.9326172, -5.7695312, -4.59375, 6.9492188, 0.16345215, -2.4121094, 9.03125, -1.1650391, -3.0507812, 5.7890625, -4.171875, 1.2421875, 5.2421875, 10.7734375, 5.9648438, 3.8222656, -7.2421875, -9.4609375, 6.9960938, -6.0820312, 3.0664062, -4.546875, -3.9257812, -5.7460938, 10.828125, 5.0703125, 6.4179688, 2.8085938, -0.91552734, 9.265625, 0.3400879, -3.5878906, 3.3164062, 6.2890625, 2.4335938, -2.2929688, 5.5390625, 6.7929688, 4.4453125, 3.2949219, -6.8046875, -4.875, -14.3203125, -2.7519531, -3.8222656, -0.3828125, -8.875, 0.36621094, -0.15759277, 0.6713867, -1.8222656, -10.234375, 2.7929688, -0.33129883, 10.8203125, 2.0527344, -0.6713867, 8.8359375, -3.9941406, -5.2578125, -4.4492188, -1.2578125, 6.8085938, -2.1953125, 2.2285156, -6.3476562, 5.4023438, 1.5869141, 4.3554688, 7.0703125, 1.4707031, -5.5351562, 2.71875, -4.0625, 5.484375, -1.0810547, -1.4423828, 10.328125, -6.6289062, 5.3828125, 4.7460938, -1.5751953, -9.1171875, -6.1015625, 4.890625, 3.3945312, -5.6015625, 0.7470703, 3.1054688, 5.9765625, 5.8945312, 4.9804688, -5.2070312, 3.9902344, 2.0019531, 1.9003906, 8.703125, 5.875, -6.6679688, -6.9453125, -0.07196045, 0.89501953, 0.40795898, 1.9423828, 2.9628906, -1.1162109, -0.25073242, 1.2099609, 3.0175781, -0.8828125, -1.5908203, 3.4472656, -0.31884766, -0.9350586, -3.2480469, -4.3242188, -13.359375, -0.61621094, -9.546875, -4.3242188, -17.875, 0.5673828, 4.09375, -1.3896484, 4.0351562, 5.7109375, -0.73828125, -5.1796875, 2.6464844, -1.2158203, 2.0820312, -6.09375, -1.4130859, -3.078125, 5.78125, -1.1748047, 4.8203125, -4.1757812, -4.2382812, 0.77001953, -1.9404297, 2.0214844, 0.5888672, -6.78125, 0.62646484, 6.21875, 10.28125, -10.2578125, 1.8857422, 10.5703125, -1.6826172, -0.08135986, -8.453125, -0.31958008, 8.5859375, 0.5180664, -3.7011719, 4.4960938, 1.3886719, -15.4453125, 0.4970703, 5.9375, -4.0898438, 12.1171875, 0.9379883, 5.3554688, -41.625, -5.8007812, 1.3994141, 1.8574219, 16.578125, 2.125, 6.4648438, 1.1054688, 3.4824219, 6.0898438, -1.7851562, 3.3945312, -0.3034668, 3.4511719, -7.53125, 0.6689453, 6.078125, 2.2792969, 3.1992188, -12.8671875, -9.1015625, -1.0654297, 8.6484375, 1.3847656, -4.890625, -9.03125, 0.38867188, 4.609375, 2.0625, -2.0683594, -0.4116211, 12.703125, -2.7636719, -1.6738281, -2.9960938, -4.2304688, 0.099853516, 0.82177734, -6.2773438, 0.7963867, -1.0839844, 7.2421875, -1.6894531, -5.1640625, -0.765625, 2.7246094, 2.7480469, 1.5986328, 1.2470703, -10.515625, 10.484375, -26.109375, -3.2285156, -5.203125, 15.1875, 5.3554688, 4.609375, -10.6484375, -10.2734375, -3.6894531, -3.6523438, -2.1347656, -1.2587891, -7.6953125, -7.2539062, -4.7773438, -3.2851562, -6.8828125, -1.359375, -5.7382812, -10.5703125, -1.5126953, -2.4433594, -3.6308594, 0.61328125, -1.1474609, -5.5351562, 2.7929688, -2.5957031, -7.2460938, 5.6640625, 3.6601562, -1.4570312, -7.34375, 5.0390625, 2.046875, -2.6425781, -4.2070312, -1.9990234, 3.6328125, 16.609375, 0.24694824, 3.5957031, 3.5078125, -1.4228516, 3.9003906, 16.96875, 2.4140625]\n",
            "[0.35595703, 5.4570312, -2.1113281, 9.609375, 1.5791016, -3.1425781, -1.5673828, 1.9863281, 5.3398438, 2.1640625, -3.6894531, -3.4492188, 0.16760254, -5.1015625, -5.3632812, -2.984375, 10.265625, 1.3320312, 7.9375, 9.4296875, 5.4179688, -7.1640625, -1.5585938, 0.22229004, 12.75, 7.5820312, 1.4042969, 9.5234375, -1.6660156, -3.4550781, -3.3417969, -7.3085938, 2.796875, 6.2929688, 0.7597656, 8.8359375, 0.7182617, 5.4023438, -1.0429688, 2.5078125, 3.8554688, -4.25, 4.28125, 0.35131836, -0.20532227, 2.8027344, -7.2890625, -10.421875, -2.6171875, 1.1904297, -6, 2.3867188, -2.6132812, 2.9628906, 3.5488281, -14.921875, 6.4921875, -0.6376953, -4.8671875, 0.23059082, 1.0009766, -3.9570312, 5.2382812, 0.0041542053, -7.1484375, 4.5390625, -7.8203125, -0.024475098, 2.7636719, -2.2148438, 0.36914062, 0.7866211, 2.7597656, -5.5039062, -3.2871094, 6.8085938, 8.7265625, -3.4511719, 0.44580078, 0.7529297, 0.25195312, 4.3710938, -3.0976562, -7.1484375, -0.39794922, 2.21875, -6.7929688, -3.0351562, 0.9609375, 0.037017822, 1.8984375, -0.25024414, -4.2070312, 0.70703125, 2.5332031, -4.2382812, 16.890625, 0.082092285, 1.734375, 5.109375, 6.546875, -3.6953125, -1.0273438, -3.5, 0.89746094, 3.7890625, 0.64697266, -3.8515625, -5.7695312, -3.3457031, -5.3164062, 5.8359375, -4.1445312, -8.4609375, 9.6484375, 0.3918457, -3.7167969, 8.984375, 7.0546875, 12.3203125, 3.453125, 1.8261719, 5.2421875, -0.82421875, 4.203125, 0.8129883, 2.6328125, -2.9296875, 1.5058594, 0.3947754, 1.9921875, 5.8046875, -1.8974609, -3.3457031, -5.9492188, 8.890625, -4.265625, -2.8671875, 18.234375, 0.9472656, 0.08166504, -3.1171875, -10.3828125, -2.6738281, -2.0234375, 7.4609375, -3.0136719, -3.9238281, 0.042388916, -2.7421875, -1.6591797, -2.0683594, -1.5908203, 9.9296875, -2.5917969, -1.8212891, -6.4179688, 6.4257812, 0.9711914, 0.20593262, 2.9238281, -8.5390625, -8.3984375, 5.7109375, -1.7519531, -0.27392578, -14.0234375, -0.22583008, -4.2617188, -3.8730469, -2.3046875, 13.3046875, -3.7871094, 6.0507812, 4.640625, -2.21875, -5.9335938, 1.5283203, -5.5546875, 0.18640137, 0.8300781, -4.2929688, -5.515625, 0.019073486, 6.78125, -10.296875, 9.2109375, 1.2871094, -4.3476562, 2.734375, 1.2763672, -4.0078125, 8.0078125, 1.6552734, -0.6777344, 3.7695312, 3.1269531, -4.0039062, -2.2148438, -2.8183594, -1.8623047, -2.453125, 2.7910156, 7.8007812, 3.6328125, 8.4375, 5.5390625, -0.6035156, -0.08123779, 2.9804688, 3.9824219, -11.0625, 7.5351562, 1.2285156, 4.5820312, 0.6435547, -6.5664062, -9.9140625, 9.5, 7.4882812, -3.3242188, 3.7050781, -4.234375, -6.1679688, -1.5683594, -11.3671875, -2.7324219, -4.6171875, -5.9492188, 10.25, 9.84375, -0.5004883, -4.9179688, 4.9570312, 1.2871094, 1.0224609, -1.4433594, 8.1015625, 0.68603516, -1.3964844, 0.98535156, 4.7539062, -8.171875, 3.2617188, -7.7265625, -2.5742188, 3.6015625, -1.2109375, 5.7851562, 8.7421875, 2.5546875, -4.3320312, 7.7226562, -10.9609375, -2.0039062, 7.5429688, -7.9375, -0.12585449, 8.2421875, 10.59375, -2.0546875, 7.4023438, 4.40625, -7.1523438, 1.5693359, -0.5751953, -5.8867188, 8.203125, 8.3203125, 3.7558594, 3.2207031, 1.2509766, -0.69140625, -0.32495117, -3.9824219, -2.4355469, 3.78125, -4.9765625, -6.6015625, 1.8183594, -5.7421875, 3.7402344, -0.9550781, -10.8984375, 1.7333984, 8.65625, 1.0917969, -2.1289062, -4.4648438, 8.5078125, -0.26000977, 0.0027332306, -1.0498047, -29.53125, 1.5751953, 1.7402344, 10, 0.69628906, 0.31958008, 0.9580078, -0.010688782, 12.1015625, 2.2265625, 5.0664062, 2.4414062, 5.9804688, -1.8505859, 2.4609375, 5.9335938, -2.453125, -7.1640625, 3.3339844, -8.1953125, 0.72558594, 1.4238281, -0.016403198, -3.8203125, -7.1210938, -0.21020508, 0.8359375, 0.38427734, -3.2753906, 7.9375, 7.0039062, -10.0390625, 4.6289062, 8.2265625, -4.7109375, -2.5371094, 2.2148438, -4.125, 2.6210938, -0.16333008, -2.7792969, -9.421875, 4.5585938, -0.67041016, -3.1132812, -3.6347656, -3.9707031, -7.484375, 4.5585938, 2.2402344, 4.1875, 1.3945312, -3.1113281, 5.8046875, -14.109375, 14.9609375, 6.078125, -2.53125, -1.9960938, 8.671875, -3.5332031, 10.3125, 4.2148438, -0.06951904, 4.6679688, 7.390625, 1.6015625, -2.3789062, 0.32836914, 4.4375, 11.859375, 3.421875, 3.0429688, -1.2636719, -7.2382812, -10.21875, -3.4375, -11.3125, 0.39526367, -6.4101562, -7.8554688, -7.6875, 9.9765625, -0.8618164, 3.8925781, -14.3671875, 6.625, 12.8125, 1.0703125, -6.71875, -10.2109375, -0.9111328, -2.5761719, 9.2109375, -4.921875, 10.25, 8.578125, 3.4277344, 8.9453125, 3.4570312, -0.9326172, 4.6914062, 5.5390625, -3.5390625, 8.5390625, 4.375, -11.65625, 4.4296875, -12.96875, -4.3398438, 5.296875, -5.84375, 3.7363281, -13.8671875, -1.4228516, 6.9570312, 7.3398438, 5.5703125, -0.8823242, 3.6855469, -12.2265625, -1.0576172, -5.6835938, 5.3007812, -5.78125, -1.65625, -3.9863281, 0.7138672, 1.6386719, 2.1601562, -3.2480469, 9.21875, -8.2109375, -3.3691406, -4.6289062, -0.08166504, -3.9902344, -9.1640625, 3.3457031, 0.61328125, 1.1542969, -3.2167969, -14.9375, 5.8632812, -1.3876953, 11.1171875, 3.9882812, 0.9379883, 11.421875, 0.55078125, 1.6103516, 3.6972656, 3.4296875, -6.078125, 4.734375, 5.046875, 5.8710938, 9.2109375, -4.3398438, -0.2409668, 1.6005859, 8.578125, 1.3134766, 3.0546875, -5.890625, 3.5800781, -7.3085938, -2.484375, 2.1738281, -7.6523438, -7.0625, -15.140625, -2.1953125, 6.3710938, -2.1425781, -0.3083496, 0.33642578, 7.1640625, 0.7861328, -5.7109375, 11.4609375, 5.0429688, 2.0898438, 4.3125, 0.7270508, -1.1269531, 6.0742188, -9.2421875, 5.8046875, 0.55322266, 4.6875, -1.6201172, -5.6367188, -6.640625, 3.6816406, -1.0957031, -0.7260742, 0.81591797, -9.4296875, -5.9179688, 5.3046875, 11.8359375, -7.3398438, 11.28125, 0.7890625, 2.6621094, -12.078125, -1.8642578, -6.0039062, 2.8007812, 1.7255859, -4.34375, -3.9199219, -2.8535156, 0.46484375, 3.1699219, -0.2076416, 8.1015625, 0.26708984, 0.3959961, 3.0488281, -1.4228516, -4.90625, -0.35058594, -0.60009766, 3.0527344, -1.0732422, 6.5273438, 4.390625, -2.4960938, -7.890625, -1.9111328, 3.1367188, 3.8828125, -6.7773438, 1.5146484, -14.34375, -13.0078125, 0.7758789, -6.109375, -7.6640625, -8.765625, -4.5859375, -0.7392578, -5.78125, 5.3164062, -2.8867188, 2.0136719, 2.1054688, 0.5419922, -0.5932617, -2.3613281, -3.6699219, 0.2241211, -6.1757812, 3.2226562, 0.20727539, 2.5585938, 0.515625, -4.3789062, -11.1640625, -1.4580078, -6.2226562, 3.84375, -1.9609375, 6.6054688, 4.53125, 7.21875, -5.0117188, -1.3125, -2.4550781, 4.4921875, 11.1328125, 13.15625, 2.3652344, -19.296875, 5.59375, -9.6953125, 1.3398438, -0.19543457, 1.9306641, -8.375, -5.8320312, 0.39990234, -8.921875, -4.84375, -1.4707031, 0.0009407997, 3.1972656, -9.6171875, -5.03125, -2.0039062, -4.6132812, -0.27172852, -6.2460938, 6.8789062, 1.1992188, 3.2246094, -3.5429688, 10.046875, 2.0292969, -4.6757812, 0.14038086, -0.30859375, 9.6015625, -3.1464844, -6.8125, 4.5234375, 0.61328125, 0.6352539, 1.5361328, 7.8320312, 9.828125, -1.6484375, -0.54052734, -0.4580078, -13.3359375, -5.203125, 0.9555664, 10.9375, -1.046875, 6.40625, -6.2578125, -2.0195312, 3.5683594, -2.5019531, 5.7929688, -8.546875, 11.15625, -2.7734375, 6.4453125, 1.3701172, 2.1757812, -0.6557617, -7.4335938, 9.171875, -4.0195312, -1, 4.75, 5.9453125, 5.5273438, -1.1445312, -9.5625, -3.3554688, 4.4140625, -7.0664062, -4.6171875, 5.0117188, 1.9755859, -4.4882812, -2.0175781, 7.328125, 10.96875, -8.0859375, -5.46875, 4.1015625, 8.578125, 11.8515625, 5.9414062, -5.1132812, 5.6484375, 4.3671875, 0.3474121, -7.3320312, -5.9726562, 8.5078125, 4.7578125, 8.1953125, 3.2949219, 3.1269531, 8.3203125, 3.859375, 0.11956787, -0.8676758, 0.62597656, -4.859375, -5.4492188, -7.34375, 7.6132812, 4.1054688, -0.49414062, -1.7470703, -3.4511719, 3.3359375, 5.4921875, -6.7460938, 2.6210938, 0.19543457, -1.9814453, -5.4023438, 1.7929688, -12.2109375, -17.46875, 1.7714844, 9.3125, -1.5048828, 1.6806641, 2.1445312, 0.82373047, -9.1484375, -5.9101562, 4.1015625, 1.4443359, 6.6875, -7.15625, -9.890625, -4.1171875, 3.3730469, 9.7421875, -6.1523438, 9.5390625, -2.7988281, 10.90625, 2.0566406, 1.6826172, 0.8754883, 5.375, 4.34375, 1.7060547, 15.5390625, 3.9746094, 3.1386719, -5.1054688, -6.8398438, 10.0390625, 0.005207062, 7.046875, -5.84375, 8.8671875, 2.4882812, -12.7578125, 1.3896484, 2.8125, 4.453125, -3.4980469, -5.9101562, -8.1484375, -3.3261719, -1.4453125, -1.9619141, 1.7587891, -2.0351562, -3.4746094, 1.1132812, -2.1699219, -8.4296875, 5.34375, 5.5585938, 5.4257812, -0.26342773, -6.3984375, -4.0234375, 5.2109375, -2.3964844, 5.3984375, -3.5722656, 5.4921875, 5.8515625, 0.53759766, 0.6430664, 7.40625, -0.16064453, -1.3183594, 3.8046875, -9.640625, -15.140625, 9.5390625, 7.5078125, -1.7294922, -1.2451172, 4.90625, -0.55859375, -3.6757812, 6.5585938, -1.6894531, -5.546875, 3.9570312, -0.14453125, 3.7265625, 0.49951172, 5.625, 8.796875, 1.6660156, -6.8242188, -10.234375, 6.4609375, -0.9536133, 4.0390625, -3.2480469, -0.59375, -2.8554688, 10.765625, 5.4140625, 5.5820312, 1.1699219, -2.8378906, 5.5429688, -0.11212158, -9.3125, 1.2382812, 9.0859375, 4.7109375, -0.9824219, 8.796875, 11.4375, 6.8203125, 0.5073242, 4.7109375, 0.049987793, -15.0625, 2.0644531, -1.1455078, -0.3256836, -12.234375, 1.2460938, 1.9580078, 0.107055664, 3.1699219, -9.296875, 2.8222656, 0.044525146, 14.546875, -2.6992188, -6.03125, -1.9746094, -5.890625, -5.078125, -6.0546875, 2.5019531, 3.6230469, 2.0820312, 7.328125, -5.5742188, 6.09375, 1.4667969, 2.3574219, 0.11456299, 3.2441406, -1.9169922, 0.89501953, -1.1464844, 11.640625, -1.7900391, -5.8359375, 3.2753906, -1.1943359, 8.0625, 8.90625, -2.9355469, -3.0332031, -3.3574219, 4.75, 7.7460938, -1.359375, 6.4648438, 4.625, 7.5039062, -0.6879883, 9, -2.546875, 3.9609375, -0.5942383, 2.0742188, 5.9101562, 1.4589844, -6.2773438, -5.4960938, -7.5390625, 1.0986328, -3.9804688, -4.046875, -1.9599609, 3.3652344, -5.484375, 2.203125, 1.3574219, -0.50390625, 2.265625, 3.7402344, 10.9921875, 2.1308594, 1.8164062, -4.578125, -16.25, -2.1132812, -3.5585938, -1.8330078, -12.546875, 4.921875, -0.9472656, 1.0712891, 1.578125, -1.2324219, 3.7519531, -2.6503906, 5.2578125, -5.2148438, 0.22497559, -11.2109375, 1.6884766, -4.4414062, 6.5664062, -4.1757812, 1.1845703, -2.7578125, 6.0859375, 2.4921875, -3.7519531, -7.7539062, -4.3828125, -8.6015625, 3.3417969, 1.9814453, 3.3144531, -5.9726562, 4.4804688, 9.875, -10.3671875, -0.26098633, -4.3085938, 5.1796875, 4.5273438, 6.75, -3.328125, 3.6308594, 1.4609375, -7.7734375, -1.5244141, 1.5263672, -0.24047852, 8.0625, 1.9550781, 2.1210938, -31.859375, -1.6679688, 0.56884766, -6.5234375, 8.6015625, -0.05911255, 8.5078125, -1.1962891, 2.7734375, -0.09246826, 1.0859375, -1.2177734, -1.2792969, 0.10650635, -6.0976562, 1.8720703, 8.4765625, 3.2734375, -4.5390625, -15.140625, -3.2714844, 1.2851562, 12.609375, 1.09375, 4.4140625, -5.6132812, 0.6098633, 4.8085938, 6.2929688, 1.9697266, -7.75, 23.84375, 5.8359375, -3.3847656, -1.9199219, -3.2128906, -3.2050781, 4.1914062, -9, -2.7480469, -6.3945312, 3.7617188, -1.9726562, -5.4453125, 0.7729492, -2.4296875, -6.3007812, 2.7382812, 2.5625, -8.3671875, 4.4609375, -21.203125, -1.1357422, -2.5976562, 13.421875, 6.1132812, 0.8720703, -7.046875, -8.921875, -0.39624023, -3.3710938, -3.7753906, -1.5068359, -5.5390625, -3.71875, -4.3867188, -2.4550781, -3.1464844, -0.18005371, -4.9453125, -8.96875, 1.4355469, -6.46875, -2.8339844, 0.6269531, -6.3125, -3.1972656, 0.19128418, -5.9921875, -17.203125, 2.28125, 4.1015625, 3.0273438, -8.65625, 2.4375, 1.5712891, -3.3535156, 2.0839844, -4.109375, 5.2109375, 14.640625, 1.7119141, 2.0390625, 4.375, -2.6796875, -2.5449219, 16.21875, -3.234375]\n",
            "[0.35498047, 5.4140625, -1.8193359, 9.7578125, 1.6904297, -3.65625, -1.7949219, 1.5986328, 5.4296875, 1.9980469, -3.3320312, -3.8476562, 0.32495117, -4.7578125, -6.0429688, -2.6171875, 9.90625, 1.5361328, 8.265625, 9.640625, 5.34375, -6.7226562, -1.9824219, 0.3642578, 12.3125, 8.015625, 1.1943359, 9.8671875, -1.1347656, -3.6738281, -3.2265625, -7.796875, 2.9472656, 6.0625, 0.42797852, 8.234375, 1.0273438, 5.9765625, -1.2382812, 2.4667969, 4.0742188, -4.5078125, 4.4023438, 0.006526947, 0.24768066, 2.5117188, -7.328125, -9.484375, -2.7050781, 1.2890625, -5.5625, 2.1835938, -2.4414062, 3.0214844, 4.3789062, -14.9296875, 6.328125, 0.08795166, -4.9140625, 0.36328125, 0.9404297, -4.1210938, 5.9101562, 0.08428955, -6.7773438, 4.5429688, -7.875, -0.074035645, 3.25, -2.3574219, 0.6743164, 0.87060547, 2.7890625, -5.890625, -3.4746094, 6.859375, 8.734375, -3.7304688, 0.8984375, 0.5371094, 0.76123047, 4.1484375, -2.7910156, -7.1914062, 0.18347168, 2.1523438, -6.5039062, -3.1464844, 0.9970703, 0.22949219, 1.4755859, -0.62158203, -3.9042969, 0.7651367, 2.3828125, -4.515625, 16.578125, 0.0030536652, 2.0214844, 4.9335938, 6.46875, -3.4296875, -0.9355469, -3.7695312, 0.42993164, 3.2402344, 1.5224609, -3.5644531, -5.6875, -3.2871094, -5.578125, 5.8867188, -3.8808594, -8.09375, 9.7578125, 0.2709961, -3.4472656, 8.8203125, 6.578125, 11.7578125, 3.6796875, 2.3144531, 5.3007812, -0.6035156, 3.3554688, 0.05291748, 2.0332031, -2.9453125, 0.9370117, 0.32666016, 1.4492188, 5.28125, -1.8564453, -3.6484375, -6.1054688, 9.15625, -3.5996094, -2.8125, 18.109375, 0.9609375, -0.11138916, -3.09375, -10.234375, -3.0761719, -1.9736328, 6.8945312, -2.4277344, -3.9238281, 0.008102417, -2.7890625, -2.0097656, -2.4960938, -1.1669922, 10.5703125, -1.8310547, -1.953125, -6.75, 6.84375, 0.41357422, 0.48461914, 3.3769531, -8.8359375, -8.359375, 5.8867188, -1.7705078, -0.75878906, -13.7578125, -0.26757812, -4.4414062, -3.5410156, -2.3574219, 13.359375, -3.40625, 5.6992188, 4.6171875, -1.8652344, -5.96875, 1.0527344, -5.203125, -0.044952393, 0.87109375, -3.6152344, -5.3515625, 0.09442139, 6.7148438, -10.4921875, 9.140625, 1.171875, -4.78125, 2.484375, 1.1572266, -3.6015625, 8.2578125, 1.6523438, -0.11480713, 4.1953125, 3.4296875, -4.1835938, -2.3007812, -2.6679688, -1.8173828, -2.1445312, 2.7890625, 7.6601562, 2.8320312, 8.640625, 5.5703125, -0.9243164, -0.19128418, 2.9238281, 4.1015625, -10.6015625, 7.1757812, 1.5800781, 5.0078125, 0.71972656, -6.8945312, -9.6796875, 9.3125, 7.5234375, -3.6269531, 3.4609375, -3.5195312, -6.09375, -1.7480469, -11.453125, -2.7929688, -4.4921875, -5.7109375, 10.4453125, 10.0625, -0.44506836, -4.9570312, 4.4882812, 1.2910156, 1.1337891, -1.1044922, 7.8632812, 0.5629883, -1.5654297, 0.7006836, 4.984375, -7.9101562, 3.3769531, -7.4453125, -2.6582031, 3.1542969, -1.3984375, 6.1210938, 8.515625, 2.3183594, -4.7734375, 7.9492188, -10.7578125, -1.7705078, 8.3828125, -8.2734375, -0.76123047, 8.2265625, 10.4609375, -2.1875, 7.4765625, 3.9980469, -6.046875, 1.2041016, -0.5175781, -6.109375, 8.2734375, 7.8359375, 4.3242188, 3.6601562, 1.1152344, -0.5541992, -0.056640625, -4.2617188, -2.859375, 3.4296875, -5.1367188, -6.4726562, 1.625, -5.515625, 3.703125, -1.0908203, -11.2265625, 1.0449219, 8.7109375, 0.95458984, -2.1875, -5.0117188, 8.5859375, -0.40283203, 0.46679688, -1.1689453, -30.21875, 1.1923828, 1.6650391, 9.65625, 0.7680664, 0.6245117, 0.8911133, -0.013305664, 12.796875, 1.875, 5.1289062, 3.0097656, 6.3125, -2.4433594, 2.9414062, 6.3984375, -2.9003906, -6.984375, 3.3652344, -8.453125, 0.5361328, 1.9697266, -0.1842041, -4.1054688, -6.7695312, -0.5595703, 0.57373047, 0.66064453, -3.234375, 7.6640625, 7.59375, -9.859375, 4.6796875, 8.2109375, -5.0859375, -2.2167969, 2.6894531, -4.3242188, 2.5488281, -0.25219727, -2.9628906, -9.78125, 4.1132812, -0.4182129, -3.1132812, -3.7773438, -3.7480469, -7.6289062, 4.484375, 2.1855469, 4.28125, 1.7314453, -2.6269531, 5.6601562, -12.7109375, 14.3984375, 5.8046875, -3.0703125, -2.1191406, 8.625, -2.9628906, 10.375, 4.578125, 0.43237305, 4.578125, 7.5195312, 1.0986328, -2.3984375, 0.1550293, 4.0898438, 11.4609375, 3.8417969, 2.7207031, -1.3818359, -7.109375, -10.3671875, -3.515625, -11.046875, 0.56640625, -6.3945312, -7.6601562, -7.5703125, 10.25, -1.0751953, 3.7890625, -14.6484375, 7.0664062, 12.9609375, 0.96972656, -6.5039062, -10.1015625, -0.9814453, -2.7539062, 11.0703125, -5.34375, 9.875, 8.9609375, 3.4101562, 8.8046875, 3.3964844, -0.57958984, 4.2617188, 5.265625, -3.2929688, 8.140625, 4.09375, -11.7734375, 4.2382812, -12.90625, -4.1796875, 5.28125, -5.3671875, 3.6640625, -13.84375, -1.09375, 6.8515625, 7.484375, 5.3789062, -1.1816406, 3.9316406, -11.8046875, -0.8334961, -5.6054688, 5.5195312, -5.7265625, -1.8193359, -3.9707031, 0.39648438, 1.4814453, 1.5634766, -3.3359375, 9.53125, -7.9179688, -3.09375, -4.6015625, 0.25610352, -4.1953125, -9.734375, 2.9960938, 0.42895508, 0.9902344, -3.2421875, -14.4609375, 6.1289062, -1.5371094, 11.2109375, 3.5371094, 1.1826172, 11.2265625, 0.7705078, 1.3710938, 3.8144531, 3.0488281, -6.2617188, 4.3320312, 4.9296875, 6.265625, 11.1171875, -4.5117188, -0.41845703, 1.9931641, 8.6328125, 1.6503906, 2.8320312, -5.4960938, 3.7011719, -7.9453125, -2.6152344, 2.3691406, -7.5898438, -6.796875, -14.578125, -2.0214844, 6.7304688, -2.3359375, -0.046691895, 0.42285156, 6.953125, 1.1767578, -6.0820312, 11.7890625, 5.2265625, 1.5048828, 4.7617188, 0.3371582, -0.9711914, 6.1757812, -9.1015625, 6.0039062, 0.99072266, 4.8046875, -1.1005859, -6.046875, -6.2265625, 3.4492188, -1.1298828, -1.1210938, 0.71875, -9.0625, -5.9257812, 4.6484375, 11.5390625, -7.6328125, 11.125, 0.38598633, 2.2207031, -12.6015625, -1.7294922, -6.3242188, 2.9765625, 1.6767578, -4.1992188, -4.2304688, -2.8007812, 0.4675293, 2.8515625, -0.13208008, 8.078125, 0.6191406, 1.0185547, 3.1738281, -1.8447266, -5.0390625, -0.62109375, -0.28515625, 2.7460938, -1.0859375, 6.7695312, 4.3007812, -2.75, -7.8632812, -2.09375, 2.8945312, 4.2578125, -6.59375, 1.4863281, -14.1171875, -12.984375, 0.3317871, -6.203125, -7.4023438, -8.78125, -4.3945312, -0.41235352, -5.8046875, 5.3164062, -2.7363281, 2.0410156, 2.1640625, 0.9975586, -0.72216797, -2.5820312, -3.7167969, 0.46972656, -6.1640625, 2.6503906, 0.20397949, 3.1523438, 0.6582031, -4.8710938, -10.8984375, -1.6298828, -5.8828125, 3.8457031, -2.3554688, 6.53125, 4.2070312, 7.3359375, -4.8632812, -1.2685547, -2.546875, 4.3632812, 10.8671875, 12.6953125, 2.6953125, -19.125, 5.359375, -9.3984375, 1.2412109, -0.4855957, 1.3652344, -8.6796875, -5.9648438, 0.16564941, -8.578125, -4.921875, -1.6757812, 0.20703125, 3.5546875, -9.46875, -5.109375, -2.0429688, -4.1015625, 0.20300293, -5.875, 6.9179688, 1.3095703, 3.203125, -4.1367188, 9.875, 1.6484375, -4.8867188, -0.20166016, -0.26660156, 9.890625, -3.0566406, -6.3164062, 4.8476562, 0.48120117, 1.0693359, 1.5380859, 7.5820312, 9.8828125, -1.7792969, -0.34448242, -0.028915405, -13.2734375, -5.1015625, 0.9926758, 11.1953125, -0.75341797, 5.9921875, -6.8320312, -2.1894531, 3.5253906, -2.5371094, 5.9492188, -8.2578125, 11.234375, -2.6015625, 6.09375, 1.3623047, 2.5117188, -0.4482422, -7.9453125, 9.2421875, -4.1132812, -1.2021484, 4.5859375, 5.8125, 5.5898438, -0.96875, -9.59375, -3.6484375, 4.1328125, -7.109375, -4.8203125, 4.7460938, 1.7226562, -4.4179688, -2.1015625, 6.71875, 10.9140625, -8.2578125, -5.1132812, 3.8378906, 8.34375, 11.765625, 5.8398438, -5.2382812, 5.796875, 4.2148438, 0.19226074, -7.9492188, -6.65625, 8.3359375, 5.1171875, 7.7070312, 3.7050781, 2.7441406, 7.8828125, 3.6367188, 0.25585938, -0.7910156, 0.61376953, -4.2890625, -4.8242188, -7.4765625, 7.7773438, 4.046875, -0.9453125, -1.9589844, -3.6875, 3.3652344, 5.4804688, -6.3710938, 2.1269531, 0.41186523, -1.7509766, -6.1132812, 1.9775391, -11.2734375, -17.09375, 1.5273438, 9.5390625, -1.7353516, 1.9199219, 1.8671875, 0.62158203, -9, -5.9335938, 3.5019531, 1.2744141, 6.6914062, -7.1445312, -9.8515625, -4.046875, 3.8261719, 10.0859375, -6.5859375, 10.5390625, -3.4785156, 10.625, 2.0058594, 1.5458984, 1.1347656, 5.6054688, 4.5976562, 2.0117188, 16.1875, 4.109375, 2.703125, -5.2890625, -6.9453125, 10.265625, -0.48046875, 7.125, -5.3085938, 8.84375, 2.453125, -12.2421875, 1.7207031, 3.125, 4.3867188, -3.1464844, -5.859375, -8.140625, -2.9003906, -1.2128906, -2.2089844, 2.2246094, -1.5830078, -2.9726562, 1.4814453, -2.0078125, -8.75, 5.3828125, 5.3476562, 5.4101562, 0.5776367, -6.8398438, -3.9863281, 4.578125, -2.1816406, 5.8359375, -3.3105469, 5.1757812, 5.6835938, -0.0463562, 0.7006836, 7.1914062, -0.11425781, -1.3974609, 3.5625, -10.1953125, -15.5546875, 9.6875, 7.1757812, -1.9072266, -1.1894531, 5.3554688, -0.8642578, -3.7695312, 6.1171875, -1.6279297, -6.0234375, 3.6230469, 0.0703125, 3.4765625, 0.70214844, 5.671875, 8.6484375, 1.6669922, -6.8867188, -10.1328125, 6.0390625, -1.1660156, 3.6035156, -3.7519531, -0.9980469, -3.4628906, 10.9296875, 4.8632812, 5.4609375, 1.2519531, -2.6113281, 5.5664062, 0.107666016, -8.78125, 1.3867188, 9.328125, 4.6054688, -0.6542969, 8.3515625, 11.46875, 7.1875, 1.2099609, 4.5195312, 0.068237305, -15.3203125, 1.9267578, -1.21875, -0.7792969, -12.015625, 1.4072266, 1.9033203, -0.26293945, 3.0917969, -9.1171875, 1.0058594, 0.07836914, 14.46875, -2.3261719, -5.828125, -1.5878906, -5.8320312, -4.5273438, -6.4296875, 2.3535156, 3.6347656, 1.8535156, 7.1679688, -5.5351562, 6.2265625, 1.2744141, 2.8222656, -0.59277344, 3.1464844, -1.9082031, 0.6635742, -1.3535156, 11.984375, -1.7861328, -5.578125, 3.7441406, -1.7099609, 8.1640625, 8.984375, -2.8496094, -3.0097656, -3.328125, 5.34375, 7.8867188, -1.3535156, 5.953125, 4.5664062, 8.046875, -1.0683594, 8.9921875, -2.53125, 4.0039062, -0.11694336, 1.9257812, 5.6757812, 1.4423828, -6.5, -5.8828125, -7.2695312, 1.0126953, -4.515625, -4.1523438, -1.7373047, 3.2265625, -5.3671875, 1.9931641, 0.9926758, -1.0703125, 2.5410156, 4.0390625, 10.7890625, 2.3300781, 1.6386719, -4.2539062, -16.171875, -1.9726562, -3.3574219, -1.7744141, -12.984375, 4.5195312, -1.0839844, 0.9145508, 1.3798828, -1.1640625, 3.71875, -2.6933594, 5.1015625, -5.3984375, -0.24194336, -11.28125, 1.4970703, -3.8984375, 6.4375, -3.9863281, 1.4277344, -2.6132812, 6.3554688, 1.7988281, -3.6425781, -7.59375, -4.328125, -8.8203125, 3.4160156, 1.7167969, 3.0878906, -5.5820312, 4.2578125, 9.796875, -9.96875, -0.24804688, -4.109375, 5.4492188, 4.3007812, 7.2460938, -2.8652344, 3.4296875, 1.9707031, -7.4101562, -1.2832031, 1.4970703, -0.5102539, 8.171875, 1.6855469, 2.0996094, -31.3125, -1.9755859, 0.047058105, -5.8398438, 8.03125, -0.13061523, 9.0546875, -1.1806641, 2.8554688, 0.15100098, 0.68115234, -1.2763672, -1.3232422, 0.33129883, -6.1679688, 2.0644531, 8.7578125, 3.0507812, -4.2460938, -14.984375, -2.8828125, 0.4819336, 12.8515625, 0.41577148, 3.7578125, -5.2148438, 0.5810547, 5.0507812, 5.8867188, 1.9951172, -7.1523438, 25.109375, 5.9648438, -3.2871094, -2.1445312, -3.4902344, -3.6171875, 4.453125, -9.1796875, -2.1660156, -6.0625, 3.9277344, -1.7236328, -5.3515625, 0.5878906, -2.4882812, -5.7578125, 2.5292969, 3.1328125, -8.6015625, 4.5859375, -21.859375, -0.8120117, -2.4765625, 13.46875, 5.953125, 0.8847656, -7.0976562, -9.3515625, -0.0748291, -4.046875, -3.8730469, -1.7265625, -5.5898438, -3.2363281, -4.3945312, -2.6992188, -3.5039062, -0.031463623, -4.8476562, -8.546875, 0.875, -6.1640625, -2.6074219, 0.9033203, -6.2070312, -3.4707031, 0.32543945, -6.4140625, -17.5, 2.9082031, 4.4414062, 2.7402344, -8.4140625, 2.1210938, 1.3632812, -3.1875, 2.1601562, -4.1015625, 5.3242188, 14.515625, 1.7929688, 2.2128906, 4.8242188, -2.2636719, -1.7568359, 15.96875, -3.53125]\n",
            "[2.1464844, 5.4492188, 1.5371094, 16.5, -0.2980957, -1.1464844, 0.96972656, 0.96484375, 11.4140625, 1.8388672, -0.7578125, -0.63720703, 1.9492188, 4.7421875, -4.7695312, -0.21228027, 7.984375, 3.4042969, 5.09375, 6.078125, 8.9765625, -2.7128906, 4.6328125, -3.71875, 11.8984375, 4.6054688, 5.71875, 3.8964844, 2.515625, -4.7851562, -3.6757812, -10.921875, 7.203125, 6.6679688, 2.7792969, 8.1484375, 1.890625, 6.1835938, -1.0546875, 2.03125, 0.11785889, -6.1835938, 2.1992188, 1.0507812, -0.7475586, -2.5234375, -10.6796875, -3.5351562, -7.6367188, 3.8632812, -0.0362854, 6.3125, -0.71533203, 2.5429688, 4.6835938, -12.625, 5.359375, 3.6816406, -6.6953125, 5.0117188, 2.8339844, -3.15625, 3.5097656, 0.13024902, -6.3984375, 0.83203125, -2.3925781, -5.0351562, 4.375, -3.2265625, -2.7714844, 4.1289062, 2.7675781, -3.4863281, -11.6015625, 2.8105469, 6.1054688, 0.52441406, -0.14794922, 0.21105957, -1.6523438, 0.39990234, 2.1074219, -4.0664062, -2.8125, 5.4882812, -10.2578125, -6.1015625, 2.9570312, -0.8984375, -0.18615723, -7.34375, -3.6914062, 0.027114868, 2.9746094, -2.9238281, 11.609375, -0.6767578, -1.7060547, 4.125, 1.5361328, -1.4091797, -6.96875, -3.8417969, 0.46166992, 5.1992188, 2.6269531, -2.9628906, -7.25, -5.6484375, -1.6357422, 6.15625, 2.0429688, -8.515625, 6.3945312, 2.7871094, -0.94140625, 5.8789062, 2.2792969, 11.7890625, 0.27392578, 4.1992188, 4.8828125, -0.22070312, 3.7011719, 2.921875, 1.6621094, -0.7739258, 3.0839844, -5.5390625, 2.6425781, 3.2324219, -3.3769531, -7.171875, -2.9902344, 7.2773438, -1.0283203, -0.5107422, 14.2734375, 2.03125, -2.5917969, -2.4023438, -6.3828125, 0.26904297, -2.0664062, 3.9589844, -2.0703125, 2.3222656, -0.97998047, -3.9726562, 1.8525391, 0.5229492, 3.0625, 10.890625, 4.625, 2.2988281, -1.6464844, 4.59375, -2.4394531, 1.3300781, -0.027404785, -3.0742188, -8.2421875, 6.4882812, 0.10192871, -1.2177734, -13.578125, 3.2597656, -4.0820312, -5.7226562, -2.4628906, 13.171875, -2.0117188, 3.2011719, 3.2773438, -2.4609375, 2.2148438, -2.578125, -5.7890625, 6.3867188, 2.90625, -1.8271484, -3.3164062, 1.7685547, 4.9140625, -4.3867188, 7.4414062, -0.5722656, -2.4628906, 3.4941406, 4.46875, -2.8476562, 4.9257812, 1.2294922, -2.9082031, 0.7548828, 6.1757812, -6.3398438, -6.5703125, -7.7460938, 5.4882812, -3.1757812, 4.7890625, 3.2519531, 7.953125, 6.5507812, 1.3974609, 0.35253906, -3.8085938, 2.3085938, 4.125, -8.578125, 1.2763672, -4.1132812, 2.7011719, 0.34716797, -6.0039062, -12.34375, 7.0585938, 6.2226562, -0.21130371, 2.8222656, -0.6538086, -2.8378906, -1.8466797, -4.8710938, -3.3964844, -6.6015625, -11.0078125, 2.390625, 8.7578125, -7.0390625, -0.92871094, 6.34375, -1.6396484, -0.32861328, 5.1523438, 6.2578125, 3.7832031, -1.5771484, -3.25, 1.0888672, -8.328125, -1.0888672, -8.5078125, -1.7763672, 5.8671875, -0.5395508, 5.4375, 7.5742188, 3.9980469, -6.5, 3.1386719, -6.1054688, 1.1484375, 8.28125, -13, 0.45751953, 11.359375, 8.6328125, -1.9931641, 6.671875, 2.6679688, -3.578125, -1.4863281, -1.1191406, -2.7011719, 4.65625, 6.0351562, 1.8691406, 3.578125, 0.3552246, -1.0214844, 0.36572266, -3.4550781, -1.0292969, 3.6679688, -9.921875, -9.265625, 6.0195312, -4.7265625, 4.78125, -5.125, -14.140625, 4.453125, 6.5585938, 4.7382812, 0.4338379, -4.34375, 1.1552734, 11.1171875, -5.1992188, 1.8486328, -29.109375, 2.3769531, -0.24633789, 9.4765625, 3.0703125, -0.50634766, -6.0117188, 3.2578125, 14.765625, -2.1230469, -1.1484375, -3.4628906, 3.3261719, 3.6523438, 3.8457031, 6.6992188, -2.546875, -9.6953125, 2.7109375, -3.875, 1.7929688, -0.7104492, -5.8671875, -0.10089111, -8.2890625, -3.8183594, 3.6523438, 1.2255859, -2.2695312, 7.5625, 8.671875, -11.8359375, 6.9257812, 8.0546875, -2.5449219, 4.5117188, 3.5058594, -0.31567383, 0.2142334, -3.4980469, -1.5283203, -9.3671875, 4.1289062, 1.2685547, -0.8808594, -6.2734375, -6.6445312, -5.9179688, 1.5976562, 1.2802734, 4.25, 0.90283203, -4.8007812, 1.7695312, -10.5625, 13.015625, 5.25, -5.546875, -0.5546875, 4.375, 2.7382812, 1.6152344, 7.2148438, -4.4492188, -1.0244141, 4.3242188, -2.9648438, -0.13720703, -0.6113281, 9.296875, 10.2734375, -0.3010254, 4.8398438, 1.5888672, -1.5068359, -10.5, -0.12939453, -10.46875, -1.3515625, -4.6757812, -2.9257812, -9.1015625, 8.6328125, -0.26391602, 8.34375, -9.65625, 4.6445312, 13.09375, -4.0078125, -3.6152344, -7.28125, 4.7460938, -0.025100708, 1.2226562, -3.3398438, 4.0273438, 6.9023438, 2.0078125, 7.4765625, 4.984375, -3.09375, 3.8046875, 4.7460938, -1.1621094, 8.65625, 3.2695312, -10.890625, -5.7734375, -13.7421875, -3.2539062, 5.546875, -7.8515625, 2.4238281, -14.234375, -0.45361328, 10.2734375, 0.92285156, -1.0761719, -5.9765625, 5.3476562, -7.4804688, -0.04360962, -0.096191406, 6.2070312, -7.34375, 1.4541016, -6.234375, -3.7265625, -2.8085938, -0.6567383, -3.9863281, 7.4570312, -5.7617188, -8.3828125, -3.4941406, -0.5292969, -8.375, -7.3945312, 0.9663086, -1.4423828, 2.7851562, 1.3398438, -10.0703125, 3.8476562, -0.47070312, 9.1171875, 1.3828125, 6.5898438, 7.3984375, 3.890625, -2.5820312, 7.125, 1.4130859, -1.6982422, 5.171875, 0.55908203, 3.0703125, 2.7324219, -1.2324219, 0.69189453, 2.234375, 4.9375, -0.83691406, 4.0820312, -2.640625, 6.234375, -7.7226562, -2.3730469, 4.0078125, -9.3359375, -3.0839844, -12.578125, -4.5390625, 2.9785156, -3.9355469, -1.0859375, -2.8378906, 9.171875, 7.1210938, -0.16784668, 3.3476562, 3.5859375, 2.4238281, 3.9550781, 0.27734375, 0.5292969, 10.15625, -10.9375, 6.1640625, 1.9277344, 1.1806641, -2.1640625, -9.3828125, -2.4296875, 1.9931641, 0.05960083, 0.12561035, 0.9091797, -9.7421875, -7.4882812, 6.1757812, 14.4375, -10.4921875, 1.2734375, 0.94873047, 2.390625, -10.96875, -7.015625, -6.84375, 1.0058594, 8.171875, 0.9013672, 0.24743652, -1.3486328, -4.6015625, 1.0966797, 0.06652832, 3.7949219, 3.1542969, -2.8984375, 3.7597656, -1.3339844, -7.4335938, -2.8359375, 2.9921875, 3.1015625, 2.7070312, 7.3828125, 0.5185547, -1.6796875, -0.71435547, -2.9375, 3.7050781, 5.484375, -3.3789062, 3.3554688, -6.421875, -15.9140625, 1.2451172, 1.0566406, -0.13134766, -5.6601562, -5.8710938, 6.5039062, -4.8203125, 1.4609375, -3.4355469, 9.4609375, -2.2890625, 1.1230469, 4.5390625, 1.7089844, -5.2578125, 1.6855469, -4.0585938, -1.7714844, 0.8520508, -1.7050781, -0.9477539, -2.3808594, -7.2773438, -1.1318359, -2.7792969, 3.5332031, -0.99365234, 3.2675781, 5.3945312, 5.03125, -9.3359375, 0.79345703, -7.4921875, 6.3984375, 6.5117188, 8.1171875, 1.6083984, -26.0625, 3.2050781, -10.640625, 1.1308594, -3.1757812, 5.3984375, -5.5585938, -10.1640625, -3.9160156, -7.921875, -6.0234375, 1.5478516, -3.1503906, 3.7480469, -1.1210938, -9.9765625, -0.6591797, -5.5273438, -6.2148438, -2.953125, 4.9335938, 4.2421875, 3.9804688, -4.1445312, 10.4921875, 1.7480469, -6.5859375, 5.1289062, 0.48510742, 8.7109375, 0.1083374, -2.3691406, 2.7089844, 4.125, 4.7539062, -1.8251953, 7.4765625, 1.1767578, -2.6914062, -0.9663086, 6.4023438, -11.1796875, -5.3359375, 5.515625, 7.75, -0.67871094, 7.8398438, -4.4296875, -4.3164062, 6.078125, -5.7109375, 6.4609375, -11.0390625, 2.2109375, -6.9804688, 1.5888672, 1.9541016, 1.1347656, 3.8574219, -4.9257812, 16.71875, -5.921875, -0.04360962, 0.45703125, 3.8105469, 8.4921875, -0.8486328, -7.5195312, -1.5244141, 1.0380859, 0.19006348, -2.3515625, 4.890625, -0.671875, -2.8144531, -3.5566406, 2.0722656, 3.8027344, -3.5507812, -0.5395508, 2.2480469, 9.78125, 5.2695312, 7.78125, -5.8320312, 2.359375, 4.1054688, -0.5253906, -8.75, -9.1953125, 6.5273438, 6.5117188, 13.3828125, 1.3369141, -2.8828125, 8.5625, -3.7714844, -2.8398438, 2.7363281, 1.578125, 3.2871094, -4.375, -7.25, 3.8867188, 12.4921875, -1.1533203, 0.61376953, -5.8007812, 3.5, 3.5566406, -4.4179688, 2.984375, 0.7050781, -2.8691406, 1.4189453, -0.67529297, -8.71875, -17.359375, -1.7871094, 9.1015625, -1.3408203, 1.1142578, 4.1640625, -2.9492188, -11.3359375, -2.3359375, 3.1113281, -0.9223633, 7.140625, -9.671875, -6.1289062, 2.2675781, 3.3984375, 12.8984375, -5.3203125, 12.953125, 0.67089844, 9.9140625, -2.1074219, 5.0234375, 6.2304688, -2.6894531, 2.6933594, 3.203125, 16.46875, 4.4960938, -3.5976562, -1.7548828, -0.72558594, 5.3632812, 0.9609375, 9.71875, -4.046875, 14.6796875, -0.5131836, -3.5273438, 3.2636719, 3.0390625, 6.328125, -9.0859375, -4.7304688, -6.1953125, -6.7578125, -1.4511719, -0.55322266, -0.61328125, 0.1508789, -1.0283203, 1.0205078, 1.53125, -8.9140625, 4.953125, -1.1835938, 9.109375, 6.2851562, -1.7197266, 1.0322266, 5.8554688, -2.7578125, 3.2226562, 1.3242188, 1.8916016, 5.8007812, 0.16638184, 3.2402344, 5.3554688, -2.9941406, 2.921875, 7.3945312, -8.65625, -14.3046875, 5.7382812, 4.0234375, -7.2734375, 0.18664551, 0.75146484, 0.47753906, -5.78125, 7.4140625, -0.3112793, -2.1347656, 2.3613281, -1.2978516, 1.9824219, 2.8574219, 7.328125, 6.8554688, 6, -2.7363281, -8.734375, 4.75, -4.734375, 3.4941406, -3.9609375, 6.0117188, -1.1220703, 9.6640625, 4.953125, 9.9375, 2.6757812, 3.9824219, 8.7265625, -5.0351562, -7.0429688, 3.0839844, 6.578125, 4.0195312, -1.2587891, 10.4140625, 6.296875, 4.8398438, 6.4609375, 5.4804688, -1.6425781, -9.7421875, 5.0859375, -5.3554688, -0.85839844, -9.4453125, -2.0136719, -1.5654297, -1.4912109, 2.4277344, -12.296875, -1.7714844, 0.18334961, 11.59375, 0.93847656, -7.8359375, 3.2441406, -1.5341797, -8.1484375, -4.4453125, 1.9960938, 7.625, -5.21875, 6.6914062, -5.9101562, 1.5898438, -3.2109375, 0.6933594, 5.5195312, -1.3642578, -2.8925781, 2.2265625, -3.2265625, 9.90625, 3.2539062, -3.78125, 2.4746094, -0.62841797, 3.1464844, 7.9414062, 1.109375, -9.1171875, -8.609375, 4.9570312, 4.9882812, -0.40039062, 0.16760254, 0.60791016, 10.0234375, -1.6201172, 4.0117188, -1.90625, 4.84375, -4.84375, 1.4638672, 2.0136719, -1.8720703, -9.4140625, -6.9179688, -7.296875, 3.8886719, 2.4628906, -0.46191406, -2.5820312, -4.234375, 0.12390137, 3.28125, -0.69970703, 0.38623047, -3.1816406, 2.8046875, 3.2910156, -1.9765625, -5.0078125, -7.1171875, -12.859375, 3.6074219, -6.8515625, 0.9013672, -10.015625, 4.6992188, -1.7236328, -0.79052734, 4.078125, 2.6230469, 7.3359375, -3.2695312, -0.2088623, -3.3554688, 4.3164062, -2.9648438, 3.3554688, -8.125, 2.0644531, -1.5498047, 4.3007812, -8.265625, 4.359375, -6.109375, -3.4785156, -1.2148438, -1.4189453, -9.234375, 4.0976562, 0.4873047, 7.2460938, -2.8574219, 0.6401367, 14.609375, -3.171875, 0.98339844, -1.6308594, 1.1259766, 6.8007812, 3.6347656, -8.234375, 0.18945312, 4.09375, -10.75, -4.2890625, 1.0976562, -4.7226562, 5.921875, 3.0957031, 3.9179688, -38.71875, -6.5898438, 1.2724609, -1.2705078, 9.5625, 4.71875, 3.984375, -1.0634766, -0.2878418, 5.6445312, 6.5703125, 0.58203125, 4.9921875, 4.1367188, -4.5820312, -0.3774414, 8.359375, 5.203125, 0.9472656, -11.3984375, -2.8164062, 0.58154297, 11.328125, 1.0478516, -2.4824219, -4.25, 0.5834961, 3.0292969, 5.90625, 4.015625, -6.7695312, 22.3125, -0.27685547, 0.1538086, 0.11053467, -1.1455078, -2.0058594, 9.7109375, -3.4882812, -6.09375, -7.5039062, 8.484375, -2.453125, -3.3144531, -4.3242188, 2.203125, 4.2070312, 6.15625, 2.1855469, -11.8046875, 10.640625, -28.890625, 1.40625, -3.3632812, 9.515625, 12, 2.6230469, -5.3242188, -9.984375, 0.45703125, -6.1757812, -2.8847656, -0.6533203, -7.1953125, -3.4707031, -3.6855469, -5.1640625, 0.65625, 0.14111328, -3.0273438, -8.4375, -6.234375, -8.53125, -5.0078125, -0.44677734, -2.0195312, -8.5703125, -1.3505859, -3.4511719, -15.8359375, 7.3515625, 5.1679688, 3.2460938, -7.4335938, 6.1054688, 3.078125, -3.7519531, -1.234375, -5.9765625, 4.3046875, 20.375, 0.9897461, -2.6035156, 2.8691406, 1.5820312, 2.9375, 8.0625, -3.3007812]\n",
            "[-1.2910156, 5.9414062, 2.0429688, 10.90625, 0.32055664, 2.390625, -0.7470703, 3.1992188, 5.5976562, 4.5976562, -2.3203125, 1.6210938, 2.8046875, 3.9492188, -1.5634766, -5.1132812, 5.859375, -1.0498047, 1.5292969, 6.5351562, 6.84375, -1.6699219, 2.3359375, -1.7978516, 14.0859375, 8.8984375, 4.1601562, 0.44091797, 0.13562012, -2.2890625, -2.1015625, -9.6796875, 6.296875, 7.6835938, 1.4130859, 5.984375, 2.6132812, 0.04660034, 0.203125, -3.140625, -3.9648438, -7.6914062, 2.4648438, -0.6586914, -0.72998047, 3.8144531, -10.2578125, -4.9882812, -5.375, 4.890625, 3.65625, 5.1132812, -5.1328125, 2.2265625, 8.46875, -6.6992188, 3.8867188, 2.7753906, -5.5, 5.8828125, 0.89697266, -1.9833984, 2.1445312, -7.0117188, -8.6015625, 0.9140625, -7.0859375, -4.2109375, 4.28125, -1.9873047, 2.5039062, -0.8779297, 3.4863281, -7.4335938, -7.0898438, 3.9375, 4.2070312, -1.8144531, -1.53125, -1.8330078, -1.5322266, 3.6660156, -0.625, -2.6035156, -3.3144531, 5.90625, -7.8476562, -1.8984375, 0.6176758, 2.53125, 4.6015625, 1.9189453, -3.0410156, 0.52685547, 0.26049805, -2.3652344, 12, -1.4912109, 0.1842041, 0.98535156, -3.7578125, 0.77001953, -10.3359375, -4.8554688, 3.7304688, 6.4414062, -1.7265625, -2.0703125, -6.2929688, -4.4375, -2.5527344, 5.1523438, 0.6484375, -3.1464844, 6.8632812, 1.3115234, 0.8071289, 7.5742188, -1.0117188, 12, 0.7104492, -0.75341797, 6.7578125, 1.6103516, 4.7382812, -3.0410156, -2.3984375, -1.2783203, -2.078125, 1.5195312, 2.4101562, 0.4584961, 0.8798828, -4.0703125, -5.6835938, 2.8378906, -5.125, 1.9033203, 10.828125, -0.4580078, -1.2832031, 5.15625, -7.6367188, -1.8818359, -1.3056641, 7.078125, -5.5390625, 3.3457031, 4.5546875, -2.0371094, -2.3632812, -5.0703125, 0.83203125, 13.734375, 1.8164062, -1.0419922, -3.9511719, 4.6679688, 1.7949219, -6.5507812, -0.45654297, -2.1738281, -14.53125, 4.3007812, 4.2265625, -3.7949219, -13.421875, 11.375, -0.061645508, -3.0566406, -4.5664062, 11.59375, -5.796875, 2.2929688, -0.8173828, -0.5161133, -0.9458008, -4.5507812, -8.15625, 6.578125, 2.7578125, -7.4726562, -1.6738281, 5.9804688, 6.71875, -7.234375, 7.5820312, 0.07989502, 0.35351562, -1.9824219, 3.4394531, -6.3515625, 4.4765625, 5.9023438, 0.39086914, 1.3115234, 7.8867188, -3.3457031, -3.15625, -0.1418457, 4.5117188, -4.2382812, -0.59228516, 7.765625, 6.6367188, 2.1640625, -1.0136719, 5.1445312, -4.1640625, 8.015625, 11.140625, -8.78125, 1.0898438, -2.8554688, 7.1875, -3.9570312, -1.46875, -13.7421875, 2.9414062, 4.9882812, -2.1347656, 0.7548828, -1.2978516, -0.22668457, 0.24145508, -8.6328125, -1.4863281, -5.8789062, -5.6015625, 2.8886719, 13.546875, -7.9414062, -0.45874023, 6.7734375, 0.4091797, -1.3164062, 0.21154785, 6.6484375, 4.8710938, 2.9765625, -2.75, -3.3183594, -3.4921875, 4.6640625, -12.1328125, -1.1796875, 6.265625, -1.6914062, 1.0332031, 11.1640625, 1.1542969, -1.6162109, 3.8398438, -9.8828125, 2.5175781, 0.828125, -10.96875, 3.5566406, 7.1953125, 6.6523438, -8.234375, 3.6699219, -2.7675781, -5.0859375, -1.0117188, 0.9584961, -9.2421875, 3.2382812, 2.3691406, -0.7597656, 3.3398438, 3.3828125, -0.4182129, 2.0644531, -4.3007812, 1.4082031, 2.6523438, -13.3203125, -8.8046875, 5.25, -2.0605469, 8.0078125, 0.3725586, -8.140625, 3.5585938, 1.2255859, 5.2695312, 2.5859375, 2.7714844, 2.2070312, 8.265625, -4.7734375, 0.28173828, -32.78125, 0.3798828, -0.46923828, 9.953125, -0.80859375, 2.2402344, -3.6640625, 6.2773438, 17.671875, -3.0429688, 1.1474609, 3.6132812, -0.6899414, 3.3808594, 4.1835938, 9.0234375, 1.1943359, -9.609375, -2.4824219, -10.7734375, -2.8398438, 2.546875, -1.5595703, -1.2294922, -7.453125, -5.34375, 6.09375, 1.2275391, -0.5449219, 3.5957031, 9.796875, -8.3046875, 1.4160156, 11.0234375, -3.4804688, 5.65625, 9, 1.8867188, 1.3984375, -1.0859375, -0.08093262, -6.4765625, 3.9589844, 1.5537109, -3.5546875, -2.1132812, -5.8710938, -2.4941406, 7.1523438, -1.2919922, 8.75, -6.9609375, -1.421875, -6.1757812, -14.8203125, 3.5664062, 8.0546875, -4.4804688, 1.2041016, 4.1796875, 4.5117188, 5.6523438, 2.2285156, -1.4169922, -1.3828125, 2.1074219, -0.45654297, 1.7841797, -0.56152344, 7.9921875, 6.5, -6.5585938, 8.46875, -1.5800781, -1.2929688, -7.8515625, -2.15625, -10.6484375, -0.3762207, -6.5429688, 0.72216797, -12.703125, 11.421875, 0.66015625, 6.171875, -2.6933594, 2.4238281, 9.9296875, -1.2636719, -6.953125, -5.2617188, 4.421875, -2.1328125, 1.9433594, -1.0664062, 8.171875, 5.6757812, 2.265625, 5.5820312, 4.5390625, -0.3413086, 5.6445312, 7.8515625, -0.77490234, 7.765625, -1.6796875, -8.5859375, -2.8945312, -13.8203125, -6.125, 9.9765625, -3.6796875, 6.6953125, -13.5859375, 1.0673828, 7.1914062, -1.1660156, -1.0263672, -6.1875, 1.0263672, -8.84375, -2.8398438, 1.4638672, 8.921875, -6.7226562, -2.3769531, -7.5585938, -4.2734375, -3.2324219, -0.5307617, 7.6132812, 6.1835938, -3.515625, 1.8798828, -1.3740234, -2.3867188, -6.9414062, -10.578125, -1.7988281, -0.3996582, 6.0390625, 4.8007812, -11.3515625, -0.12609863, 0.953125, 10.8046875, -1.7451172, 11.9921875, 10.25, 2.5078125, 0.0413208, 5.1328125, -2.2597656, -4.7265625, 4.75, 2.5722656, 3.7246094, 3.0878906, 2.9179688, 3.1113281, 6.8203125, 2.2070312, 0.12658691, 3.90625, -3.2265625, 8.6953125, -9.1171875, 1.1611328, 4.3554688, -4.8125, -0.59716797, -11.1953125, -2.1992188, 5.2070312, -5.5898438, -1.1875, -4.1484375, 8.5859375, 12.203125, 1.2050781, 4.3085938, 6.7734375, 0.81347656, 9.234375, 4.5742188, -0.29956055, 4.9257812, 1.9980469, 3.5449219, 2.1796875, 0.44970703, -1.7705078, -7.7773438, -4.1054688, 10.6484375, -4.3320312, -0.3869629, 3.9628906, -8.0078125, -5.8945312, 0.25341797, 8.7734375, -2.5703125, 9.5078125, 2.5800781, 5.2421875, -14.1875, -5.1015625, -11.390625, 4.1484375, 6.5195312, -7.0273438, 3.2851562, -2.0585938, -4.125, 5.5078125, -5.75, 1.6230469, 5.3828125, 2.9980469, 6.6523438, 0.8461914, -0.99072266, -1.1269531, 5.1914062, 2.3984375, 3.8222656, 5.2109375, 1.5175781, -1.3349609, -4.3007812, 1.4638672, -0.86572266, 4.0039062, -0.4025879, 5.6835938, -8.3203125, -9.875, 2.4726562, 5.9453125, 3.8984375, 1.6123047, -8.0078125, 5.7890625, -5.0273438, -0.84033203, -8.8046875, 11.984375, -5.953125, -3.0527344, -0.12536621, -0.27416992, -1.1308594, 0.057373047, -4.6992188, -1.6953125, 2.6484375, -5.6484375, 3.8632812, 1.6132812, -3.5019531, -1.6152344, -2.1835938, 10.2578125, -1.7402344, 8.5859375, 2.2792969, 1.5341797, -7.4101562, -2.21875, -4.4296875, 4.6796875, 4.984375, 8.7421875, 0.22277832, -16.953125, 9.40625, -6.1679688, 4.3203125, -9.3046875, 1.4013672, -8.7421875, -8.2109375, 0.8300781, -11.484375, 1.6289062, 2.0507812, -6.21875, 3.0644531, -4.7773438, -7.546875, 0.8413086, -8.9765625, -6.3320312, -5.1367188, -0.15148926, 8.953125, 1.4804688, -1.6738281, 7.46875, 8.5234375, -8.8203125, 3.0429688, -4.75, 3.1386719, 2.0371094, -2.0625, 7.3515625, -0.5776367, 4.4257812, 1.0234375, 12.28125, -6.84375, -8.3828125, 0.8457031, 3.6152344, -10.1953125, -1.8339844, 8.7734375, 5.0351562, -2.0527344, 4.0195312, 0.45751953, -8.34375, 12.8125, -3.3496094, 3.8652344, -14.34375, 5.6328125, -6.3710938, 2.4082031, 2.1738281, -0.28222656, 7.3867188, -2.5390625, 13.46875, -1.375, 5.0351562, 5.859375, 1.734375, 4, -4.375, -10.4375, 0.6923828, -0.5136719, -6.5351562, 2.75, -0.18652344, -5.3125, 2.7597656, 1.0732422, 4.8945312, 4.984375, -3.0566406, 1.3476562, 7.0429688, 2.7402344, 11.8671875, 7.4257812, 1.6923828, 3.4765625, 2.8125, -3.4492188, -8.2578125, -1.2509766, 2.4160156, 8.4375, 11.28125, 3.3945312, 2.3710938, 7.7617188, -0.89941406, -3.3515625, 0.8769531, 3.3925781, -0.7949219, -0.98828125, -5.703125, 5.5703125, 6.109375, -0.86621094, -1.8144531, -6.0546875, 4.2070312, -1.2294922, -0.053588867, 7.625, 2.8125, -1.5800781, -4.171875, 0.47753906, -7.6914062, -11.2421875, 4.1757812, 0.8901367, -0.4013672, -0.52001953, 1.0322266, 3.8554688, -13.0078125, 0.8046875, -2.4238281, -1.7119141, 10.71875, -8.921875, -6.75, -2.6269531, 5.1757812, 10.9296875, -1.9609375, 14.53125, -3.359375, 7.5546875, -1.9931641, 0.6171875, 4.8945312, -0.17883301, 7.640625, 6.1835938, 14.9375, 6.9804688, 1.7480469, -3.7441406, -1.5283203, 6.7421875, 2.4570312, 0.95166016, -4.28125, 12.7890625, 1.5693359, 1.3662109, 3.5742188, 4.4726562, 2.7578125, -9.1015625, -8.078125, -10.1015625, -5.84375, -0.72314453, -2.9628906, 5.234375, -4.6289062, -2.2441406, 1.0712891, -1.8339844, -6.5117188, 4.9570312, 0.0736084, 9.71875, 1.7421875, -2.5175781, -1.0546875, 3.9296875, -2.0527344, 0.16418457, 4.1640625, 2.3300781, 9.828125, 6.7578125, 6.65625, 6.796875, 2.3515625, 5.8125, 5.6640625, -12.1015625, -10.9609375, 6.515625, 3.8378906, -6.40625, 1.2929688, 2.3828125, -1.3222656, -3.6875, 7.6914062, -0.18920898, -5.9101562, 5.0859375, -1.3427734, 1.9326172, 4.1835938, 3.6386719, 6.8632812, 0.38183594, -3.4316406, -9.5546875, 7.3984375, -2.78125, 4.6328125, -1.5576172, 1.546875, -5.8476562, 2.3476562, 4.828125, 6.5273438, 4.6054688, 6.4453125, 7.9140625, -4.8828125, -4.8164062, 4.65625, 7.3359375, 1.2236328, -8.84375, 13.4765625, 2.1953125, -0.076416016, 1.9365234, 5.8554688, -2.1757812, -10.65625, 6.4101562, -6.5742188, -3.4570312, -13.9453125, -0.7294922, 1.1640625, -0.75146484, -3.2792969, -8.65625, -1.9267578, 2.3613281, 15.1953125, -4.3007812, -5.1601562, 0.52246094, -0.71728516, -1.0898438, -5.859375, 4.3164062, 17.328125, -3.4472656, 3.5742188, -3.0820312, 2.3691406, -5.765625, -0.8696289, 2.5136719, -5.2734375, 1.5273438, -4.8320312, -3.1835938, 7.2109375, 2.6484375, -1.4775391, 1.3105469, 1.5019531, 3.5097656, 3.9765625, -2.6230469, -5.90625, -5.8046875, 7.5429688, 4.3007812, 0.33276367, 1.2255859, 2.1210938, 6.4648438, 1.0244141, 4.0898438, -2.5976562, -4.0234375, -2.5, -1.2939453, 5.15625, 2.5957031, -4.8710938, -6.875, -2.84375, 1.0136719, 2.7167969, -1.78125, -4.2617188, -4.5664062, -1.6582031, 6.5507812, 0.082336426, 3.1855469, -2.8417969, -0.9135742, 2.2890625, -7.7304688, 1.0761719, -7.8867188, -7.1875, 2.9921875, -7.921875, -1.734375, -11.5546875, 0.36987305, -1.2099609, -3.9941406, -1.8701172, 3.7011719, 6.234375, -3.1640625, 1.2148438, 0.2770996, 2.421875, -4.0625, 1.4482422, -11.6796875, 0.81933594, 1.8398438, 5.4804688, -7.7773438, 1.4121094, 3.2089844, -4.8476562, -0.4506836, -3.0800781, -7.234375, 6.7226562, -7.4960938, 5.296875, -5.9023438, 7.03125, 11.125, -2.1777344, 6.8789062, -1.7558594, -0.9501953, 1.6201172, 1.1679688, -6.4296875, 1.1835938, 2.3828125, -17.84375, -2.8320312, 0.6972656, -4.1015625, 5.6015625, 3.4296875, 0.6904297, -45.1875, -0.8286133, 5.5195312, -5.1757812, 10.328125, 9.8828125, 1.3076172, 0.5253906, -3.6191406, 5.4609375, 5.6523438, -2.0488281, 4.421875, 8.796875, -4.015625, -3.6308594, 6.3320312, -1.8427734, -3.6660156, -15.578125, -1.5878906, 2.7929688, 6.0898438, -0.76953125, -4.6914062, -8.8359375, -0.7626953, 3.5195312, 4.5195312, 4.2382812, -4.3242188, 27.15625, -6.3984375, 1.1582031, -1.7285156, -4.1992188, 0.57373047, 3.4765625, -1.9599609, -2.6679688, -5.3632812, 5.7539062, -3.4882812, -4.9882812, -6.4023438, 5.8476562, -4.6953125, 1.4736328, -5.21875, -7.6640625, 5.4375, -25.859375, 4.78125, -5.2304688, 10.2109375, 9.4140625, 6.78125, -4.71875, -9.984375, -1.5136719, -3.5390625, 1.6826172, -1.3496094, -10.28125, -5.3398438, -3.140625, -7.890625, -5.234375, -3.921875, -5.3867188, -9.484375, -7.8710938, -4.3007812, -0.5854492, -2.4179688, -2.8027344, -3.234375, 0.46020508, -0.10412598, -15.3359375, 3.2207031, 4.2617188, -1.2539062, -7.0664062, 0.85498047, -3.3300781, -3.7382812, -3.5917969, -2.9101562, 0.28955078, 17.078125, -0.86816406, -3.78125, 0.8989258, -4.1054688, -2.9472656, 4.7109375, -5.3398438]\n",
            "[-5.9257812, 4.7578125, 0.16955566, 13.765625, 1.0234375, -8.3515625, -4.4960938, 1.109375, 5.4882812, 2.6972656, 2.5449219, -0.90722656, -4.3046875, -4.5664062, -8.8515625, 2.2128906, 11.1171875, 2.8652344, 9.6875, 6.1875, 5.3671875, -2.2773438, -0.4477539, 0.0017309189, 9.4140625, 3.5253906, 3.5898438, 2.0019531, -4.375, -6.2539062, -2.3417969, -7.0078125, 0.49609375, 2.4765625, 3.359375, 6.6328125, 2.4414062, 6.3984375, -3.9238281, 3.4746094, -2.0644531, -1.9960938, 5.609375, 3.3066406, -2.1484375, 0.57421875, -9.6015625, -8.2890625, -2.8398438, 5.5820312, 1.6914062, 7.2460938, -2.5664062, 1.1367188, 2.0917969, -7.203125, 3.4335938, 0.7553711, -6.453125, 0.33007812, 4.9335938, 2.4375, -0.6303711, -0.057800293, -11.2421875, -5.828125, -1.6904297, -8.4609375, 3.7949219, 1.0224609, -0.056396484, -0.27392578, -0.92626953, -7.0859375, -6.3320312, 1.3554688, 2.0664062, -4.203125, 1.0390625, -1.1425781, 2.9980469, -1.3857422, 1.5556641, -3.9453125, -1.3183594, 7.15625, -4.2265625, -8.1328125, -1.6669922, 4.9960938, 2.9277344, -4.9179688, -3.2578125, 0.31347656, -3.8945312, 0.42895508, 5.65625, 1.2041016, 0.60498047, 0.7963867, 5.203125, -2.3867188, -4.828125, 0.17126465, 4.6640625, 9.765625, 3.1171875, -5.3828125, -3.7070312, -6.6679688, -4.578125, 3.7558594, -0.5019531, -5.7539062, 6.0390625, -0.48706055, -1.3916016, 6.0585938, 3.8691406, 10.296875, 2.6445312, -0.51464844, 8.1171875, 2.1777344, 3.5117188, -1.1806641, 5.078125, -0.060821533, 4.9765625, -2.7792969, 0.7817383, 0.08782959, 7.0390625, -5.7460938, 0.9355469, 8.34375, 0.3017578, 0.77783203, 13.7265625, 5.0507812, 2.078125, -6.3242188, -8.328125, -2.9623508e-05, 5.296875, 8.03125, -1.6289062, -0.6430664, -1.3417969, -3.0976562, 2.09375, 7.046875, -1.7822266, 9.9453125, 0.7792969, 3.4941406, -1.4873047, 5.375, -0.68603516, -2.390625, -2.1347656, -3.9667969, -5.1445312, 7.5234375, 2.6054688, -2.0761719, -5.0742188, 0.9873047, -4.828125, -2.5058594, -6.6523438, 10.4921875, 2.9882812, 5.2265625, 4.6289062, -3.9375, -3.5585938, 4.8867188, -4.5625, 1.8818359, 1.4970703, -3.7949219, -9.4296875, 7.2851562, 4.2382812, -6.8945312, 5.9648438, -4.4882812, 1.6523438, -0.890625, 3.2167969, -3.3027344, 7.9765625, 2.8535156, 2.390625, -1.9638672, 2.1816406, -1.0146484, 0.4650879, -11.609375, -0.52734375, -2.46875, 4.0625, 6.90625, 0.18310547, 7.0742188, 0.7524414, -1.8974609, -5.2382812, 0.9194336, 5.5234375, -7.8945312, 5.0820312, -1.1621094, 1.6064453, -0.33422852, -5.9453125, -15.453125, 9.984375, 1.9853516, 6.5, -0.87060547, -0.67822266, -3.8496094, -5.75, -6.5117188, -8.6328125, -2.5683594, -6.8046875, 3.7207031, 12.078125, -4.7421875, -0.5888672, -0.9975586, -0.98583984, 2.6796875, 6.765625, 10.09375, 0.07574463, -2.4003906, -6.4648438, 3.8007812, -3.1972656, 2.2167969, -10.265625, -4.8085938, 5.4609375, 3.1445312, -0.2980957, 10.0546875, 3.2714844, -2.5820312, 4.4570312, -11.515625, 1.2460938, 3.0625, -9.2734375, 1.6279297, 5.4921875, 10.421875, -4.7929688, 5.4335938, -0.08288574, -6.640625, -1.6777344, 3.2480469, -4.4257812, 0.86083984, 4.5351562, 4.7265625, 7.8945312, -1.5800781, -9.28125, 2.3554688, -1.5605469, -1.3613281, 1.6513672, -7.2382812, -6.3515625, 5.9570312, -5.1875, 3.0625, -2.1796875, -10.3984375, 5.4648438, 10.7734375, 9.0546875, 1.5859375, -6.7578125, 6.703125, 3.5976562, -7.4804688, 3.0117188, -28.125, 3.4980469, 3.9453125, 10.171875, 1.2558594, 2.5429688, -4.4257812, -1.5, 10.7109375, -2.8027344, 4.7070312, -3.2988281, 3.6464844, 1.8115234, 3.7988281, 3.4824219, -1.9111328, -12.375, -0.6357422, -5.9375, 6.0039062, -2.2246094, 3.7988281, -1.9433594, -7.390625, -2.46875, 6.1757812, -0.68408203, -3.8203125, 0.7661133, 5.1015625, -6.2929688, 4.1875, 1.75, -2.34375, 2.4394531, 5.0390625, 0.07904053, 1.6884766, 0.55322266, -5.0117188, -5.7539062, 6.984375, 1.9326172, -2.6210938, -3.28125, -7.8867188, -4.1679688, -4.1640625, -0.82421875, 6.5742188, -2.4824219, -7.0039062, 2.46875, -14.734375, 11.5234375, 6.1796875, 0.5908203, -1.6621094, 8.953125, 1.6611328, 4.5078125, 5.5703125, 5.1054688, -0.0061798096, -2.0351562, 2.5859375, -1.7246094, -2.7089844, 3.703125, 6.4960938, 3.1621094, 4.5, 1.8359375, -2.5019531, -12.359375, -1.6728516, -11.234375, -0.80371094, -5.234375, -3.3398438, -7.03125, 9.359375, -0.1126709, 5.0273438, -8.3984375, 3.5800781, 12.1796875, -0.97802734, -6.6601562, -9.5625, 1.859375, -4.2695312, 1.2285156, -1.3535156, 5.1914062, 5.8554688, -0.017822266, 3.4980469, 4.0664062, -5.5273438, 5.171875, 3.1679688, -1.3203125, 7.6796875, -5.1640625, -7.90625, -0.4572754, -20.96875, -4.2421875, 0.72753906, -3.3671875, 3.8847656, -8.3984375, 7.8945312, 4.296875, 0.8901367, -0.60009766, -2.640625, -1.6162109, -5.2890625, 2.6171875, 0.78808594, 4.15625, -2.6972656, 3.6933594, -6.6523438, -4.6757812, -3.2285156, 6.2929688, 1.0517578, 10.3203125, -2.6132812, -3.1464844, -1.7177734, 0.4951172, -11.3203125, -10.625, 2.265625, -8.0703125, 6.609375, 0.81396484, -10.7578125, 1.2421875, 5.09375, 12.2734375, 5.7109375, 2.7109375, 12.7890625, 4.8984375, 0.18127441, 1.0546875, 1.7861328, -0.8227539, 7.8710938, 3.3046875, 5.4648438, -0.1817627, -8.6171875, 1.8652344, -1.5263672, 9.28125, -9.75, -0.70410156, -1.1806641, 1.2294922, -12.453125, 2.3457031, 3.3828125, -7.375, -4.8515625, -14.890625, -6.6796875, 6.6523438, -1.2783203, -1.9248047, -0.16601562, 8.609375, 5.6640625, 1.5673828, 3.5898438, 1.1240234, 2.2441406, 5.4921875, -1.7158203, -2.3378906, 10.8984375, -8.3203125, 11.71875, 0.03286743, -0.28759766, -3.0527344, -10.25, 0.110961914, -0.8442383, 2.9804688, -8.2734375, 5.5703125, -7.59375, -4.125, 1.3554688, 5.0429688, -5.546875, 12.03125, 3.1835938, 4.7421875, -14.296875, -2.6210938, -8.421875, 3.1738281, 3.5839844, 0.35888672, 3.6191406, -2.3046875, -2.4160156, -0.2310791, 1.2167969, 5.9179688, 4.296875, -5.65625, 6.0351562, 3.734375, -4.2148438, 2.4394531, 1.0087891, 4.5117188, 1.9101562, 9.1640625, -3.046875, -1.7265625, -2.3203125, 3.5761719, 5.3398438, 5.3046875, -2.0820312, -1.1630859, -9.8515625, -13.8828125, 3.578125, -1.2753906, -7.2539062, -4.7109375, -4.6015625, 1.703125, -3.9277344, 1.3095703, -3.3339844, 3.4726562, -0.092163086, 3.0605469, 0.19030762, -2.15625, -9.1484375, 4.828125, -4.3398438, -0.12072754, 5.84375, -3.8613281, -4.875, -2.9277344, -8.8984375, -3.5742188, -3.6015625, 4.953125, -6.0742188, 3.875, 0.7475586, 3.4199219, -5.375, -3.3144531, -9.6484375, 10.1953125, 6.921875, 12.890625, 6.1679688, -12.2421875, 5.09375, -7.9726562, 2.4648438, -0.5644531, 7.59375, -9.5390625, -9.125, -2.9394531, -11.59375, -1.7871094, 1.8671875, -0.7138672, 3.5605469, -1.6621094, -13.1015625, -3.6914062, -2.3613281, -3.1503906, -7.1796875, 2.9941406, 8.890625, 3.1074219, -4.2382812, 4.734375, 4.109375, -10.40625, -1.796875, -2.4492188, 5.8125, 0.36987305, -2.3652344, 6.2578125, 2.3574219, -0.6611328, -2.6972656, 16.96875, 5.4257812, -2.9042969, 3.3964844, 1.6328125, -8.8125, -11.8125, 8.0859375, 7.1484375, -4.5117188, 7.03125, 1.2167969, -4.7070312, 6.734375, -2.9628906, 8.78125, -7.140625, 4.234375, -9.2421875, 6.6289062, 1.4882812, -2.015625, 5.703125, -5.3554688, 6.6523438, -1.7636719, 3.1875, 3.4375, 13.015625, 2.546875, -2.78125, -7.5195312, -5.6992188, 6.8789062, -5.7929688, 2.4082031, 8.265625, -0.4958496, 3.3144531, 0.1940918, 8.546875, 0.4248047, -8.1640625, 1.625, -0.13330078, 13.078125, 5.7851562, 7.7539062, -1.5273438, 0.77490234, 3.3359375, 1.4501953, -9.109375, -1.8134766, 5.6601562, 3.0351562, 3.8808594, 0.9165039, 3.546875, 7.9921875, -2.6503906, 0.31054688, 1.8330078, -2.2519531, -0.17419434, -7.28125, -2.4980469, 1.7871094, 2.0332031, -0.35229492, 0.45166016, 0.06188965, 5.1328125, 1.1894531, -4.2226562, 1.890625, 7.9726562, -4.6875, -5.9179688, 4.3945312, -11.6171875, -11.6015625, 1.0087891, -0.3713379, 5.3476562, 5.6640625, 2.796875, -3.0585938, -11.6953125, -9.0390625, 0.09136963, 0.8520508, 1.9316406, -7.7382812, -8.1640625, 1.3339844, -1.4570312, 5.9804688, -7.5585938, 5.2773438, 2.0703125, 4.8164062, -1.7744141, 0.41137695, 6.3046875, 5.4140625, 1.8740234, 4.6601562, 13.78125, 0.25683594, 1.7490234, -5.3867188, -3.6015625, 7.109375, 1.5234375, 6.6289062, -7.9570312, 17.78125, 0.37280273, -6.6796875, -0.9111328, 12.8203125, 6.8476562, -7.5820312, -7.7148438, -11.1875, -3.8300781, -3.1953125, -1.6621094, -2.9765625, -2.6601562, -3.0292969, 1.3798828, 3.6464844, -7.3828125, 2.4785156, 4.4804688, 10.421875, -2.328125, 0.10723877, -3.7753906, 4.0195312, -2.8945312, 1.6933594, 6, 0.40820312, 11.5, -2.2167969, 8.2890625, 8.703125, -4.734375, -0.115600586, 3.0605469, -10.3125, -13.359375, 3.8554688, 11.296875, -6.3984375, -6.2734375, 1.6357422, -3.3417969, -4.25, 5, 2.5488281, -2.3417969, 3.9765625, -0.5463867, 2.984375, 2.7363281, 1.8056641, 2.5605469, 4.7382812, -1.9238281, -5.2734375, 5.7226562, 0.5942383, -0.87597656, -1.3544922, 2.7226562, 0.47802734, 6.1835938, 6.1328125, 10.875, 1.5224609, 3.8886719, 0.8286133, -2.9121094, -3.6777344, 3.0566406, 9.1640625, 3.8496094, -0.45336914, 8.9453125, 7.7695312, 4.3398438, 4.8359375, -0.5024414, -0.25439453, -11.7265625, 8.078125, -5.0859375, -0.84277344, -11.734375, -2.1660156, 1.0751953, -6.7148438, 5.5039062, -10.8515625, 7.9453125, 2.0332031, 15.1015625, -1.1318359, -6.9882812, -2.546875, -3.6503906, -6.0351562, -7.6171875, -1.0566406, 9.265625, -1.2705078, 6.6835938, -3.7421875, 4.2695312, 0.10797119, 1.0419922, 8.3671875, -5.2070312, 0.74121094, 3.4335938, -1.9150391, 8.671875, 1.5888672, -2.7890625, 1.7011719, 0.18798828, 6.8359375, 9.5859375, -3.9921875, -9.234375, -7.8046875, -1.5019531, 1.0048828, 3.1835938, -0.20690918, 1.8222656, 5.0664062, -0.49072266, 4.328125, -2.1894531, 6.5664062, 0.64453125, 7.9375, 3.4882812, 2.5644531, -6.3710938, -8.6015625, -4.1015625, 2.75, -4.0429688, -8.0546875, -0.64453125, -0.6694336, 2.5527344, 8.6953125, 2.7324219, -0.171875, -2.5214844, -1.203125, 7.1679688, 4.875, 0.23376465, -1.4287109, -7.7226562, 1.09375, -2.2070312, -5.734375, -23.546875, 4.1757812, -6.28125, 3.4902344, 0.90966797, 6.21875, 9.3984375, -2.5449219, 7.8554688, -0.11798096, 4.4765625, -5.1601562, 6.5546875, -11.828125, 3.8574219, 1.7539062, 1.2871094, -3.5761719, 5.9296875, -2.0527344, -0.31445312, -2.4316406, 3.6152344, -7.8789062, 10.5859375, -2.4804688, 7.65625, -8.546875, -0.077819824, 16.921875, -5.875, 0.7993164, -6.2460938, 1.9160156, 8.6328125, 2.5351562, -8.171875, -1.2138672, 0.99072266, -16.515625, 1.0517578, -3.4257812, -3.1347656, 7.4453125, 3.2617188, 2.4824219, -34.46875, -1.5996094, 2.2402344, -1.2177734, 4.8242188, 0.9682617, 5.0742188, 1.4160156, 4.875, 4.3242188, 6.015625, 0.15063477, -0.50878906, 4.75, -3.0664062, -0.93652344, 8.8515625, -1.484375, -1.4238281, -12.140625, -0.515625, 2.9277344, 15.109375, -5.0117188, -0.43798828, -7.75, 0.98876953, -0.01461792, 2.28125, 0.8857422, -0.8173828, 14.7890625, 3.8320312, 1.7558594, 1.5556641, -0.062561035, -2.7324219, 5.0898438, -4.296875, 0.10748291, -5.390625, 6.1992188, -11.8515625, -0.8442383, -0.38427734, -0.9057617, 4.3085938, 4.1757812, -1.46875, -14.9921875, 10.6640625, -26.890625, -1.3320312, -2.7011719, 10.4375, 9.5078125, -0.5488281, -12.5703125, -4.5507812, 2.5195312, -6.9453125, -4.5390625, -2.109375, -2.8496094, 2.6054688, -11.484375, -4.5195312, -2.28125, -1.8847656, -2.9648438, -7.734375, -8.6328125, -9.7109375, -2.6679688, -0.1665039, -1.0068359, -5.1523438, -1.8261719, -1.2167969, -9.609375, 7.7265625, 7.9023438, 3.6191406, -4.2070312, 0.93652344, 2.0996094, -1.9199219, -3.9921875, -3.7695312, 4.5859375, 12.328125, 0.25268555, 0.8803711, 5.6601562, -1.5830078, 3.2246094, 14.0390625, -2.0507812]\n",
            "[-6.125, 7.0234375, -2.1171875, 9.75, 1.6992188, 0.09387207, -2.5078125, -1.6484375, 0.3984375, 11.25, -2.2597656, -1.0332031, 0.7890625, -7.2578125, -11.6328125, 1.1015625, 6.4609375, 3.5449219, 6.4882812, 10.671875, 7.40625, -3.7578125, 2.7988281, -0.6694336, 12.4296875, 0.6948242, -0.15917969, 5.3125, -2.0429688, 2.2148438, -3.9804688, -2.9121094, 5.3164062, 16.34375, 0.36987305, 6.6171875, -1.6660156, 3.7441406, -2.6855469, -3.9394531, -0.24157715, -1.09375, -0.25390625, 1.2978516, -2.7773438, -1.5507812, -7.2148438, -5.3125, -4.0039062, 4.2421875, -0.6582031, 1.0322266, -0.13354492, 6.078125, 3.5585938, -8.3125, 6.3203125, -2.4140625, -9.3125, 4.078125, 0.11578369, -2.4980469, 1.4804688, -4.9804688, -3.6113281, -1.4638672, -5.6953125, -4.6171875, 2.7597656, 0.2298584, 5.3515625, 2.6660156, 0.23742676, -3.2480469, -8.625, 2.8085938, 5.6953125, 0.33251953, -3.8261719, 4.1367188, -4.7773438, 4.9375, -0.3503418, -8.796875, -1.3525391, 1.2519531, -9.234375, -1.8623047, -0.5336914, -1.9072266, 4.2734375, 1.1064453, -4.15625, 0.4501953, 6.1523438, -5.265625, 11.7421875, -0.55029297, -1.8251953, 8.8984375, 0.7011719, 1.2871094, -0.9682617, -2.953125, 1.3427734, 5.7226562, -3.4589844, -4.609375, -6.8710938, -3.8222656, 0.81103516, 5.546875, 1.7714844, -6.5273438, 11.53125, -5.6953125, 1.2275391, 7.265625, -0.13183594, 8.5078125, -0.19897461, -4.5625, -0.5366211, 2.671875, 8.4296875, -1.9423828, -4.71875, -0.828125, -0.21813965, 0.5776367, 1.9326172, 3.7089844, -6.2851562, -0.96435547, -1.8066406, 2.3183594, 3.71875, 3.1152344, 6.953125, -3.2988281, -1.4394531, 3.1464844, -4.0390625, -5.1523438, 2.5800781, 11.5078125, -1.8125, -0.5776367, -4.359375, -5.9648438, -0.3173828, -0.65625, -4.171875, 11.9765625, -2.3105469, 3.0605469, -1.4511719, 4.4960938, 1.8681641, -5.0429688, 1.1914062, -3.4277344, -7.6289062, 5.6015625, -2.0078125, -0.77001953, -14.734375, 10.9609375, -4.7304688, 0.07421875, 1.1142578, 12.8671875, -7.078125, 2.6855469, 3.578125, -3.90625, -2.1171875, 1.4980469, -12.421875, 5.5507812, -1.7851562, 0.43310547, -0.19006348, 0.70214844, 5.5078125, -5.2226562, 9.984375, -2.734375, 2.4121094, 6.1054688, 3.5703125, -2.3007812, 11.1796875, 5.328125, -3.671875, 3.6816406, 2.6308594, -2.0527344, -2.1113281, 0.8076172, 6.1835938, -0.27197266, 5.4179688, 7.0351562, 7.6523438, 8.0390625, 5.9023438, 2.3828125, 0.4338379, 2.3652344, 7.828125, -6.4882812, 1, -4.1835938, 8.53125, -8.28125, -3.9960938, -15.265625, 6.6953125, 5.8476562, -6.8125, -2.3242188, -1.7558594, 0.36450195, 0.111206055, -9.5234375, 0.34765625, -1.2021484, -2.9765625, 11.4453125, 12.5, 0.6694336, -4.0273438, 5.5859375, 2.5898438, 1.7197266, 3.5234375, 2.3144531, 0.37597656, 1.9785156, -3.6894531, 3.859375, -2.1132812, 4.09375, -6.0195312, -3.0722656, 7.8984375, -3.1132812, -3.0527344, 9.2265625, 0.12817383, -5.0703125, 5.4765625, -5.921875, -1.7714844, 6.1367188, -10.5078125, 2.4882812, 11.375, 9.59375, -3.1757812, 6.203125, -3.5332031, -8.703125, -0.3046875, -6.28125, -5.7265625, 9.5546875, 4.5507812, 6.5976562, 4.9765625, 3.6992188, 0.6298828, -0.71484375, -6.3984375, -3.0117188, 3.1152344, -8.3515625, -3.4667969, 5.5898438, 2.109375, 8.109375, -3.9746094, -7.8320312, 4.28125, 6.578125, 1.7841797, -5.953125, 0.58740234, 2.7460938, 6.8203125, 3.8945312, 2.1503906, -29, 2.2519531, 0.36083984, 11.5859375, 0.5317383, 0.56884766, -1.8027344, -7.1210938, 9, -2.453125, 0.31469727, -3.2675781, 3.8066406, 3.5390625, 3.375, 6.9882812, 2.2265625, -7.9101562, 6.015625, -5.2851562, 4.7734375, 1.9511719, -10.09375, 1.0253906, -10.1953125, -2.6054688, 0.89501953, 3.5292969, -3.6503906, 8.390625, 10.8984375, -6.8398438, 4.984375, 6.453125, -5.0546875, -1.6689453, 1.4423828, -3.9296875, 1.4892578, 5.7265625, -3.8691406, -8.2734375, 5.1757812, 1.8066406, -1.9023438, -0.5161133, -7.5820312, -4.28125, 8.625, 1.7587891, 6.3984375, -0.03314209, -3.1386719, -4.15625, -17.140625, 9.328125, 6.8984375, -1.5771484, -7.0546875, -1.2216797, 8.125, 6.4179688, 4.6171875, -1.75, 1.6044922, 7.65625, 3.859375, 5.3867188, -0.7133789, 6.8007812, 12.890625, 0.17749023, 6.9609375, -2.6835938, -4.6835938, -12.578125, -2.4746094, -12.8359375, 0.32202148, -7.9453125, -8.890625, -6.0429688, 9.7421875, 1.0478516, 2.7988281, -2.8984375, 3.1035156, 4.1484375, 1.9189453, -1.8046875, -2.6679688, 2.2421875, -1.7304688, 9.0703125, -4.453125, 8.4921875, 7.703125, 0.6953125, 11.875, 6.1992188, -1.2304688, 2.0585938, 4.609375, -0.1282959, 10.734375, 1.8847656, -9.3828125, -1.2285156, -16.21875, -9.3984375, 8.3515625, -1.3994141, 5.9648438, -13.296875, -0.8901367, 1.7470703, 5.8164062, 0.80859375, -2.9511719, 4.4375, -8.078125, 0.7885742, -2.3164062, 7.4375, -3.1328125, 0.51464844, -4.6054688, -8.8515625, -4.484375, 5.7109375, 2.2773438, 1.5869141, -6.5351562, -4.296875, -3.2578125, 3.7246094, -8.7734375, -6.546875, 0.47143555, -2.6464844, 3.0585938, 2.4296875, -16.25, 1.1015625, -3.4335938, 11.71875, 3.4121094, 6.2148438, 7.1875, 5.546875, 2.6601562, 4.3203125, -6.328125, -4.6757812, 1.375, 2.0605469, -1.3994141, 5.6328125, -2.8203125, -2.4492188, 1.7705078, 8.75, -1.6816406, 7.3632812, -2.9609375, 12.40625, -4.1757812, 2.390625, 8.515625, -7.5390625, 0.7573242, -12, -6.1679688, 6.4375, -1.8583984, -0.10632324, -4.0273438, 8.9921875, 8.9375, -4.4726562, 1.0078125, 11.6953125, -0.7451172, 7.5078125, 6.4570312, 0.7519531, 2.7441406, -7.7734375, 3.6699219, 2.6953125, 0.82373047, 2.3496094, -6.0625, -4.7070312, 5.2851562, -1.9228516, 1.8222656, 3.3652344, -12.3984375, -5.9257812, 4.125, 10.3203125, -5.8710938, 0.50683594, 2.2207031, -0.45043945, -6.8046875, -5.203125, -5.6757812, 0.73339844, 4.5625, 0.66308594, 0.8417969, -1.5839844, -3.5214844, 5.2382812, -3.3769531, 10.3203125, 1.9013672, -5.5703125, 6.0390625, -4.84375, 0.82421875, -7.2734375, 0.018188477, 2.3144531, 7.578125, 9.6640625, -1.1054688, -0.57958984, -4.5625, -1.6376953, -0.14672852, 3.6757812, 0.4519043, 0.79003906, -8.265625, -11.6328125, 1.6914062, 2.3574219, 0.27368164, -3.1054688, -3.5488281, 3.296875, -4.828125, 1.7021484, -1.2949219, 9.21875, 3.9082031, 1.3271484, -1.3935547, -1.7304688, 0.24853516, 1.9003906, -6.0976562, 0.58154297, 0.6328125, -7.9296875, 0.47607422, -4.7617188, -6.4804688, 0.93847656, -7.1875, 6.328125, 2.8476562, 4.671875, 1.0361328, 3.1855469, -3.5898438, -3.5175781, -7.4804688, 3.3261719, 8.5, 11.109375, 3.7324219, -15.3046875, 6.5195312, -10.2578125, 0.97216797, -10.3203125, 2.7558594, -9.765625, -2.3613281, 2.5078125, -7.953125, -4.109375, 3.5664062, -3.0898438, -1.140625, -2.5332031, -7.6601562, -0.7998047, -14.296875, -3.8105469, -3.8417969, 4.671875, 4.3320312, 0.68115234, -4.6210938, 4.6601562, 9.3203125, -6.5820312, 4.734375, 1.3564453, 7.3320312, -2.0683594, -5.4296875, 1.5263672, -1.5429688, 5.34375, -0.19311523, 5.7382812, -2.25, -7.6679688, 2.5722656, 0.8588867, -9.0546875, -1.8945312, 2.1269531, 10.5390625, -8.0703125, 3.9765625, -3.2207031, -3.9667969, 6.3828125, -3.6132812, 4.8125, -15.5078125, 14.8828125, -6.625, -0.7392578, 1.6416016, 0.49682617, 5.5039062, -4.7734375, 12.0859375, -8.59375, 2.140625, 4.4179688, 3.8691406, 3.1875, 0.859375, -6.0664062, -2.3984375, 0.4321289, -5.625, -5.3046875, 2.9960938, -3.4667969, -0.8051758, -2.2070312, 2.4160156, 11.5234375, -9.0625, -1.703125, 5.1601562, 7.8359375, 12.7265625, 0.7338867, -9.296875, 2.1914062, 2.9296875, 0.91748047, -5.4375, -0.105529785, 7.1445312, 9.8515625, 14.2421875, 1.9736328, 2.0566406, 6.3671875, -0.79296875, 5.3164062, -7.9726562, 0.49072266, -1.25, -0.9135742, -5.8203125, 3.2207031, 3.421875, 0.33325195, -7.1289062, -4.7773438, 2.2167969, 0.27270508, 1.0126953, 4.3789062, 9.421875, -0.73339844, -1.3779297, -2.8261719, -7.1914062, -13.703125, -0.4177246, 4.3632812, -1.8701172, 4.5351562, -1.4443359, -0.33813477, -10.5703125, -3.84375, 7.2929688, 3.796875, 4.7773438, -7.578125, -6.0625, 1.3945312, 8.9453125, 4.8984375, -2.953125, 13.6328125, -0.47998047, 12.2578125, -7.9921875, 7.1328125, 3.4277344, 3.3046875, 2.0605469, 4.1679688, 15.640625, 0.5415039, 2.7148438, -5.8046875, -5.2539062, 9.125, 3.4296875, 5.6953125, -7.8476562, 10.515625, -0.13659668, -6.359375, 1.7548828, 6.34375, 3.1699219, -0.00868988, -2.0175781, -6.6210938, -6.1796875, -4.640625, -0.7128906, -1.4150391, 0.23156738, 0.8935547, -5.3046875, 0.5683594, -5.8789062, 7.7109375, -2.9648438, 9.046875, -0.46264648, -0.29736328, 0.9633789, -3.1601562, 2.2089844, 4.5351562, 0.52197266, 0.28515625, 2.9101562, 0.8808594, -1.1708984, 3.3339844, 1.7724609, 0.3544922, 2.5449219, -9.25, -12.421875, 4.7929688, 3.5195312, 1.2929688, 1.2441406, 1.1542969, 2.0742188, -5, 6.2421875, 2.0839844, -1.34375, 5.0234375, -1.4755859, 3.5898438, 6.34375, 3.9882812, -1.4697266, -0.86279297, -2.9121094, -2.46875, 6.03125, -6.5273438, 3.0351562, -0.82128906, -0.75878906, -0.64746094, 6.4101562, 4.6601562, 0.3137207, 2.8945312, 0.22290039, 6.8515625, -3.4433594, -3.6582031, -1.4707031, 1.6494141, -1.2617188, 0.6269531, 8.6640625, 2.0957031, 6.1835938, 3.3085938, 4.4609375, -7.2265625, -10.640625, 1.0507812, -12.8046875, 0.90234375, -11.6796875, -3.7265625, 2.3457031, -2.9257812, -2.1054688, -8.6484375, 2.4707031, 0.79833984, 10.3671875, -4.359375, -6.4257812, 5.984375, -4.7226562, -2.5136719, -3.0605469, 1.1689453, 3.6367188, -7.6367188, 3.7421875, -0.69384766, 5.2265625, 1.2939453, -1.3183594, 4.5507812, -3.5507812, 0.9975586, -0.65185547, 1.0166016, 13.3984375, 2.6171875, -3.8535156, 1.4804688, 0.20178223, 6.015625, 4.3867188, -0.91748047, -5.2148438, -2.8925781, 3.8964844, 6.125, 0.007396698, 2.6210938, -0.6464844, 7.375, 1.1132812, 4.140625, -8.3984375, -4.8632812, -0.61621094, -0.51464844, 4.6640625, -0.83496094, -6.34375, -4.3007812, -5.7421875, 0.26220703, -1.1660156, -7.1367188, -1.890625, 0.9458008, 0.32641602, 1.8193359, 1.5205078, 1.9580078, -4.8125, 2.9863281, 1.1494141, -0.14929199, -0.8857422, -5.3242188, -16.90625, -1.5048828, -7.859375, -4.4140625, -15.109375, 8.859375, 0.39257812, 0.28686523, 5.5976562, 0.5161133, 3.046875, -5.2265625, -1.6542969, -0.84814453, -0.48413086, -12.2421875, 1.5400391, -10.8671875, 10.40625, -4.5351562, 0.028915405, -6.28125, 5.6015625, 2.3242188, -4.0507812, -2.2578125, -3.7324219, -5.5234375, 5.1601562, 4.1015625, 8.171875, -4.2734375, 3.5136719, 10.1875, -1.8974609, 3.703125, -5.1171875, 0.9394531, 5.203125, 2.1582031, -2.2460938, 1.6044922, 4.0585938, -11.578125, -2.4101562, 5.328125, -1.3466797, 5.5234375, 0.7421875, 3.6015625, -40.28125, -9.1328125, 3.5527344, -1.6494141, 10.078125, 1.3818359, 3.0878906, 3.1542969, 2.9550781, 5.0859375, 1.0205078, 0.78564453, 4.9765625, 7.15625, -9.609375, 0.42163086, 9.8125, -1.1845703, -5.0429688, -15.390625, -8.015625, -3.3496094, 7.6953125, 3.6796875, -0.16699219, -6.7382812, 3.0527344, 4.7226562, 5.3828125, 0.45751953, -4.25, 20.109375, 2.6425781, -0.8022461, -4.3828125, -8.3046875, 1.2861328, 3.734375, -1.8837891, -0.7705078, -1.0966797, 11.8515625, -0.24719238, -5.5625, -6.6328125, 1.9375, -2.5292969, -0.5, -3.1738281, -9.734375, 4.7617188, -26.421875, 2.9199219, -6.9375, 8.9921875, 6.3710938, 5.296875, -7.7851562, -7.2695312, 7.0390625, -4.2226562, -4.7070312, -2.8730469, -5.6328125, -7.234375, -3.703125, -2.5605469, -7.0625, -2.4707031, -6.5039062, -10.7890625, -5.375, -4.765625, -0.21960449, -1.0351562, -2.7636719, -2.75, -3.1113281, -1.9736328, -14, 4.2929688, 1.4482422, 3.3730469, -10.6796875, 2.8515625, 4.5742188, -6.203125, 0.81884766, -0.8774414, 6.5859375, 18.5625, 2.6289062, -2.5625, 4.7070312, 3.1191406, -5.0351562, 11.109375, 0.43237305]\n",
            "[-1.9052734, 1.8388672, -2.4980469, 11.046875, 3.8261719, -3.1757812, 0.03186035, -1.1855469, 4.2382812, 3.5898438, 0.89501953, 1.8164062, 1.3515625, 5.3320312, -7.1875, -3.5117188, 2.1132812, 12.2421875, 3.2402344, 2.2558594, 4.4570312, -1.890625, 5.7265625, -0.28466797, 6.796875, 6.5234375, 4.4609375, 6.71875, 1.3457031, -3.3808594, 0.640625, -3.9257812, 3.0136719, 4.09375, 6.0390625, 4.6875, 2.0292969, 5.765625, 1.1806641, -4.1835938, -2.7734375, -4.1640625, -0.78808594, -1.2509766, -2.5097656, 2.3652344, -12.234375, -8.6875, -8.0859375, 2.8671875, -0.1928711, 6.3398438, -4, 3.1054688, 3.7226562, -6.96875, 2.7324219, -3.8964844, 0.28344727, 7.5507812, -0.70947266, -1.6337891, -1.0322266, 0.044830322, -8.1875, 0.61083984, -2.3378906, -2.2734375, -4.0820312, 1.1464844, 0.6694336, -2.6972656, -2.0722656, -7.625, -8.0703125, 2.4316406, 1.6337891, -1.5253906, 1.5039062, -1.2929688, -6.5976562, -3.0839844, -1.8925781, -10.2734375, -3.9238281, 10.9140625, -6.6835938, 1.7353516, -2.65625, -4.2617188, 5.3320312, -2.1542969, -3.2480469, 0.10681152, 1.4423828, 2.671875, 14.03125, 7.578125, -0.13232422, 5.953125, -3.9609375, 0.31958008, -1.0244141, -4.8984375, 7.9101562, 11.5546875, 1.2421875, -3.765625, -6.7304688, 0.19311523, -1.4462891, 2.5234375, -2.4296875, -2.390625, 9.171875, -4.8359375, -0.20251465, 10.6484375, 2.4960938, 10.15625, -1.4492188, 1.9658203, 0.48535156, -1.2333984, 4.4257812, 4.9648438, -4.7695312, 4.140625, -4.8671875, -4.0625, -0.15209961, 0.4885254, -1.2480469, -3.578125, 2.4765625, 6.9335938, 2.8085938, 3.7207031, 11.34375, -5.5, 4.9101562, 2.609375, -7.5117188, -0.84228516, 0.2536621, 6.9765625, -3.5390625, -0.4104004, -0.11151123, -1.3125, 3.7988281, 0.8569336, 0.7133789, 12.4765625, -0.5913086, 2.2382812, -2.9355469, 0.75, 0.21789551, -4.03125, -1.5976562, 4.140625, -14.3125, 3.4316406, -2.7929688, -1.0722656, -11.8828125, 8.765625, 0.6113281, -4.8203125, -5.0976562, 12.1484375, -6.3164062, 2.3007812, 1.7109375, -2.9628906, 0.06137085, -4.5351562, -11.859375, 6, 3.3476562, -0.4453125, 2.3730469, 2.4257812, 10.515625, -9.875, 12.4375, 0.4230957, -1.0771484, 7.1992188, 2.7363281, -5.40625, 8.609375, -0.56884766, -2.9101562, 1.3056641, -0.8227539, -5.3203125, -6.5703125, -0.7636719, 4.2304688, -6.0546875, 3.2265625, 4.5742188, 4.1953125, 6.6132812, 6.671875, 3.3144531, -1.9052734, 4.8046875, 7.1875, -7.75, 2.1210938, -4.9257812, 1.6376953, -8.7421875, -4.4296875, -14.8515625, 5.7460938, 10.0703125, -5.109375, -1.7919922, 0.8769531, -8, 0.2286377, -7.5664062, -0.46679688, 1.8710938, -6.4453125, 2.9902344, 10.2421875, 0.84716797, -3.84375, 7.6484375, 5.7304688, -4.109375, 0.68310547, 7.6875, 9.7265625, 2.3984375, -0.20715332, -5.140625, -7.875, 6.1445312, -8.2578125, -6.0195312, 8.5234375, -4.578125, 4.453125, 3.1933594, 0.32421875, 0.026229858, 10.0390625, -2.5214844, -1.6728516, 6.7460938, -7.3398438, 5.9765625, 4.8789062, 8.671875, -0.39257812, 6.578125, -3.1699219, -4.9023438, -1.765625, -3.8886719, -3.375, 5.9257812, 2.703125, 6.625, 5.3789062, -2.6953125, -0.014205933, 2.3886719, -3.8945312, -2.9316406, 7.1171875, -7.8007812, -4.7460938, 3.0996094, -3.2734375, 7.34375, -2.2480469, -8.046875, 1.7353516, 2.1191406, 2.6757812, -4.1328125, -3.9375, 2.7402344, 7.3164062, -3.7421875, 1.3242188, -34.34375, 1.2607422, -4.71875, 9.9453125, 1.4179688, -3.0644531, 0.27197266, 7.7382812, 14.203125, -3.7011719, -2.9824219, 2.0527344, 4.4296875, 3.0566406, 7.2460938, 7.8085938, 2.6972656, -5.2578125, -0.5097656, -4.7890625, -0.70410156, -1.7734375, -8.6640625, -2.0644531, -9.53125, -1.2783203, 4.2226562, 3.2832031, -2.0800781, 10.1171875, 13.328125, -5.75, 3.8339844, 10.1328125, -7.6679688, 8.875, 7.3476562, 2.7890625, 5.15625, 10.15625, -4.1132812, -2.6640625, 3.9960938, -0.2590332, -5.7695312, 0.18383789, -5.8164062, -4.4609375, 2.2617188, 5.4570312, 9.25, -5.640625, -4.4648438, 0.5683594, -8.3671875, 14.40625, 9.546875, -1.0136719, 3.5957031, 3.4003906, 8.9375, 7.2890625, 0.3630371, -6.5664062, -5.6953125, 6.1015625, 0.40527344, 2.546875, -1.5029297, 12.078125, 8.7578125, 0.21350098, 8.4375, 0.72314453, -4.625, -6.9257812, 2.0742188, -3.546875, 1.8408203, -4.0820312, -3.3125, -5.3867188, 4.5273438, -3.3945312, 12.5234375, -6.3085938, 3.8964844, 7.9921875, -0.6660156, -6.9726562, -8.8203125, 5.8046875, -2.2226562, 7.1835938, -1.9707031, 4.6367188, 6.1992188, 4.9726562, 1.7041016, 3.6953125, 1.2246094, -0.4868164, 8.578125, 0.93652344, 5.7890625, 0.114868164, -9.7265625, -6.765625, -13.5078125, -1.5966797, 4.3125, 2.140625, 4.6679688, -13.4296875, -5.984375, 5.9609375, 2.4316406, 0.31762695, -4.2265625, -1.2207031, -11.484375, -3.2441406, -3.1914062, 3.6015625, -6.90625, -0.64697266, -9.0234375, -8.0234375, -2.9375, 7.6601562, 8.03125, 5.8007812, -4.7109375, -2.0625, -7.6328125, -2.8632812, -4.1601562, -10.8984375, -3.6152344, -1.3847656, 3.1660156, -0.6689453, -7.7226562, 5.6601562, 4.1132812, 4.2851562, -0.84375, 8.0546875, 8.5703125, 4.734375, -3.0019531, 2.5429688, -4.3046875, -2.9199219, 5.6796875, -2.2929688, 2.6328125, 1.5625, 0.77001953, 3.2382812, 2.3730469, 2.3417969, -0.75, 4.6835938, -4.9609375, 2.3320312, -15.7578125, -1.9667969, 7.953125, -6.5078125, 2.5410156, -9.640625, -2.3125, -0.93115234, -0.32641602, -3.046875, -5.8945312, 5.2890625, 13.65625, -2.3359375, -1.5351562, 5.1875, -1.2695312, 5.53125, -2.6679688, 2.0683594, 8.2421875, -4.7421875, 4.3984375, -1.3291016, -4.3515625, -3.6035156, -7.7890625, -6.7539062, 6.6367188, -2.8046875, -2.4589844, -2.640625, -9.3125, -5.46875, 2.9453125, 11.5546875, -6.5429688, 1.1464844, -0.8276367, 1.5810547, -14.4375, -4.46875, -8.40625, -2.0703125, 4.2578125, 0.9194336, 3.5527344, -5.2460938, 2.4765625, 5.5507812, -5.9296875, 4.0898438, 0.5415039, -1.2832031, 5.5546875, -1.1015625, 0.1439209, -1.4013672, 1.4638672, 1.8613281, 3.953125, 4.0117188, -1.5097656, -2.0390625, -1.3369141, 1.5126953, 0.59472656, 9.890625, -1.6337891, 3.1542969, -6.375, -16.515625, 2.765625, -0.08111572, 1.6162109, -0.17553711, -6.8671875, 5.953125, -2.4804688, 1.9414062, -2.0390625, 12.3125, -0.5732422, -1.3183594, -9.09375, 1.1943359, -0.8027344, -2.9140625, -9.015625, -0.058013916, -3.4511719, -6.7304688, 0.03878784, -1.4335938, -4.1914062, 2.4160156, -6.4414062, 5.1054688, -1.6152344, 7.4023438, 2.5507812, 1.5078125, -6.1796875, -4.0078125, -9.15625, 6.1171875, 4.2695312, 6.5195312, 2.0292969, -12.015625, 3.1347656, -10.8515625, 4.3164062, -5.078125, -4.1054688, -6.9414062, -3.6816406, 5.2460938, -6.015625, 3.4628906, -0.9663086, -6.5742188, 6.671875, -2.6953125, -12.171875, 1.6357422, -10.7265625, -1.2685547, -3.8828125, 6.5273438, 3.3417969, 1.3359375, -2.2128906, 4.2617188, 13.4140625, -2.71875, 0.44799805, -4.1992188, 6.0234375, 0.8105469, 1.3378906, 5.3710938, 4.6367188, 1.1435547, 3.296875, -2.5625, 1.6240234, -6.78125, 0.78466797, 0.5883789, -3.0117188, -6.2578125, 7.5625, 9.546875, -6.515625, 3.1894531, -5.3242188, -8.3984375, 4.3828125, -5.8671875, 7.4179688, -4.8554688, 10.40625, -9.34375, 1.9267578, 9.6484375, 5.3515625, 4.0078125, -3.8457031, 14.09375, -6.0820312, -6.5664062, 4.0898438, 2.1308594, 4.8242188, -4.140625, -6.8046875, -3.3242188, -3.0234375, -5.125, -3.1914062, 3.4941406, -4.5117188, -0.83496094, 0.2043457, 9.6171875, 10.96875, -4.8828125, 4.3671875, 1.7666016, 8.4765625, 10.6484375, -3.1210938, -8.78125, 3.0898438, -2.4667969, -0.31933594, -10.21875, 4.359375, -1.6933594, 3.0859375, 12.03125, 2.0117188, 0.26513672, 3.7832031, 3.171875, 6.65625, 1.3476562, 1.5292969, -4.9140625, -4.7421875, -4.6445312, 9.2265625, 7.9804688, -0.029159546, 2.6113281, -10.5078125, 1.0566406, 1.7080078, 0.51904297, 7.7734375, 2.3007812, -3.7636719, 0.6323242, 0.092285156, -8.859375, -11.640625, -3.421875, 0.55566406, -4.265625, 0.6455078, 2, -0.42626953, -10.4765625, -2.3769531, 0.040496826, 0.32763672, 6.1796875, -6.3085938, -0.2783203, -2.0605469, 9.375, 0.51220703, 0.6694336, 11.15625, -1.3486328, 9.359375, -9.890625, 0.54785156, 4.6171875, 2.3613281, 4.8125, 0.58251953, 16.171875, 9.90625, -5.765625, -5.2226562, -2.8066406, 5.7890625, -1.1601562, 7.9414062, -9.796875, 7.890625, 3.7695312, -1.4443359, 1.6201172, 1.5419922, 2.5996094, -0.9501953, 1.1933594, -12.5390625, -3.7871094, -4.65625, -0.8046875, 1.3154297, 0.71777344, -0.28027344, -1.8310547, 3.0117188, -7.6328125, 5.1132812, -0.41796875, 8.6328125, 3.8925781, -5.8828125, 5.1953125, 2.8945312, -4.6445312, 3.9238281, 4.5273438, -1.0361328, 7.2421875, 0.3005371, 2.6640625, 5.3398438, -1.1103516, 3.0722656, 2.625, -7.9453125, -12.6328125, 8.890625, 2.7617188, -2.453125, 0.7944336, -3.3945312, 1.1035156, -1.0214844, 7.6054688, 0.8339844, -6, 7.2695312, 1.1035156, 5.9101562, 4.5, 5.3867188, 5.6875, -0.27490234, -3.0253906, -5.7578125, -1.1455078, -6.234375, 2.625, 1.8203125, 0.12445068, -7.4414062, 9.828125, 6.0820312, 8.7890625, -2.2734375, 1.1279297, -2.2929688, -1.3691406, -4.984375, 2.4199219, 4.6875, 5.9804688, -6.7695312, 7.0703125, 3.8730469, 5.2382812, 3.5117188, -2.4257812, -6.7460938, -8.6875, -1.578125, -8.6484375, 4.4921875, -13.8984375, -8.7890625, 2.1171875, -1.6210938, -0.41357422, -13.7890625, -0.8276367, -2.2265625, 10.5625, 0.58496094, -8.65625, 4.5507812, -5.015625, -2.8808594, -7.0742188, 4.2539062, 3.0527344, -2.0605469, 2.4941406, -1.6630859, 0.6386719, -2.0878906, 1.6074219, 2.03125, 2.1699219, -1.3154297, 3.8574219, -4.203125, 9.5390625, -2.4121094, -3.5019531, 7.6992188, -3.4257812, 8.6015625, 5.5039062, -2.5332031, -3.40625, -2.7578125, 5.7851562, 3.2636719, 1.1347656, 1.9960938, 0.46679688, 3.6757812, 1.6435547, 1.828125, -3.8242188, -2.8828125, -7.390625, 1.5800781, 9.8359375, 0.8227539, -8.953125, -11.78125, -1.3935547, 0.034179688, 2.8945312, 0.039276123, -1.9892578, -3.0859375, -3.71875, 3.5878906, 2.8457031, -1.1230469, 1.2724609, 2.5097656, 10.0625, -1.2519531, -1.1826172, -1.0986328, -8.421875, 1.7714844, -7.8984375, -0.6513672, -18.078125, 4.125, -1.3574219, 3.9980469, 5.7617188, 6.7734375, 7.8671875, -4.828125, -0.9350586, 2.0917969, -3.203125, -3.2226562, 3.9882812, -6.3789062, 8.2578125, -2.7480469, 4.6757812, -0.75878906, 2.5605469, 0.8466797, -6.15625, 1.2119141, -2.34375, -8.890625, 9.59375, 1.2226562, 10.03125, -7.4453125, 5.4960938, 9.9453125, 3.5429688, 4.1171875, -0.7368164, 3.6796875, 8.09375, -4.2695312, -3.8554688, 3.140625, -4.2070312, -14.78125, 3.8261719, 5.375, -5.0351562, 9.921875, 2.3261719, 3.0351562, -44.28125, -5.28125, 0.48339844, -2.2539062, 9.609375, 0.5517578, 2.4667969, -0.51904297, 1.0410156, 3.4277344, 2.8574219, -0.8984375, 8.6328125, 7.6210938, -6.21875, 0.6513672, 12.53125, 0.77978516, -2.2324219, -13.1796875, -1.9248047, 1.3710938, 8.125, -2.8769531, -4.6171875, -6.796875, 4.4609375, 0.13720703, 6.5273438, 3.8652344, -2.7617188, 13.3046875, -1.1669922, 2.3398438, -4.0195312, -1.6181641, -0.086364746, 6.8320312, -4.65625, -2.8515625, -6.9101562, 10.7421875, -8.6328125, -9.5078125, -2.0195312, 6.3867188, -2.0644531, 3.1171875, -1.2080078, -8.875, 9.3125, -25.75, 4.4257812, -6.7148438, 5.6210938, 6.5390625, 2.5722656, -7.7929688, -0.59277344, 1.6484375, -0.8803711, -1.4150391, -0.9926758, -4.7304688, -7.7304688, -1.7373047, -4.0976562, -6.0585938, -2.9746094, -8.328125, -15.2109375, -3.3925781, -4.3515625, 0.49560547, -8.71875, -0.3725586, -6.1523438, 3.8066406, 1.8310547, -5.4101562, 4.8125, 1.9433594, 3.3769531, -9.4609375, 2.28125, 2.8945312, -6.25, 1.4658203, -2.0742188, 3.4882812, 20.03125, 4.25, -2.7675781, 2.7851562, 4.75, -6.5078125, 9.5, 0.14379883]\n",
            "[-2.5878906, 5.6132812, 1.6191406, 13.59375, -0.25073242, 0.7324219, -3.7324219, -0.58740234, 0.64941406, 6.3125, -7.0507812, 0.13879395, 0.85009766, -8.8984375, -8.7109375, -2.0585938, 4.15625, 3.3007812, 8.2421875, 11.90625, 5.1328125, -2.9726562, 3.3085938, -2.6894531, 13.46875, 4.578125, 2.6308594, 6.0625, -2.0253906, -2.2167969, -1.7470703, -4.3046875, 6.34375, 13.328125, 2.0429688, 8.953125, -2.4296875, 2.7773438, -1.9853516, -1.6123047, -2.6191406, 0.023590088, 2.4746094, 2.453125, -2.9492188, 0.35913086, -8.8125, -13.2578125, -7.390625, 3.1835938, -3.2714844, 2.9589844, 1.5361328, 5.0898438, 4.875, -8.34375, 8.59375, -4.0078125, -10.3125, 1.6728516, 2.2402344, -2.3457031, 8.234375, -1.1708984, -6.0898438, -2.6992188, 1.0654297, -2.6386719, -0.6386719, 0.28295898, 1.8125, -0.79833984, -0.13586426, -0.61621094, -8.8359375, 0.28930664, 3.3886719, -0.6303711, -2.2460938, -0.68310547, -6.8125, 0.4482422, -0.9609375, -7.4296875, 0.35302734, 7.5703125, -5.25, 0.7626953, -3.5878906, -3.5585938, 3.8242188, -1.1572266, -2.9355469, 1.2666016, 4.3046875, -4.484375, 11.2421875, -2.3925781, -5.3476562, 6.0820312, -0.62353516, -3.4804688, -5.0078125, -6.6875, 2.5449219, 1.4003906, -3.3046875, -1.1054688, -5.6601562, -1.5693359, 0.018035889, 6.5, 1.9003906, -3.5, 12.7578125, -5.5664062, 1.2431641, 8.3359375, 0.47680664, 7.0507812, -1.2470703, -1.1669922, 5.203125, 1.4951172, 7.0390625, -6.1992188, -6.796875, 0.44995117, 2.0429688, -0.5751953, 2.265625, -0.49121094, -4.4179688, -3.9082031, -3.9003906, 2.3417969, 0.24816895, 0.5292969, 11.65625, -1.7080078, -2.4394531, 3.1386719, -3.0351562, -7.46875, 2.8359375, 10.9765625, -5.8828125, 1.8388672, -0.5786133, -5.8359375, -0.13220215, -1.859375, -1.4423828, 10.125, 1.8935547, 3.0097656, -7.2304688, 5.8125, 4.1679688, -2.6777344, 3.1210938, -3.2363281, -6.0234375, 5.1210938, -3.3417969, -0.65722656, -15.6796875, 7.3242188, -1.6962891, -5.4726562, -2.1796875, 11.65625, -5.625, 4.7539062, 6, -6.5234375, -3.7402344, -0.45532227, -12.96875, 3.2070312, -0.76123047, -3.5117188, -3.5039062, 0.08392334, 3.7089844, -6.5351562, 7.8984375, -1.6298828, 3.5898438, 3.6777344, 2.4042969, -4.4375, 6.2734375, 5.15625, -0.36010742, 2.6210938, 3.1621094, -3.7910156, 0.08258057, -1.4863281, 3.8554688, -0.5058594, 7.171875, 7.375, 5.3867188, 10, 2.9492188, 1.1259766, 0.06500244, 3.5136719, 6.7773438, -9.34375, 1.8232422, 0.3149414, 2.3945312, -5.8710938, -4.4414062, -9.265625, 3.6699219, 5.3710938, -4.4335938, 3.0605469, -0.5708008, -1.8681641, 1.6738281, -10.1796875, -1.3867188, 1.6318359, -2.6914062, 8.6640625, 8.859375, -0.0927124, -3.1582031, 3.2167969, 1.1875, 0.089538574, 2.0839844, 1.8251953, 3.0390625, -1.2324219, -1.3466797, 3.6152344, -2.53125, 6.3945312, -4.2929688, -0.66845703, 4.3359375, -2.6640625, -0.57177734, 6.9101562, 2.609375, -6.4804688, 6.84375, -5.8203125, -3.0429688, 7.5429688, -8.2265625, 3.3359375, 8.984375, 5.5429688, -5.2460938, 4.953125, -5.3828125, -4.5039062, -1.9140625, -5.234375, -5.53125, 8.1015625, -1.9853516, 5.0664062, 5.5976562, 4.0390625, -0.3112793, 0.0904541, -1.4189453, -4.0078125, 3.6132812, -4.0742188, -5.0820312, 3.6289062, -1.6767578, 6.0234375, -2.9414062, -7.0039062, 4.6679688, 8.0078125, 4.765625, -7.734375, 2.3789062, 2.4648438, 8.0234375, -3.0527344, 0.8959961, -28.75, -1.4638672, -1.2197266, 9.65625, -0.49487305, -2.0351562, -1.5732422, -2.8085938, 16.03125, -0.3244629, 0.9291992, -0.8256836, 6.3007812, 2.8066406, 3.5117188, 6.9101562, -4.796875, -10.03125, 3.8203125, -6.2421875, 3.2324219, -0.99072266, -6.2460938, -6.7890625, -8.625, 1.5390625, 0.5439453, 1.2626953, -3.9726562, 5.109375, 15.0390625, -8.625, 4.9414062, 8.09375, -4.4101562, -1.3496094, 4.6484375, 1.0068359, 2.171875, 2.9589844, -6.609375, -7.6875, 4.0273438, 3.515625, -1.4150391, 2.171875, -11.359375, -8.8046875, 13.078125, 3.6367188, 10.453125, 4.2734375, -5.5429688, -0.76171875, -17.671875, 10.6171875, 3.7753906, -1.4189453, -5.5703125, -2.515625, 3.3964844, 5.046875, 6.5507812, -2.1191406, 2.7792969, 7.2226562, 1.3369141, 6.3320312, 3.7148438, 3.6210938, 11.96875, -1.2470703, 5.5390625, 0.7182617, -1.3574219, -14.1484375, -2.2519531, -7.3984375, -0.37280273, -8.0859375, -9.46875, -6.8515625, 10.71875, 2.2109375, 5.7890625, -2.1328125, 8.0390625, 7.2421875, 1.6582031, -7.0507812, -2.4804688, 3.9492188, -4.1171875, -0.92333984, -4.9765625, 8.484375, 6.6054688, 1.6962891, 9.5, 3.1601562, -0.30517578, 0.73828125, 4.1835938, -1.140625, 8.6953125, 1.7988281, -4.8164062, -3.9414062, -13.1640625, -5.5, 4.0195312, -2.859375, 7.3125, -13.109375, -0.34521484, 4.8515625, 6.0820312, 4.5898438, -6.3632812, 5.421875, -8.1015625, 0.7753906, -3.2832031, 10.2265625, -5.8359375, 3.0878906, -6.9375, -9.3203125, -0.0690918, 5.453125, 2.0839844, 3.6171875, -6.1367188, -5.1914062, -6.1757812, -2.0507812, -10.40625, -7.8789062, 1.7285156, -1.9628906, 0.82714844, -0.38500977, -12.1640625, 1.6240234, -0.32739258, 9.78125, -1.5048828, 7.1875, 11.203125, 4.046875, -4.8515625, 1.2724609, -0.21191406, 0.81640625, 2.3808594, 5.6992188, 2.5410156, 6.8085938, -3.6699219, 4.2226562, 2.0136719, 4.3320312, -4.8242188, 7.859375, -2.9921875, 9.390625, -6.7929688, -1.3964844, 8.125, -5.90625, -1.6464844, -13.4296875, -5.4179688, 6.9296875, 0.7084961, -0.87646484, -5.4726562, 7.9882812, 7.328125, -3.3183594, -0.07647705, 6.96875, -1.5654297, 3.8691406, -0.40942383, 2.2734375, 6.7617188, -7.0664062, 3.1015625, 4.8671875, -3.7265625, -0.98828125, -8.4375, -2.5507812, 7.0742188, -1.0410156, -0.69873047, 3.9238281, -6.3007812, -6.4765625, 6.2734375, 13.2265625, -8.46875, 3.5878906, 2.7207031, 3.7363281, -11.7890625, -4.5117188, -7.3671875, 1.3232422, 2.8164062, 0.2286377, 3.3886719, -4.8632812, 0.47973633, 3.3203125, -4.2421875, 4.3515625, -0.0066833496, -0.0713501, 7.1757812, 5.2851562, -0.07702637, -4.0820312, -1.0078125, 4.484375, 6.46875, 5.1796875, -0.101989746, -4.8320312, 0.45214844, 0.67529297, -1.4150391, 5.2539062, -0.70703125, 1.3759766, -9.7578125, -12.5390625, 0.92285156, 1.046875, 3.4589844, -3.4238281, -6.3828125, 2.8066406, -3.4785156, 0.29467773, -3.6425781, 8.6796875, 3.09375, -2.0742188, -5.765625, -1.0380859, -4.1796875, 2.7363281, -6.4804688, -1.3378906, -2.5234375, -5.2109375, 0.48095703, -5.6953125, -7.2773438, 1.4599609, -8.4140625, 6.3945312, -0.6010742, 7.6367188, 0.9213867, 7.2109375, -4.6992188, -3.9648438, -1.3623047, 6.4921875, 8.515625, 9.1015625, -0.65527344, -19.140625, 4.5351562, -8.203125, -0.023620605, -8.1953125, 4.84375, -6.859375, -0.34814453, 3.5214844, -8.453125, -0.578125, 0.019363403, -6.921875, 4.7695312, -4.4257812, -8.0703125, -5.2109375, -14.2109375, -4.15625, -5.0429688, 6.8828125, 5.4257812, -0.2553711, -5.8867188, 6.6210938, 11.75, -3.5976562, -1.0595703, -4.7890625, 9.734375, -4.2265625, -1.828125, 2.71875, 2.4628906, 3.0019531, 4.4804688, 3.2207031, 3.7636719, -7.6328125, -1.9316406, -0.80322266, -6.4882812, -2.9316406, 5.171875, 12.7734375, -4.59375, 6.265625, -1.7558594, -4.1640625, 5.0664062, -0.47265625, 3.9140625, -12.40625, 14.9921875, -5.9335938, 2.3789062, 3.484375, 0.9716797, 6.9804688, -7, 13.4453125, -9.234375, -0.7558594, 1.1738281, 5.515625, 3.5, -4.6484375, -9.78125, -2.1386719, 1.9902344, -9.96875, -3.4179688, 1.171875, -0.81640625, -0.5073242, -1.9951172, 5.1132812, 12.4453125, -7.1875, -1.8789062, 3.1523438, 6.0390625, 14.9375, 1.4072266, -9.0234375, 2.3984375, 4.0507812, 0.6821289, -3.2441406, 1.8154297, 0.88623047, 6.4609375, 12.4765625, 4.8398438, 3.7539062, 6.34375, -0.75634766, 2.0722656, 1.5654297, 3.1191406, 0.88134766, -0.52783203, -9.25, 3.765625, 4.9335938, 0.010810852, -2.6738281, -6.6914062, 1.3583984, 4.5351562, -3.546875, 0.5385742, 0.7519531, -4.40625, 3.8203125, 0.9121094, -6.0078125, -15.9765625, -2.1582031, 0.6611328, -4.015625, 3.7773438, 2.3730469, 1.7910156, -10.0703125, -1.3291016, 8.1484375, 5.8203125, 6.796875, -10.5, -4.609375, 5.4179688, 4.8945312, 9.078125, -3.7949219, 8.9609375, -2.4863281, 11.109375, -3.6972656, 1.1582031, 5.4296875, 5.2070312, 5.265625, 6.4375, 13.8125, -2.2480469, -2.5058594, -1.7080078, -4.328125, 6.2460938, 0.8491211, 7.6132812, -9.5703125, 11.46875, 4.0664062, -6.3085938, 3.703125, 5.8515625, 4.2578125, -2.7402344, -3.5898438, -10.421875, -6.6953125, -1.0224609, 3.6054688, -1.0390625, 1.0664062, -2.4941406, -6.3203125, 0.68408203, -9.125, 5.7382812, 0.05682373, 7.34375, 2.4785156, 0.19555664, 4.9140625, 3.4433594, -2.3183594, -0.97558594, -0.69384766, -0.8510742, 6.4921875, -2.0566406, -1.0703125, 2.8574219, 0.6035156, -0.47973633, 2.7324219, -5.0429688, -13.03125, 5.5078125, 5.59375, -3.9082031, -4.0351562, 0.5649414, 1.1611328, -2.84375, 6.125, 4.2148438, -3.1230469, 7.9257812, -1.2792969, 4.3203125, 4.9179688, 3.0859375, 1.5927734, 0.7861328, -3.5039062, -5.8789062, 7.3945312, -3.3535156, 5.9296875, -0.26123047, -0.83496094, -2.1640625, 8.78125, 7.1601562, 0.5908203, 0.6850586, -2.15625, 10.578125, 0.6870117, -7.8398438, -0.7133789, 7.0585938, 0.18408203, -0.20629883, 7.890625, 7.828125, 6.3828125, 3.0546875, 0.7050781, -4.7148438, -12.703125, -2.1523438, -12.453125, 0.13293457, -11.125, -2.8789062, 0.9711914, -2.9960938, -7.1015625, -10.671875, 4.0820312, 0.9970703, 13.7734375, -4.0234375, -5.4335938, 3.2675781, -5.3867188, -4.0585938, -2.1464844, 0.89453125, 6.9921875, -2.9160156, 2.5625, 0.38427734, 4.59375, -0.83251953, -0.3400879, 2.7304688, -1.7119141, 3.0019531, 3.796875, -1.3808594, 10.953125, 1.6445312, -9.2734375, 2.8652344, -0.5390625, 6.2851562, 6.1445312, 0.9301758, -7.5546875, -3.6445312, 1.5556641, 5.9492188, 5.8554688, 1.4472656, -0.4946289, 4.03125, 1.2128906, 8.3359375, -4.2460938, -2.1308594, -6.2382812, -0.49365234, 4.9179688, 0.12939453, -3.59375, -5.2265625, -1.9130859, 0.4958496, -1.3271484, -2.5644531, -3.8125, 2.0195312, 1.7939453, 0.1303711, 3.5566406, 1.2861328, -4.2148438, -2.3535156, 5.8046875, -7.9414062, -0.8979492, -6.7929688, -17.421875, 0.50927734, -8.859375, -2.8203125, -14.8046875, 10.8515625, -1.9638672, 2.6191406, 2.2792969, 4.78125, 5.2617188, -5.7851562, 0.68066406, -0.6274414, 0.10992432, -6.1953125, -1.8183594, -6.5742188, 8.2890625, -0.50439453, 4.0117188, -7.4453125, -0.38208008, 2.9335938, -3.890625, -4.3320312, -4.234375, -7.7734375, 6.59375, 2.1875, 9.3359375, -0.23803711, 0.9145508, 14.15625, -1.0048828, 3.5351562, -3.8945312, 2.0097656, 4.1015625, 6.2304688, -4.8710938, -0.55859375, 3.40625, -14, 1.9287109, 8.515625, -5.7734375, 11.234375, 1.0048828, -1.5751953, -40.25, -5.6796875, 1.3759766, -3.015625, 7.7421875, 4.7070312, 5.7929688, -0.75439453, 8.21875, 6.9726562, 2.3808594, 0.8676758, 4.4296875, 7.5898438, -9.5078125, 0.2232666, 7.9765625, -0.20483398, -1.3291016, -11.8203125, -4.6484375, -0.42333984, 8.328125, 4.2460938, -0.76708984, -7.7890625, 4.8554688, 1.9599609, 5.3828125, -3.8242188, -0.46826172, 16.046875, 2.7910156, 0.72558594, -8.109375, -11.21875, 3.8300781, 6.0820312, 0.12390137, 2.7832031, -4.9921875, 7.6601562, 2.3828125, -1.8183594, -0.59716797, 2.4101562, -3.6152344, -0.7363281, 0.5258789, -6.2265625, 5.40625, -26.359375, 2.5332031, -3.6035156, 11.5234375, 6.6523438, 4.0351562, -6.3359375, -11.5234375, 4.4804688, -5.578125, -2.9765625, 3.5585938, -5.3945312, -5.1640625, -4.4921875, -5.1328125, -5.1875, -2.1367188, -3.4003906, -11.75, -3.5039062, -7.6054688, -0.38598633, -4.3398438, -2.7128906, -6.0976562, -2.4316406, -2.9042969, -13.7890625, 6.0390625, 3.4375, 5.3046875, -5.0546875, 1.4589844, 1.1503906, -7.953125, 0.2010498, -4.734375, 5.7460938, 15.109375, 4.8203125, -3.6484375, 3.9199219, 4.5820312, -7.3085938, 12.53125, -0.42163086]\n",
            "[-4.1835938, 6.765625, 1.6943359, 12.1171875, -0.45361328, -0.26489258, -3.8515625, 1.6425781, 0.7441406, 8.296875, -8.25, -0.3803711, 2, -5.734375, -5.9921875, -2.4160156, 0.29760742, 4.609375, 5.6328125, 10.7421875, 5.28125, -3.390625, 5.7773438, -4.5117188, 14.4375, 1.6796875, 5.7695312, 5.8007812, -3.3964844, -3.5996094, -2.2128906, -3.8691406, 5.7460938, 11.03125, 1.9462891, 7.1601562, -2.0488281, 4.109375, -5.1757812, -1.8701172, -2.7363281, -0.41870117, 4.8203125, 1.0878906, -0.87890625, 1.0371094, -8.8125, -11.2734375, -7.125, 1.9707031, -3, 5.3984375, 2.1953125, 6.5585938, 4.7148438, -7.9179688, 10.3046875, -6.7734375, -9.9296875, 3.2304688, 2.6757812, -0.34155273, 5.5898438, -0.80810547, -6.0742188, -3.3769531, -0.11791992, -2.7578125, -0.4477539, 0.025634766, -0.71191406, -1.5253906, -1.3066406, -1.625, -10.8359375, -1.1679688, 3.3574219, -2.0058594, -1.3427734, -1.078125, -8.578125, -0.6303711, -1.6640625, -6.453125, 1.1162109, 6.9609375, -8.1328125, 1.9902344, -2.6914062, -5.671875, 4.2304688, -5.2734375, -3.4746094, 0.77734375, 3.9902344, -3.6542969, 10.953125, -2.0273438, -6.1015625, 5.2070312, 0.2388916, -3.6484375, -4.3554688, -5.9257812, 3.2539062, 3.4082031, -3.0253906, -1.5058594, -5.0390625, -1.9121094, 1.1669922, 5.4179688, 2.0800781, -0.6635742, 12.109375, -2.2460938, 1.0791016, 8.4296875, 0.70654297, 6.0195312, -1.3046875, -1.0693359, 6.2578125, 0.85595703, 3.0371094, -8.46875, -6.5117188, -0.98876953, -0.3474121, 0.22973633, 3.6367188, -1.7753906, -6.6953125, -6.6992188, -2.1191406, 2.5683594, -0.37939453, 3.1699219, 11.8359375, -0.18383789, -0.77246094, 1.4394531, -2.625, -8.0625, 3.0097656, 8.0625, -3.2207031, 3.7382812, -0.5839844, -5.2226562, 0.8251953, -1.1191406, -0.5576172, 8.9609375, 0.9135742, 2.5429688, -7.5507812, 4.8242188, 2.0136719, -2.2617188, 0.4897461, 0.1850586, -8.234375, 4.5664062, -1.0712891, -2.5800781, -16.765625, 8.578125, 1.0498047, -7.1757812, -3.6464844, 10.4296875, -4.8320312, 3.7890625, 4.6796875, -5.2851562, -0.6274414, 2.3457031, -10.859375, 5.3515625, 0.1427002, -1.2119141, -2.8730469, 0.7270508, 4.8320312, -5.7460938, 7.8515625, -2.4550781, 3.5, 1.9580078, 3.0683594, -3.0722656, 5.6289062, 5.9726562, -0.26171875, 1.9414062, 3.8867188, -4.3085938, 0.06378174, -1.2685547, 3.78125, 2.6679688, 2.6152344, 6.4414062, 6.625, 8.6015625, -0.1583252, 2.5332031, -1.6171875, 4.3085938, 5.53125, -10.703125, -0.64208984, 0.9194336, 6.859375, -6.6289062, -3.0917969, -10.1640625, 2.0429688, 6.0078125, -6.1367188, 4.5976562, 0.47875977, -4.0585938, -0.8051758, -9.7421875, -2.8300781, 1.0898438, -1.7988281, 7.8007812, 9.7109375, -0.7866211, -1.9189453, 6.9453125, 2.4511719, -1.0673828, -0.8496094, 3.3769531, 2.8359375, -1.4697266, -0.25439453, 1.8564453, -5.5429688, 6.9375, -3.75, -1.1425781, 4.7226562, -3.0800781, -0.15588379, 7.4765625, 4.59375, -2.6445312, 8.625, -1.8652344, -3.7441406, 9.4296875, -8.0390625, 4.7460938, 9.4375, 5.7304688, -4.28125, 8.296875, -3.8457031, -1.5986328, -1.2519531, -5.3671875, -5.0703125, 5.3671875, -1.8417969, 3.171875, 4.90625, 7.0742188, -1.5664062, -0.15588379, -0.25341797, -3.2714844, 3.5371094, -4.140625, -6.328125, 5.2382812, -3.1796875, 6.0273438, -3.8300781, -6.28125, 4.21875, 7.1367188, 6.0820312, -6.109375, 1.2929688, 1.8447266, 9.6875, -4.78125, 2.0097656, -24.0625, 2.2050781, -3.1113281, 10.328125, -0.4729004, -0.9916992, -4.4804688, 0.6899414, 17.75, -0.31420898, -0.8076172, 0.84814453, 5.8945312, 5.125, 3.7949219, 8.78125, -6.2265625, -10.9140625, 2.5605469, -5.5703125, 4.2773438, -2.09375, -7.5234375, -7.7265625, -10.0078125, 2.0605469, -1.7177734, 1.0644531, -1.7900391, 7.3046875, 15.71875, -9.3671875, 4.8828125, 5.9257812, -2.4375, 0.9428711, 3.484375, 0.37451172, 1.6416016, 4.8945312, -5.7929688, -11.6640625, 3.5957031, 4.2382812, -3.8378906, 3.3203125, -8.78125, -7.4296875, 12.7734375, 2.9804688, 11.609375, 5.3242188, -4.8710938, -2.2363281, -19.046875, 11.4375, 3.3691406, -3.8886719, -4.6015625, -0.054840088, 5.515625, 7.2734375, 5.4609375, -2.2402344, 1.2724609, 6.3554688, -0.3305664, 3.6992188, 3.8066406, 6.3046875, 12.765625, -1.3720703, 5.953125, 1.8583984, -0.35668945, -11.5625, 0.40966797, -6.3554688, 0.9453125, -6.5273438, -7.828125, -5.03125, 9.875, 2.2382812, 5.4765625, -3.4355469, 8.046875, 7.0117188, -1.1689453, -6.546875, -2.1914062, 3.9960938, -3.3476562, 0.94384766, -7.2109375, 5.3242188, 5.1328125, 3.125, 9.0859375, 1.9277344, 2.5917969, 0.35595703, 6.6992188, -0.026550293, 8.09375, 0.3798828, -5.703125, -6.4023438, -12.8828125, -3.4882812, 6.3710938, -4.3867188, 6.5625, -14.34375, -1.6738281, 3.828125, 4.0820312, 5.2578125, -7.5390625, 6.515625, -5.9960938, 0.93652344, -1.1113281, 7.171875, -7.4726562, 3.8222656, -6.8320312, -8.453125, -1.4335938, 4.7617188, 1.8271484, 2.78125, -6.0078125, -3.3457031, -6.1289062, -1.0263672, -8.765625, -5.3984375, 1.2353516, -1.0410156, 2.0097656, 4.8046875, -11.7265625, 1.7460938, 2.375, 10.125, 0.6816406, 9.421875, 11.5859375, 5.4101562, -3.9003906, 0.9013672, 1.1455078, 1.2460938, 2.734375, 4.2109375, 1.0986328, 8.078125, -1.7705078, 7.0664062, 1.3369141, 1.9287109, -5.140625, 7.1796875, -3.9902344, 9.3046875, -7.15625, -3.6972656, 6.828125, -4.9921875, 0.08666992, -12.6640625, -4.1015625, 4.6132812, 0.51953125, -0.21691895, -5.765625, 10.625, 8.359375, -1.7167969, -2.0371094, 5.8789062, -2.1621094, 4.265625, -4.625, 3.3378906, 7.4882812, -6.703125, 2.9648438, 5.3085938, -4.2304688, -0.1809082, -6.7890625, -4.2421875, 9.171875, -0.6152344, 0.14953613, 3.9179688, -8.2265625, -3.2597656, 2.8183594, 11.3046875, -8.3203125, 2.8300781, 1.8623047, 5.8867188, -10.8046875, -7.96875, -6.9140625, 1.4814453, 1.6533203, -0.50341797, 5.3476562, -4.0820312, 2.4160156, 4.109375, -4.3046875, 4.3164062, -2.1933594, -1.7197266, 7.3085938, 5.9492188, 0.71728516, -5.3320312, -0.5083008, 4.6835938, 6.3710938, 4.9023438, 0.9707031, -4.375, -0.9946289, 2.1582031, -1.0732422, 5.1367188, -3.8222656, 3.0410156, -9.0078125, -13.2421875, 3.8867188, -0.97998047, 2.7285156, -3.2246094, -5.0546875, 0.84716797, -2.9707031, -0.21350098, -2.96875, 12.125, 2.8417969, -3.296875, -4.9609375, 0.9848633, -2.3652344, 3.546875, -6.4765625, -1.6054688, -2.9511719, -7.0351562, 0.64160156, -4.4570312, -7.6484375, 1.0732422, -8.71875, 7.6054688, 0.7758789, 8.4375, 1.8476562, 8.421875, -2.4414062, -3.53125, -2.1679688, 4.9726562, 5.9570312, 10.2890625, -2.5175781, -20.890625, 6.3476562, -9.1953125, 1.1484375, -8.640625, 5.4882812, -6.5390625, -1.8955078, 1.8369141, -9.265625, 1.3330078, 0.2142334, -9.25, 2.5976562, -4.2539062, -8.0546875, -4.703125, -13.0859375, -3.9335938, -7.5585938, 4.6992188, 3.5957031, -2.1894531, -5.8867188, 5.8984375, 13.203125, -3.8164062, 0.8466797, -3.3300781, 6.4648438, -5.1757812, -1.6044922, 2.3945312, 2.3242188, 3.0175781, 5.2617188, 3.0761719, 3.9511719, -9.53125, -0.74316406, 0.7836914, -5.2109375, -4.6757812, 6.265625, 12.2890625, -6.0859375, 5.34375, -3.3261719, -7, 6.640625, -0.7480469, 3.8320312, -11.640625, 13.84375, -7.578125, 0.703125, 6.2578125, 1.9628906, 6.5976562, -6.7695312, 12.59375, -10.421875, -0.87158203, 0.6591797, 6.390625, 1.5449219, -3.8007812, -9.640625, -1.5410156, 1.8466797, -9.8984375, -1.3730469, 2.8339844, -1.5732422, 1.984375, -1.6015625, 4.5078125, 11.015625, -2.671875, -1.2109375, 4.421875, 4.3046875, 15.96875, 1.4345703, -7.875, 2.3632812, 7.7070312, -1.9765625, -7.5742188, 1.8330078, 3.5410156, 4.3671875, 14.3828125, 3.1992188, 1.9365234, 4.2265625, -0.30419922, 1.0273438, 2.8164062, 2.3535156, -1.2519531, 1.3798828, -7.3515625, 2.9492188, 7.7421875, -0.64941406, -0.29492188, -3.8671875, -0.703125, 5.1523438, -1.2578125, 1.2646484, -0.7939453, -8.1796875, 0.5463867, 0.82470703, -8.34375, -17.625, -2.8085938, 0.40185547, -3.8808594, 2.6386719, 2.9960938, 1.0185547, -9.8125, 0.3564453, 7.1445312, 4.0546875, 8.953125, -10.125, -2.9492188, 3.5507812, 7.7929688, 11.328125, -2.3203125, 8.765625, -4.5859375, 10.0390625, -2.3613281, -0.6767578, 6.5625, 4.1132812, 6.3476562, 6.625, 13.421875, -0.11053467, -4.9023438, 0.19726562, -1.8349609, 6.7617188, -1.6738281, 7.765625, -10.8203125, 10.78125, 3.7304688, -5.609375, 1.375, 4.703125, 4.1914062, -1.9726562, -3.4453125, -8.0234375, -7.3828125, -2.6582031, 1.5302734, -2.2148438, 1.2558594, 0.055877686, -8.5390625, 1.5556641, -10.6015625, 4.2226562, -4.734375, 9, 3.4433594, -0.36938477, 5.5429688, 2.3007812, -3.3652344, -1.1757812, -1.4824219, -3.9570312, 4.484375, -2.1015625, 0.64746094, 4.2460938, 1.4472656, -1.5097656, 3.9785156, -3.0507812, -13.6328125, 4.0117188, 5.1992188, -4.1835938, -0.5751953, 1.7207031, 0.5410156, -2.5195312, 6.1289062, 3.2226562, -3.7597656, 8.765625, -1.9013672, 5.953125, 1.6855469, 4.2695312, 1.0263672, 1.0712891, -3.046875, -5.515625, 7.7265625, -3.2617188, 6.3320312, 2.8945312, 1.1416016, -3.1132812, 8.9140625, 8.96875, 2.8496094, 2.1796875, -4.5195312, 9.8671875, 0.029327393, -7.7851562, 0.8569336, 5.9335938, 0.88134766, -0.9902344, 9.671875, 5.5820312, 6.1210938, 3.6035156, 1.1279297, -3.3339844, -13.4296875, -3.3378906, -11.875, -0.21008301, -11.9140625, -4.4960938, -2.2519531, -3.8691406, -6.546875, -9.8515625, 2.765625, 1.0234375, 14.6171875, -1.84375, -5.5664062, 2.6816406, -2.9140625, -5.1445312, -3.7597656, 1.6875, 8.4140625, -4.8945312, 1.6972656, -0.1538086, 3.3027344, -2.9726562, 0.53271484, 3.0214844, -1.3769531, -0.7055664, 1.2167969, -2.1601562, 6.9492188, 3.34375, -9.1640625, 1.7617188, -1.1445312, 3.0273438, 6.4101562, 2.1699219, -8.984375, -3.7773438, 2.2539062, 6.078125, 5.1757812, 0.08728027, 0.7709961, 2.5078125, 1.1503906, 7.6679688, -3.7402344, -2.1191406, -6.6835938, 1.8447266, 7.4023438, 0.34545898, -4.546875, -6.171875, -2.34375, 2.84375, 0.3474121, -2.84375, -3.3769531, 0.7792969, 0.3371582, -0.85058594, 4.5429688, 0.88427734, -3.4472656, -2.4628906, 4.1914062, -9.78125, -2.4492188, -4.5859375, -16.6875, 0.7446289, -9.0546875, 0.02279663, -16.34375, 10.609375, -1.4150391, 3.0566406, 1.7871094, 5.9765625, 5.7265625, -5.8242188, 0.9277344, -1.7607422, 0.12597656, -4.3398438, -2.0351562, -6.2578125, 5.578125, -0.8178711, 2.4042969, -8.90625, -0.3251953, 0.046020508, -4.9882812, -0.37597656, -6.0195312, -9.3125, 7.3398438, 0.16894531, 7.5625, -2.4238281, -0.42260742, 13.921875, 0.69628906, 3.9082031, -5.9921875, 1.0732422, 4.890625, 5.8789062, -7.4726562, -2.7949219, 2.4492188, -14.390625, 0.7939453, 10.296875, -8.1328125, 12.53125, 2.7558594, -1.5097656, -39.65625, -5.7148438, 0.51464844, -0.6196289, 9.4609375, 3.2851562, 4.8242188, -0.97558594, 9.5703125, 7.3984375, 3.7109375, -1.9384766, 4.3671875, 7.765625, -8.8359375, 0.5957031, 8.8046875, -0.5209961, -4.9023438, -11.4140625, -6.6914062, -0.5161133, 5.0898438, 3.5761719, -2.9589844, -7.1132812, 3.9121094, -0.08520508, 5.53125, -2.046875, -0.84277344, 17.375, 0.67333984, 0.0009851456, -6.3515625, -10.7578125, 6.3046875, 6.7539062, 1.6464844, 2.3984375, -3.6777344, 7.859375, 0.41430664, -1.3935547, -2.0019531, 1.7675781, -3.7832031, 0.25048828, 3.0742188, -6.9179688, 8.671875, -24.375, 3.7519531, -4.1679688, 11.171875, 8.0078125, 2.6464844, -8.09375, -7.828125, 2.609375, -5.3945312, -2.6210938, 3.5605469, -5.1484375, -6.7734375, -2.7167969, -6.1484375, -4.0351562, 0.44213867, -4.2539062, -12.1640625, -2.0507812, -7.3945312, -0.9628906, -5.4882812, -3.1152344, -5.53125, -0.9111328, -4.0273438, -9.78125, 7.7578125, 1.5263672, 4.8671875, -4.1132812, 1.6103516, -0.79785156, -8.34375, -1.1796875, -4.0898438, 5.4414062, 16.015625, 4.359375, -4.6953125, 4.5390625, 5.453125, -5.6484375, 11.1484375, 1.3447266]\n",
            "[-2.0761719, 6.078125, -0.23291016, 12.4140625, 5.5, 3.15625, -2.2949219, -0.60058594, 3.6796875, 5.0625, -8.28125, 4.6054688, 0.80029297, -2.015625, -6.9765625, 0.7758789, 2.9355469, -0.24316406, 6.6679688, 10.4296875, 3.7050781, -3.0175781, -1.1220703, -0.7011719, 11.328125, 6.1992188, 5.5625, 3.7070312, -1.4091797, -0.15942383, -3.7050781, -2.5273438, 6.421875, 11.75, -0.59033203, 7.109375, -2.3027344, 2.9257812, -2.5996094, -4.1601562, -1.5722656, -6.6171875, 2.0703125, 0.2939453, -3.4335938, 4.2773438, -9.078125, -3.0351562, -5.2148438, -0.5288086, -1.1503906, 4.8515625, 0.42236328, 5.2578125, 8.875, -9.140625, 4.8125, -5.9101562, -8.515625, 4.9140625, 0.10644531, -6.4023438, 3.59375, -4.2851562, -8.171875, -1.1992188, 0.23327637, -0.6425781, -2.5175781, -0.3466797, -1.9638672, 0.103393555, 0.17126465, -3.2363281, -9.3515625, 4.9335938, 1.9472656, -1.6806641, -0.99658203, 1.7470703, -7.1835938, -0.6850586, -0.5913086, -7.7617188, -2.4375, 4.5117188, -8.7578125, -2.0703125, -1.0097656, -3.4257812, 6.5898438, -0.14477539, -5.2226562, 0.51220703, 2.3515625, -5.296875, 10.9375, 1.0722656, -4.2148438, 8.1875, -3.7539062, -3.7558594, -5.6328125, -7.5195312, -2.8105469, 7.6875, -1.7158203, -0.69873047, -8.015625, -4.4453125, -2.9648438, 2.2753906, -1.9453125, -10.453125, 15.6953125, -0.36132812, 0.4555664, 8.46875, 0.103515625, 11.578125, -1.7802734, 1.3144531, 1.7763672, -1.9443359, 10.921875, -6.3554688, -5.8632812, 4.8203125, 1.375, -2.8300781, 1.8105469, 7.921875, -2.2851562, 2.703125, -5.2265625, 6.28125, 4.1015625, -0.18249512, 8.0859375, -2.5898438, -0.36279297, 1.2910156, -3.1777344, -4.9023438, -2.7832031, 5.828125, -5.0234375, 0.1274414, 1.5410156, -4.5859375, -1.8251953, -2.9863281, 2.6699219, 12.5703125, -1.0341797, 1.7714844, -6.140625, 1.9882812, -2.4960938, -5.1835938, 1.2470703, -2.1679688, -4.5117188, 5.6679688, -2.1582031, -2.6191406, -15.109375, 9.5625, -3.7871094, -8.734375, 2.4257812, 9.515625, -4.765625, 4.8984375, 1.0869141, -7.0625, -1.4492188, -2.4882812, -4.9179688, 3.6855469, -0.050964355, 0.16235352, 3.7714844, 2.3613281, 10.046875, -6.3085938, 7.0976562, 0.82421875, -0.6142578, 5.1523438, 0.9785156, -3.0234375, 10.390625, 0.62841797, -0.12194824, -1.7158203, 2.6542969, -0.48510742, -3.2148438, -0.83740234, 5.203125, -2.2109375, 13.1015625, -0.004447937, 5.4453125, 7.8828125, 1.9267578, -0.6894531, 0.81103516, -2.6738281, 10.734375, -7.2460938, 1.2587891, -3.3320312, 0.94677734, -2.1230469, -5.4414062, -14.859375, 2.5429688, 10, -7.4492188, -5.8164062, -3.0449219, -1.2158203, 2.2304688, -7.7578125, -3.7832031, -3.3261719, -6.3945312, 5.1757812, 10.640625, -2.7363281, -4.3867188, 6.3203125, 5.640625, -0.44335938, -2.3828125, 0.5576172, -1.1113281, 1.4921875, -0.3840332, -0.39868164, -7.5351562, 3.8964844, -5.5546875, -3.1738281, 3.265625, -2.3222656, -0.80029297, 7.9921875, 3.5195312, -3.6777344, 5.7265625, -5.828125, -1.7978516, 7.2421875, -9.3203125, 4.734375, 7.5078125, 6.546875, -4.0429688, 4.75, -0.9428711, -5.3476562, -3.4375, -1.9150391, -7.2851562, 3.4375, -1.6015625, 7.9335938, 4.8046875, 6.875, -0.73828125, -2.4570312, -4.9179688, -1.9707031, 4.6132812, -6.9882812, -0.4724121, 2.34375, 0.6801758, 8.2578125, 0.69433594, -10.0703125, 9.90625, 7.7226562, 1.6552734, -5.109375, 1.6523438, 0.68066406, 9.0390625, 1.2832031, 3.4667969, -27.328125, 0.9404297, -3.3007812, 13.7421875, -0.08166504, -5.3242188, -3.7128906, -2.0644531, 18.59375, 4.6992188, -3.4082031, -0.029769897, 8.9453125, 4.2226562, 7.390625, 8.328125, -2.0742188, -6.5625, 3.5585938, -5.6757812, 0.8491211, -4.3554688, -4.5117188, -7.4179688, -7.296875, -4.4375, -1.3330078, 1.2705078, 1.4697266, 7.109375, 11.609375, -11.09375, 2.9179688, 8.046875, -2.8964844, 1.0644531, 2.0722656, -4.2109375, 7.3515625, 9.5078125, -6.7617188, -9.7109375, -0.57910156, 4.9179688, -0.32836914, 1.8955078, -8.0234375, -1.9853516, 7.125, 3.1347656, 2.8671875, -0.035736084, -6.171875, 2.4726562, -10.0703125, 13.6875, 4.4414062, -1.3271484, -3.9667969, -0.054107666, 5.2773438, 5.7109375, 7.5585938, -2.1386719, 1.5869141, 6.3359375, 2.4980469, 0.8959961, 0.22912598, 6.28125, 14.453125, -0.52001953, 4.4414062, 0.83496094, -5.5, -14.5, -2.2832031, -7.1015625, -0.92041016, -11.7890625, -4.8632812, -5.2421875, 6.4335938, 2.3984375, 7.0195312, -5.6992188, 5.2148438, 10.1484375, 3.5332031, -3.4121094, -1.2050781, 2.2324219, -3.7070312, 0.91259766, -1.5878906, 1.5976562, 5.5390625, 1.7880859, 12.140625, 4.2382812, -1.7949219, -1.8447266, 7.640625, -3.5566406, 7.0976562, -0.6645508, -11.3671875, -0.96191406, -12.40625, -8.328125, 4.4882812, -3.3496094, 8.96875, -13.6328125, -3.7070312, 8.8984375, 2.921875, 1.3583984, -5.7890625, 6.4648438, -10.625, 7.234375, -5.4648438, 7.15625, -7.6992188, -0.12426758, -3.4238281, -6.703125, -2.2714844, 4.4570312, 3.5507812, 5.546875, -3.7675781, -4.4726562, -8.1015625, -3.8847656, -7.9140625, -7.6992188, 1.7851562, -1.3564453, 6.1328125, -1.3583984, -16.265625, 2.1289062, -0.12634277, 10.296875, -2.6035156, 8.78125, 6.7578125, 1.9443359, -0.4814453, 4.9765625, 1.8203125, -2.2617188, -0.33496094, 3.671875, 2.796875, 4.6953125, -0.9838867, 0.7290039, 6.0078125, 5.4921875, -3.4472656, 3.4316406, -4.7890625, 11.890625, -5.8945312, -1.5546875, 2.203125, -8.828125, -2.4355469, -13.609375, -9.71875, 3.8359375, -4.5820312, -0.6845703, -1.84375, 12.40625, 11.8984375, 1.3974609, -0.12451172, 9.1484375, 0.7871094, 7.2539062, 2.5273438, 3.1484375, 6.609375, -10.46875, 5.0820312, -2.5449219, 2.0566406, -3.2148438, -7.3007812, -5.171875, 11.2265625, -6.0664062, -4.1445312, 3.7519531, -9.1484375, -4.3476562, 4.1953125, 9.265625, -8.4296875, 2.0410156, 2.0097656, 5.2617188, -7.4179688, -2.1894531, -6.7109375, -5.375, 4.7460938, -2.3417969, 0.36987305, -2.9375, -0.3046875, 6.25, -3.8535156, 6.1445312, 4.9492188, 2.0878906, 4.6289062, -1.7109375, -1.4130859, -6.1796875, -0.57714844, 3.90625, 6.53125, 9.03125, 2.7363281, -7.6054688, -0.515625, 0.34960938, -1.234375, 7.0390625, -1.6923828, 0.47705078, -10.46875, -9.9375, -4.7578125, 4.2695312, -0.20947266, -3.6191406, -7.8632812, 7.5664062, 1.6367188, 1.0126953, -1.0498047, 12, 2.90625, -4.078125, -2.9824219, -1.4023438, 1.359375, -0.38671875, -2.8398438, 5.5898438, -3.1210938, -7.28125, -0.038146973, 0.82177734, -5.2382812, -0.84472656, -1.7695312, 1.4882812, 3.9082031, 10.6328125, 6.25, 5.6015625, -5.203125, -5.3242188, 0.22131348, 6.0625, 7.640625, 8.796875, -1.6376953, -18.015625, 6.09375, -6.8398438, 2.3359375, -5.3007812, 3.640625, -5.8867188, -0.06555176, 4.0742188, -6.078125, 1.2099609, -0.10491943, -3.2714844, -0.060638428, -7.1796875, -6.6835938, -5.0742188, -15.21875, -8.7890625, -0.3894043, 5.9335938, 3.40625, 1.1162109, -2.4140625, 10.859375, 8.8046875, -3.8847656, -3.7207031, -3.6816406, 4.4023438, -3.3300781, -2.1953125, 4.4140625, 0.05291748, -0.42138672, 0.78515625, 3.3964844, 2.8535156, -4.078125, 1.3837891, 0.83496094, -10.09375, -0.06890869, 7.3671875, 15.2578125, -7.0078125, 4.671875, -4.75, -4.984375, -0.5727539, -0.9760742, 6.2539062, -13.5703125, 11.4921875, -9.03125, -1.6162109, 4.2460938, 2.8828125, 3.8496094, -7.84375, 17.421875, -5.734375, -0.69140625, 3.3183594, 2.5488281, 4.6914062, -3.1992188, -4.6953125, -3.1328125, 0.5517578, -5.1679688, -2.4960938, 0.57373047, 0.7558594, -5.5898438, -2.0410156, 3.1464844, 8.515625, -3.3554688, -0.19714355, 6.5195312, 3.0058594, 11.0625, -1.6416016, -5.5820312, 6.28125, 6.5507812, 1.2128906, -4.2304688, -1.0517578, 0.84765625, 11.78125, 15.5703125, 5.2382812, -2.7324219, 6.3632812, 2.7109375, 3.0839844, -1.828125, -3.1464844, -2.0507812, 0.33032227, -2.6679688, 8.0546875, 5.9648438, 4.4960938, 1.5917969, -2.1347656, 1.4384766, 2.8164062, -1.1630859, 0.23022461, 4.4023438, -4.1523438, 1.5087891, 1.3203125, -6.2265625, -11.8828125, -3.0742188, 4.5820312, -6.4570312, 6.5898438, 0.33081055, 2.9414062, -13.1953125, -0.24682617, 6.0546875, 6.6796875, -0.7451172, -10.109375, -1.3886719, -1.0302734, 10.796875, 4.7539062, -2.7910156, 14.5625, -0.12866211, 13.3125, -4.171875, 1.8632812, 3.4472656, 2.8886719, 5.0507812, 4.3554688, 15.515625, -1.2294922, 0.87646484, -7.8632812, -2.5292969, 10.9140625, 0.17480469, 9.8203125, -6.4492188, 10.390625, 2.8027344, -0.26391602, 4, 3.9960938, -1.171875, -0.58447266, -0.3984375, -6.9570312, -7.5546875, -3.5996094, 2.2441406, 1.4960938, 0.09442139, -2.9902344, -6.015625, 1.6494141, -5.984375, 5.5234375, -0.8935547, 5.7773438, -1.8144531, -1.6220703, 6.59375, 5.6835938, -0.984375, 1.8125, -0.98876953, 4.7851562, 4.5429688, -3.4082031, -3.7460938, 0.19421387, -5.5742188, 0.7192383, 4.5195312, -6.9140625, -3.671875, 5.09375, 1.4414062, -1.8095703, 1.7451172, 1.0351562, 3.0273438, -7.953125, 2.1777344, 0.85253906, -8.6328125, 3.3066406, 1.7539062, 1.3896484, 5.8476562, 3.46875, 3.6171875, 1.1572266, -2.3730469, -3.1953125, 4.2929688, -7.25, 0.67041016, -3.4628906, 0.28198242, -2.0839844, 5.8710938, 6.7851562, 3.1191406, -3.59375, 1.1601562, 7.0429688, -0.73779297, -5.8359375, -2.0917969, 8.5078125, 0.08660889, -2.6015625, 5.0429688, 4.0195312, 3.8886719, 6.3632812, 2.8085938, -3.4882812, -9.2578125, -3.1035156, -8.1796875, 1.4716797, -9.7265625, -4.8398438, 1.4179688, 0.6220703, -9.078125, -12.140625, -2.2324219, 7.3398438, 9.34375, 3.3496094, -5.890625, 7.4101562, -4.9179688, 0.31176758, -3.1894531, 0.6801758, 4.4648438, -4.6601562, 5.4179688, 0.87890625, 0.6279297, -2.296875, 2.0527344, 6.765625, -3.3671875, -1.2578125, -1.7988281, 3.2558594, 10.5, 0.51123047, -4.6484375, 5.1679688, -7.515625, 9.5546875, 5.0585938, 0.09454346, -7.65625, -3.1171875, 5.2304688, 5.8515625, 1.3886719, 4.0820312, 2.7148438, 3.5136719, 3.3535156, 3.0664062, -2.0429688, -6.859375, -5.8671875, -0.40161133, 7.859375, -2, -5.4375, -3.7148438, -3.3710938, 1.2324219, 4.9375, -1.1005859, -3.3554688, -3.6152344, 0.20654297, 2.0859375, 0.21203613, 5.5898438, -3.6191406, 0.39135742, 5.1875, -2.4824219, 2.4980469, -6.40625, -16.953125, 1.0703125, -8.9609375, -3.1035156, -17.859375, 9.2890625, 0.33618164, 0.88378906, 3.6113281, 6.9726562, 4.8320312, -5.15625, -2.2910156, -0.22937012, -0.9121094, -9.1640625, 0.14624023, -7.9765625, 4.328125, -1.3251953, 5.2109375, -3.6523438, 2.8535156, -0.5727539, -5.2695312, 2.4824219, -2.2929688, -8.296875, 3.4746094, 4.5859375, 3.3613281, -2.0703125, 2.2558594, 12.5703125, -6.5039062, 2.8554688, -3.7695312, 5.8671875, 7.1835938, 6.2929688, -5.609375, 4.1445312, -0.036315918, -10.3046875, -2.6503906, 7.078125, -7.0976562, 6.6914062, -1.1513672, 1.3408203, -38.4375, -6.0390625, 1.2246094, -3.734375, 12.46875, -1.2226562, 3.8632812, 3.9882812, 4.9296875, 3.2949219, 0.84814453, -0.72216797, 7.7539062, 9.3046875, -2.8925781, 0.43164062, 7.3984375, 1.5810547, -1.7617188, -14.8203125, -4.6679688, -0.8574219, 9.4453125, 1.3251953, -2.140625, -7.0390625, 4.6367188, 3.7597656, 4.6445312, 0.22668457, -2.3261719, 14.7109375, -2.3828125, -2.5117188, -8.875, -5.6523438, 1.3095703, 8.0234375, -0.97021484, 1.3974609, -1.7949219, 8.203125, 0.19238281, -4.1953125, 1.4296875, 6.28125, -2.3359375, -1.5771484, 2.3339844, -10.703125, 3.4550781, -24.84375, 3.3964844, -3.2714844, 9.03125, 5.9101562, 2.6679688, -3.6953125, -10.546875, 1.2460938, -3.0488281, 0.73095703, -3.3613281, -3.7519531, -2.1074219, -6.375, -4.9296875, -3.5703125, -2.6679688, -0.8486328, -13.046875, -2.6855469, -4.5820312, -2.8164062, -2.6816406, -5.1171875, -2.5996094, -9.3359375, 0.78808594, -16.359375, 1.0732422, 3.5, 5.125, -6.0390625, 0.31958008, 1.2636719, -10.2734375, -1.8310547, -3.3574219, 5.5429688, 20.375, 1.4326172, -2.8710938, 3.6894531, 5.71875, -3.0566406, 8.375, 3.1269531]\n",
            "[1.3828125, 1.6132812, 5.2460938, 14.140625, -2.09375, 1.0439453, -1.8945312, 2.140625, 4.8984375, 5.6640625, 0.7807617, 4.328125, 2.1308594, 7.7460938, -1.7841797, -1.7978516, 4.265625, 4.7539062, 6.4960938, 1.2880859, 5.1367188, -5.3554688, 13.1328125, -0.8310547, 7.6328125, 6.03125, 7.84375, 6.6328125, 0.5961914, -5.640625, -5.6367188, -10.4765625, 4.6953125, 7.2265625, 3.9667969, 8.1640625, 5.7109375, -0.89746094, -1.28125, 1.8173828, -3.7265625, -6.53125, 4.9570312, -3.1425781, -2.4121094, 0.43286133, -15.859375, -6.7773438, -8.0546875, -1.3554688, 1.8769531, -1.5869141, -1.5068359, 10.9609375, 4.96875, -10.125, 2.8769531, -0.98828125, -3.1464844, 1.9619141, 3.9023438, 1.9990234, 1.9648438, 0.13024902, -6.9726562, -0.5449219, -4.09375, -3.5390625, -4.8125, -3.2246094, 1.6582031, -2.4375, -3.7773438, -8.8125, -6.6835938, 2.9355469, 5.1523438, -0.9794922, -1.7216797, -5.7382812, -4.734375, -4.90625, 0.62939453, -10.5859375, -2.0917969, 1.4736328, -7.0703125, -3.21875, 5.8164062, -4.8242188, 6.8945312, 1.828125, -2.4121094, 1.0810547, 6.2851562, -7.25, 10.984375, 1.3212891, -0.92089844, 4.984375, 2.5039062, -1.5878906, -6, -9.4296875, 0.47973633, 7.0429688, 0.52978516, -5.2734375, -5.2539062, -3.5683594, 0.06524658, 1.3554688, 0.55371094, -1.9472656, 9.1484375, 4.3710938, -1.4003906, 9.7890625, -0.19836426, 11.140625, 2.4375, -0.8769531, 7.1953125, -3.0195312, 2.5585938, 1.6308594, -4.6445312, 4.5585938, 0.984375, 1.0380859, 1.1220703, 0.41088867, -2.8066406, -5.921875, -7.953125, 2.4804688, -3.2539062, 4.0234375, 14.4375, 0.1583252, 4.4257812, 7.4023438, -5.5625, -2.1308594, 0.5410156, 8.078125, -2.5820312, -3.515625, -0.37402344, -4.2578125, -0.91308594, -2.4082031, 4.5390625, 11.2890625, 2.0957031, -2.3964844, -2.1113281, 2.3867188, -3.046875, -5.7070312, -1.375, -1.0693359, -9.546875, 3.4296875, -1.3710938, -2.6992188, -10.9453125, 2.5117188, 3.0253906, -7.3203125, -10.1953125, 12.875, -10.3671875, 6.5546875, 1.4003906, -3.3242188, 4.5078125, -1.1494141, -7.5390625, 8.9375, 4.6015625, -1.7373047, 0.5527344, 2.9003906, 10.5703125, -7.6289062, 10.9453125, -1.0966797, -2.8535156, -0.8930664, 3.3632812, -5.2148438, 6.3085938, 6.5703125, 1.0390625, 3.0058594, 5.59375, -2.6269531, -6.453125, -1.2753906, 9.6875, 0.3930664, 1.9091797, 9.1640625, -0.22314453, 6.828125, 4.4648438, 3.1035156, -0.2376709, 3.59375, 13.2421875, -9.2265625, 3.1367188, -1.7197266, 6.0898438, 2.8125, -7.3515625, -13.859375, 5.4179688, 6.4765625, 2.4394531, -2.0585938, -6.6484375, -2.8261719, 1.0595703, -8.234375, -3.4882812, -2.3066406, -3.8847656, 6.4179688, 10.5078125, -2.4824219, -0.7236328, 6.0039062, 3.8632812, 0.8413086, -2.2792969, 9.359375, 1.7705078, -0.074157715, -3.5917969, -1.8095703, -3.6699219, 6.7695312, -9.921875, -6.9765625, 4.9882812, -2.7441406, -0.26391602, 8.1484375, 0.5058594, -4.2617188, 7.3203125, -8.015625, 0.5102539, 4.5507812, -10.28125, 2.46875, 9.984375, 2.8925781, -0.52978516, 5.6757812, -0.3671875, -5.703125, -1.4023438, -0.06237793, -4.7460938, 5.0507812, 3.0820312, 2.8085938, 1.3378906, 0.5395508, -0.9326172, 3.8710938, 1.9160156, -3.7011719, 4.2265625, -7.3085938, -7.5898438, 7.5742188, 0.62939453, 10.078125, -1.6650391, -4.5429688, 5.0390625, -2.2167969, 4.09375, -1.2119141, -6.7539062, 7.6445312, 5.65625, -3.8164062, 1.9169922, -34.59375, 2.9785156, -0.8676758, 8.453125, -1.21875, 0.80566406, -1.7041016, 5.4921875, 8.6875, -2.2910156, -4.4453125, -1.0517578, 3.6875, 2.8691406, 3.734375, 12.765625, -8.046875, -7.2460938, 2.8652344, -4.6875, -0.021453857, 2.0371094, -3.4726562, -4.0585938, -6.5585938, -7.8242188, -0.1451416, 7.4726562, 1.2197266, 11.3046875, 16.578125, -9.4375, -0.53759766, 5.171875, -2.8496094, 3.171875, 4.2382812, -4.21875, 4.2148438, 4.5859375, -6.2929688, -10.9453125, 3.9121094, 1.7675781, 1.2998047, -0.7104492, -5.3164062, -1.3476562, 3.2558594, 4.1328125, 5.2695312, -4.1289062, -8.796875, 2.2480469, -12.7109375, 5.3828125, 8.21875, -7.7578125, 2.8242188, 5.0546875, 4.84375, 5.5390625, 1.6416016, -1.3984375, -4.8945312, 4.8046875, 1.1005859, 7.4296875, -5.9179688, 9.0546875, 9.2734375, 0.38085938, 5.4960938, -4.0507812, -5.796875, -7.0429688, -4.2421875, -7.4804688, 3.0722656, -5.1289062, -1.3974609, -3.7675781, 4.65625, -4.0195312, 7.15625, -13.1640625, -0.71875, 13.8984375, -2.71875, -2.2070312, -5.703125, 1.1855469, -4.21875, 4.2382812, -5.265625, 4.3476562, 6.40625, 3.8925781, 9.296875, 6.9101562, -2.1992188, 2.7890625, 2.5546875, -0.60791016, 2.9042969, -0.49291992, -6.4570312, -4.03125, -11.8046875, -5.0664062, 6.640625, 0.6933594, 5.5429688, -16.3125, -6.96875, 8.9375, 4.6484375, 1.7851562, -3.7460938, 4.9414062, -9.2578125, -4.5273438, -3.4179688, 5.5625, -9.609375, 0.5336914, -3.5175781, -9.984375, -0.64501953, 2.953125, 5.828125, 8.90625, -3.9726562, -2.484375, -7.4453125, -1.8339844, -2.1367188, -12.1015625, -3.7460938, -0.10064697, 7.640625, -1.484375, -8.9921875, 4.9335938, 6.4414062, 10.203125, 2.4296875, 6.5, 10.1796875, 3.1503906, -4.90625, 0.10827637, -2.3769531, -5.5, 9.734375, 2.4648438, 5.3359375, 0.4494629, -1.8193359, 3.4960938, -0.28955078, 8.7421875, -3.375, 4.4296875, -0.59228516, 4.6640625, -13.21875, -1.1230469, 1.4121094, -6.171875, -2.6230469, -14.5625, -1.1113281, 4.1835938, -1.7470703, -6.2695312, -4.328125, 8.7734375, 10.03125, 0.8540039, 3.9082031, 4.4765625, -0.89941406, 5.109375, -8.4296875, 4.328125, 11.484375, -2.84375, 5.125, -1.3710938, 0.11859131, -0.82128906, -9.890625, -7.1875, -1.1210938, -3.3027344, -1.3330078, -0.75634766, -8.5859375, -4.4296875, -0.6503906, 9.3203125, -7.2890625, 2.6796875, 3.0625, 2.1367188, -13.828125, 1.0683594, -13.640625, 0.7163086, 4.2460938, -7.9375, 1.5546875, -4.1171875, 3.5019531, 7.703125, -6.625, 2.7578125, 5.828125, 1.9824219, 5.5976562, 0.92578125, -2.6171875, -0.43823242, 2.1855469, 3.5605469, 0.7915039, 7.4257812, -1.1074219, -1.6191406, -2.0039062, -0.85546875, -0.19396973, 2.9941406, -3.1601562, 6.6523438, -3.8339844, -10.1875, 5.2890625, 1.7314453, 3.6777344, -4.8632812, -9.453125, 6.4023438, 0.8833008, 7.5117188, -2.5214844, 8.9453125, -5.6796875, 1.1455078, -4.4765625, 3.3457031, 0.75634766, 1.5859375, -4.4804688, 1.0527344, -5.3671875, -4.9023438, -0.6982422, 1.0273438, -4.1210938, 1.3261719, -0.47631836, 8.53125, -1.6240234, 12.1484375, -1.5224609, 2.7792969, -15.53125, -1.828125, -5.2539062, 5.09375, 3.578125, 5.8867188, 2.3457031, -17.109375, 4.9453125, -12.3359375, 3.6347656, -4.7421875, 0.7441406, -8.3671875, -6.2695312, 3.4101562, -8.578125, -0.22460938, -2.1425781, -3.0742188, 6.4726562, -0.77001953, -5.15625, -4.1835938, -2.8125, -1.96875, -2.78125, 8.8359375, 6.4296875, -0.4663086, 2.4726562, 5.046875, 6.6171875, -6.1796875, 1.7939453, -2.5097656, 2.078125, -3.4863281, -2.2597656, 3.3515625, -2.5644531, -1.9345703, 2.8261719, 4.1953125, -0.014076233, -9.265625, 0.87353516, -1.7382812, -5.4921875, -4.7539062, 8.6875, 4.3828125, -5.484375, 5.9335938, -5.359375, -5.5664062, 2.8105469, -5.3828125, 6.0820312, -9.0546875, 4.4648438, -8.1015625, 0.6435547, 3.1777344, 3.2324219, -1.0898438, -1.4902344, 10.8671875, -8.6796875, 1.0625, -0.8720703, 3.5976562, 8.359375, 0.6557617, -1.7158203, -1.4316406, -4.265625, -5.5585938, 2.1425781, 3.4863281, 0.15783691, 0.40942383, -1.0703125, 4.8164062, 7.6523438, -6.8515625, 3.4765625, 1.0078125, 5.7382812, 4.4179688, 5.0429688, -5.9414062, 8.21875, 5, 1.5800781, -6.7265625, -6.1289062, 5.9960938, 5.5664062, 13.671875, 1.7421875, 3.328125, 4.7929688, -2.5292969, 3.0664062, -4.2851562, 1.8261719, -3.2304688, -0.6459961, -4.1523438, 6.8242188, 6.0273438, -0.3076172, 0.89941406, -4.9921875, 3.4453125, 1.1679688, -4.5546875, 9.234375, 4.2539062, -2.0488281, -2.1054688, 3.0566406, -4.9960938, -14.0703125, 0.15527344, 4.3046875, -4.5390625, 3.28125, 0.7548828, 4.6445312, -15.2109375, -3.4394531, 1.5341797, -2.0078125, 9.0703125, -3.5214844, -0.17419434, -4.4765625, 3.3066406, 4.1367188, 3.4355469, 17.65625, -3.4628906, 7.140625, -0.6274414, -4.9257812, 7.96875, 1.2802734, 6.8554688, 2.5859375, 9.765625, 7.9453125, 0.6533203, -2.9667969, 2.0078125, 6.2695312, 0.7167969, 6.3632812, -8.2734375, 15.4765625, 3.9121094, -8.2265625, 0.5625, 2.5292969, 3.9355469, 0.6503906, -2.1738281, -9.4609375, -7.9335938, -8.984375, 2.1210938, 0.38256836, -3.7128906, -0.36645508, -3.640625, 3.1914062, -10.359375, 3.0957031, -2.5039062, 4.8242188, 2.625, -1.1640625, 1.0351562, 0.8076172, -5.5664062, 1.0351562, -0.62841797, 4.7851562, 9.59375, -2.4023438, 1.2285156, 4.4609375, -2.3164062, 0.37426758, -0.2298584, -6.9453125, -9.4140625, 12.6171875, 2.5976562, -3.2714844, -0.27734375, -3.8164062, 0.3786621, -4.1445312, 5.4296875, 2.9785156, -4.8984375, 6.0898438, 0.99316406, 0.3930664, 2.7714844, 8.125, 7.3828125, -4.421875, -4.1445312, -5.4140625, 6.953125, -4.015625, -1.8095703, 0.5214844, 5.1210938, -1.6855469, 4.7578125, 0.5551758, 8.1640625, 4.2578125, -0.14245605, 7.8984375, -6.2695312, -6.9609375, 2.4433594, 5.8085938, 4.8554688, -5.4140625, 8.6953125, 3.8847656, 0.24804688, 4.0742188, 0.7338867, -2.5039062, -9.0078125, 5.8515625, 0.61865234, 5.3515625, -16.421875, -10.265625, 2.4785156, -0.3984375, -4.4023438, -10.28125, -3.7792969, -3.1367188, 13.34375, 2.1289062, -2.2226562, 2.5507812, -3.6269531, -2.2929688, -3.1835938, 4.3867188, 9.7265625, -1.5498047, 6.6796875, -2.046875, -1.0341797, -1.4013672, 5.484375, 5.5859375, -2.1113281, -1.1152344, -4.9492188, -2.3984375, 2.9667969, 7.3320312, -2.3007812, 1.5185547, 0.041259766, 4.3867188, 8.8671875, -1.609375, -6.3632812, -3.1328125, 2.4101562, 5.8828125, -1.2880859, 2.375, 2.3867188, 2.3984375, 3.8671875, 1.3125, -4.6796875, 0.21569824, 0.5341797, -3.6953125, 5.578125, 2.1992188, -7.3632812, -11.34375, -1.5068359, 1.8574219, 2.0390625, -5.046875, 1.3808594, -4.625, -2.9355469, 1.6542969, 5.2695312, 0.39208984, -3.4667969, 2.9667969, 10.09375, -6.578125, -2.4199219, -3.125, -7.5117188, 0.5878906, -8.328125, -1.234375, -13.2734375, 1.6269531, -0.16101074, -0.60791016, 3.3515625, 2.4121094, 6.0585938, -8.15625, 2.0585938, 6.671875, 3.1230469, -5.1132812, 2.3964844, -9.796875, 3.1035156, 0.7783203, 11.1328125, -1.625, 1.703125, 0.8071289, 2.2949219, -0.01524353, -7.3515625, -9.5625, 6.6054688, -5.0195312, 7.8515625, -8.203125, 6.8125, 9.84375, 2.1445312, 1.5146484, -0.32202148, 1.6523438, 0.9746094, -0.8535156, -2.9394531, 1.9931641, 0.7753906, -14.9375, -0.78808594, 3.1015625, -1.6708984, 7.3203125, 2.8574219, 2.5019531, -44.46875, -8.6953125, 0.5908203, -4.21875, 6.2539062, 7.625, 1.5205078, 1.8164062, 6.71875, 3.1152344, 3.6835938, 3.1230469, 7.0625, 4.6835938, -2.1445312, 0.23376465, 9.8671875, 0.21057129, 0.13464355, -10.125, -1.5429688, 2.6914062, 9.25, 4.421875, -5.5429688, -7.4335938, 1.3574219, 4.1640625, 2.9316406, 6.7578125, -9.921875, 19.359375, -2.3847656, 2.6308594, -1.2646484, -4.796875, -3.3066406, 8.8515625, -3.7148438, -0.5991211, -4.328125, 7.5078125, -1.0390625, -2.8613281, -1.5664062, 4.8320312, -2.0683594, 1.2060547, 0.47070312, -7.0859375, 8.8046875, -25.296875, -1.4033203, -5.734375, 10.5078125, 8.3203125, 0.12548828, -6.9960938, -6.8203125, 0.9145508, -0.4975586, -1.2519531, 1.9511719, -5.8945312, -6.015625, -7.6171875, -9.3828125, -1.8916016, -3.0839844, -5.1835938, -10.546875, -4.984375, -6.8046875, -5.5742188, -7.9804688, -3.4863281, -4.53125, 4.2773438, -0.9399414, -12.6796875, 6.1523438, -1.0654297, 3.6835938, -8.6171875, 5.4335938, 0.53271484, -2.6425781, -1.0537109, -0.7734375, 2.078125, 20.78125, 1.4238281, -2.9140625, 2.5800781, 0.9848633, 0.91748047, 6.8359375, -3.9921875]\n",
            "[-5.2109375, 2.7558594, 3.2324219, 13.953125, 1.7373047, -3.0410156, -4.1171875, 2.6308594, 3.2597656, 7.1992188, 2.1484375, -0.7680664, 5.609375, -0.26220703, -4.7578125, -6.5546875, 2.3222656, 2.078125, 1.4248047, 6.4179688, 6.5117188, -2.6132812, 2.1660156, 0.3642578, 10.953125, 10.421875, 2.2246094, 9.09375, 0.5732422, -7.7695312, -1.2841797, -6.3828125, 3.78125, 7.96875, 2.3730469, 4.3789062, 1.9208984, -2.8574219, -4.8789062, -5.4882812, -4.7460938, 0.70458984, 6.6054688, -2.2929688, 3.2265625, 2.1855469, -10.1796875, -2.1171875, -6.0234375, 2.2675781, 1.2597656, 2.875, -2.4082031, 7.3085938, 1.6972656, -7.6679688, 5.828125, -5.1835938, -8.453125, 5.2265625, -2.9375, 3.1269531, 1.9716797, 2.4414062, -8.7109375, 1.1044922, -1.8886719, -3.4101562, 1.3261719, -1.8261719, 2.8085938, 2.9511719, -0.39892578, -4.7382812, -10.640625, 2.3398438, 3.7617188, 2.6230469, -3.4316406, -2.5878906, -3.1171875, -0.1439209, 0.22631836, -7.40625, -0.046203613, 2.3007812, -5.0507812, -1.5888672, -1.828125, -3.7832031, 6.890625, -2.4277344, -0.5151367, -0.8359375, 0.44311523, -5.0664062, 6.4140625, -3.5351562, -4.6445312, 9.5703125, 1.9384766, -1.9365234, -7.1914062, -9.625, 3.0957031, 6.3984375, -1.0302734, -6.9101562, -6.6640625, -3.0488281, -4.3085938, 1.0693359, 4.8046875, -8.5078125, 12.265625, 1.3125, 1.15625, 9.25, 1.6171875, 12.7265625, 4.4804688, -4.59375, 3.0371094, 0.13537598, 1.1123047, -1.5722656, -6.9414062, 4.8828125, -6.1367188, -2.4882812, 3.8554688, -0.12597656, -3.3007812, -3.4921875, -1.5410156, 2.9179688, -1.0058594, 5.3359375, 12.9609375, -1.9501953, -2.9316406, 2.6113281, -3.6152344, -1.03125, 4.1796875, 7.4609375, -4.5976562, 3.1953125, -1.2607422, -5.7617188, 2.0839844, -4.4609375, 0.7211914, 5.765625, 5.3671875, 4.5546875, -2.6503906, 1.3623047, 0.48291016, -7.0039062, 3.421875, 2.3515625, -8, 4.6289062, -0.46704102, 0.29711914, -19.328125, 9.71875, 2.1171875, -6.9921875, -7.6914062, 6.0742188, -0.84228516, 3.0664062, -2.0742188, -3.5214844, -1.7763672, -2.9375, -2.5078125, 4.4023438, 4.1132812, -1.1640625, -1.0244141, 3.7460938, 9.2109375, -5.8398438, 10.890625, 0.1239624, -0.81591797, 2.6152344, 3.6210938, -1.9423828, 4.9921875, 6.9921875, -1.2568359, 1.5009766, 3.0058594, -7.4804688, -3.8046875, -4.84375, 6.2695312, -0.38232422, -0.036132812, 1.8554688, 5.8007812, 3.5976562, -0.47802734, 1.7646484, -7.4179688, 3.9433594, 8.8203125, -9.7265625, -2.2832031, -0.030349731, 3.3808594, -5.6210938, -3.6835938, -12.046875, 1.1230469, 5.578125, -3.8574219, -2.0664062, 3.4277344, -3.5957031, 0.9296875, -9.2578125, -1.7373047, 1.5087891, -2.6796875, 5.2226562, 15.4140625, -1.8173828, 1.6845703, 2.4921875, 5.1328125, 4.4453125, 5.75, 6.3671875, 2.4804688, 0.27197266, -5.6015625, -3.1269531, -5.1757812, 14.109375, -7.9296875, -4.265625, 7.9296875, -5.0117188, -0.76953125, 7.2226562, 3.9589844, -2.4550781, 4.5507812, -1.6210938, 1.0488281, 10.1953125, -10.0703125, 5.7304688, 3.6269531, 3.4804688, -1.2294922, 5.5195312, -0.50878906, -3.4648438, -4.1875, -4.5390625, -8.0390625, 5.2304688, -0.2475586, 3.9023438, 1.0888672, 0.9248047, 1.0029297, 1.2734375, -2.2792969, 0.80615234, 6.6835938, -6.828125, -2.9199219, 4.1640625, 0.97021484, 5.265625, 0.19189453, -6.953125, 2.0527344, 4.1953125, 7.359375, -3.7402344, -2.71875, 3.2089844, 6.6015625, -4.2421875, -1.7539062, -31.765625, 5.3085938, -0.72558594, 9.5390625, -0.5029297, -3.3769531, -1.7607422, 2.1308594, 12.625, -1.4121094, -0.17602539, 4.0585938, 7.296875, 3.125, 4.1210938, 8.8671875, -1.6503906, -12.8125, 2.1699219, -11.0703125, -0.90283203, -0.9609375, -4.2851562, -7.5117188, -10.453125, -3.7324219, -0.011360168, 2.578125, -3.6152344, 7.7460938, 13.9140625, -8.5078125, 1.6230469, 7.4414062, -4.4453125, 2.2441406, 6.4921875, -3.2714844, 7.1054688, 11.625, -6.5195312, -7.34375, 1.2177734, 2.1171875, -2.8691406, 1.2851562, -9.96875, 0.8544922, 4.890625, 3.3554688, 7.5195312, -0.9667969, -2.984375, -2.015625, -12.7109375, 7.75, 5.75, -5.2617188, 1.9755859, 1.0058594, 4.75, 10.4609375, 2.4101562, -1.5302734, 1.6240234, 4.5976562, -0.9375, 4.6796875, 0.91845703, 11.234375, 10.2734375, -3.8496094, 6.578125, 0.29003906, 2.5917969, -4.9414062, 2.9140625, -13.578125, 3.0566406, -5.7773438, -4.28125, -7.015625, 8.7578125, -0.91845703, 7.0351562, -5.7617188, 3.8183594, 11.046875, 0.2388916, -12.3671875, -6.203125, -0.82470703, -0.7524414, 8.1640625, -5.8164062, 6.515625, 5.96875, 6.1171875, 3.8984375, 1.9072266, 3.1035156, 7.0625, 3.2128906, -2.8691406, 6.5625, 2.3222656, -9.7578125, -10.6796875, -12.8515625, -5.5742188, 6.5507812, 1.0263672, 3.2773438, -12.015625, -1.5263672, 6.4023438, 5.2265625, -1.3212891, -6.0664062, 6.375, -12.65625, -6.2265625, 1.6982422, 5.6289062, -6.2148438, -1.3154297, -7.2382812, -8.234375, -1.7070312, 6.3945312, 0.37890625, 9.84375, -2.0449219, -4.90625, -4.0898438, -2.921875, -6.3867188, -3.5234375, -2.8261719, 0.42871094, 3.59375, 3.2128906, -8.5, 1.6162109, 1.2177734, 7.2148438, -3.3886719, 8.015625, 12.5546875, 2.2207031, 1.8740234, 6.2226562, -0.12976074, -5.984375, 3.6640625, -0.28564453, 0.27368164, 6.3125, -0.33422852, 4.8085938, 4.7539062, 2.2988281, -5.0351562, 2.9941406, -4.8828125, 10.0546875, -11.5078125, -3.1933594, 5.9179688, -6.4609375, -1.3681641, -10.4140625, -4.5742188, 3.8320312, -5.265625, -0.02130127, -1.2695312, 6.9140625, 6.7382812, -0.031021118, 2.0253906, 9.296875, -2.0136719, 4.5195312, -2.3203125, 4.859375, 4.96875, -4.078125, 5.1601562, -1.2480469, -6.2539062, 1.6591797, -4.5664062, -5.4804688, 7.4101562, -2.8398438, 0.95947266, 2.3925781, -9.7265625, -0.8769531, -0.28955078, 6.7929688, -6.8046875, 0.6425781, 3.3613281, 6.6640625, -18.578125, -2.5957031, -13.5234375, 0.5551758, 6.6835938, 1.0126953, 4.7695312, -1.1591797, -0.17138672, 5.3632812, -2.5566406, 8, -0.6694336, -1.5097656, 6.9765625, -2.7929688, -0.22949219, -7.6992188, -1.3017578, 4.078125, 6.5703125, 4.203125, -0.34545898, -8.546875, 3.5996094, 0.94921875, -0.2548828, 5.6875, -3.9902344, 6.1835938, -9.8828125, -13.59375, 0.72558594, -2.6523438, 6.2539062, 0.10028076, -9.03125, 8.375, -5.4296875, -1.015625, 0.69873047, 14.6640625, -2.0117188, -5.3476562, -5.515625, 0.31811523, 3.3359375, 0.43115234, -8.3671875, -0.28881836, -3.21875, -4.5273438, 6.8085938, -5.1757812, -3.3828125, -0.52783203, -4.125, 6.4453125, -3.2226562, 13.7421875, -0.47460938, 5.0429688, -5.703125, -6.2617188, -4.5429688, 7.828125, 3.0605469, 7.1210938, -0.66308594, -16.171875, 7.6171875, -10.390625, 4.8554688, -5.765625, -3.1171875, -7.5859375, -5.3515625, 1.8291016, -7.9257812, 5.6054688, -1.3369141, -4.3984375, 6.9335938, -4.5039062, -11.015625, -2.6933594, -11.875, -0.59472656, -7.6289062, 4.8398438, 2.0839844, -3.7792969, -5.5078125, 3.2871094, 15.0390625, -6.8242188, 3.9746094, -1.5488281, 2.5898438, -0.390625, 2.6582031, 8.0703125, 5.4414062, 1.7314453, 4.8164062, 9.09375, -1.3310547, -8.8203125, 1.0927734, -3.8144531, -7.7148438, 2.71875, 9.734375, 8.3671875, -2.3007812, 3.859375, -0.3791504, -3.9335938, 8.5078125, -3.5917969, 2.0742188, -8.4609375, 6.9492188, -5.0546875, 2.6171875, 7.1914062, 4.6210938, -0.7714844, -2.0625, 15.640625, -11.328125, -1.4042969, 5.8515625, 4.5507812, 6.6875, -5.5859375, -6.734375, -9.9375, 1.4541016, -4.1953125, -0.5932617, 2.6914062, -3.6875, 2.0390625, 0.84521484, -0.37475586, 8.6484375, -5.7695312, 1.2285156, -3.4257812, 3.0566406, 11.7578125, 3.4433594, -5.2539062, 4.0742188, 6.65625, -0.22802734, -10.8515625, 1.6240234, 4.2109375, 8.171875, 19.53125, 0.057037354, 2.9394531, 4.5507812, -3.2460938, 0.5029297, -4.0429688, -1.1982422, -5.6757812, -0.36035156, -3.6328125, 5.8398438, 9.2109375, 0.062164307, 0.56152344, -9.5078125, -0.003036499, -1.5234375, 1.5898438, -0.57910156, 4.8671875, -0.3803711, -1.1318359, 4.1054688, -9.7890625, -12.34375, -1.8808594, 5.2851562, -4.375, 5.5429688, 6.34375, -0.08795166, -10.0859375, -2.7050781, 4.7265625, 5.5742188, 12.765625, -6.953125, -2.7714844, -4.9375, 8.5078125, 6.8632812, 0.13256836, 13.0546875, -2.9160156, 8.5625, -4.6210938, -0.8071289, 3.5703125, 1.1513672, 8.1328125, 5.5585938, 10.4609375, 2.4296875, -4.0429688, -2.0273438, 1.203125, 7.6523438, 2.5332031, 3.125, -10.7421875, 10.609375, 5.4179688, -2.5390625, 0.32421875, 3.8691406, 1.9140625, -5.21875, -4.1289062, -10.0625, -3.59375, -3.0351562, -1.5576172, -1.7822266, 0.49121094, -3.0488281, -4.8125, 2.5605469, -11.921875, 2.0019531, -3.2890625, 7.6523438, 3.4941406, -2.1386719, 3.7792969, 1.7011719, 0.06329346, -2.4472656, 0.8925781, 3.0546875, 6.203125, -1.8320312, -3.6777344, 3.2148438, -1.0859375, 1.7919922, 6.3125, -8.8203125, -9.265625, 5.5664062, 8.234375, -3.4140625, 3.578125, -1.5390625, 3.3105469, -4.0585938, 2.6601562, 1.5449219, -2.6113281, 6.9296875, -2.8457031, -0.072631836, 4.6210938, 5.171875, -0.8569336, 0.61376953, -4.5585938, -2.8632812, 6.2265625, -7.4882812, -0.97753906, 2.6914062, 0.7836914, -2.046875, -0.35986328, 5.2109375, 4.7617188, -1.0712891, 3.6621094, 7.4765625, -3.8144531, -5.5742188, 2.6679688, 6.9882812, 7.640625, -1.421875, 6.1132812, 7.8632812, 5.5585938, 2.8300781, -4.5273438, -4.5234375, -5.7265625, -5.203125, -8.640625, -1.1660156, -12.3671875, -6.375, -1.3964844, 1.0214844, -3.6992188, -7.5273438, 3.5546875, 0.048797607, 13.734375, -0.6010742, -3.5957031, 1.1123047, -2.2558594, -1.1074219, 0.3798828, 4.5273438, 4.2304688, -4.5898438, 1.1933594, -0.51416016, 4.09375, -2.2265625, 2.6035156, 5.3164062, -2.65625, -2.6953125, -1.4990234, 4.1992188, 9.1796875, 2.5039062, -2.5449219, 0.35791016, -5.0664062, 4.390625, 6.8984375, -5.5507812, -3.5917969, 0.97216797, 10.875, 6.7890625, -1.0605469, 2.7460938, 2.3164062, 3.1640625, 4.3242188, 4.2539062, -2.734375, -0.6489258, -0.86865234, 2.859375, 6.40625, -1.0644531, -2.0566406, -13.4140625, -2.0703125, 5.5, 4.140625, -0.8959961, -0.057891846, 3.1113281, -0.828125, 3.0625, 1.5058594, 3.0722656, -3.9550781, -1.0771484, 6.3046875, -4.5, 0.019485474, -6.3125, -16.25, -1.2109375, -5.90625, 1.4189453, -18.15625, 3.7734375, 0.56103516, -2.6445312, 5.703125, 5.6328125, 7.546875, -11.3203125, 0.9189453, 6.140625, -2.046875, -9.421875, 0.07849121, -4.0429688, 6.1679688, -2.2636719, -2.2675781, -5.8007812, -1.7294922, 4.8125, -0.63720703, 4.6992188, -4.6289062, -10.1640625, 4.8984375, -0.45336914, 5.640625, -5.2265625, 6.1523438, 8.546875, 2.5234375, 5.0820312, -0.13061523, -1.0078125, 4.5546875, -2.4980469, -14.1328125, 2.5644531, 0.47851562, -12.8046875, -1.6142578, 5.9804688, -4.2539062, 0.43432617, 1.3359375, -0.35498047, -41, -3.9765625, 5.96875, -2.5371094, 15.8828125, 5.8164062, -1.8525391, 1.0546875, 10.109375, 4.3789062, 1.5126953, 0.6484375, 6.6289062, 8.53125, -12.328125, 2.5742188, 12.296875, -2.9082031, -3.3496094, -11.859375, -0.9213867, 4.1757812, 3.6777344, 4.8476562, -2.1816406, -5.875, 2.7519531, 0.57714844, 8.8125, 5.6835938, -1.6416016, 11.9375, -3.7089844, 6.2070312, -2.6367188, -1.0087891, 0.1038208, 5.2304688, -0.6098633, -2.1191406, -3.1210938, 9.265625, 0.11645508, -10.2109375, -2.1660156, 1.2724609, -6.6210938, 0.15356445, 1.2734375, -9.3828125, 8.8984375, -24.578125, 6.3007812, -6.4453125, 9.03125, 8.4140625, 2.3964844, -6.0429688, -6.6640625, 3.3476562, -0.85546875, -3.9765625, -4.515625, -9.4921875, -2.1484375, -4.0625, -4.7070312, -9.4453125, -2.2519531, -2.3828125, -14.78125, -10.421875, -1.1494141, 2.7578125, -6, -6.8515625, -5.9609375, 3.2304688, -1.3173828, -10.2578125, 4.859375, -0.9633789, 3.7265625, -9.6796875, -0.46289062, -0.6899414, -5.5039062, 4.8476562, -4.234375, 4.1210938, 17.890625, 3.1367188, -3.6328125, 4.4726562, 7.4375, -1.1845703, 7.1445312, -2.8632812]\n"
          ]
        }
      ]
    },
    {
      "cell_type": "markdown",
      "metadata": {
        "id": "IlEsGjHMTeBv"
      },
      "source": [
        "# query the documents "
      ]
    },
    {
      "cell_type": "code",
      "metadata": {
        "colab": {
          "base_uri": "https://localhost:8080/"
        },
        "id": "PvNq4kjAQjxk",
        "outputId": "0440eae4-2678-4122-e29e-20d284f5a61a"
      },
      "source": [
        "txt = 'IPO venture issuer'\n",
        "results = embed(txt, type_data='query')\n",
        "response = results[\"data\"][0][\"activations\"]"
      ],
      "execution_count": null,
      "outputs": [
        {
          "output_type": "stream",
          "name": "stdout",
          "text": [
            "This is a query\n"
          ]
        }
      ]
    },
    {
      "cell_type": "code",
      "metadata": {
        "id": "2UMeerW2QkEL"
      },
      "source": [
        "def calculate_cosine_similarity(vec1, vec2):\n",
        "  return cosine_similarity([vec1],[vec2])  "
      ],
      "execution_count": null,
      "outputs": []
    },
    {
      "cell_type": "code",
      "metadata": {
        "id": "3nYiChlQQkGy"
      },
      "source": [
        "# create an empty dictionary\n",
        "semantic_results = {}\n",
        "\n",
        "for i in range(len(word_embed_values)):\n",
        "  st = 'doc_' + str(i)\n",
        "  res = calculate_cosine_similarity(response, word_embed_values[i])\n",
        "  semantic_results[st] = res"
      ],
      "execution_count": null,
      "outputs": []
    },
    {
      "cell_type": "code",
      "metadata": {
        "colab": {
          "base_uri": "https://localhost:8080/"
        },
        "id": "A1bPHJVkYXzN",
        "outputId": "dfee70e8-9bc0-4b04-c7b7-fe8963b5b8c9"
      },
      "source": [
        "semantic_results"
      ],
      "execution_count": null,
      "outputs": [
        {
          "output_type": "execute_result",
          "data": {
            "text/plain": [
              "{'doc_0': array([[0.32838594]]),\n",
              " 'doc_1': array([[0.40580551]]),\n",
              " 'doc_10': array([[0.23801798]]),\n",
              " 'doc_11': array([[0.26697274]]),\n",
              " 'doc_12': array([[0.24888566]]),\n",
              " 'doc_13': array([[0.39279149]]),\n",
              " 'doc_14': array([[0.25862095]]),\n",
              " 'doc_15': array([[0.28440699]]),\n",
              " 'doc_16': array([[0.30150576]]),\n",
              " 'doc_17': array([[0.29983481]]),\n",
              " 'doc_18': array([[0.30127175]]),\n",
              " 'doc_19': array([[0.33466277]]),\n",
              " 'doc_2': array([[0.36241187]]),\n",
              " 'doc_20': array([[0.3143425]]),\n",
              " 'doc_21': array([[0.31924675]]),\n",
              " 'doc_22': array([[0.29978424]]),\n",
              " 'doc_23': array([[0.29326355]]),\n",
              " 'doc_24': array([[0.29394689]]),\n",
              " 'doc_25': array([[0.28182429]]),\n",
              " 'doc_26': array([[0.30665565]]),\n",
              " 'doc_27': array([[0.28523389]]),\n",
              " 'doc_3': array([[0.31509842]]),\n",
              " 'doc_4': array([[0.31673168]]),\n",
              " 'doc_5': array([[0.29682449]]),\n",
              " 'doc_6': array([[0.32205762]]),\n",
              " 'doc_7': array([[0.30862633]]),\n",
              " 'doc_8': array([[0.31917253]]),\n",
              " 'doc_9': array([[0.29118139]])}"
            ]
          },
          "metadata": {},
          "execution_count": 297
        }
      ]
    },
    {
      "cell_type": "code",
      "metadata": {
        "colab": {
          "base_uri": "https://localhost:8080/"
        },
        "id": "SWmseIIDZDDS",
        "outputId": "3d4e1127-d0fb-475e-f244-ef2354737179"
      },
      "source": [
        "# sorts the document and displays the results\n",
        "sort_orders = sorted(semantic_results.items(), key=lambda x: x[1], reverse=True)\n",
        "for i in sort_orders:\n",
        "  print('doc id : ', i[0])\n",
        "  print('semantic_score : ', i[1])\n",
        "  print(document_dictionary.get(i[0]))\n",
        "  print('=============================')\n",
        "  "
      ],
      "execution_count": null,
      "outputs": [
        {
          "output_type": "stream",
          "name": "stdout",
          "text": [
            "doc id :  doc_1\n",
            "semantic_score :  [[0.40580551]]\n",
            "('10597', 'In this Instrument: IPO venture issuer means an issuer that (a) files a long form prospectus, (b) is not a reporting issuer in any jurisdiction immediately before the date of the final long form prospectus, and (c) at the date of the long form prospectus, does not have any of its securities listed or quoted, has not applied to list or quote any of its securities, and does not intend to apply to list or quote any of its securities, on (i) the Toronto Stock Exchange, (i.1) Aequitas NEO Exchange Inc., (ii) a U.S. marketplace, or (iii) a marketplace outside of Canada and the United States of America, other than the Alternative Investment Market of the London Stock Exchange or the PLUS markets operated by PLUS Markets Group plc; IPO venture issuer')\n",
            "=============================\n",
            "doc id :  doc_13\n",
            "semantic_score :  [[0.39279149]]\n",
            "('10951', 'Lexata note: venture issuer is defined in s.1.1 of NI 41-101, s.1.1 ofÂ\\xa0 NI 52-107, s. 1.1 of NI 52-109, and s.1.1 of NI 51-102. venture issuer')\n",
            "=============================\n",
            "doc id :  doc_2\n",
            "semantic_score :  [[0.36241187]]\n",
            "('10598', \"In this Instrument: junior issuer means an issuer (a) that files a preliminary prospectus, (b) that is not a reporting issuer in any jurisdiction, (c) whose total consolidated assets as at the date of the most recent statement of financial position of the issuer included in the preliminary prospectus are less than $10,000,000, (d) whose consolidated revenue as shown in the most recent annual statement of comprehensive income of the issuer included in the preliminary prospectus is less than $10,000,000, and (e) whose equity as at the date of the most recent statement of financial position of the issuer included in the preliminary prospectus is less than $10,000,000, taking into account all adjustments to asset, revenue and equity calculations necessary to reflect each significant proposed acquisition of a business or related business by an issuer that has progressed to a state where a reasonable person would believe that the likelihood of the issuer completing the acquisition is high, and each completed significant acquisition of a business or related business that was completed, (f) for paragraphs (c) and (e), before the date of the preliminary prospectus and after the date of the issuer™s most recent statement of financial position included in the preliminary prospectus as if each acquisition had taken place as at the date of the issuer's most recent statement of financial position included in the preliminary prospectus, and (g) for paragraph (d), after the last day of the most recent annual statement of comprehensive income of the issuer included in the preliminary prospectus as if each acquisition had taken place at the beginning of the issuer™s most recently completed financial year for which a statement of comprehensive income is included in the preliminary prospectus; junior issuer\")\n",
            "=============================\n",
            "doc id :  doc_19\n",
            "semantic_score :  [[0.33466277]]\n",
            "('11178', 'In this instrument...subsidiary means an issuer that is controlled directly or indirectly by another issuer and includes a subsidiary of that subsidiary; subsidiary')\n",
            "=============================\n",
            "doc id :  doc_0\n",
            "semantic_score :  [[0.32838594]]\n",
            "('10595', '(1) In this Instrument: reverse takeover acquirer means the legal subsidiary in a reverse takeover; reverse takeover acquirer')\n",
            "=============================\n",
            "doc id :  doc_6\n",
            "semantic_score :  [[0.32205762]]\n",
            "('10617', 'private mutual fund defined in the Ontario Securities Act; private mutual fund defined in NI 62-103; private mutual fund')\n",
            "=============================\n",
            "doc id :  doc_21\n",
            "semantic_score :  [[0.31924675]]\n",
            "('11567', \"capital management measure means a financial measure disclosed by an issuer that (a) is intended to enable an individual to evaluate an entity's objectives, policies and processes for managing the entity's capital, (b) is not a component of a line item disclosed in the primary financial statements of the entity, (c) is disclosed in the notes to the financial statements of the entity, and (d) is not disclosed in the primary financial statements of the entity; capital management measure\")\n",
            "=============================\n",
            "doc id :  doc_8\n",
            "semantic_score :  [[0.31917253]]\n",
            "('10621', 'Lexata note: the term publicly accountable enterprise is not defined directly in securities laws; instead, its meaning comes from the Handbook,Â\\xa0as cross-referenced in NI 81-106 and NI 52-107 (and in NI 51-102 and NI 41-101 by further cross-references to NI 52-107). publicly accountable enterprise')\n",
            "=============================\n",
            "doc id :  doc_4\n",
            "semantic_score :  [[0.31673168]]\n",
            "('10600', 'In this Instrument: short form prospectus means a prospectus filed in the form of Form 44-101F1; short form prospectus')\n",
            "=============================\n",
            "doc id :  doc_3\n",
            "semantic_score :  [[0.31509842]]\n",
            "('10599', 'In this Instrument: long form prospectus means a prospectus filed in the form of Form 41-101F1, Form 41-101F2 or Form 41-101F3; long form prospectus')\n",
            "=============================\n",
            "doc id :  doc_20\n",
            "semantic_score :  [[0.3143425]]\n",
            "('11179', 'In this instrument... take-over bid means an offer to acquire outstanding voting securities or equity securities of a class made to one or more persons, any of whom is in the local jurisdiction or whose last address as shown on the books of the offeree issuer is in the local jurisdiction, where the securities subject to the offer to acquire, together with the offeror™s securities, constitute in the aggregate 20% or more of the outstanding securities of that class of securities at the date of the offer to acquire but does not include an offer to acquire if the offer to acquire is a step in an amalgamation, merger, reorganization or arrangement that requires approval in a vote of security holders. Lexata note:Â\\xa0 Section 1.1(3) of NI 62-104 states as follows: In the definition of take-over bid in the Act, the prescribed class of take-over bids is that set out in the definition of take-over bid in this Instrument.Â\\xa0 In turn, the definition of take-over bid in s. 1(1) of the Ontario Securities Act is as follows: take-over bid means a direct or indirect offer to acquire a security that is, (a) made by a person or company other than the issuer of the security; and (b) within a prescribed class of offers to acquire. take-over bid')\n",
            "=============================\n",
            "doc id :  doc_7\n",
            "semantic_score :  [[0.30862633]]\n",
            "('10618', 'quarterly portfolio disclosure means the disclosure prepared in accordance with Part 6; quarterly portfolio disclosure')\n",
            "=============================\n",
            "doc id :  doc_26\n",
            "semantic_score :  [[0.30665565]]\n",
            "('11575', 'registered firm has the meaning ascribed to it in National Instrument 31-103 Registration Requirements, Exemptions and Ongoing Registrant Obligations; registered firm')\n",
            "=============================\n",
            "doc id :  doc_16\n",
            "semantic_score :  [[0.30150576]]\n",
            "('11171', 'trade or trading includes, (a) any sale or disposition of a security for valuable consideration, whether the terms of payment be on margin, instalment or otherwise, but does not include a purchase of a security or, except as provided in clause (d), a transfer, pledge or encumbrance of securities for the purpose of giving collateral for a debt made in good faith, (b) any participation as a trader in any transaction in a security through the facilities of any exchange or quotation and trade reporting system, (b.1) entering into a derivative or making a material amendment to, terminating, assigning, selling or otherwise acquiring or disposing of a derivative, or (b.2) a novation of a derivative, other than a novation with a clearing agency, (c) any receipt by a registrant of an order to buy or sell a security, (d) any transfer, pledge or encumbrancing of securities of an issuer from the holdings of any person or company or combination of persons or companies described in clause (c) of the definition of distribution for the purpose of giving collateral for a debt made in good faith, and (e) any act, advertisement, solicitation, conduct or negotiation directly or indirectly in furtherance of any of the foregoing; trade')\n",
            "=============================\n",
            "doc id :  doc_18\n",
            "semantic_score :  [[0.30127175]]\n",
            "('11177', 'In this instrument...offer to acquire means (a) an offer to purchase, or a solicitation of an offer to sell, securities, (b) an acceptance of an offer to sell securities, whether or not the offer has been solicited, or (c) any combination of the above; offer to acquire')\n",
            "=============================\n",
            "doc id :  doc_17\n",
            "semantic_score :  [[0.29983481]]\n",
            "('11172', 'trade or trading includes, (a) any sale or disposition of a security for valuable consideration, whether the terms of payment be on margin, instalment or otherwise, but does not include a purchase of a security or, except as provided in clause (d), a transfer, pledge or encumbrance of securities for the purpose of giving collateral for a debt made in good faith, (b) any participation as a trader in any transaction in a security through the facilities of any exchange or quotation and trade reporting system, (b.1) entering into a derivative or making a material amendment to, terminating, assigning, selling or otherwise acquiring or disposing of a derivative, or (b.2) a novation of a derivative, other than a novation with a clearing agency, (c) any receipt by a registrant of an order to buy or sell a security, (d) any transfer, pledge or encumbrancing of securities of an issuer from the holdings of any person or company or combination of persons or companies described in clause (c) of the definition of distribution for the purpose of giving collateral for a debt made in good faith, and (e) any act, advertisement, solicitation, conduct or negotiation directly or indirectly in furtherance of any of the foregoing; trading')\n",
            "=============================\n",
            "doc id :  doc_22\n",
            "semantic_score :  [[0.29978424]]\n",
            "('11568', 'earnings release means a news release that is required to be filed under section 11.4 of National Instrument 51-102 Continuous Disclosure Obligations; earnings release')\n",
            "=============================\n",
            "doc id :  doc_5\n",
            "semantic_score :  [[0.29682449]]\n",
            "('10609', 'interim period defined in NI 51-102 (for companies other than investment funds); Lexata note: NI 52-109 cross-references to the above definition interim period defined in NI 81-106 (for investment funds); Lexata note: NI 41-101 cross-references to the above two definitions. interim period')\n",
            "=============================\n",
            "doc id :  doc_24\n",
            "semantic_score :  [[0.29394689]]\n",
            "('11573', 'non-GAAP ratio means a financial measure disclosed by an issuer that (a) is in the form of a ratio, fraction, percentage or similar representation, (b) has a non-GAAP financial measure as one or more of its components, and (c) is not disclosed in the financial statements of the entity; non-GAAP ratio')\n",
            "=============================\n",
            "doc id :  doc_23\n",
            "semantic_score :  [[0.29326355]]\n",
            "('11572', 'non-GAAP financial measure means a financial measure disclosed by an issuer that (a) depicts the historical or expected future financial performance, financial position or cash flow of an entity, (b) with respect to its composition, excludes an amount that is included in, or includes an amount that is excluded from, the composition of the most directly comparable financial measure disclosed in the primary financial statements of the entity, (c) is not disclosed in the financial statements of the entity, and (d) is not a ratio, fraction, percentage or similar representation; non-GAAP financial measure')\n",
            "=============================\n",
            "doc id :  doc_9\n",
            "semantic_score :  [[0.29118139]]\n",
            "('10659', 'In this Instrument:... business acquisition report means a completed Form 51-102F4 Business Acquisition Report; [Lexata note: defined equivalently in NI 41-101 and NI 51-102] business acquisition report')\n",
            "=============================\n",
            "doc id :  doc_27\n",
            "semantic_score :  [[0.28523389]]\n",
            "('11576', \"reportable segment means a reportable segment as described in the accounting principles applied to the preparation of an entity's financial statements; reportable segment\")\n",
            "=============================\n",
            "doc id :  doc_15\n",
            "semantic_score :  [[0.28440699]]\n",
            "('11170', 'published market means, with respect to a class of securities, a market in Canada or outside of Canada on which the securities are traded, if the prices at which they have been traded on that market are regularly, (a) disseminated electronically, or (b) published in a newspaper or business or financial publication of general and regular paid circulation; published market')\n",
            "=============================\n",
            "doc id :  doc_25\n",
            "semantic_score :  [[0.28182429]]\n",
            "('11574', 'primary financial statements means, with respect to an entity, any of the following: (a) the statement of financial position; (b) the statement of profit or loss and other comprehensive income; (c) the statement of changes in equity; (d) the statement of cash flows; primary financial statements')\n",
            "=============================\n",
            "doc id :  doc_11\n",
            "semantic_score :  [[0.26697274]]\n",
            "('10917', 'In a national instrument or multilateral instrument... Handbook means the Handbook of the Canadian Institute of Chartered Accountants, as amended from time to time; Handbook')\n",
            "=============================\n",
            "doc id :  doc_14\n",
            "semantic_score :  [[0.25862095]]\n",
            "('11169', 'person is defined in OSA s. 1(1) OBCA s. 1(1) CBCA s. 2(1) person')\n",
            "=============================\n",
            "doc id :  doc_12\n",
            "semantic_score :  [[0.24888566]]\n",
            "('10660', 'Lexata note: transition year is defined in s.1.1 of NI 41-101; s.1.1 ofÂ\\xa0 NI 81-106, and s.1.1 of NI 51-102. transition year')\n",
            "=============================\n",
            "doc id :  doc_10\n",
            "semantic_score :  [[0.23801798]]\n",
            "('10885', 'Lexata note: class is defined in NI 51-102; NI 62-103; and NI 41-101;  class')\n",
            "=============================\n"
          ]
        }
      ]
    },
    {
      "cell_type": "code",
      "metadata": {
        "colab": {
          "base_uri": "https://localhost:8080/"
        },
        "id": "QA3Iq7YQZDG7",
        "outputId": "b92edc90-b838-471e-b870-343b8338966d"
      },
      "source": [
        "semantic_results.items()"
      ],
      "execution_count": null,
      "outputs": [
        {
          "output_type": "execute_result",
          "data": {
            "text/plain": [
              "dict_items([('doc_0', array([[0.24075519]])), ('doc_1', array([[0.3001128]]))])"
            ]
          },
          "metadata": {},
          "execution_count": 183
        }
      ]
    },
    {
      "cell_type": "code",
      "metadata": {
        "id": "aNvujEKpcErp"
      },
      "source": [
        ""
      ],
      "execution_count": null,
      "outputs": []
    },
    {
      "cell_type": "code",
      "metadata": {
        "id": "b9kiX-tqax-1"
      },
      "source": [
        ""
      ],
      "execution_count": null,
      "outputs": []
    }
  ]
}