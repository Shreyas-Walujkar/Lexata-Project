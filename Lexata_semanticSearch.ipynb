{
  "nbformat": 4,
  "nbformat_minor": 0,
  "metadata": {
    "kernelspec": {
      "display_name": "Python 3",
      "language": "python",
      "name": "python3"
    },
    "language_info": {
      "codemirror_mode": {
        "name": "ipython",
        "version": 3
      },
      "file_extension": ".py",
      "mimetype": "text/x-python",
      "name": "python",
      "nbconvert_exporter": "python",
      "pygments_lexer": "ipython3",
      "version": "3.8.3"
    },
    "colab": {
      "name": "Lexata_semanticSearch.ipynb",
      "provenance": [],
      "collapsed_sections": []
    }
  },
  "cells": [
    {
      "cell_type": "markdown",
      "metadata": {
        "id": "29eNhmWe0pU2"
      },
      "source": [
        "#                              OPEN AI"
      ]
    },
    {
      "cell_type": "code",
      "metadata": {
        "colab": {
          "base_uri": "https://localhost:8080/"
        },
        "id": "Rk9Y4h0H1kWU",
        "outputId": "22061e63-46a4-41c0-a099-4ce9c558f4c1"
      },
      "source": [
        "# command to install the openai Library\n",
        "! pip install openai"
      ],
      "execution_count": 1,
      "outputs": [
        {
          "output_type": "stream",
          "text": [
            "Requirement already satisfied: openai in /usr/local/lib/python3.7/dist-packages (0.10.2)\n",
            "Requirement already satisfied: pandas-stubs>=1.1.0.11 in /usr/local/lib/python3.7/dist-packages (from openai) (1.2.0.1)\n",
            "Requirement already satisfied: pandas>=1.2.3 in /usr/local/lib/python3.7/dist-packages (from openai) (1.3.1)\n",
            "Requirement already satisfied: requests>=2.20 in /usr/local/lib/python3.7/dist-packages (from openai) (2.23.0)\n",
            "Requirement already satisfied: tqdm in /usr/local/lib/python3.7/dist-packages (from openai) (4.41.1)\n",
            "Requirement already satisfied: openpyxl>=3.0.7 in /usr/local/lib/python3.7/dist-packages (from openai) (3.0.7)\n",
            "Requirement already satisfied: et-xmlfile in /usr/local/lib/python3.7/dist-packages (from openpyxl>=3.0.7->openai) (1.1.0)\n",
            "Requirement already satisfied: numpy>=1.17.3 in /usr/local/lib/python3.7/dist-packages (from pandas>=1.2.3->openai) (1.19.5)\n",
            "Requirement already satisfied: python-dateutil>=2.7.3 in /usr/local/lib/python3.7/dist-packages (from pandas>=1.2.3->openai) (2.8.1)\n",
            "Requirement already satisfied: pytz>=2017.3 in /usr/local/lib/python3.7/dist-packages (from pandas>=1.2.3->openai) (2018.9)\n",
            "Requirement already satisfied: typing-extensions>=3.7.4.3 in /usr/local/lib/python3.7/dist-packages (from pandas-stubs>=1.1.0.11->openai) (3.7.4.3)\n",
            "Requirement already satisfied: six>=1.5 in /usr/local/lib/python3.7/dist-packages (from python-dateutil>=2.7.3->pandas>=1.2.3->openai) (1.15.0)\n",
            "Requirement already satisfied: urllib3!=1.25.0,!=1.25.1,<1.26,>=1.21.1 in /usr/local/lib/python3.7/dist-packages (from requests>=2.20->openai) (1.24.3)\n",
            "Requirement already satisfied: certifi>=2017.4.17 in /usr/local/lib/python3.7/dist-packages (from requests>=2.20->openai) (2021.5.30)\n",
            "Requirement already satisfied: idna<3,>=2.5 in /usr/local/lib/python3.7/dist-packages (from requests>=2.20->openai) (2.10)\n",
            "Requirement already satisfied: chardet<4,>=3.0.2 in /usr/local/lib/python3.7/dist-packages (from requests>=2.20->openai) (3.0.4)\n"
          ],
          "name": "stdout"
        }
      ]
    },
    {
      "cell_type": "markdown",
      "metadata": {
        "id": "x0QkdzQN0pU3"
      },
      "source": [
        "### To get the list of files."
      ]
    },
    {
      "cell_type": "code",
      "metadata": {
        "id": "IVRJcb6H1HSA"
      },
      "source": [
        "import openai\n",
        "\n",
        "# use the key to access the specific open ai account\n",
        "openai.api_key = ' '"
      ],
      "execution_count": 5,
      "outputs": []
    },
    {
      "cell_type": "code",
      "metadata": {
        "colab": {
          "base_uri": "https://localhost:8080/"
        },
        "id": "G2pZ666i0pU4",
        "outputId": "ba93d7ef-6bfa-4d0e-e130-5228a95e27db"
      },
      "source": [
        "# store the file list in  a response variable\n",
        "response = openai.File.list()\n",
        "\n",
        "response"
      ],
      "execution_count": 6,
      "outputs": [
        {
          "output_type": "execute_result",
          "data": {
            "text/plain": [
              "<OpenAIObject list at 0x7f11bc795e90> JSON: {\n",
              "  \"data\": [\n",
              "    {\n",
              "      \"bytes\": 1073,\n",
              "      \"created_at\": 1627093182,\n",
              "      \"filename\": \"sample.jsonl\",\n",
              "      \"id\": \"file-CHHNbL5BScrs4tJfmuuWS84y\",\n",
              "      \"object\": \"file\",\n",
              "      \"purpose\": \"search\",\n",
              "      \"status\": \"processed\",\n",
              "      \"status_details\": null\n",
              "    },\n",
              "    {\n",
              "      \"bytes\": 1613,\n",
              "      \"created_at\": 1627093797,\n",
              "      \"filename\": \"sample.jsonl\",\n",
              "      \"id\": \"file-bLsoZuJD2pmSOZEkq7BHwPc3\",\n",
              "      \"object\": \"file\",\n",
              "      \"purpose\": \"search\",\n",
              "      \"status\": \"processed\",\n",
              "      \"status_details\": null\n",
              "    },\n",
              "    {\n",
              "      \"bytes\": 1661,\n",
              "      \"created_at\": 1627371558,\n",
              "      \"filename\": \"sample.jsonl\",\n",
              "      \"id\": \"file-IlR8hf1u1JeAGSYyeH3rEUce\",\n",
              "      \"object\": \"file\",\n",
              "      \"purpose\": \"search\",\n",
              "      \"status\": \"processed\",\n",
              "      \"status_details\": null\n",
              "    },\n",
              "    {\n",
              "      \"bytes\": 6141,\n",
              "      \"created_at\": 1627643469,\n",
              "      \"filename\": \"ngfm json clean.jsonl\",\n",
              "      \"id\": \"file-omUysquh6clJtnFjXXgZMpOB\",\n",
              "      \"object\": \"file\",\n",
              "      \"purpose\": \"search\",\n",
              "      \"status\": \"processed\",\n",
              "      \"status_details\": null\n",
              "    },\n",
              "    {\n",
              "      \"bytes\": 3716,\n",
              "      \"created_at\": 1627622395,\n",
              "      \"filename\": \"ngfmjson.jsonl\",\n",
              "      \"id\": \"file-E8udzuHivYYkTZNSLwDDcRHk\",\n",
              "      \"object\": \"file\",\n",
              "      \"purpose\": \"search\",\n",
              "      \"status\": \"processed\",\n",
              "      \"status_details\": null\n",
              "    },\n",
              "    {\n",
              "      \"bytes\": 87573,\n",
              "      \"created_at\": 1627618805,\n",
              "      \"filename\": \"output.jsonl\",\n",
              "      \"id\": \"file-fwEAAvLicJkH4hAaVtz7U7hW\",\n",
              "      \"object\": \"file\",\n",
              "      \"purpose\": \"search\",\n",
              "      \"status\": \"error\",\n",
              "      \"status_details\": \"Something went wrong while processing. Please contact support@openai.com with the file ID file-fwEAAvLicJkH4hAaVtz7U7hW\"\n",
              "    },\n",
              "    {\n",
              "      \"bytes\": 3715,\n",
              "      \"created_at\": 1627643282,\n",
              "      \"filename\": \"ngfm json clean.jsonl\",\n",
              "      \"id\": \"file-hsCkAKsXYUIJPPwid9KypUMA\",\n",
              "      \"object\": \"file\",\n",
              "      \"purpose\": \"search\",\n",
              "      \"status\": \"processed\",\n",
              "      \"status_details\": null\n",
              "    },\n",
              "    {\n",
              "      \"bytes\": 86408,\n",
              "      \"created_at\": 1627679978,\n",
              "      \"filename\": \"final ngfm.jsonl\",\n",
              "      \"id\": \"file-q6sYJFu6AoTVHA71qhoBIFIm\",\n",
              "      \"object\": \"file\",\n",
              "      \"purpose\": \"search\",\n",
              "      \"status\": \"processed\",\n",
              "      \"status_details\": null\n",
              "    }\n",
              "  ],\n",
              "  \"object\": \"list\"\n",
              "}"
            ]
          },
          "metadata": {
            "tags": []
          },
          "execution_count": 6
        }
      ]
    },
    {
      "cell_type": "markdown",
      "metadata": {
        "id": "FteEIkvN0pU5"
      },
      "source": [
        "## Convert the json file to a proper jsonl format:"
      ]
    },
    {
      "cell_type": "code",
      "metadata": {
        "id": "bjHiiFTb0pU5"
      },
      "source": [
        "# convert the json to jsonl - instead of ',' we have a new line for each json object\n",
        "# difference between json and jsonl is the delimiter\n",
        "# remove some of the double quotes which might lead to error"
      ],
      "execution_count": null,
      "outputs": []
    },
    {
      "cell_type": "code",
      "metadata": {
        "id": "xNMwAw2Z0pU6"
      },
      "source": [
        "# open the file to read the lines in the json\n",
        "with open('C:/Users/nikhi/Documents/rmit/4th sem/lexata/post type training/ngfm json clean.jsonl') as f:\n",
        "    lines = f.readlines()\n",
        "\n",
        "# create a json \n",
        "create_json_list = [] # list which will store the json\n",
        "\n",
        "for i in range(len(lines)):\n",
        "    initial_str = ''\n",
        "    \n",
        "    if i == 0:\n",
        "        initial_str = lines[i][0:36]\n",
        "    else:\n",
        "        initial_str = lines[i][0:35]\n",
        "    for j in lines[i][35:(len(lines[i])-4)]:    \n",
        "        j = j.replace('\"','')\n",
        "        initial_str = initial_str + j\n",
        "    initial_str = initial_str + '\"}'\n",
        "    create_json_list.append(initial_str)\n",
        "\n",
        "textfile = open(\"final ngfm.jsonl\", \"w\")\n",
        "for element in create_json_list:\n",
        "    textfile.write(element + \"\\n\")\n",
        "textfile.close()"
      ],
      "execution_count": null,
      "outputs": []
    },
    {
      "cell_type": "markdown",
      "metadata": {
        "id": "MHBun9YD0pU6"
      },
      "source": [
        "# Upload the jsonl file to the open ai"
      ]
    },
    {
      "cell_type": "code",
      "metadata": {
        "id": "ip9dy2IN0pU6",
        "outputId": "0e6c1ece-ebd2-4bc0-d461-a89f5a6524be"
      },
      "source": [
        "response = openai.File.create(file=open(\"final ngfm.jsonl\"), purpose=\"search\")\n",
        "\n",
        "print(response)\n",
        "# note the id of file"
      ],
      "execution_count": null,
      "outputs": [
        {
          "output_type": "stream",
          "text": [
            "Upload progress: 100%|███████████████████████████████████████████████████████████| 86.7k/86.7k [00:00<00:00, 89.5kit/s]\n"
          ],
          "name": "stderr"
        },
        {
          "output_type": "stream",
          "text": [
            "{\n",
            "  \"bytes\": 86408,\n",
            "  \"created_at\": 1627679978,\n",
            "  \"filename\": \"final ngfm.jsonl\",\n",
            "  \"id\": \"file-q6sYJFu6AoTVHA71qhoBIFIm\",\n",
            "  \"object\": \"file\",\n",
            "  \"purpose\": \"search\",\n",
            "  \"status\": \"uploaded\",\n",
            "  \"status_details\": null\n",
            "}\n"
          ],
          "name": "stdout"
        }
      ]
    },
    {
      "cell_type": "markdown",
      "metadata": {
        "id": "f-VrK2sF0pU7"
      },
      "source": [
        "# Semantic Search Endpoint:"
      ]
    },
    {
      "cell_type": "code",
      "metadata": {
        "colab": {
          "base_uri": "https://localhost:8080/"
        },
        "id": "ReIr537G0pU7",
        "outputId": "e5d1e328-3e4b-4b7c-aba4-4494300d3c8e"
      },
      "source": [
        "\n",
        "search_response = openai.Engine(\"davinci\").search(\n",
        "    search_model=\"davinci\",\n",
        "    query=\"Which documents are available to the public?\",\n",
        "    max_rerank=5,\n",
        "    file=\"file-q6sYJFu6AoTVHA71qhoBIFIm\",\n",
        "    return_metadata=True\n",
        ")\n",
        "\n",
        "print(search_response)"
      ],
      "execution_count": 7,
      "outputs": [
        {
          "output_type": "stream",
          "text": [
            "{\n",
            "  \"data\": [\n",
            "    {\n",
            "      \"document\": 0,\n",
            "      \"metadata\": \"11599###ngfm\",\n",
            "      \"object\": \"search_result\",\n",
            "      \"score\": 134.342,\n",
            "      \"text\": \"Interpretation of made available to the public and filed, delivered or submitted: Documents made available to the public include not only information filed on SEDAR but also information on a website and disclosure provided through social media platforms.The Instrument uses the terms filed and submitted. This Policy also uses the term delivered. Material that is filed in a jurisdiction will be made available to the public in that jurisdiction, subject to the provisions of securities legislation in the local jurisdiction. Material that is delivered to a regulator or securities regulatory authority, or submitted to a recognized exchange, but not filed, is not generally required under securities legislation to be made available to the public.\"\n",
            "    },\n",
            "    {\n",
            "      \"document\": 1,\n",
            "      \"metadata\": \"11523###ngfm\",\n",
            "      \"object\": \"search_result\",\n",
            "      \"score\": 74.504,\n",
            "      \"text\": \"AApplication - reporting issuers: This Instrument applies to a reporting issuer in respect of its disclosure of a specified financial measure in a document if the document is intended to be, or reasonably likely to be, made available to the public.\"\n",
            "    },\n",
            "    {\n",
            "      \"document\": 2,\n",
            "      \"metadata\": \"11524###ngfm\",\n",
            "      \"object\": \"search_result\",\n",
            "      \"score\": 70.945,\n",
            "      \"text\": \"Application - issuers that are not reporting issuers: This Instrument applies to an issuer that is not a reporting issuer in respect of its disclosure of a specified financial measure in a document if the document is made available to the public and is (a) subject to National Instrument 41-101 General Prospectus Requirements. (b) filed with a regulator or a securities regulatory authority in connection with a distribution made under section 2.9 of National Instrument 45-106 Prospectus Exemptions , or (c) submitted to a recognized exchange in connection with a qualifying transaction, reverse takeover, change of business, listing application, significant acquisition or similar transaction. \"\n",
            "    },\n",
            "    {\n",
            "      \"document\": 3,\n",
            "      \"metadata\": \"11526###ngfm\",\n",
            "      \"object\": \"search_result\",\n",
            "      \"score\": 34.558,\n",
            "      \"text\": \"Incorporating information by reference: (1) Subject to subsections (3) and (4), an issuer may incorporate by reference the information required under any of the following provisions, if the reference is to the issuer's MD&amp;A: (a) subparagraph 6(1)(e)(ii) ; (b) paragraph 7(2)(d) ; (c) subparagraph 8(c)(iii) ; (d) paragraph 9(c) ; (e) subparagraph 10(1)(b)(ii) ; (f) paragraph 11(b) . (2) If, as permitted under subsection (1), an issuer incorporates required information by reference into a document, the issuer must include all of the following in the document: (a) a statement indicating that the information is incorporated by reference; (b) a statement that specifies the location of the information in the MD&amp;A; (c) a statement that the MD&amp;A is available on SEDAR at www.sedar.com. (3) Despite subsection (1), an issuer must not incorporate by reference the information referred to in subsection (1) in its MD&amp;A if the document that contains the specified financial measure is another MD&amp;A filed by the issuer. (4) Despite subsection (1), an issuer must not incorporate by reference the information referred to in clause 6(1)(e)(ii)(C) , paragraph 7(2)(d) or 9(c) or clause 10(1)(b)(ii)(C) if the document that contains the specified financial measure is in an earnings release filed by the issuer. \"\n",
            "    },\n",
            "    {\n",
            "      \"document\": 4,\n",
            "      \"metadata\": \"11534###ngfm\",\n",
            "      \"object\": \"search_result\",\n",
            "      \"score\": 19.215,\n",
            "      \"text\": \"Effective date and transition: (1) This Instrument comes into force on August 25, 2021.(2) In Saskatchewan, despite subsection (1), if this Instrument is filed with the Registrar of Regulations after August 25, 2021, this Instrument comes into force on the day on which it is filed with the Registrar of Regulations.(3) Despite subsections (1) and (2), this Instrument does not apply to a reporting issuer in respect of documents filed for a financial year ending before October 15, 2021.(4) Despite subsections (1) and (2), this Instrument does not apply until after December 31, 2021 to an issuer that is not a reporting issuer.\"\n",
            "    }\n",
            "  ],\n",
            "  \"model\": \"davinci:2020-05-03\",\n",
            "  \"object\": \"list\"\n",
            "}\n"
          ],
          "name": "stdout"
        }
      ]
    },
    {
      "cell_type": "code",
      "metadata": {
        "id": "dtldMcja0pU7",
        "outputId": "71f29fce-1f76-4e3e-cdd7-308349214087"
      },
      "source": [
        "# to access the specific documents from the list\n",
        "search_response.data[3].text"
      ],
      "execution_count": null,
      "outputs": [
        {
          "output_type": "execute_result",
          "data": {
            "text/plain": [
              "\"Incorporating information by reference: (1) Subject to subsections (3) and (4), an issuer may incorporate by reference the information required under any of the following provisions, if the reference is to the issuer's MD&amp;A: (a) subparagraph 6(1)(e)(ii) ; (b) paragraph 7(2)(d) ; (c) subparagraph 8(c)(iii) ; (d) paragraph 9(c) ; (e) subparagraph 10(1)(b)(ii) ; (f) paragraph 11(b) . (2) If, as permitted under subsection (1), an issuer incorporates required information by reference into a document, the issuer must include all of the following in the document: (a) a statement indicating that the information is incorporated by reference; (b) a statement that specifies the location of the information in the MD&amp;A; (c) a statement that the MD&amp;A is available on SEDAR at www.sedar.com. (3) Despite subsection (1), an issuer must not incorporate by reference the information referred to in subsection (1) in its MD&amp;A if the document that contains the specified financial measure is another MD&amp;A filed by the issuer. (4) Despite subsection (1), an issuer must not incorporate by reference the information referred to in clause 6(1)(e)(ii)(C) , paragraph 7(2)(d) or 9(c) or clause 10(1)(b)(ii)(C) if the document that contains the specified financial measure is in an earnings release filed by the issuer. \""
            ]
          },
          "metadata": {
            "tags": []
          },
          "execution_count": 492
        }
      ]
    },
    {
      "cell_type": "code",
      "metadata": {
        "id": "gT1-nk6U2yTe"
      },
      "source": [
        "# Text Summarization"
      ],
      "execution_count": 8,
      "outputs": []
    },
    {
      "cell_type": "code",
      "metadata": {
        "id": "FY8XacSO0pU7"
      },
      "source": [
        "# according to the specification of openai add tl;dr at the end of the text so the model understands that it has to complete\n",
        "# the remaining text or in our case summarise the text\n",
        "\n",
        "# create the text variable with the text and the tldr tag\n",
        "text_to_summarise = search_response.data[3].text + \"\\n tl;dr:\"\n",
        "\n",
        "\n",
        "summary_response = openai.Completion.create(engine=\"davinci\", prompt = text_to_summarise, temperature = 0.3,\n",
        "                        max_tokens=140, top_p=1, frequency_penalty=0,\n",
        "                        presence_penalty=0,stop=[\"\\n\"])\n"
      ],
      "execution_count": null,
      "outputs": []
    },
    {
      "cell_type": "code",
      "metadata": {
        "id": "FL5-j48Y0pU8",
        "outputId": "4d627cb9-9ae7-491a-e4a3-32894ce282ef"
      },
      "source": [
        "summary_response"
      ],
      "execution_count": null,
      "outputs": [
        {
          "output_type": "execute_result",
          "data": {
            "text/plain": [
              "<OpenAIObject text_completion id=cmpl-3RXqE9KUYkMqvahs46gOBrA6PYjFn at 0x284cace7180> JSON: {\n",
              "  \"choices\": [\n",
              "    {\n",
              "      \"finish_reason\": \"stop\",\n",
              "      \"index\": 0,\n",
              "      \"logprobs\": null,\n",
              "      \"text\": \" If you're going to present non-GAAP metrics, you need to disclose the GAAP metrics too.\"\n",
              "    }\n",
              "  ],\n",
              "  \"created\": 1627693954,\n",
              "  \"id\": \"cmpl-3RXqE9KUYkMqvahs46gOBrA6PYjFn\",\n",
              "  \"model\": \"davinci:2020-05-03\",\n",
              "  \"object\": \"text_completion\"\n",
              "}"
            ]
          },
          "metadata": {
            "tags": []
          },
          "execution_count": 487
        }
      ]
    },
    {
      "cell_type": "code",
      "metadata": {
        "id": "evMoEnqY0pU8"
      },
      "source": [
        ""
      ],
      "execution_count": null,
      "outputs": []
    },
    {
      "cell_type": "code",
      "metadata": {
        "id": "hhVGRddI0pU8"
      },
      "source": [
        ""
      ],
      "execution_count": null,
      "outputs": []
    },
    {
      "cell_type": "code",
      "metadata": {
        "id": "-g6nwZg00pU8"
      },
      "source": [
        ""
      ],
      "execution_count": null,
      "outputs": []
    }
  ]
}